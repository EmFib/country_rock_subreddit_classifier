{
 "cells": [
  {
   "cell_type": "code",
   "execution_count": 76,
   "metadata": {},
   "outputs": [],
   "source": [
    "# imports\n",
    "import pandas as pd\n",
    "import matplotlib.pyplot as plt\n",
    "from sklearn.model_selection import train_test_split, GridSearchCV, cross_val_score\n",
    "from sklearn.pipeline import Pipeline\n",
    "from sklearn.naive_bayes import MultinomialNB\n",
    "from sklearn.linear_model import LogisticRegression\n",
    "from sklearn.metrics import confusion_matrix, plot_confusion_matrix\n",
    "from nltk import FreqDist, pos_tag\n",
    "from nltk.tokenize import word_tokenize\n",
    "from collections import Counter\n",
    "from nltk.tokenize import RegexpTokenizer\n",
    "\n",
    "# Import CountVectorizer and TFIDFVectorizer from feature_extraction.text.\n",
    "from sklearn.feature_extraction.text import CountVectorizer, TfidfVectorizer"
   ]
  },
  {
   "cell_type": "code",
   "execution_count": 3,
   "metadata": {},
   "outputs": [
    {
     "data": {
      "text/plain": [
       "'/Users/emilynaftalin/Data_Science/General Assembly/dsi/projects/project_3/code'"
      ]
     },
     "execution_count": 3,
     "metadata": {},
     "output_type": "execute_result"
    }
   ],
   "source": [
    "pwd"
   ]
  },
  {
   "cell_type": "markdown",
   "metadata": {},
   "source": [
    "### Reading in Data "
   ]
  },
  {
   "cell_type": "code",
   "execution_count": 92,
   "metadata": {},
   "outputs": [],
   "source": [
    "def load_data(unclean_df):\n",
    "    full_file = '../datasets/' + unclean_df + '.csv'\n",
    "    df = pd.read_csv(full_file)[['label', 'merged']]\n",
    "    return df"
   ]
  },
  {
   "cell_type": "code",
   "execution_count": 93,
   "metadata": {},
   "outputs": [],
   "source": [
    "vikings = load_data('minnesotavikings')"
   ]
  },
  {
   "cell_type": "code",
   "execution_count": 94,
   "metadata": {},
   "outputs": [
    {
     "data": {
      "text/html": [
       "<div>\n",
       "<style scoped>\n",
       "    .dataframe tbody tr th:only-of-type {\n",
       "        vertical-align: middle;\n",
       "    }\n",
       "\n",
       "    .dataframe tbody tr th {\n",
       "        vertical-align: top;\n",
       "    }\n",
       "\n",
       "    .dataframe thead th {\n",
       "        text-align: right;\n",
       "    }\n",
       "</style>\n",
       "<table border=\"1\" class=\"dataframe\">\n",
       "  <thead>\n",
       "    <tr style=\"text-align: right;\">\n",
       "      <th></th>\n",
       "      <th>label</th>\n",
       "      <th>merged</th>\n",
       "    </tr>\n",
       "  </thead>\n",
       "  <tbody>\n",
       "    <tr>\n",
       "      <th>0</th>\n",
       "      <td>vikings</td>\n",
       "      <td>Want to hate Rodgers,but.. Be just seems like ...</td>\n",
       "    </tr>\n",
       "    <tr>\n",
       "      <th>1</th>\n",
       "      <td>vikings</td>\n",
       "      <td>alright im bored, what are some good games to ...</td>\n",
       "    </tr>\n",
       "    <tr>\n",
       "      <th>2</th>\n",
       "      <td>vikings</td>\n",
       "      <td>CB Update: Going in to week 17, Gladney ranks ...</td>\n",
       "    </tr>\n",
       "    <tr>\n",
       "      <th>3</th>\n",
       "      <td>vikings</td>\n",
       "      <td>CB Update: Going in to week 17, Gladney ranks ...</td>\n",
       "    </tr>\n",
       "    <tr>\n",
       "      <th>4</th>\n",
       "      <td>vikings</td>\n",
       "      <td>The Over 30 Club Which players will be 30+ in ...</td>\n",
       "    </tr>\n",
       "  </tbody>\n",
       "</table>\n",
       "</div>"
      ],
      "text/plain": [
       "     label                                             merged\n",
       "0  vikings  Want to hate Rodgers,but.. Be just seems like ...\n",
       "1  vikings  alright im bored, what are some good games to ...\n",
       "2  vikings  CB Update: Going in to week 17, Gladney ranks ...\n",
       "3  vikings  CB Update: Going in to week 17, Gladney ranks ...\n",
       "4  vikings  The Over 30 Club Which players will be 30+ in ..."
      ]
     },
     "execution_count": 94,
     "metadata": {},
     "output_type": "execute_result"
    }
   ],
   "source": [
    "vikings.head()"
   ]
  },
  {
   "cell_type": "code",
   "execution_count": 7,
   "metadata": {},
   "outputs": [
    {
     "data": {
      "text/plain": [
       "(200, 2)"
      ]
     },
     "execution_count": 7,
     "metadata": {},
     "output_type": "execute_result"
    }
   ],
   "source": [
    "vikings.shape"
   ]
  },
  {
   "cell_type": "code",
   "execution_count": 85,
   "metadata": {},
   "outputs": [],
   "source": [
    "johnprine = load_data('prine')"
   ]
  },
  {
   "cell_type": "code",
   "execution_count": 86,
   "metadata": {},
   "outputs": [
    {
     "data": {
      "text/html": [
       "<div>\n",
       "<style scoped>\n",
       "    .dataframe tbody tr th:only-of-type {\n",
       "        vertical-align: middle;\n",
       "    }\n",
       "\n",
       "    .dataframe tbody tr th {\n",
       "        vertical-align: top;\n",
       "    }\n",
       "\n",
       "    .dataframe thead th {\n",
       "        text-align: right;\n",
       "    }\n",
       "</style>\n",
       "<table border=\"1\" class=\"dataframe\">\n",
       "  <thead>\n",
       "    <tr style=\"text-align: right;\">\n",
       "      <th></th>\n",
       "      <th>label</th>\n",
       "      <th>merged</th>\n",
       "    </tr>\n",
       "  </thead>\n",
       "  <tbody>\n",
       "    <tr>\n",
       "      <th>0</th>\n",
       "      <td>prine</td>\n",
       "      <td>Bill Murray on John Prine</td>\n",
       "    </tr>\n",
       "    <tr>\n",
       "      <th>1</th>\n",
       "      <td>prine</td>\n",
       "      <td>It's my cake day. Listen to John Prine for me....</td>\n",
       "    </tr>\n",
       "    <tr>\n",
       "      <th>2</th>\n",
       "      <td>prine</td>\n",
       "      <td>Here's a pic of my son next to a pic of my Unc...</td>\n",
       "    </tr>\n",
       "    <tr>\n",
       "      <th>3</th>\n",
       "      <td>prine</td>\n",
       "      <td>1110 S. 1st Ave Maywood, IL 60153</td>\n",
       "    </tr>\n",
       "    <tr>\n",
       "      <th>4</th>\n",
       "      <td>prine</td>\n",
       "      <td>Got this original pressing of Bruised Orange i...</td>\n",
       "    </tr>\n",
       "  </tbody>\n",
       "</table>\n",
       "</div>"
      ],
      "text/plain": [
       "   label                                             merged\n",
       "0  prine                         Bill Murray on John Prine \n",
       "1  prine  It's my cake day. Listen to John Prine for me....\n",
       "2  prine  Here's a pic of my son next to a pic of my Unc...\n",
       "3  prine                 1110 S. 1st Ave Maywood, IL 60153 \n",
       "4  prine  Got this original pressing of Bruised Orange i..."
      ]
     },
     "execution_count": 86,
     "metadata": {},
     "output_type": "execute_result"
    }
   ],
   "source": [
    "johnprine.head()"
   ]
  },
  {
   "cell_type": "code",
   "execution_count": 87,
   "metadata": {},
   "outputs": [
    {
     "data": {
      "text/plain": [
       "(200, 2)"
      ]
     },
     "execution_count": 87,
     "metadata": {},
     "output_type": "execute_result"
    }
   ],
   "source": [
    "johnprine.shape"
   ]
  },
  {
   "cell_type": "markdown",
   "metadata": {},
   "source": [
    "### Cleaning Data"
   ]
  },
  {
   "cell_type": "code",
   "execution_count": 8,
   "metadata": {},
   "outputs": [],
   "source": [
    "# This method for cleaning data from Emmanuel \n",
    "\n",
    "def standardize_text(df, text_field):\n",
    "    \n",
    "    '''Removes special characters and hyperlinks from dataframe'''\n",
    "    \n",
    "    df[text_field] = df[text_field].str.replace(r\"http\\S+\", \"\")\n",
    "    df[text_field] = df[text_field].str.replace(r\"http\", \"\")\n",
    "    df[text_field] = df[text_field].str.replace(r\"@\\S+\", \"\")\n",
    "    df[text_field] = df[text_field].str.replace(r\"[^A-Za-z0-9(),!?@\\'\\`\\\"\\_\\n]\", \" \")\n",
    "    df[text_field] = df[text_field].str.replace(r\"@\", \"at\")\n",
    "    df[text_field] = df[text_field].str.lower()\n",
    "    return df"
   ]
  },
  {
   "cell_type": "code",
   "execution_count": 102,
   "metadata": {},
   "outputs": [],
   "source": [
    "dfs = [vikings, johnprine]\n",
    "\n",
    "for df in dfs:\n",
    "    standardize_text(df, 'merged')"
   ]
  },
  {
   "cell_type": "markdown",
   "metadata": {},
   "source": [
    "#### Dealing with null values "
   ]
  },
  {
   "cell_type": "code",
   "execution_count": 103,
   "metadata": {},
   "outputs": [
    {
     "data": {
      "text/plain": [
       "label     0\n",
       "merged    0\n",
       "tokens    0\n",
       "dtype: int64"
      ]
     },
     "execution_count": 103,
     "metadata": {},
     "output_type": "execute_result"
    }
   ],
   "source": [
    "vikings.isnull().sum()"
   ]
  },
  {
   "cell_type": "code",
   "execution_count": 106,
   "metadata": {},
   "outputs": [
    {
     "data": {
      "text/plain": [
       "label     0\n",
       "merged    0\n",
       "tokens    0\n",
       "dtype: int64"
      ]
     },
     "execution_count": 106,
     "metadata": {},
     "output_type": "execute_result"
    }
   ],
   "source": [
    "johnprine.isnull().sum()"
   ]
  },
  {
   "cell_type": "markdown",
   "metadata": {},
   "source": [
    "Below, creating a function that removes rows with null values in the `merged` column if there are 10 or fewer null values. If the number of null values is greater than 10, it does not remove the rows and instead prints the count of the null values as an alert. "
   ]
  },
  {
   "cell_type": "code",
   "execution_count": 107,
   "metadata": {},
   "outputs": [],
   "source": [
    "# dropping null values \n",
    "\n",
    "def drop_nulls(df):\n",
    "    \n",
    "    '''Drops rows with null values if count is less than 11; otherwise prints the number of null values'''\n",
    "    \n",
    "    nulls = df.isnull().values.sum()\n",
    "    if nulls <= 10:\n",
    "        print (f'Dropping {nulls} rows that contained null values.')\n",
    "        df = df.notna()\n",
    "        \n",
    "    else: \n",
    "        print (f'The dataframe contains {nulls} rows with null values so they were not dropped.')\n",
    "        \n",
    "# citation: credit for 'isnull().values' to this Stack Overflow discussion: \n",
    "# https://stackoverflow.com/questions/29530232/how-to-check-if-any-value-is-nan-in-a-pandas-dataframe"
   ]
  },
  {
   "cell_type": "code",
   "execution_count": 108,
   "metadata": {},
   "outputs": [
    {
     "name": "stdout",
     "output_type": "stream",
     "text": [
      "Dropping 0 rows that contained null values.\n"
     ]
    }
   ],
   "source": [
    "drop_nulls(vikings)"
   ]
  },
  {
   "cell_type": "code",
   "execution_count": 109,
   "metadata": {},
   "outputs": [
    {
     "name": "stdout",
     "output_type": "stream",
     "text": [
      "Dropping 0 rows that contained null values.\n"
     ]
    }
   ],
   "source": [
    "drop_nulls(johnprine)"
   ]
  },
  {
   "cell_type": "markdown",
   "metadata": {},
   "source": [
    "#### Adding Column for Tokenized Text \n",
    "\n",
    "Use below convention to add column called `tokens` that is a tokenized version of the `merged` column.\n",
    "\n",
    "```\n",
    "tokenizer = RegexpTokenizer(r'\\w+')\n",
    "\n",
    "`df['tokens'] = df['merged'].apply(tokenizer.tokenize)\n",
    "\n",
    "```"
   ]
  },
  {
   "cell_type": "code",
   "execution_count": 110,
   "metadata": {},
   "outputs": [],
   "source": [
    "tokenizer = RegexpTokenizer(r'\\w+')\n",
    "\n",
    "dfs = [vikings, johnprine]\n",
    "\n",
    "for df in dfs:\n",
    "    df['tokens'] = df['merged'].apply(tokenizer.tokenize)"
   ]
  },
  {
   "cell_type": "code",
   "execution_count": 111,
   "metadata": {},
   "outputs": [
    {
     "data": {
      "text/html": [
       "<div>\n",
       "<style scoped>\n",
       "    .dataframe tbody tr th:only-of-type {\n",
       "        vertical-align: middle;\n",
       "    }\n",
       "\n",
       "    .dataframe tbody tr th {\n",
       "        vertical-align: top;\n",
       "    }\n",
       "\n",
       "    .dataframe thead th {\n",
       "        text-align: right;\n",
       "    }\n",
       "</style>\n",
       "<table border=\"1\" class=\"dataframe\">\n",
       "  <thead>\n",
       "    <tr style=\"text-align: right;\">\n",
       "      <th></th>\n",
       "      <th>label</th>\n",
       "      <th>merged</th>\n",
       "      <th>tokens</th>\n",
       "    </tr>\n",
       "  </thead>\n",
       "  <tbody>\n",
       "    <tr>\n",
       "      <th>0</th>\n",
       "      <td>vikings</td>\n",
       "      <td>want to hate rodgers,but   be just seems like ...</td>\n",
       "      <td>[want, to, hate, rodgers, but, be, just, seems...</td>\n",
       "    </tr>\n",
       "    <tr>\n",
       "      <th>1</th>\n",
       "      <td>vikings</td>\n",
       "      <td>alright im bored, what are some good games to ...</td>\n",
       "      <td>[alright, im, bored, what, are, some, good, ga...</td>\n",
       "    </tr>\n",
       "    <tr>\n",
       "      <th>2</th>\n",
       "      <td>vikings</td>\n",
       "      <td>cb update  going in to week 17, gladney ranks ...</td>\n",
       "      <td>[cb, update, going, in, to, week, 17, gladney,...</td>\n",
       "    </tr>\n",
       "    <tr>\n",
       "      <th>3</th>\n",
       "      <td>vikings</td>\n",
       "      <td>cb update  going in to week 17, gladney ranks ...</td>\n",
       "      <td>[cb, update, going, in, to, week, 17, gladney,...</td>\n",
       "    </tr>\n",
       "    <tr>\n",
       "      <th>4</th>\n",
       "      <td>vikings</td>\n",
       "      <td>the over 30 club which players will be 30  in ...</td>\n",
       "      <td>[the, over, 30, club, which, players, will, be...</td>\n",
       "    </tr>\n",
       "  </tbody>\n",
       "</table>\n",
       "</div>"
      ],
      "text/plain": [
       "     label                                             merged  \\\n",
       "0  vikings  want to hate rodgers,but   be just seems like ...   \n",
       "1  vikings  alright im bored, what are some good games to ...   \n",
       "2  vikings  cb update  going in to week 17, gladney ranks ...   \n",
       "3  vikings  cb update  going in to week 17, gladney ranks ...   \n",
       "4  vikings  the over 30 club which players will be 30  in ...   \n",
       "\n",
       "                                              tokens  \n",
       "0  [want, to, hate, rodgers, but, be, just, seems...  \n",
       "1  [alright, im, bored, what, are, some, good, ga...  \n",
       "2  [cb, update, going, in, to, week, 17, gladney,...  \n",
       "3  [cb, update, going, in, to, week, 17, gladney,...  \n",
       "4  [the, over, 30, club, which, players, will, be...  "
      ]
     },
     "execution_count": 111,
     "metadata": {},
     "output_type": "execute_result"
    }
   ],
   "source": [
    "vikings.head()"
   ]
  },
  {
   "cell_type": "code",
   "execution_count": 112,
   "metadata": {},
   "outputs": [
    {
     "data": {
      "text/html": [
       "<div>\n",
       "<style scoped>\n",
       "    .dataframe tbody tr th:only-of-type {\n",
       "        vertical-align: middle;\n",
       "    }\n",
       "\n",
       "    .dataframe tbody tr th {\n",
       "        vertical-align: top;\n",
       "    }\n",
       "\n",
       "    .dataframe thead th {\n",
       "        text-align: right;\n",
       "    }\n",
       "</style>\n",
       "<table border=\"1\" class=\"dataframe\">\n",
       "  <thead>\n",
       "    <tr style=\"text-align: right;\">\n",
       "      <th></th>\n",
       "      <th>label</th>\n",
       "      <th>merged</th>\n",
       "      <th>tokens</th>\n",
       "    </tr>\n",
       "  </thead>\n",
       "  <tbody>\n",
       "    <tr>\n",
       "      <th>0</th>\n",
       "      <td>prine</td>\n",
       "      <td>bill murray on john prine</td>\n",
       "      <td>[bill, murray, on, john, prine]</td>\n",
       "    </tr>\n",
       "    <tr>\n",
       "      <th>1</th>\n",
       "      <td>prine</td>\n",
       "      <td>it's my cake day  listen to john prine for me ...</td>\n",
       "      <td>[it, s, my, cake, day, listen, to, john, prine...</td>\n",
       "    </tr>\n",
       "    <tr>\n",
       "      <th>2</th>\n",
       "      <td>prine</td>\n",
       "      <td>here's a pic of my son next to a pic of my unc...</td>\n",
       "      <td>[here, s, a, pic, of, my, son, next, to, a, pi...</td>\n",
       "    </tr>\n",
       "    <tr>\n",
       "      <th>3</th>\n",
       "      <td>prine</td>\n",
       "      <td>1110 s  1st ave maywood, il 60153</td>\n",
       "      <td>[1110, s, 1st, ave, maywood, il, 60153]</td>\n",
       "    </tr>\n",
       "    <tr>\n",
       "      <th>4</th>\n",
       "      <td>prine</td>\n",
       "      <td>got this original pressing of bruised orange i...</td>\n",
       "      <td>[got, this, original, pressing, of, bruised, o...</td>\n",
       "    </tr>\n",
       "  </tbody>\n",
       "</table>\n",
       "</div>"
      ],
      "text/plain": [
       "   label                                             merged  \\\n",
       "0  prine                         bill murray on john prine    \n",
       "1  prine  it's my cake day  listen to john prine for me ...   \n",
       "2  prine  here's a pic of my son next to a pic of my unc...   \n",
       "3  prine                 1110 s  1st ave maywood, il 60153    \n",
       "4  prine  got this original pressing of bruised orange i...   \n",
       "\n",
       "                                              tokens  \n",
       "0                    [bill, murray, on, john, prine]  \n",
       "1  [it, s, my, cake, day, listen, to, john, prine...  \n",
       "2  [here, s, a, pic, of, my, son, next, to, a, pi...  \n",
       "3            [1110, s, 1st, ave, maywood, il, 60153]  \n",
       "4  [got, this, original, pressing, of, bruised, o...  "
      ]
     },
     "execution_count": 112,
     "metadata": {},
     "output_type": "execute_result"
    }
   ],
   "source": [
    "johnprine.head()"
   ]
  },
  {
   "cell_type": "markdown",
   "metadata": {},
   "source": [
    "Once clean-up is done, save clean dataframe to csv using code like the line below.  \n",
    "\n",
    "`df.to_csv('../datasets/clean_df.csv', index=False)`"
   ]
  },
  {
   "cell_type": "code",
   "execution_count": 113,
   "metadata": {},
   "outputs": [
    {
     "data": {
      "text/plain": [
       "'/Users/emilynaftalin/Data_Science/General Assembly/dsi/projects/project_3/code'"
      ]
     },
     "execution_count": 113,
     "metadata": {},
     "output_type": "execute_result"
    }
   ],
   "source": [
    "pwd"
   ]
  },
  {
   "cell_type": "code",
   "execution_count": 115,
   "metadata": {},
   "outputs": [],
   "source": [
    "# saving clean dataframe \n",
    "\n",
    "vikings.to_csv('../datasets/vikings_clean.csv', index=False)\n",
    "johnprine.to_csv('../datasets/prine_clean.csv', index=False)"
   ]
  },
  {
   "cell_type": "code",
   "execution_count": null,
   "metadata": {},
   "outputs": [],
   "source": []
  }
 ],
 "metadata": {
  "kernelspec": {
   "display_name": "Python 3",
   "language": "python",
   "name": "python3"
  },
  "language_info": {
   "codemirror_mode": {
    "name": "ipython",
    "version": 3
   },
   "file_extension": ".py",
   "mimetype": "text/x-python",
   "name": "python",
   "nbconvert_exporter": "python",
   "pygments_lexer": "ipython3",
   "version": "3.8.5"
  }
 },
 "nbformat": 4,
 "nbformat_minor": 4
}
