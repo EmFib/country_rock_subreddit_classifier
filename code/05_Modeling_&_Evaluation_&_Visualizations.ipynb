{
 "cells": [
  {
   "cell_type": "code",
   "execution_count": 2,
   "metadata": {},
   "outputs": [],
   "source": [
    "import seaborn as sns\n",
    "import pandas as pd\n",
    "import numpy as np\n",
    "from sklearn.metrics import (accuracy_score, \n",
    "                            confusion_matrix, \n",
    "                            classification_report,\n",
    "                            plot_confusion_matrix,\n",
    "                            plot_roc_curve)\n",
    "from sklearn.model_selection import train_test_split, cross_val_score, GridSearchCV \n",
    "from sklearn.linear_model import LogisticRegression\n",
    "from sklearn.neighbors import KNeighborsClassifier\n",
    "from sklearn.pipeline import Pipeline\n",
    "from sklearn.naive_bayes import MultinomialNB\n",
    "from sklearn.tree import DecisionTreeClassifier\n",
    "from sklearn.ensemble import BaggingClassifier\n",
    "import matplotlib.pyplot as plt \n",
    "\n",
    "# importing scaler \n",
    "from sklearn.preprocessing import StandardScaler\n",
    "\n",
    "# import vectorizers\n",
    "from sklearn.feature_extraction.text import CountVectorizer, TfidfVectorizer\n",
    "from sklearn.feature_extraction import text \n",
    "\n",
    "import time "
   ]
  },
  {
   "cell_type": "markdown",
   "metadata": {},
   "source": [
    "## Getting data"
   ]
  },
  {
   "cell_type": "code",
   "execution_count": 3,
   "metadata": {},
   "outputs": [],
   "source": [
    "# reading in data and making sure it looks good \n",
    "\n",
    "# country_rock = pd.read_csv('../datasets/country_rock.csv')\n",
    "# country_rock.head()"
   ]
  },
  {
   "cell_type": "code",
   "execution_count": 4,
   "metadata": {},
   "outputs": [
    {
     "data": {
      "text/html": [
       "<div>\n",
       "<style scoped>\n",
       "    .dataframe tbody tr th:only-of-type {\n",
       "        vertical-align: middle;\n",
       "    }\n",
       "\n",
       "    .dataframe tbody tr th {\n",
       "        vertical-align: top;\n",
       "    }\n",
       "\n",
       "    .dataframe thead th {\n",
       "        text-align: right;\n",
       "    }\n",
       "</style>\n",
       "<table border=\"1\" class=\"dataframe\">\n",
       "  <thead>\n",
       "    <tr style=\"text-align: right;\">\n",
       "      <th></th>\n",
       "      <th>label</th>\n",
       "      <th>merged</th>\n",
       "      <th>tokens</th>\n",
       "    </tr>\n",
       "  </thead>\n",
       "  <tbody>\n",
       "    <tr>\n",
       "      <th>0</th>\n",
       "      <td>0</td>\n",
       "      <td>country suggestions ve been starting to get in...</td>\n",
       "      <td>[country, suggestions, ve, been, starting, to,...</td>\n",
       "    </tr>\n",
       "    <tr>\n",
       "      <th>1</th>\n",
       "      <td>0</td>\n",
       "      <td>hank williams sr m so lonesome could cry (1949)</td>\n",
       "      <td>[hank, williams, sr, m, so, lonesome, could, c...</td>\n",
       "    </tr>\n",
       "    <tr>\n",
       "      <th>2</th>\n",
       "      <td>0</td>\n",
       "      <td>cody jinks   loud and heavy</td>\n",
       "      <td>[cody, jinks, loud, and, heavy]</td>\n",
       "    </tr>\n",
       "    <tr>\n",
       "      <th>3</th>\n",
       "      <td>0</td>\n",
       "      <td>southern raised performs \"what day that will b...</td>\n",
       "      <td>[southern, raised, performs, what, day, that, ...</td>\n",
       "    </tr>\n",
       "    <tr>\n",
       "      <th>4</th>\n",
       "      <td>0</td>\n",
       "      <td>is anybody still making texas swing? my father...</td>\n",
       "      <td>[is, anybody, still, making, texas, swing, my,...</td>\n",
       "    </tr>\n",
       "  </tbody>\n",
       "</table>\n",
       "</div>"
      ],
      "text/plain": [
       "   label                                             merged  \\\n",
       "0      0  country suggestions ve been starting to get in...   \n",
       "1      0   hank williams sr m so lonesome could cry (1949)    \n",
       "2      0                       cody jinks   loud and heavy    \n",
       "3      0  southern raised performs \"what day that will b...   \n",
       "4      0  is anybody still making texas swing? my father...   \n",
       "\n",
       "                                              tokens  \n",
       "0  [country, suggestions, ve, been, starting, to,...  \n",
       "1  [hank, williams, sr, m, so, lonesome, could, c...  \n",
       "2                    [cody, jinks, loud, and, heavy]  \n",
       "3  [southern, raised, performs, what, day, that, ...  \n",
       "4  [is, anybody, still, making, texas, swing, my,...  "
      ]
     },
     "execution_count": 4,
     "metadata": {},
     "output_type": "execute_result"
    }
   ],
   "source": [
    "country_rock = pd.read_pickle('../datasets/country_rock.pkl')\n",
    "country_rock.head()"
   ]
  },
  {
   "cell_type": "code",
   "execution_count": 5,
   "metadata": {},
   "outputs": [
    {
     "name": "stdout",
     "output_type": "stream",
     "text": [
      "<class 'pandas.core.frame.DataFrame'>\n",
      "RangeIndex: 6000 entries, 0 to 5999\n",
      "Data columns (total 3 columns):\n",
      " #   Column  Non-Null Count  Dtype \n",
      "---  ------  --------------  ----- \n",
      " 0   label   6000 non-null   int64 \n",
      " 1   merged  6000 non-null   object\n",
      " 2   tokens  6000 non-null   object\n",
      "dtypes: int64(1), object(2)\n",
      "memory usage: 140.8+ KB\n"
     ]
    }
   ],
   "source": [
    "country_rock.info()"
   ]
  },
  {
   "cell_type": "code",
   "execution_count": 6,
   "metadata": {},
   "outputs": [
    {
     "data": {
      "text/plain": [
       "(6000, 3)"
      ]
     },
     "execution_count": 6,
     "metadata": {},
     "output_type": "execute_result"
    }
   ],
   "source": [
    "country_rock.shape"
   ]
  },
  {
   "cell_type": "code",
   "execution_count": 7,
   "metadata": {},
   "outputs": [
    {
     "name": "stdout",
     "output_type": "stream",
     "text": [
      "Value counts: \n",
      "1    0.5\n",
      "0    0.5\n",
      "Name: label, dtype: float64\n"
     ]
    }
   ],
   "source": [
    "# identifying X and y \n",
    "X = country_rock['merged']\n",
    "y = country_rock['label']\n",
    "    \n",
    "# splitting into train and test sets\n",
    "X_train, X_test, y_train, y_test = train_test_split(X, \n",
    "                                               y, \n",
    "                                               test_size=0.25,\n",
    "                                               shuffle=True,\n",
    "                                               stratify=y,\n",
    "                                               random_state=42)\n",
    "\n",
    "# checking class balance \n",
    "print(f'Value counts: \\n{y.value_counts(normalize=True)}')"
   ]
  },
  {
   "cell_type": "markdown",
   "metadata": {},
   "source": [
    "## Models "
   ]
  },
  {
   "cell_type": "markdown",
   "metadata": {},
   "source": [
    "In the \"05-Model_Benchmarking\" notebook in this folder, I performed grid searches on the following models: \n",
    "\n",
    "I selected _______ models to build my final analysis and evaluation primariliy because they were the most accurate least underfit, as well as being interpretable for my audience. I used hyperparameters based on what the results of the grid search `grid.best_params_` method for each of these modeling techniques and vectorizers. "
   ]
  },
  {
   "cell_type": "code",
   "execution_count": 8,
   "metadata": {},
   "outputs": [],
   "source": [
    "country_rock_stop_words = ['country', 'countries', 'rock', 'roll', 'just','song', 'songs', 'music', \n",
    "                           'album', 'band', 'bands', 'artist', 'artists', 've', 'don']\n",
    "all_stop_words = text.ENGLISH_STOP_WORDS.union(country_rock_stop_words)"
   ]
  },
  {
   "cell_type": "markdown",
   "metadata": {},
   "source": [
    "#### `Baseline Model`"
   ]
  },
  {
   "cell_type": "code",
   "execution_count": 9,
   "metadata": {},
   "outputs": [
    {
     "data": {
      "text/plain": [
       "1    0.5\n",
       "0    0.5\n",
       "Name: label, dtype: float64"
      ]
     },
     "execution_count": 9,
     "metadata": {},
     "output_type": "execute_result"
    }
   ],
   "source": [
    "y.value_counts(normalize=True)"
   ]
  },
  {
   "cell_type": "markdown",
   "metadata": {},
   "source": [
    "The result of the `value_counts` in the above cell indicates that the accuracy of our baseline model would be 50%, i.e. that if we were to predict that all of the posts are from the country music subreddit, we would be right 50% of the time. Let's hope our other models will perform better! "
   ]
  },
  {
   "cell_type": "markdown",
   "metadata": {},
   "source": [
    "# explain why I chose logistic regression "
   ]
  },
  {
   "cell_type": "markdown",
   "metadata": {},
   "source": [
    "#### `Logistic Regression`"
   ]
  },
  {
   "cell_type": "code",
   "execution_count": 10,
   "metadata": {},
   "outputs": [
    {
     "data": {
      "text/plain": [
       "Pipeline(steps=[('tfidf',\n",
       "                 TfidfVectorizer(max_features=5000, ngram_range=(1, 2),\n",
       "                                 stop_words=frozenset({'a', 'about', 'above',\n",
       "                                                       'across', 'after',\n",
       "                                                       'afterwards', 'again',\n",
       "                                                       'against', 'album',\n",
       "                                                       'all', 'almost', 'alone',\n",
       "                                                       'along', 'already',\n",
       "                                                       'also', 'although',\n",
       "                                                       'always', 'am', 'among',\n",
       "                                                       'amongst', 'amoungst',\n",
       "                                                       'amount', 'an', 'and',\n",
       "                                                       'another', 'any',\n",
       "                                                       'anyhow', 'anyone',\n",
       "                                                       'anything', 'anyway', ...}))),\n",
       "                ('lr', LogisticRegression(C=1, solver='newton-cg'))])"
      ]
     },
     "execution_count": 10,
     "metadata": {},
     "output_type": "execute_result"
    }
   ],
   "source": [
    "# Logistic Regression pipe in two stages \n",
    "\n",
    "pipe_lr = Pipeline([\n",
    "    ('tfidf', TfidfVectorizer(stop_words=all_stop_words, max_features=5000, ngram_range=(1,2))),\n",
    "    ('lr', LogisticRegression(C=1, penalty='l2', solver='newton-cg'))\n",
    "])\n",
    "\n",
    "pipe_lr.fit(X_train, y_train)"
   ]
  },
  {
   "cell_type": "code",
   "execution_count": 11,
   "metadata": {},
   "outputs": [
    {
     "name": "stdout",
     "output_type": "stream",
     "text": [
      "Training set accuracy on Logistic Regression model with Tf-Idf vectorizer = 0.924\n",
      "Testing set accuracy on Logistic Regression model with Tf-Idf vectorizer = 0.822\n"
     ]
    }
   ],
   "source": [
    "print(f'Training set accuracy on Logistic Regression model with Tf-Idf vectorizer = {pipe_lr.score(X_train, y_train)}')\n",
    "print(f'Testing set accuracy on Logistic Regression model with Tf-Idf vectorizer = {pipe_lr.score(X_test, y_test)}')"
   ]
  },
  {
   "cell_type": "code",
   "execution_count": 12,
   "metadata": {},
   "outputs": [
    {
     "data": {
      "text/plain": [
       "0.7942222222222223"
      ]
     },
     "execution_count": 12,
     "metadata": {},
     "output_type": "execute_result"
    }
   ],
   "source": [
    "cross_val_score(pipe_lr, X_train, y_train, cv=3).mean()"
   ]
  },
  {
   "cell_type": "code",
   "execution_count": 13,
   "metadata": {},
   "outputs": [
    {
     "data": {
      "text/plain": [
       "0.924"
      ]
     },
     "execution_count": 13,
     "metadata": {},
     "output_type": "execute_result"
    }
   ],
   "source": [
    "pipe_lr.score(X_train, y_train)"
   ]
  },
  {
   "cell_type": "code",
   "execution_count": 14,
   "metadata": {},
   "outputs": [
    {
     "data": {
      "text/plain": [
       "0.822"
      ]
     },
     "execution_count": 14,
     "metadata": {},
     "output_type": "execute_result"
    }
   ],
   "source": [
    "pipe_lr.score(X_test, y_test)"
   ]
  },
  {
   "cell_type": "markdown",
   "metadata": {},
   "source": [
    "## Evalution\n",
    "\n",
    "## Finding and Plotting Most Important Words \n",
    "\n",
    "#### `Logistic Regression Model` Word Importances"
   ]
  },
  {
   "cell_type": "code",
   "execution_count": 15,
   "metadata": {},
   "outputs": [],
   "source": [
    "# vectorizing data just to create bag of words \n",
    "\n",
    "# tfidf = TfidfVectorizer()\n",
    "\n",
    "# tfidf.fit(X_train)"
   ]
  },
  {
   "cell_type": "code",
   "execution_count": 16,
   "metadata": {},
   "outputs": [],
   "source": [
    "def find_most_important_words(vectorizer, estimator, n=10):\n",
    "    \n",
    "    index_to_word = {v:k for k, v in vectorizer.vocabulary_.items()}\n",
    "    \n",
    "#     most_important = {}\n",
    "\n",
    "    # get coefficient for each word in the vocabulary \n",
    "    word_importances = [(el, index_to_word[i]) for i, el in enumerate(np.exp(estimator.coef_[0]))]  \n",
    "    \n",
    "    # sort the word_imoprtance coefficients by the coefficient \n",
    "    sorted_coeff = sorted(word_importances, key = lambda x : x[0], reverse=True)   \n",
    "\n",
    "    # find words most important to label 1 by sorting by the highest coefficient\n",
    "    closest_to_label_1 = sorted(sorted_coeff[:n], key = lambda x : x[0])\n",
    "    \n",
    "    # find words most important to label 0 by sorting by the smallest coefficient\n",
    "    closest_to_label_0 = sorted_coeff[-n:]\n",
    "    \n",
    "    return closest_to_label_0, closest_to_label_1"
   ]
  },
  {
   "cell_type": "code",
   "execution_count": 17,
   "metadata": {},
   "outputs": [
    {
     "data": {
      "text/plain": [
       "LogisticRegression(C=1, solver='newton-cg')"
      ]
     },
     "execution_count": 17,
     "metadata": {},
     "output_type": "execute_result"
    }
   ],
   "source": [
    "pipe_lr.named_steps['lr']"
   ]
  },
  {
   "cell_type": "markdown",
   "metadata": {},
   "source": [
    "_Citation: Thank you Prasoon Karmacharya for helping me figure out the `.name_steps` method so that I could feed my `pipeline` into my `find_most_important_words` function!_ "
   ]
  },
  {
   "cell_type": "code",
   "execution_count": 29,
   "metadata": {},
   "outputs": [],
   "source": [
    "closest_to_label_0, closest_to_label_1 = find_most_important_words(pipe_lr.named_steps['tfidf'], pipe_lr.named_steps['lr'], n=100)"
   ]
  },
  {
   "cell_type": "code",
   "execution_count": 30,
   "metadata": {},
   "outputs": [
    {
     "data": {
      "text/plain": [
       "[(0.17397633511738658, 'dolly'),\n",
       " (0.17279492234927613, 'old'),\n",
       " (0.1657896528834616, 'charlie'),\n",
       " (0.1554655588447922, 'cash'),\n",
       " (0.15377834416277517, 'merle'),\n",
       " (0.15100617591873858, 'jones'),\n",
       " (0.13790389242266957, 'willie'),\n",
       " (0.12464944814758712, 'hank'),\n",
       " (0.11701627778179775, 'johnny'),\n",
       " (0.11036392685060976, 'cowboy')]"
      ]
     },
     "execution_count": 30,
     "metadata": {},
     "output_type": "execute_result"
    }
   ],
   "source": [
    "closest_to_label_0[-10::]"
   ]
  },
  {
   "cell_type": "code",
   "execution_count": 51,
   "metadata": {},
   "outputs": [
    {
     "data": {
      "text/html": [
       "<div>\n",
       "<style scoped>\n",
       "    .dataframe tbody tr th:only-of-type {\n",
       "        vertical-align: middle;\n",
       "    }\n",
       "\n",
       "    .dataframe tbody tr th {\n",
       "        vertical-align: top;\n",
       "    }\n",
       "\n",
       "    .dataframe thead th {\n",
       "        text-align: right;\n",
       "    }\n",
       "</style>\n",
       "<table border=\"1\" class=\"dataframe\">\n",
       "  <thead>\n",
       "    <tr style=\"text-align: right;\">\n",
       "      <th></th>\n",
       "      <th>0</th>\n",
       "      <th>1</th>\n",
       "    </tr>\n",
       "  </thead>\n",
       "  <tbody>\n",
       "    <tr>\n",
       "      <th>99</th>\n",
       "      <td>0.110364</td>\n",
       "      <td>cowboy</td>\n",
       "    </tr>\n",
       "    <tr>\n",
       "      <th>98</th>\n",
       "      <td>0.117016</td>\n",
       "      <td>johnny</td>\n",
       "    </tr>\n",
       "    <tr>\n",
       "      <th>97</th>\n",
       "      <td>0.124649</td>\n",
       "      <td>hank</td>\n",
       "    </tr>\n",
       "    <tr>\n",
       "      <th>96</th>\n",
       "      <td>0.137904</td>\n",
       "      <td>willie</td>\n",
       "    </tr>\n",
       "    <tr>\n",
       "      <th>95</th>\n",
       "      <td>0.151006</td>\n",
       "      <td>jones</td>\n",
       "    </tr>\n",
       "    <tr>\n",
       "      <th>...</th>\n",
       "      <td>...</td>\n",
       "      <td>...</td>\n",
       "    </tr>\n",
       "    <tr>\n",
       "      <th>4</th>\n",
       "      <td>0.359160</td>\n",
       "      <td>google</td>\n",
       "    </tr>\n",
       "    <tr>\n",
       "      <th>3</th>\n",
       "      <td>0.360601</td>\n",
       "      <td>dad</td>\n",
       "    </tr>\n",
       "    <tr>\n",
       "      <th>2</th>\n",
       "      <td>0.364458</td>\n",
       "      <td>lawrence</td>\n",
       "    </tr>\n",
       "    <tr>\n",
       "      <th>1</th>\n",
       "      <td>0.364909</td>\n",
       "      <td>colter wall</td>\n",
       "    </tr>\n",
       "    <tr>\n",
       "      <th>0</th>\n",
       "      <td>0.368980</td>\n",
       "      <td>texas</td>\n",
       "    </tr>\n",
       "  </tbody>\n",
       "</table>\n",
       "<p>100 rows × 2 columns</p>\n",
       "</div>"
      ],
      "text/plain": [
       "           0            1\n",
       "99  0.110364       cowboy\n",
       "98  0.117016       johnny\n",
       "97  0.124649         hank\n",
       "96  0.137904       willie\n",
       "95  0.151006        jones\n",
       "..       ...          ...\n",
       "4   0.359160       google\n",
       "3   0.360601          dad\n",
       "2   0.364458     lawrence\n",
       "1   0.364909  colter wall\n",
       "0   0.368980        texas\n",
       "\n",
       "[100 rows x 2 columns]"
      ]
     },
     "execution_count": 51,
     "metadata": {},
     "output_type": "execute_result"
    }
   ],
   "source": [
    "country_df = pd.DataFrame(closest_to_label_0).sort_values(0, ascending=False)\n",
    "\n",
    "country_df.reindex(index=country_df.index[::-1])"
   ]
  },
  {
   "cell_type": "code",
   "execution_count": 52,
   "metadata": {},
   "outputs": [
    {
     "data": {
      "text/plain": [
       "[(5.030629292149185, 'review'),\n",
       " (5.092273887766607, 'removed'),\n",
       " (5.3770786950949825, '2016'),\n",
       " (5.60750549786692, '2003'),\n",
       " (5.623767786439253, 'interview'),\n",
       " (5.8761731382845035, 'hard'),\n",
       " (6.355103723655234, 'tool'),\n",
       " (6.956855183999518, '2020'),\n",
       " (8.79681858217044, 'punk'),\n",
       " (9.381079951919261, 'metal')]"
      ]
     },
     "execution_count": 52,
     "metadata": {},
     "output_type": "execute_result"
    }
   ],
   "source": [
    "closest_to_label_1[-10::]"
   ]
  },
  {
   "cell_type": "code",
   "execution_count": 65,
   "metadata": {},
   "outputs": [
    {
     "data": {
      "text/html": [
       "<div>\n",
       "<style scoped>\n",
       "    .dataframe tbody tr th:only-of-type {\n",
       "        vertical-align: middle;\n",
       "    }\n",
       "\n",
       "    .dataframe tbody tr th {\n",
       "        vertical-align: top;\n",
       "    }\n",
       "\n",
       "    .dataframe thead th {\n",
       "        text-align: right;\n",
       "    }\n",
       "</style>\n",
       "<table border=\"1\" class=\"dataframe\">\n",
       "  <thead>\n",
       "    <tr style=\"text-align: right;\">\n",
       "      <th></th>\n",
       "      <th>0</th>\n",
       "      <th>1</th>\n",
       "    </tr>\n",
       "  </thead>\n",
       "  <tbody>\n",
       "    <tr>\n",
       "      <th>0</th>\n",
       "      <td>2.330921</td>\n",
       "      <td>christian</td>\n",
       "    </tr>\n",
       "    <tr>\n",
       "      <th>1</th>\n",
       "      <td>2.330921</td>\n",
       "      <td>christian reeve</td>\n",
       "    </tr>\n",
       "    <tr>\n",
       "      <th>2</th>\n",
       "      <td>2.330921</td>\n",
       "      <td>reeve</td>\n",
       "    </tr>\n",
       "    <tr>\n",
       "      <th>3</th>\n",
       "      <td>2.343334</td>\n",
       "      <td>talks</td>\n",
       "    </tr>\n",
       "    <tr>\n",
       "      <th>4</th>\n",
       "      <td>2.347516</td>\n",
       "      <td>club</td>\n",
       "    </tr>\n",
       "    <tr>\n",
       "      <th>...</th>\n",
       "      <td>...</td>\n",
       "      <td>...</td>\n",
       "    </tr>\n",
       "    <tr>\n",
       "      <th>95</th>\n",
       "      <td>5.876173</td>\n",
       "      <td>hard</td>\n",
       "    </tr>\n",
       "    <tr>\n",
       "      <th>96</th>\n",
       "      <td>6.355104</td>\n",
       "      <td>tool</td>\n",
       "    </tr>\n",
       "    <tr>\n",
       "      <th>97</th>\n",
       "      <td>6.956855</td>\n",
       "      <td>2020</td>\n",
       "    </tr>\n",
       "    <tr>\n",
       "      <th>98</th>\n",
       "      <td>8.796819</td>\n",
       "      <td>punk</td>\n",
       "    </tr>\n",
       "    <tr>\n",
       "      <th>99</th>\n",
       "      <td>9.381080</td>\n",
       "      <td>metal</td>\n",
       "    </tr>\n",
       "  </tbody>\n",
       "</table>\n",
       "<p>100 rows × 2 columns</p>\n",
       "</div>"
      ],
      "text/plain": [
       "           0                1\n",
       "0   2.330921        christian\n",
       "1   2.330921  christian reeve\n",
       "2   2.330921            reeve\n",
       "3   2.343334            talks\n",
       "4   2.347516             club\n",
       "..       ...              ...\n",
       "95  5.876173             hard\n",
       "96  6.355104             tool\n",
       "97  6.956855             2020\n",
       "98  8.796819             punk\n",
       "99  9.381080            metal\n",
       "\n",
       "[100 rows x 2 columns]"
      ]
     },
     "execution_count": 65,
     "metadata": {},
     "output_type": "execute_result"
    }
   ],
   "source": [
    "rock_df = pd.DataFrame(closest_to_label_1).sort_values(0, ascending=True)\n",
    "rock_df.sort_index()\n",
    "# rock_df.reindex(index=country_df.index[::-1])"
   ]
  },
  {
   "cell_type": "markdown",
   "metadata": {},
   "source": [
    "## Visualizations "
   ]
  },
  {
   "cell_type": "code",
   "execution_count": 54,
   "metadata": {},
   "outputs": [],
   "source": [
    "font = {'family': 'serif',\n",
    "        'color':  '#1a1b1e',\n",
    "        'weight': 'normal',\n",
    "        'size': 20,\n",
    "        }\n",
    "\n",
    "def plot_most_important_words(scores_0, words_0, scores_1, words_1, title):\n",
    "    \n",
    "    y_pos = np.arange(len(words_1))\n",
    "    \n",
    "    pairs_1 = [(a,b) for a,b in zip(words_1, scores_1)]\n",
    "    pairs_1 = sorted(pairs_1, key=lambda x: x[1])\n",
    "    \n",
    "    pairs_0 = [(a,b) for a,b in zip(words_0, scores_0)]\n",
    "    pairs_0 = sorted(pairs_0, key=lambda x: x[1])\n",
    "    \n",
    "    words_1 = [a[0] for a in pairs_1]\n",
    "    scores_1 = [a[1] for a in pairs_1]\n",
    "    \n",
    "    words_0 = [a[0] for a in pairs_0]\n",
    "    scores_0 = [a[1] for a in pairs_0]\n",
    "    \n",
    "    fig = plt.figure(figsize=(12, 12))\n",
    "    \n",
    "    plt.subplot(121)\n",
    "    plt.barh(y_pos, scores_0, align='center', alpha=0.5, color='#1a1b1e')\n",
    "    plt.title('Country Western', fontdict=font)\n",
    "    plt.yticks(y_pos, words_0, fontsize=14)\n",
    "#     plt.suptitle('Key Words', fontsize=16)\n",
    "    plt.xlabel('Importance', fontdict=font)\n",
    "    \n",
    "    plt.subplot(122)\n",
    "    plt.barh(y_pos, scores_1, align='center', alpha=0.5, color=\"#f24600\")\n",
    "    plt.title(\"Rock 'n' Roll\", fontdict=font)\n",
    "    plt.yticks(y_pos, words_1, fontsize=15)\n",
    "#     plt.suptitle('Key Words', fontsize=16)\n",
    "    plt.xlabel('Importance', fontdict=font)\n",
    "    \n",
    "    plt.subplots_adjust(wspace=.4)"
   ]
  },
  {
   "cell_type": "code",
   "execution_count": 66,
   "metadata": {},
   "outputs": [
    {
     "data": {
      "image/png": "[encoded data removed]",
      "text/plain": [
       "<Figure size 864x864 with 2 Axes>"
      ]
     },
     "metadata": {
      "needs_background": "light"
     },
     "output_type": "display_data"
    }
   ],
   "source": [
    "# getting most important words from get_important_words \n",
    "\n",
    "label_0_scores = [x[0] for x in closest_to_label_0[-25::]]\n",
    "label_0_words = [x[1] for x in closest_to_label_0[-25::]]\n",
    "label_1_scores = [x[0] for x in closest_to_label_1[-25::]]\n",
    "label_1_words = [x[1] for x in closest_to_label_1[-25::]]\n",
    "\n",
    "plot_most_important_words(label_0_scores, label_0_words, label_1_scores, label_1_words, 'title')"
   ]
  },
  {
   "cell_type": "code",
   "execution_count": null,
   "metadata": {},
   "outputs": [],
   "source": [
    "# saving this figure so that I can put it in my README "
   ]
  },
  {
   "cell_type": "code",
   "execution_count": 310,
   "metadata": {},
   "outputs": [
    {
     "data": {
      "image/png": "[encoded data removed]",
      "text/plain": [
       "<Figure size 432x288 with 1 Axes>"
      ]
     },
     "metadata": {
      "needs_background": "light"
     },
     "output_type": "display_data"
    }
   ],
   "source": [
    "# ROC curve \n",
    "\n",
    "plot_roc_curve(pipe_lr, X_test, y_test)\n",
    "plt.plot([0,1], [0,1], 'k--');"
   ]
  },
  {
   "cell_type": "code",
   "execution_count": 305,
   "metadata": {},
   "outputs": [],
   "source": [
    "from sklearn.decomposition import PCA, TruncatedSVD\n",
    "import matplotlib\n",
    "import matplotlib.patches as mpatches\n",
    "\n",
    "#brings to two dimenstions \n",
    "\n",
    "def plot_LSA(test_data, test_labels, savepath=\"PCA_demo.csv\", plot=True):\n",
    "        lsa = TruncatedSVD(n_components=2)\n",
    "        lsa.fit(test_data)\n",
    "        lsa_scores = lsa.transform(test_data)\n",
    "        color_mapper = {label:idx for idx,label in enumerate(set(test_labels))}\n",
    "        color_column = [color_mapper[label] for label in test_labels]\n",
    "        colors = ['#1a1b1e','#f24600']\n",
    "        if plot:\n",
    "            plt.scatter(lsa_scores[:,0], lsa_scores[:,1], s=8, alpha=.8, c=test_labels, cmap=matplotlib.colors.ListedColormap(colors))\n",
    "            red_patch = mpatches.Patch(color='#1a1b1e', label='Country')\n",
    "            green_patch = mpatches.Patch(color='#f24600', label='Rock')\n",
    "            plt.legend(handles=[red_patch, green_patch], prop={'size': 30})\n",
    "\n",
    "\n",
    "# fig = plt.figure(figsize=(16, 16))          \n",
    "# plot_LSA(X_train_counts, y_train)\n",
    "# plt.show()"
   ]
  },
  {
   "cell_type": "code",
   "execution_count": 306,
   "metadata": {},
   "outputs": [],
   "source": [
    "# cvec = CountVectorizer(stop_words=all_stop_words)\n",
    "\n",
    "# X_train_cvec = cvec.fit_transform(X_train)\n",
    "\n",
    "# fig = plt.figure(figsize=(8,8))          \n",
    "# plot_LSA(X_train_cvec, y_train)\n",
    "# plt.show()"
   ]
  },
  {
   "cell_type": "code",
   "execution_count": 308,
   "metadata": {},
   "outputs": [
    {
     "data": {
      "text/plain": [
       "48"
      ]
     },
     "execution_count": 308,
     "metadata": {},
     "output_type": "execute_result"
    }
   ],
   "source": [
    "import sys \n",
    "sys.getsizeof(X_train_tfidf)"
   ]
  },
  {
   "cell_type": "code",
   "execution_count": 307,
   "metadata": {},
   "outputs": [
    {
     "data": {
      "image/png": "[encoded data removed]",
      "text/plain": [
       "<Figure size 576x576 with 1 Axes>"
      ]
     },
     "metadata": {
      "needs_background": "light"
     },
     "output_type": "display_data"
    }
   ],
   "source": [
    "tfidf = TfidfVectorizer(stop_words=all_stop_words)\n",
    "\n",
    "X_train_tfidf = tfidf.fit_transform(X_train)\n",
    "\n",
    "fig = plt.figure(figsize=(8, 8))          \n",
    "plot_LSA(X_train_tfidf, y_train)\n",
    "plt.show()"
   ]
  },
  {
   "cell_type": "code",
   "execution_count": null,
   "metadata": {},
   "outputs": [],
   "source": []
  }
 ],
 "metadata": {
  "kernelspec": {
   "display_name": "Python 3",
   "language": "python",
   "name": "python3"
  },
  "language_info": {
   "codemirror_mode": {
    "name": "ipython",
    "version": 3
   },
   "file_extension": ".py",
   "mimetype": "text/x-python",
   "name": "python",
   "nbconvert_exporter": "python",
   "pygments_lexer": "ipython3",
   "version": "3.8.5"
  }
 },
 "nbformat": 4,
 "nbformat_minor": 4
}
