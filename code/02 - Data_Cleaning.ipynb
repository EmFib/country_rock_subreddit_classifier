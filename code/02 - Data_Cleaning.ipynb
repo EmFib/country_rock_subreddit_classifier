{
 "cells": [
  {
   "cell_type": "code",
   "execution_count": 378,
   "metadata": {},
   "outputs": [],
   "source": [
    "# imports\n",
    "import pandas as pd\n",
    "import matplotlib.pyplot as plt\n",
    "from sklearn.model_selection import train_test_split, GridSearchCV, cross_val_score\n",
    "from sklearn.pipeline import Pipeline\n",
    "from sklearn.naive_bayes import MultinomialNB\n",
    "from sklearn.linear_model import LogisticRegression\n",
    "from sklearn.metrics import confusion_matrix, plot_confusion_matrix\n",
    "from nltk.tokenize import sent_tokenize, word_tokenize, RegexpTokenizer\n",
    "from nltk.stem import WordNetLemmatizer\n",
    "from nltk.stem.porter import PorterStemmer\n",
    "from nltk.corpus import stopwords\n",
    "from nltk import FreqDist, pos_tag\n",
    "from nltk.tokenize import word_tokenize\n",
    "from collections import Counter\n",
    "from nltk.tokenize import RegexpTokenizer\n",
    "import nltk \n",
    "from nltk.stem.snowball import SnowballStemmer \n",
    "\n",
    "# Import CountVectorizer and TFIDFVectorizer from feature_extraction.text.\n",
    "from sklearn.feature_extraction.text import CountVectorizer, TfidfVectorizer\n",
    "\n",
    "import pickle "
   ]
  },
  {
   "cell_type": "code",
   "execution_count": 206,
   "metadata": {},
   "outputs": [
    {
     "data": {
      "text/plain": [
       "'/Users/emilynaftalin/Data_Science/General Assembly/dsi/projects/project_3/code'"
      ]
     },
     "execution_count": 206,
     "metadata": {},
     "output_type": "execute_result"
    }
   ],
   "source": [
    "pwd"
   ]
  },
  {
   "cell_type": "markdown",
   "metadata": {},
   "source": [
    "### Reading in Data "
   ]
  },
  {
   "cell_type": "code",
   "execution_count": 318,
   "metadata": {},
   "outputs": [],
   "source": [
    "def load_data(unclean_df):\n",
    "    full_file = '../datasets/' + unclean_df + '.csv'\n",
    "    df = pd.read_csv(full_file)[['label', 'merged']]\n",
    "    return df"
   ]
  },
  {
   "cell_type": "code",
   "execution_count": 352,
   "metadata": {},
   "outputs": [
    {
     "data": {
      "text/html": [
       "<div>\n",
       "<style scoped>\n",
       "    .dataframe tbody tr th:only-of-type {\n",
       "        vertical-align: middle;\n",
       "    }\n",
       "\n",
       "    .dataframe tbody tr th {\n",
       "        vertical-align: top;\n",
       "    }\n",
       "\n",
       "    .dataframe thead th {\n",
       "        text-align: right;\n",
       "    }\n",
       "</style>\n",
       "<table border=\"1\" class=\"dataframe\">\n",
       "  <thead>\n",
       "    <tr style=\"text-align: right;\">\n",
       "      <th></th>\n",
       "      <th>label</th>\n",
       "      <th>merged</th>\n",
       "    </tr>\n",
       "  </thead>\n",
       "  <tbody>\n",
       "    <tr>\n",
       "      <th>0</th>\n",
       "      <td>country</td>\n",
       "      <td>Country Suggestions I've been starting to get ...</td>\n",
       "    </tr>\n",
       "    <tr>\n",
       "      <th>1</th>\n",
       "      <td>country</td>\n",
       "      <td>Hank Williams Sr. - I'm So Lonesome I Could Cr...</td>\n",
       "    </tr>\n",
       "    <tr>\n",
       "      <th>2</th>\n",
       "      <td>country</td>\n",
       "      <td>Cody Jinks - Loud and Heavy</td>\n",
       "    </tr>\n",
       "    <tr>\n",
       "      <th>3</th>\n",
       "      <td>country</td>\n",
       "      <td>Southern Raised Performs \"What A Day That Will...</td>\n",
       "    </tr>\n",
       "    <tr>\n",
       "      <th>4</th>\n",
       "      <td>country</td>\n",
       "      <td>Is anybody still making Texas Swing? My father...</td>\n",
       "    </tr>\n",
       "  </tbody>\n",
       "</table>\n",
       "</div>"
      ],
      "text/plain": [
       "     label                                             merged\n",
       "0  country  Country Suggestions I've been starting to get ...\n",
       "1  country  Hank Williams Sr. - I'm So Lonesome I Could Cr...\n",
       "2  country                       Cody Jinks - Loud and Heavy \n",
       "3  country  Southern Raised Performs \"What A Day That Will...\n",
       "4  country  Is anybody still making Texas Swing? My father..."
      ]
     },
     "execution_count": 352,
     "metadata": {},
     "output_type": "execute_result"
    }
   ],
   "source": [
    "country = load_data('country')\n",
    "country.head()"
   ]
  },
  {
   "cell_type": "code",
   "execution_count": 354,
   "metadata": {},
   "outputs": [
    {
     "data": {
      "text/html": [
       "<div>\n",
       "<style scoped>\n",
       "    .dataframe tbody tr th:only-of-type {\n",
       "        vertical-align: middle;\n",
       "    }\n",
       "\n",
       "    .dataframe tbody tr th {\n",
       "        vertical-align: top;\n",
       "    }\n",
       "\n",
       "    .dataframe thead th {\n",
       "        text-align: right;\n",
       "    }\n",
       "</style>\n",
       "<table border=\"1\" class=\"dataframe\">\n",
       "  <thead>\n",
       "    <tr style=\"text-align: right;\">\n",
       "      <th></th>\n",
       "      <th>label</th>\n",
       "      <th>merged</th>\n",
       "    </tr>\n",
       "  </thead>\n",
       "  <tbody>\n",
       "    <tr>\n",
       "      <th>0</th>\n",
       "      <td>rock</td>\n",
       "      <td>SRV - Hideaway &amp;amp; Rude Mood (Montreux '82)</td>\n",
       "    </tr>\n",
       "    <tr>\n",
       "      <th>1</th>\n",
       "      <td>rock</td>\n",
       "      <td>Them Crooked Vultures - New Fang</td>\n",
       "    </tr>\n",
       "    <tr>\n",
       "      <th>2</th>\n",
       "      <td>rock</td>\n",
       "      <td>Time Spent Driving - “Hey, You Dropped Somethi...</td>\n",
       "    </tr>\n",
       "    <tr>\n",
       "      <th>3</th>\n",
       "      <td>rock</td>\n",
       "      <td>Disturbed - The Sound Of Silence (Live on Conan)</td>\n",
       "    </tr>\n",
       "    <tr>\n",
       "      <th>4</th>\n",
       "      <td>rock</td>\n",
       "      <td>Starset - Let It Die (2016)</td>\n",
       "    </tr>\n",
       "  </tbody>\n",
       "</table>\n",
       "</div>"
      ],
      "text/plain": [
       "  label                                             merged\n",
       "0  rock     SRV - Hideaway &amp; Rude Mood (Montreux '82) \n",
       "1  rock                  Them Crooked Vultures - New Fang \n",
       "2  rock  Time Spent Driving - “Hey, You Dropped Somethi...\n",
       "3  rock  Disturbed - The Sound Of Silence (Live on Conan) \n",
       "4  rock                       Starset - Let It Die (2016) "
      ]
     },
     "execution_count": 354,
     "metadata": {},
     "output_type": "execute_result"
    }
   ],
   "source": [
    "rock = load_data('rock')\n",
    "rock.head()"
   ]
  },
  {
   "cell_type": "markdown",
   "metadata": {},
   "source": [
    "_**CITATION:**_ \n",
    "\n",
    "For the Logistic Regression exploration in this and future notebooks, I have drawn huge insights and inspiration from this [NLP workshop by Emmanuel Ameisen (@EmmanuelAmeisen), from Insight AI](https://github.com/EmFib/concrete_NLP_tutorial/blob/master/NLP_notebook.ipynb). \n",
    "\n",
    "I have implemented his code in several places and cite it there with the shorthand reference _\"Emmanuel\"_. "
   ]
  },
  {
   "cell_type": "markdown",
   "metadata": {},
   "source": [
    "### Cleaning Data"
   ]
  },
  {
   "cell_type": "code",
   "execution_count": 325,
   "metadata": {},
   "outputs": [],
   "source": [
    "# This method for cleaning data from Emmanuel \n",
    "\n",
    "def standardize_text(df, text_field):\n",
    "    \n",
    "    '''Removes special characters and hyperlinks from dataframe'''\n",
    "    \n",
    "    df[text_field] = df[text_field].str.replace(r\"http\\S+\", \"\")\n",
    "    df[text_field] = df[text_field].str.replace(r\"http\", \"\")\n",
    "    df[text_field] = df[text_field].str.replace(r\"@\\S+\", \"\")\n",
    "    df[text_field] = df[text_field].str.replace(r\"[^A-Za-z0-9(),!?@\\`\\\"\\_\\n]\", \" \")\n",
    "    df[text_field] = df[text_field].str.replace(r\"'\", \"\")\n",
    "    df[text_field] = df[text_field].str.replace(r\"\\s+[a-zA-Z]\\s+\", \" \")\n",
    "    df[text_field] = df[text_field].str.replace(r\"@\", \"at\")\n",
    "    df[text_field] = df[text_field].str.lower()\n",
    "    return df"
   ]
  },
  {
   "cell_type": "code",
   "execution_count": 356,
   "metadata": {},
   "outputs": [],
   "source": [
    "dfs = [country, rock]\n",
    "\n",
    "for df in dfs:\n",
    "    standardize_text(df, 'merged')"
   ]
  },
  {
   "cell_type": "code",
   "execution_count": 357,
   "metadata": {},
   "outputs": [
    {
     "data": {
      "text/html": [
       "<div>\n",
       "<style scoped>\n",
       "    .dataframe tbody tr th:only-of-type {\n",
       "        vertical-align: middle;\n",
       "    }\n",
       "\n",
       "    .dataframe tbody tr th {\n",
       "        vertical-align: top;\n",
       "    }\n",
       "\n",
       "    .dataframe thead th {\n",
       "        text-align: right;\n",
       "    }\n",
       "</style>\n",
       "<table border=\"1\" class=\"dataframe\">\n",
       "  <thead>\n",
       "    <tr style=\"text-align: right;\">\n",
       "      <th></th>\n",
       "      <th>label</th>\n",
       "      <th>merged</th>\n",
       "    </tr>\n",
       "  </thead>\n",
       "  <tbody>\n",
       "    <tr>\n",
       "      <th>0</th>\n",
       "      <td>country</td>\n",
       "      <td>country suggestions ve been starting to get in...</td>\n",
       "    </tr>\n",
       "    <tr>\n",
       "      <th>1</th>\n",
       "      <td>country</td>\n",
       "      <td>hank williams sr m so lonesome could cry (1949)</td>\n",
       "    </tr>\n",
       "    <tr>\n",
       "      <th>2</th>\n",
       "      <td>country</td>\n",
       "      <td>cody jinks   loud and heavy</td>\n",
       "    </tr>\n",
       "    <tr>\n",
       "      <th>3</th>\n",
       "      <td>country</td>\n",
       "      <td>southern raised performs \"what day that will b...</td>\n",
       "    </tr>\n",
       "    <tr>\n",
       "      <th>4</th>\n",
       "      <td>country</td>\n",
       "      <td>is anybody still making texas swing? my father...</td>\n",
       "    </tr>\n",
       "  </tbody>\n",
       "</table>\n",
       "</div>"
      ],
      "text/plain": [
       "     label                                             merged\n",
       "0  country  country suggestions ve been starting to get in...\n",
       "1  country   hank williams sr m so lonesome could cry (1949) \n",
       "2  country                       cody jinks   loud and heavy \n",
       "3  country  southern raised performs \"what day that will b...\n",
       "4  country  is anybody still making texas swing? my father..."
      ]
     },
     "execution_count": 357,
     "metadata": {},
     "output_type": "execute_result"
    }
   ],
   "source": [
    "# checking what it looks like after cleaning \n",
    "country.head()"
   ]
  },
  {
   "cell_type": "markdown",
   "metadata": {},
   "source": [
    "Once clean-up is done, save cleaned and stemmed dataframe to csv using code like the line below.  \n",
    "\n",
    "`df.to_csv('../datasets/clean_df.csv', index=False)`"
   ]
  },
  {
   "cell_type": "code",
   "execution_count": 358,
   "metadata": {},
   "outputs": [],
   "source": [
    "country.to_csv('../datasets/country_clean.csv', index=False)\n",
    "rock.to_csv('../datasets/rock_clean.csv', index=False)"
   ]
  },
  {
   "cell_type": "markdown",
   "metadata": {},
   "source": [
    "#### Dealing with null values "
   ]
  },
  {
   "cell_type": "code",
   "execution_count": 359,
   "metadata": {},
   "outputs": [
    {
     "data": {
      "text/plain": [
       "label     0\n",
       "merged    0\n",
       "dtype: int64"
      ]
     },
     "execution_count": 359,
     "metadata": {},
     "output_type": "execute_result"
    }
   ],
   "source": [
    "country.isnull().sum()"
   ]
  },
  {
   "cell_type": "code",
   "execution_count": 360,
   "metadata": {},
   "outputs": [
    {
     "data": {
      "text/plain": [
       "label     0\n",
       "merged    0\n",
       "dtype: int64"
      ]
     },
     "execution_count": 360,
     "metadata": {},
     "output_type": "execute_result"
    }
   ],
   "source": [
    "rock.isnull().sum()"
   ]
  },
  {
   "cell_type": "markdown",
   "metadata": {},
   "source": [
    "\n",
    "Below, creating a function that removes rows with null values in the `merged` column if there are 10 or fewer null values. If the number of null values is greater than 10, it does not remove the rows and instead prints the count of the null values as an alert. "
   ]
  },
  {
   "cell_type": "code",
   "execution_count": 361,
   "metadata": {},
   "outputs": [],
   "source": [
    "# dropping null values \n",
    "\n",
    "def drop_nulls(df):\n",
    "    \n",
    "    '''Drops rows with null values if count is less than 11; otherwise prints the number of null values'''\n",
    "    \n",
    "    nulls = df.isnull().values.sum()\n",
    "    if nulls <= 10:\n",
    "        print (f'Dropping {nulls} rows that contained null values.')\n",
    "        df = df.notna()\n",
    "        \n",
    "    else: \n",
    "        print (f'The dataframe contains {nulls} rows with null values so they were not dropped.')\n",
    "        \n",
    "# citation: credit for 'isnull().values' to this Stack Overflow discussion: \n",
    "# https://stackoverflow.com/questions/29530232/how-to-check-if-any-value-is-nan-in-a-pandas-dataframe"
   ]
  },
  {
   "cell_type": "markdown",
   "metadata": {},
   "source": [
    "### Pre-Processing Data"
   ]
  },
  {
   "cell_type": "markdown",
   "metadata": {},
   "source": [
    "#### Adding Column for Tokenized Text \n",
    "\n",
    "Use below convention to add column called `tokens` that is a tokenized version of the `merged` column.\n",
    "\n",
    "```python\n",
    "tokenizer = RegexpTokenizer(r'\\w+')\n",
    "\n",
    "df['tokens'] = df['merged'].apply(tokenizer.tokenize)\n",
    "\n",
    "```\n",
    "\n",
    "#### Adding Column for Stemmed Words\n",
    "\n",
    "Use the below convention to add a column called `stemmed` that will have the tokenized words that have been reduced to their root forms. I will use the [Snowball Stemmer](https://snowballstem.org/) for the English language. \n",
    "\n",
    "```python\n",
    "snow_stemmer = SnowballStemmer(language='english') \n",
    "df['stemmed'] = df['tokens'].apply(lambda x: [snow_stemmer.stem(y) for y in x])\n",
    "```"
   ]
  },
  {
   "cell_type": "code",
   "execution_count": 362,
   "metadata": {},
   "outputs": [
    {
     "name": "stdout",
     "output_type": "stream",
     "text": [
      "Dropping 0 rows that contained null values.\n",
      "Dropping 0 rows that contained null values.\n"
     ]
    }
   ],
   "source": [
    "# this control flow will handle nulls, tokenize, and stem the dataframes \n",
    "\n",
    "tokenizer = RegexpTokenizer(r'\\w+')\n",
    "\n",
    "dfs = [country, rock]\n",
    "\n",
    "for df in dfs:\n",
    "    drop_nulls(df)\n",
    "    df['tokens'] = df['merged'].apply(tokenizer.tokenize)\n",
    "    df['stemmed'] = df['tokens'].apply(lambda x: [snow_stemmer.stem(y) for y in x])   "
   ]
  },
  {
   "cell_type": "code",
   "execution_count": 373,
   "metadata": {},
   "outputs": [],
   "source": [
    "country['tokens'] = country['merged'].apply(tokenizer.tokenize)"
   ]
  },
  {
   "cell_type": "code",
   "execution_count": 376,
   "metadata": {},
   "outputs": [
    {
     "data": {
      "text/plain": [
       "list"
      ]
     },
     "execution_count": 376,
     "metadata": {},
     "output_type": "execute_result"
    }
   ],
   "source": [
    "type(country['tokens'][1])"
   ]
  },
  {
   "cell_type": "code",
   "execution_count": 374,
   "metadata": {},
   "outputs": [
    {
     "data": {
      "text/html": [
       "<div>\n",
       "<style scoped>\n",
       "    .dataframe tbody tr th:only-of-type {\n",
       "        vertical-align: middle;\n",
       "    }\n",
       "\n",
       "    .dataframe tbody tr th {\n",
       "        vertical-align: top;\n",
       "    }\n",
       "\n",
       "    .dataframe thead th {\n",
       "        text-align: right;\n",
       "    }\n",
       "</style>\n",
       "<table border=\"1\" class=\"dataframe\">\n",
       "  <thead>\n",
       "    <tr style=\"text-align: right;\">\n",
       "      <th></th>\n",
       "      <th>label</th>\n",
       "      <th>merged</th>\n",
       "      <th>tokens</th>\n",
       "      <th>stemmed</th>\n",
       "      <th>combo</th>\n",
       "    </tr>\n",
       "  </thead>\n",
       "  <tbody>\n",
       "    <tr>\n",
       "      <th>0</th>\n",
       "      <td>country</td>\n",
       "      <td>country suggestions ve been starting to get in...</td>\n",
       "      <td>[country, suggestions, ve, been, starting, to,...</td>\n",
       "      <td>[countri, suggest, ve, been, start, to, get, i...</td>\n",
       "      <td>countri suggest ve been start to get into coun...</td>\n",
       "    </tr>\n",
       "    <tr>\n",
       "      <th>1</th>\n",
       "      <td>country</td>\n",
       "      <td>hank williams sr m so lonesome could cry (1949)</td>\n",
       "      <td>[hank, williams, sr, m, so, lonesome, could, c...</td>\n",
       "      <td>[hank, william, sr, m, so, lonesom, could, cri...</td>\n",
       "      <td>hank william sr m so lonesom could cri 1949</td>\n",
       "    </tr>\n",
       "    <tr>\n",
       "      <th>2</th>\n",
       "      <td>country</td>\n",
       "      <td>cody jinks   loud and heavy</td>\n",
       "      <td>[cody, jinks, loud, and, heavy]</td>\n",
       "      <td>[codi, jink, loud, and, heavi]</td>\n",
       "      <td>codi jink loud and heavi</td>\n",
       "    </tr>\n",
       "    <tr>\n",
       "      <th>3</th>\n",
       "      <td>country</td>\n",
       "      <td>southern raised performs \"what day that will b...</td>\n",
       "      <td>[southern, raised, performs, what, day, that, ...</td>\n",
       "      <td>[southern, rais, perform, what, day, that, wil...</td>\n",
       "      <td>southern rais perform what day that will be at...</td>\n",
       "    </tr>\n",
       "    <tr>\n",
       "      <th>4</th>\n",
       "      <td>country</td>\n",
       "      <td>is anybody still making texas swing? my father...</td>\n",
       "      <td>[is, anybody, still, making, texas, swing, my,...</td>\n",
       "      <td>[is, anybodi, still, make, texa, swing, my, fa...</td>\n",
       "      <td>is anybodi still make texa swing my father in ...</td>\n",
       "    </tr>\n",
       "  </tbody>\n",
       "</table>\n",
       "</div>"
      ],
      "text/plain": [
       "     label                                             merged  \\\n",
       "0  country  country suggestions ve been starting to get in...   \n",
       "1  country   hank williams sr m so lonesome could cry (1949)    \n",
       "2  country                       cody jinks   loud and heavy    \n",
       "3  country  southern raised performs \"what day that will b...   \n",
       "4  country  is anybody still making texas swing? my father...   \n",
       "\n",
       "                                              tokens  \\\n",
       "0  [country, suggestions, ve, been, starting, to,...   \n",
       "1  [hank, williams, sr, m, so, lonesome, could, c...   \n",
       "2                    [cody, jinks, loud, and, heavy]   \n",
       "3  [southern, raised, performs, what, day, that, ...   \n",
       "4  [is, anybody, still, making, texas, swing, my,...   \n",
       "\n",
       "                                             stemmed  \\\n",
       "0  [countri, suggest, ve, been, start, to, get, i...   \n",
       "1  [hank, william, sr, m, so, lonesom, could, cri...   \n",
       "2                     [codi, jink, loud, and, heavi]   \n",
       "3  [southern, rais, perform, what, day, that, wil...   \n",
       "4  [is, anybodi, still, make, texa, swing, my, fa...   \n",
       "\n",
       "                                               combo  \n",
       "0  countri suggest ve been start to get into coun...  \n",
       "1        hank william sr m so lonesom could cri 1949  \n",
       "2                           codi jink loud and heavi  \n",
       "3  southern rais perform what day that will be at...  \n",
       "4  is anybodi still make texa swing my father in ...  "
      ]
     },
     "execution_count": 374,
     "metadata": {},
     "output_type": "execute_result"
    }
   ],
   "source": [
    "country.head()"
   ]
  },
  {
   "cell_type": "code",
   "execution_count": 364,
   "metadata": {},
   "outputs": [
    {
     "data": {
      "text/html": [
       "<div>\n",
       "<style scoped>\n",
       "    .dataframe tbody tr th:only-of-type {\n",
       "        vertical-align: middle;\n",
       "    }\n",
       "\n",
       "    .dataframe tbody tr th {\n",
       "        vertical-align: top;\n",
       "    }\n",
       "\n",
       "    .dataframe thead th {\n",
       "        text-align: right;\n",
       "    }\n",
       "</style>\n",
       "<table border=\"1\" class=\"dataframe\">\n",
       "  <thead>\n",
       "    <tr style=\"text-align: right;\">\n",
       "      <th></th>\n",
       "      <th>label</th>\n",
       "      <th>merged</th>\n",
       "      <th>tokens</th>\n",
       "      <th>stemmed</th>\n",
       "    </tr>\n",
       "  </thead>\n",
       "  <tbody>\n",
       "    <tr>\n",
       "      <th>0</th>\n",
       "      <td>rock</td>\n",
       "      <td>srv   hideaway  amp  rude mood (montreux  82)</td>\n",
       "      <td>[srv, hideaway, amp, rude, mood, montreux, 82]</td>\n",
       "      <td>[srv, hideaway, amp, rude, mood, montreux, 82]</td>\n",
       "    </tr>\n",
       "    <tr>\n",
       "      <th>1</th>\n",
       "      <td>rock</td>\n",
       "      <td>them crooked vultures   new fang</td>\n",
       "      <td>[them, crooked, vultures, new, fang]</td>\n",
       "      <td>[them, crook, vultur, new, fang]</td>\n",
       "    </tr>\n",
       "    <tr>\n",
       "      <th>2</th>\n",
       "      <td>rock</td>\n",
       "      <td>time spent driving    hey, you dropped somethi...</td>\n",
       "      <td>[time, spent, driving, hey, you, dropped, some...</td>\n",
       "      <td>[time, spent, drive, hey, you, drop, someth, 2...</td>\n",
       "    </tr>\n",
       "    <tr>\n",
       "      <th>3</th>\n",
       "      <td>rock</td>\n",
       "      <td>disturbed   the sound of silence (live on conan)</td>\n",
       "      <td>[disturbed, the, sound, of, silence, live, on,...</td>\n",
       "      <td>[disturb, the, sound, of, silenc, live, on, co...</td>\n",
       "    </tr>\n",
       "    <tr>\n",
       "      <th>4</th>\n",
       "      <td>rock</td>\n",
       "      <td>starset   let it die (2016)</td>\n",
       "      <td>[starset, let, it, die, 2016]</td>\n",
       "      <td>[starset, let, it, die, 2016]</td>\n",
       "    </tr>\n",
       "  </tbody>\n",
       "</table>\n",
       "</div>"
      ],
      "text/plain": [
       "  label                                             merged  \\\n",
       "0  rock     srv   hideaway  amp  rude mood (montreux  82)    \n",
       "1  rock                  them crooked vultures   new fang    \n",
       "2  rock  time spent driving    hey, you dropped somethi...   \n",
       "3  rock  disturbed   the sound of silence (live on conan)    \n",
       "4  rock                       starset   let it die (2016)    \n",
       "\n",
       "                                              tokens  \\\n",
       "0     [srv, hideaway, amp, rude, mood, montreux, 82]   \n",
       "1               [them, crooked, vultures, new, fang]   \n",
       "2  [time, spent, driving, hey, you, dropped, some...   \n",
       "3  [disturbed, the, sound, of, silence, live, on,...   \n",
       "4                      [starset, let, it, die, 2016]   \n",
       "\n",
       "                                             stemmed  \n",
       "0     [srv, hideaway, amp, rude, mood, montreux, 82]  \n",
       "1                   [them, crook, vultur, new, fang]  \n",
       "2  [time, spent, drive, hey, you, drop, someth, 2...  \n",
       "3  [disturb, the, sound, of, silenc, live, on, co...  \n",
       "4                      [starset, let, it, die, 2016]  "
      ]
     },
     "execution_count": 364,
     "metadata": {},
     "output_type": "execute_result"
    }
   ],
   "source": [
    "# checking what it looks like after nulls/tokenize/stemming\n",
    "rock.head()"
   ]
  },
  {
   "cell_type": "markdown",
   "metadata": {},
   "source": [
    "#### Bringing it all back together \n",
    "\n",
    "I use the .join() method to combine the stemmed tokens back into a single string so that it can be passed into word vectorizer in the modeling notebooks. \n",
    "\n",
    "_Citation: Sincere thanks to Heather Johannsen and James Opacich for helping with the below function._"
   ]
  },
  {
   "cell_type": "code",
   "execution_count": 365,
   "metadata": {},
   "outputs": [],
   "source": [
    "new_col_c = []\n",
    "\n",
    "for row in country['stemmed']:\n",
    "    row = ' '.join(row)\n",
    "    new_col_c.append(row)\n",
    "    \n",
    "country['combo'] = new_col_c"
   ]
  },
  {
   "cell_type": "code",
   "execution_count": 366,
   "metadata": {},
   "outputs": [
    {
     "data": {
      "text/html": [
       "<div>\n",
       "<style scoped>\n",
       "    .dataframe tbody tr th:only-of-type {\n",
       "        vertical-align: middle;\n",
       "    }\n",
       "\n",
       "    .dataframe tbody tr th {\n",
       "        vertical-align: top;\n",
       "    }\n",
       "\n",
       "    .dataframe thead th {\n",
       "        text-align: right;\n",
       "    }\n",
       "</style>\n",
       "<table border=\"1\" class=\"dataframe\">\n",
       "  <thead>\n",
       "    <tr style=\"text-align: right;\">\n",
       "      <th></th>\n",
       "      <th>label</th>\n",
       "      <th>merged</th>\n",
       "      <th>tokens</th>\n",
       "      <th>stemmed</th>\n",
       "      <th>combo</th>\n",
       "    </tr>\n",
       "  </thead>\n",
       "  <tbody>\n",
       "    <tr>\n",
       "      <th>0</th>\n",
       "      <td>country</td>\n",
       "      <td>country suggestions ve been starting to get in...</td>\n",
       "      <td>[country, suggestions, ve, been, starting, to,...</td>\n",
       "      <td>[countri, suggest, ve, been, start, to, get, i...</td>\n",
       "      <td>countri suggest ve been start to get into coun...</td>\n",
       "    </tr>\n",
       "    <tr>\n",
       "      <th>1</th>\n",
       "      <td>country</td>\n",
       "      <td>hank williams sr m so lonesome could cry (1949)</td>\n",
       "      <td>[hank, williams, sr, m, so, lonesome, could, c...</td>\n",
       "      <td>[hank, william, sr, m, so, lonesom, could, cri...</td>\n",
       "      <td>hank william sr m so lonesom could cri 1949</td>\n",
       "    </tr>\n",
       "    <tr>\n",
       "      <th>2</th>\n",
       "      <td>country</td>\n",
       "      <td>cody jinks   loud and heavy</td>\n",
       "      <td>[cody, jinks, loud, and, heavy]</td>\n",
       "      <td>[codi, jink, loud, and, heavi]</td>\n",
       "      <td>codi jink loud and heavi</td>\n",
       "    </tr>\n",
       "    <tr>\n",
       "      <th>3</th>\n",
       "      <td>country</td>\n",
       "      <td>southern raised performs \"what day that will b...</td>\n",
       "      <td>[southern, raised, performs, what, day, that, ...</td>\n",
       "      <td>[southern, rais, perform, what, day, that, wil...</td>\n",
       "      <td>southern rais perform what day that will be at...</td>\n",
       "    </tr>\n",
       "    <tr>\n",
       "      <th>4</th>\n",
       "      <td>country</td>\n",
       "      <td>is anybody still making texas swing? my father...</td>\n",
       "      <td>[is, anybody, still, making, texas, swing, my,...</td>\n",
       "      <td>[is, anybodi, still, make, texa, swing, my, fa...</td>\n",
       "      <td>is anybodi still make texa swing my father in ...</td>\n",
       "    </tr>\n",
       "  </tbody>\n",
       "</table>\n",
       "</div>"
      ],
      "text/plain": [
       "     label                                             merged  \\\n",
       "0  country  country suggestions ve been starting to get in...   \n",
       "1  country   hank williams sr m so lonesome could cry (1949)    \n",
       "2  country                       cody jinks   loud and heavy    \n",
       "3  country  southern raised performs \"what day that will b...   \n",
       "4  country  is anybody still making texas swing? my father...   \n",
       "\n",
       "                                              tokens  \\\n",
       "0  [country, suggestions, ve, been, starting, to,...   \n",
       "1  [hank, williams, sr, m, so, lonesome, could, c...   \n",
       "2                    [cody, jinks, loud, and, heavy]   \n",
       "3  [southern, raised, performs, what, day, that, ...   \n",
       "4  [is, anybody, still, making, texas, swing, my,...   \n",
       "\n",
       "                                             stemmed  \\\n",
       "0  [countri, suggest, ve, been, start, to, get, i...   \n",
       "1  [hank, william, sr, m, so, lonesom, could, cri...   \n",
       "2                     [codi, jink, loud, and, heavi]   \n",
       "3  [southern, rais, perform, what, day, that, wil...   \n",
       "4  [is, anybodi, still, make, texa, swing, my, fa...   \n",
       "\n",
       "                                               combo  \n",
       "0  countri suggest ve been start to get into coun...  \n",
       "1        hank william sr m so lonesom could cri 1949  \n",
       "2                           codi jink loud and heavi  \n",
       "3  southern rais perform what day that will be at...  \n",
       "4  is anybodi still make texa swing my father in ...  "
      ]
     },
     "execution_count": 366,
     "metadata": {},
     "output_type": "execute_result"
    }
   ],
   "source": [
    "#checking\n",
    "country.head()"
   ]
  },
  {
   "cell_type": "code",
   "execution_count": 367,
   "metadata": {},
   "outputs": [],
   "source": [
    "new_col_r = []\n",
    "\n",
    "for row in rock['stemmed']:\n",
    "    row = ' '.join(row)\n",
    "    new_col_r.append(row)\n",
    "    \n",
    "rock['combo'] = new_col_r"
   ]
  },
  {
   "cell_type": "code",
   "execution_count": 368,
   "metadata": {},
   "outputs": [
    {
     "data": {
      "text/html": [
       "<div>\n",
       "<style scoped>\n",
       "    .dataframe tbody tr th:only-of-type {\n",
       "        vertical-align: middle;\n",
       "    }\n",
       "\n",
       "    .dataframe tbody tr th {\n",
       "        vertical-align: top;\n",
       "    }\n",
       "\n",
       "    .dataframe thead th {\n",
       "        text-align: right;\n",
       "    }\n",
       "</style>\n",
       "<table border=\"1\" class=\"dataframe\">\n",
       "  <thead>\n",
       "    <tr style=\"text-align: right;\">\n",
       "      <th></th>\n",
       "      <th>label</th>\n",
       "      <th>merged</th>\n",
       "      <th>tokens</th>\n",
       "      <th>stemmed</th>\n",
       "      <th>combo</th>\n",
       "    </tr>\n",
       "  </thead>\n",
       "  <tbody>\n",
       "    <tr>\n",
       "      <th>0</th>\n",
       "      <td>rock</td>\n",
       "      <td>srv   hideaway  amp  rude mood (montreux  82)</td>\n",
       "      <td>[srv, hideaway, amp, rude, mood, montreux, 82]</td>\n",
       "      <td>[srv, hideaway, amp, rude, mood, montreux, 82]</td>\n",
       "      <td>srv hideaway amp rude mood montreux 82</td>\n",
       "    </tr>\n",
       "    <tr>\n",
       "      <th>1</th>\n",
       "      <td>rock</td>\n",
       "      <td>them crooked vultures   new fang</td>\n",
       "      <td>[them, crooked, vultures, new, fang]</td>\n",
       "      <td>[them, crook, vultur, new, fang]</td>\n",
       "      <td>them crook vultur new fang</td>\n",
       "    </tr>\n",
       "    <tr>\n",
       "      <th>2</th>\n",
       "      <td>rock</td>\n",
       "      <td>time spent driving    hey, you dropped somethi...</td>\n",
       "      <td>[time, spent, driving, hey, you, dropped, some...</td>\n",
       "      <td>[time, spent, drive, hey, you, drop, someth, 2...</td>\n",
       "      <td>time spent drive hey you drop someth 2015</td>\n",
       "    </tr>\n",
       "    <tr>\n",
       "      <th>3</th>\n",
       "      <td>rock</td>\n",
       "      <td>disturbed   the sound of silence (live on conan)</td>\n",
       "      <td>[disturbed, the, sound, of, silence, live, on,...</td>\n",
       "      <td>[disturb, the, sound, of, silenc, live, on, co...</td>\n",
       "      <td>disturb the sound of silenc live on conan</td>\n",
       "    </tr>\n",
       "    <tr>\n",
       "      <th>4</th>\n",
       "      <td>rock</td>\n",
       "      <td>starset   let it die (2016)</td>\n",
       "      <td>[starset, let, it, die, 2016]</td>\n",
       "      <td>[starset, let, it, die, 2016]</td>\n",
       "      <td>starset let it die 2016</td>\n",
       "    </tr>\n",
       "  </tbody>\n",
       "</table>\n",
       "</div>"
      ],
      "text/plain": [
       "  label                                             merged  \\\n",
       "0  rock     srv   hideaway  amp  rude mood (montreux  82)    \n",
       "1  rock                  them crooked vultures   new fang    \n",
       "2  rock  time spent driving    hey, you dropped somethi...   \n",
       "3  rock  disturbed   the sound of silence (live on conan)    \n",
       "4  rock                       starset   let it die (2016)    \n",
       "\n",
       "                                              tokens  \\\n",
       "0     [srv, hideaway, amp, rude, mood, montreux, 82]   \n",
       "1               [them, crooked, vultures, new, fang]   \n",
       "2  [time, spent, driving, hey, you, dropped, some...   \n",
       "3  [disturbed, the, sound, of, silence, live, on,...   \n",
       "4                      [starset, let, it, die, 2016]   \n",
       "\n",
       "                                             stemmed  \\\n",
       "0     [srv, hideaway, amp, rude, mood, montreux, 82]   \n",
       "1                   [them, crook, vultur, new, fang]   \n",
       "2  [time, spent, drive, hey, you, drop, someth, 2...   \n",
       "3  [disturb, the, sound, of, silenc, live, on, co...   \n",
       "4                      [starset, let, it, die, 2016]   \n",
       "\n",
       "                                       combo  \n",
       "0     srv hideaway amp rude mood montreux 82  \n",
       "1                 them crook vultur new fang  \n",
       "2  time spent drive hey you drop someth 2015  \n",
       "3  disturb the sound of silenc live on conan  \n",
       "4                    starset let it die 2016  "
      ]
     },
     "execution_count": 368,
     "metadata": {},
     "output_type": "execute_result"
    }
   ],
   "source": [
    "#checking\n",
    "rock.head()"
   ]
  },
  {
   "cell_type": "code",
   "execution_count": 384,
   "metadata": {},
   "outputs": [],
   "source": [
    "# after all that, coming back to drop stemmed and combo columns since I definitely won't use them.\n",
    "\n",
    "rock.drop(columns=['stemmed', 'combo'], inplace=True)\n",
    "country.drop(columns=['stemmed', 'combo'], inplace=True)"
   ]
  },
  {
   "cell_type": "code",
   "execution_count": 385,
   "metadata": {},
   "outputs": [
    {
     "data": {
      "text/html": [
       "<div>\n",
       "<style scoped>\n",
       "    .dataframe tbody tr th:only-of-type {\n",
       "        vertical-align: middle;\n",
       "    }\n",
       "\n",
       "    .dataframe tbody tr th {\n",
       "        vertical-align: top;\n",
       "    }\n",
       "\n",
       "    .dataframe thead th {\n",
       "        text-align: right;\n",
       "    }\n",
       "</style>\n",
       "<table border=\"1\" class=\"dataframe\">\n",
       "  <thead>\n",
       "    <tr style=\"text-align: right;\">\n",
       "      <th></th>\n",
       "      <th>label</th>\n",
       "      <th>merged</th>\n",
       "      <th>tokens</th>\n",
       "    </tr>\n",
       "  </thead>\n",
       "  <tbody>\n",
       "    <tr>\n",
       "      <th>0</th>\n",
       "      <td>country</td>\n",
       "      <td>country suggestions ve been starting to get in...</td>\n",
       "      <td>[country, suggestions, ve, been, starting, to,...</td>\n",
       "    </tr>\n",
       "    <tr>\n",
       "      <th>1</th>\n",
       "      <td>country</td>\n",
       "      <td>hank williams sr m so lonesome could cry (1949)</td>\n",
       "      <td>[hank, williams, sr, m, so, lonesome, could, c...</td>\n",
       "    </tr>\n",
       "    <tr>\n",
       "      <th>2</th>\n",
       "      <td>country</td>\n",
       "      <td>cody jinks   loud and heavy</td>\n",
       "      <td>[cody, jinks, loud, and, heavy]</td>\n",
       "    </tr>\n",
       "    <tr>\n",
       "      <th>3</th>\n",
       "      <td>country</td>\n",
       "      <td>southern raised performs \"what day that will b...</td>\n",
       "      <td>[southern, raised, performs, what, day, that, ...</td>\n",
       "    </tr>\n",
       "    <tr>\n",
       "      <th>4</th>\n",
       "      <td>country</td>\n",
       "      <td>is anybody still making texas swing? my father...</td>\n",
       "      <td>[is, anybody, still, making, texas, swing, my,...</td>\n",
       "    </tr>\n",
       "  </tbody>\n",
       "</table>\n",
       "</div>"
      ],
      "text/plain": [
       "     label                                             merged  \\\n",
       "0  country  country suggestions ve been starting to get in...   \n",
       "1  country   hank williams sr m so lonesome could cry (1949)    \n",
       "2  country                       cody jinks   loud and heavy    \n",
       "3  country  southern raised performs \"what day that will b...   \n",
       "4  country  is anybody still making texas swing? my father...   \n",
       "\n",
       "                                              tokens  \n",
       "0  [country, suggestions, ve, been, starting, to,...  \n",
       "1  [hank, williams, sr, m, so, lonesome, could, c...  \n",
       "2                    [cody, jinks, loud, and, heavy]  \n",
       "3  [southern, raised, performs, what, day, that, ...  \n",
       "4  [is, anybody, still, making, texas, swing, my,...  "
      ]
     },
     "execution_count": 385,
     "metadata": {},
     "output_type": "execute_result"
    }
   ],
   "source": [
    "country.head()"
   ]
  },
  {
   "cell_type": "code",
   "execution_count": 386,
   "metadata": {},
   "outputs": [
    {
     "data": {
      "text/html": [
       "<div>\n",
       "<style scoped>\n",
       "    .dataframe tbody tr th:only-of-type {\n",
       "        vertical-align: middle;\n",
       "    }\n",
       "\n",
       "    .dataframe tbody tr th {\n",
       "        vertical-align: top;\n",
       "    }\n",
       "\n",
       "    .dataframe thead th {\n",
       "        text-align: right;\n",
       "    }\n",
       "</style>\n",
       "<table border=\"1\" class=\"dataframe\">\n",
       "  <thead>\n",
       "    <tr style=\"text-align: right;\">\n",
       "      <th></th>\n",
       "      <th>label</th>\n",
       "      <th>merged</th>\n",
       "      <th>tokens</th>\n",
       "    </tr>\n",
       "  </thead>\n",
       "  <tbody>\n",
       "    <tr>\n",
       "      <th>0</th>\n",
       "      <td>rock</td>\n",
       "      <td>srv   hideaway  amp  rude mood (montreux  82)</td>\n",
       "      <td>[srv, hideaway, amp, rude, mood, montreux, 82]</td>\n",
       "    </tr>\n",
       "    <tr>\n",
       "      <th>1</th>\n",
       "      <td>rock</td>\n",
       "      <td>them crooked vultures   new fang</td>\n",
       "      <td>[them, crooked, vultures, new, fang]</td>\n",
       "    </tr>\n",
       "    <tr>\n",
       "      <th>2</th>\n",
       "      <td>rock</td>\n",
       "      <td>time spent driving    hey, you dropped somethi...</td>\n",
       "      <td>[time, spent, driving, hey, you, dropped, some...</td>\n",
       "    </tr>\n",
       "    <tr>\n",
       "      <th>3</th>\n",
       "      <td>rock</td>\n",
       "      <td>disturbed   the sound of silence (live on conan)</td>\n",
       "      <td>[disturbed, the, sound, of, silence, live, on,...</td>\n",
       "    </tr>\n",
       "    <tr>\n",
       "      <th>4</th>\n",
       "      <td>rock</td>\n",
       "      <td>starset   let it die (2016)</td>\n",
       "      <td>[starset, let, it, die, 2016]</td>\n",
       "    </tr>\n",
       "  </tbody>\n",
       "</table>\n",
       "</div>"
      ],
      "text/plain": [
       "  label                                             merged  \\\n",
       "0  rock     srv   hideaway  amp  rude mood (montreux  82)    \n",
       "1  rock                  them crooked vultures   new fang    \n",
       "2  rock  time spent driving    hey, you dropped somethi...   \n",
       "3  rock  disturbed   the sound of silence (live on conan)    \n",
       "4  rock                       starset   let it die (2016)    \n",
       "\n",
       "                                              tokens  \n",
       "0     [srv, hideaway, amp, rude, mood, montreux, 82]  \n",
       "1               [them, crooked, vultures, new, fang]  \n",
       "2  [time, spent, driving, hey, you, dropped, some...  \n",
       "3  [disturbed, the, sound, of, silence, live, on,...  \n",
       "4                      [starset, let, it, die, 2016]  "
      ]
     },
     "execution_count": 386,
     "metadata": {},
     "output_type": "execute_result"
    }
   ],
   "source": [
    "rock.head()"
   ]
  },
  {
   "cell_type": "markdown",
   "metadata": {},
   "source": [
    "Once clean-up is done, pickle cleaned dataframe using code like the line below.  \n",
    "\n",
    "`df.to_pickle('../datasets/clean_df.pkl')`"
   ]
  },
  {
   "cell_type": "code",
   "execution_count": 350,
   "metadata": {},
   "outputs": [
    {
     "data": {
      "text/plain": [
       "'/Users/emilynaftalin/Data_Science/General Assembly/dsi/projects/project_3/code'"
      ]
     },
     "execution_count": 350,
     "metadata": {},
     "output_type": "execute_result"
    }
   ],
   "source": [
    "pwd"
   ]
  },
  {
   "cell_type": "code",
   "execution_count": 369,
   "metadata": {},
   "outputs": [],
   "source": [
    "# saving clean dataframe \n",
    "\n",
    "# country.to_csv('../datasets/country_stem_combo.csv', index=False)\n",
    "# rock.to_csv('../datasets/rock_stem_combo.csv', index=False)"
   ]
  },
  {
   "cell_type": "code",
   "execution_count": 387,
   "metadata": {},
   "outputs": [],
   "source": [
    "country.to_pickle('../datasets/country_token_pickle.pkl')\n",
    "rock.to_pickle('../datasets/rock_token_pickle.pkl')"
   ]
  },
  {
   "cell_type": "markdown",
   "metadata": {},
   "source": [
    "_**Note: After running a model, visualizing my data, and further inspecting the use of words, I decided that I do not want to stem the words before modeling and visualizing. SO, I will keep my cleaned up dataframes as is, but I will use my origined `merged` column instead of my deconstituted/reconstituted `combo` column to run my final models.**_"
   ]
  }
 ],
 "metadata": {
  "kernelspec": {
   "display_name": "Python 3",
   "language": "python",
   "name": "python3"
  },
  "language_info": {
   "codemirror_mode": {
    "name": "ipython",
    "version": 3
   },
   "file_extension": ".py",
   "mimetype": "text/x-python",
   "name": "python",
   "nbconvert_exporter": "python",
   "pygments_lexer": "ipython3",
   "version": "3.8.5"
  }
 },
 "nbformat": 4,
 "nbformat_minor": 4
}
