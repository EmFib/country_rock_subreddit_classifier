{
 "cells": [
  {
   "cell_type": "markdown",
   "metadata": {},
   "source": [
    "+ look for shortest and longest posts \n",
    "+ count vectorize \n",
    "+ find most common words in both \n",
    "\n",
    "+ combine into one dataframe \n",
    "+ map to 0 1 \n",
    "+ value counts --> null model \n"
   ]
  },
  {
   "cell_type": "code",
   "execution_count": 92,
   "metadata": {},
   "outputs": [],
   "source": [
    "# imports\n",
    "import pandas as pd\n",
    "import numpy as np\n",
    "import matplotlib.pyplot as plt\n",
    "from sklearn.model_selection import train_test_split, GridSearchCV, cross_val_score\n",
    "from sklearn.pipeline import Pipeline\n",
    "from sklearn.naive_bayes import MultinomialNB\n",
    "from sklearn.linear_model import LogisticRegression\n",
    "from sklearn.metrics import confusion_matrix, plot_confusion_matrix\n",
    "from nltk import FreqDist, pos_tag\n",
    "from nltk.tokenize import word_tokenize\n",
    "from collections import Counter\n",
    "\n",
    "# Import CountVectorizer and TFIDFVectorizer from feature_extraction.text.\n",
    "from sklearn.feature_extraction.text import CountVectorizer, TfidfVectorizer\n"
   ]
  },
  {
   "cell_type": "markdown",
   "metadata": {},
   "source": [
    "## EDA "
   ]
  },
  {
   "cell_type": "code",
   "execution_count": 93,
   "metadata": {},
   "outputs": [],
   "source": [
    "# reading in clean dataframes \n",
    "\n",
    "def load_clean_data(filename):\n",
    "    full_file = '../datasets/' + filename + '.csv'\n",
    "    df = pd.read_csv(full_file)\n",
    "    return df"
   ]
  },
  {
   "cell_type": "code",
   "execution_count": 94,
   "metadata": {},
   "outputs": [],
   "source": [
    "vikings = load_clean_data('vikings_clean')"
   ]
  },
  {
   "cell_type": "code",
   "execution_count": 95,
   "metadata": {},
   "outputs": [
    {
     "data": {
      "text/html": [
       "<div>\n",
       "<style scoped>\n",
       "    .dataframe tbody tr th:only-of-type {\n",
       "        vertical-align: middle;\n",
       "    }\n",
       "\n",
       "    .dataframe tbody tr th {\n",
       "        vertical-align: top;\n",
       "    }\n",
       "\n",
       "    .dataframe thead th {\n",
       "        text-align: right;\n",
       "    }\n",
       "</style>\n",
       "<table border=\"1\" class=\"dataframe\">\n",
       "  <thead>\n",
       "    <tr style=\"text-align: right;\">\n",
       "      <th></th>\n",
       "      <th>label</th>\n",
       "      <th>merged</th>\n",
       "      <th>tokens</th>\n",
       "    </tr>\n",
       "  </thead>\n",
       "  <tbody>\n",
       "    <tr>\n",
       "      <th>0</th>\n",
       "      <td>vikings</td>\n",
       "      <td>want to hate rodgers,but   be just seems like ...</td>\n",
       "      <td>['want', 'to', 'hate', 'rodgers', 'but', 'be',...</td>\n",
       "    </tr>\n",
       "    <tr>\n",
       "      <th>1</th>\n",
       "      <td>vikings</td>\n",
       "      <td>alright im bored, what are some good games to ...</td>\n",
       "      <td>['alright', 'im', 'bored', 'what', 'are', 'som...</td>\n",
       "    </tr>\n",
       "    <tr>\n",
       "      <th>2</th>\n",
       "      <td>vikings</td>\n",
       "      <td>cb update  going in to week 17, gladney ranks ...</td>\n",
       "      <td>['cb', 'update', 'going', 'in', 'to', 'week', ...</td>\n",
       "    </tr>\n",
       "    <tr>\n",
       "      <th>3</th>\n",
       "      <td>vikings</td>\n",
       "      <td>cb update  going in to week 17, gladney ranks ...</td>\n",
       "      <td>['cb', 'update', 'going', 'in', 'to', 'week', ...</td>\n",
       "    </tr>\n",
       "    <tr>\n",
       "      <th>4</th>\n",
       "      <td>vikings</td>\n",
       "      <td>the over 30 club which players will be 30  in ...</td>\n",
       "      <td>['the', 'over', '30', 'club', 'which', 'player...</td>\n",
       "    </tr>\n",
       "  </tbody>\n",
       "</table>\n",
       "</div>"
      ],
      "text/plain": [
       "     label                                             merged  \\\n",
       "0  vikings  want to hate rodgers,but   be just seems like ...   \n",
       "1  vikings  alright im bored, what are some good games to ...   \n",
       "2  vikings  cb update  going in to week 17, gladney ranks ...   \n",
       "3  vikings  cb update  going in to week 17, gladney ranks ...   \n",
       "4  vikings  the over 30 club which players will be 30  in ...   \n",
       "\n",
       "                                              tokens  \n",
       "0  ['want', 'to', 'hate', 'rodgers', 'but', 'be',...  \n",
       "1  ['alright', 'im', 'bored', 'what', 'are', 'som...  \n",
       "2  ['cb', 'update', 'going', 'in', 'to', 'week', ...  \n",
       "3  ['cb', 'update', 'going', 'in', 'to', 'week', ...  \n",
       "4  ['the', 'over', '30', 'club', 'which', 'player...  "
      ]
     },
     "execution_count": 95,
     "metadata": {},
     "output_type": "execute_result"
    }
   ],
   "source": [
    "vikings.head()"
   ]
  },
  {
   "cell_type": "code",
   "execution_count": 96,
   "metadata": {},
   "outputs": [
    {
     "data": {
      "text/plain": [
       "(200, 3)"
      ]
     },
     "execution_count": 96,
     "metadata": {},
     "output_type": "execute_result"
    }
   ],
   "source": [
    "vikings.shape"
   ]
  },
  {
   "cell_type": "code",
   "execution_count": 97,
   "metadata": {},
   "outputs": [],
   "source": [
    "johnprine = load_clean_data('prine_clean')"
   ]
  },
  {
   "cell_type": "code",
   "execution_count": 98,
   "metadata": {},
   "outputs": [
    {
     "data": {
      "text/html": [
       "<div>\n",
       "<style scoped>\n",
       "    .dataframe tbody tr th:only-of-type {\n",
       "        vertical-align: middle;\n",
       "    }\n",
       "\n",
       "    .dataframe tbody tr th {\n",
       "        vertical-align: top;\n",
       "    }\n",
       "\n",
       "    .dataframe thead th {\n",
       "        text-align: right;\n",
       "    }\n",
       "</style>\n",
       "<table border=\"1\" class=\"dataframe\">\n",
       "  <thead>\n",
       "    <tr style=\"text-align: right;\">\n",
       "      <th></th>\n",
       "      <th>label</th>\n",
       "      <th>merged</th>\n",
       "      <th>tokens</th>\n",
       "    </tr>\n",
       "  </thead>\n",
       "  <tbody>\n",
       "    <tr>\n",
       "      <th>0</th>\n",
       "      <td>prine</td>\n",
       "      <td>bill murray on john prine</td>\n",
       "      <td>['bill', 'murray', 'on', 'john', 'prine']</td>\n",
       "    </tr>\n",
       "    <tr>\n",
       "      <th>1</th>\n",
       "      <td>prine</td>\n",
       "      <td>it's my cake day  listen to john prine for me ...</td>\n",
       "      <td>['it', 's', 'my', 'cake', 'day', 'listen', 'to...</td>\n",
       "    </tr>\n",
       "    <tr>\n",
       "      <th>2</th>\n",
       "      <td>prine</td>\n",
       "      <td>here's a pic of my son next to a pic of my unc...</td>\n",
       "      <td>['here', 's', 'a', 'pic', 'of', 'my', 'son', '...</td>\n",
       "    </tr>\n",
       "    <tr>\n",
       "      <th>3</th>\n",
       "      <td>prine</td>\n",
       "      <td>1110 s  1st ave maywood, il 60153</td>\n",
       "      <td>['1110', 's', '1st', 'ave', 'maywood', 'il', '...</td>\n",
       "    </tr>\n",
       "    <tr>\n",
       "      <th>4</th>\n",
       "      <td>prine</td>\n",
       "      <td>got this original pressing of bruised orange i...</td>\n",
       "      <td>['got', 'this', 'original', 'pressing', 'of', ...</td>\n",
       "    </tr>\n",
       "  </tbody>\n",
       "</table>\n",
       "</div>"
      ],
      "text/plain": [
       "   label                                             merged  \\\n",
       "0  prine                         bill murray on john prine    \n",
       "1  prine  it's my cake day  listen to john prine for me ...   \n",
       "2  prine  here's a pic of my son next to a pic of my unc...   \n",
       "3  prine                 1110 s  1st ave maywood, il 60153    \n",
       "4  prine  got this original pressing of bruised orange i...   \n",
       "\n",
       "                                              tokens  \n",
       "0          ['bill', 'murray', 'on', 'john', 'prine']  \n",
       "1  ['it', 's', 'my', 'cake', 'day', 'listen', 'to...  \n",
       "2  ['here', 's', 'a', 'pic', 'of', 'my', 'son', '...  \n",
       "3  ['1110', 's', '1st', 'ave', 'maywood', 'il', '...  \n",
       "4  ['got', 'this', 'original', 'pressing', 'of', ...  "
      ]
     },
     "execution_count": 98,
     "metadata": {},
     "output_type": "execute_result"
    }
   ],
   "source": [
    "johnprine.head()"
   ]
  },
  {
   "cell_type": "code",
   "execution_count": 99,
   "metadata": {},
   "outputs": [
    {
     "data": {
      "text/plain": [
       "(200, 3)"
      ]
     },
     "execution_count": 99,
     "metadata": {},
     "output_type": "execute_result"
    }
   ],
   "source": [
    "johnprine.shape"
   ]
  },
  {
   "cell_type": "markdown",
   "metadata": {},
   "source": [
    "#### Inspecting common words and posts lengths in separate dataframes"
   ]
  },
  {
   "cell_type": "code",
   "execution_count": 100,
   "metadata": {},
   "outputs": [],
   "source": [
    "def vectorize_and_plot(df, text_field):\n",
    "    cvec = CountVectorizer(stop_words='english')\n",
    "    col = df[text_field]\n",
    "    cvec.fit(col)\n",
    "    col = cvec.transform(col)\n",
    "    plot_df = pd.DataFrame(col.todense(),\n",
    "                          columns=cvec.get_feature_names())\n",
    "    plot_df.sum().sort_values(ascending=False).head(10).plot(kind='barh');"
   ]
  },
  {
   "cell_type": "code",
   "execution_count": 101,
   "metadata": {},
   "outputs": [
    {
     "data": {
      "image/png": "[encoded data removed]",
      "text/plain": [
       "<Figure size 432x288 with 1 Axes>"
      ]
     },
     "metadata": {
      "needs_background": "light"
     },
     "output_type": "display_data"
    }
   ],
   "source": [
    "vectorize_and_plot(vikings, 'merged')"
   ]
  },
  {
   "cell_type": "code",
   "execution_count": 102,
   "metadata": {},
   "outputs": [
    {
     "data": {
      "image/png": "[encoded data removed]",
      "text/plain": [
       "<Figure size 1008x288 with 2 Axes>"
      ]
     },
     "metadata": {
      "needs_background": "light"
     },
     "output_type": "display_data"
    }
   ],
   "source": [
    "plt.figure(figsize=(14, 4))\n",
    "plt.subplot(131)\n",
    "vectorize_and_plot(vikings, 'merged')\n",
    "plt.subplot(132)\n",
    "vectorize_and_plot(johnprine, 'merged')"
   ]
  },
  {
   "cell_type": "code",
   "execution_count": 135,
   "metadata": {},
   "outputs": [],
   "source": [
    "# code inspired by Emmanuel \n",
    "# line of code for extracting name from DataFrame to print it and use it as plot title is from this stack overflow page: \n",
    "# https://stackoverflow.com/questions/54137694/how-to-print-dataframe-name-in-title-of-a-plot\n",
    "\n",
    "def post_length_distribution(df):\n",
    "    \n",
    "    #getting size of vocabulary \n",
    "    all_words = [word for tokens in df['tokens'] for word in tokens]    # getting all the words in the posts\n",
    "    post_lengths = [len(tokens) for tokens in df['tokens']]    # getting length of the all the posts\n",
    "    vocab = sorted(list(set(all_words)))    # getting the list of unique words in the corpus composed of the subreddit posts\n",
    "    \n",
    "    df_name = [x for x in globals() if globals()[x] is df][0]\n",
    "    print(f'Post Lengths for {df_name.capitalize()} dataset:')\n",
    "    \n",
    "    print(f'{len(all_words)} words total, with a vocabulary size of {len(vocab)}')\n",
    "    print(f'Max post length is {max(post_lengths)} words')\n",
    "    print(f'Average post length is {np.mean(post_lengths).round(2)} words') \n",
    "    \n",
    "    # plotting distribution \n",
    "    fig = plt.figure(figsize=(6,6))\n",
    "    plt.xlabel('Post Length')\n",
    "    plt.ylabel('Number of Posts')\n",
    "    plt.title(df_name.capitalize())\n",
    "    plt.hist(post_lengths, bins=100, range=[0, 1500])\n",
    "    plt.show()\n",
    "    \n"
   ]
  },
  {
   "cell_type": "code",
   "execution_count": 136,
   "metadata": {},
   "outputs": [
    {
     "name": "stdout",
     "output_type": "stream",
     "text": [
      "Post Lengths for Vikings dataset:\n",
      "120242 words total, with a vocabulary size of 42\n",
      "Max post length is 25035 words\n",
      "Average post length is 601.21 words\n"
     ]
    },
    {
     "data": {
      "image/png": "[encoded data removed]",
      "text/plain": [
       "<Figure size 432x432 with 1 Axes>"
      ]
     },
     "metadata": {
      "needs_background": "light"
     },
     "output_type": "display_data"
    }
   ],
   "source": [
    "post_length_distribution(vikings)"
   ]
  },
  {
   "cell_type": "code",
   "execution_count": 137,
   "metadata": {},
   "outputs": [
    {
     "name": "stdout",
     "output_type": "stream",
     "text": [
      "46476 words total, with a vocabulary size of 42\n",
      "Max post length is 4762 words\n",
      "Average post length is 232.38 words\n"
     ]
    },
    {
     "data": {
      "image/png": "[encoded data removed]",
      "text/plain": [
       "<Figure size 720x720 with 1 Axes>"
      ]
     },
     "metadata": {
      "needs_background": "light"
     },
     "output_type": "display_data"
    }
   ],
   "source": [
    "post_length(johnprine)"
   ]
  },
  {
   "cell_type": "code",
   "execution_count": 47,
   "metadata": {},
   "outputs": [],
   "source": [
    "# def remove_large_small(df, text_field):\n",
    "#     post_lengths = [len(tokens) for tokens in df['tokens']] # getting length of the all the posts\n",
    "#     for val in df[text_field]:\n",
    "#         if val > "
   ]
  },
  {
   "cell_type": "markdown",
   "metadata": {},
   "source": [
    "#### Removing long and short posts "
   ]
  },
  {
   "cell_type": "markdown",
   "metadata": {},
   "source": [
    "Below function will remove the longest and shortest posts from a dataframe since having a disproportionate number of words come from the same person/post might add unnecessary redundancy that does not reflect the entire corpus. "
   ]
  },
  {
   "cell_type": "markdown",
   "metadata": {},
   "source": [
    "**Longest posts:** \n",
    "\n",
    "`df['tokens'].map(lambda x: len(x)).nlargest(10)` \n",
    "\n",
    "**Shortest posts:**\n",
    "\n",
    "`df['tokens'].map(lambda x: len(x)).nsmallest(20)`\n",
    "\n",
    "    or:\n",
    "   \n",
    "`df[df['tokens'].str.split().str.len() < 5`\n"
   ]
  },
  {
   "cell_type": "markdown",
   "metadata": {},
   "source": [
    "_Inspect results from longest and shortest posts functions above._ \n",
    "\n",
    "+ If one or more posts appears to be longer by multiple times or orders of magnitude, remove the row containing that post using the index numbers displayed.  \n",
    "\n",
    "```\n",
    "df.drop([idx], inplace=True)\n",
    "```\n",
    "\n",
    "\n",
    "+ Remove very short posts as follows: \n",
    "\n",
    "```\n",
    "df = df[df['tokens'].str.split().str.len() > 5]\n",
    "```\n",
    "\n",
    "\n",
    "+ Rerun `post_length_distribution` function following this process to see how distribution has changed.  "
   ]
  },
  {
   "cell_type": "code",
   "execution_count": 61,
   "metadata": {},
   "outputs": [
    {
     "data": {
      "text/plain": [
       "111    25526\n",
       "132    11789\n",
       "197     6307\n",
       "148     5724\n",
       "74      3250\n",
       "11      2868\n",
       "23      2712\n",
       "18      2418\n",
       "72      2173\n",
       "55      2045\n",
       "Name: tokens, dtype: int64"
      ]
     },
     "execution_count": 61,
     "metadata": {},
     "output_type": "execute_result"
    }
   ],
   "source": [
    "vikings['tokens'].map(lambda x: len(x)).nlargest(10)"
   ]
  },
  {
   "cell_type": "code",
   "execution_count": 62,
   "metadata": {},
   "outputs": [],
   "source": [
    "vikings.drop([111, 132], inplace=True)"
   ]
  },
  {
   "cell_type": "code",
   "execution_count": 64,
   "metadata": {},
   "outputs": [
    {
     "data": {
      "text/html": [
       "<div>\n",
       "<style scoped>\n",
       "    .dataframe tbody tr th:only-of-type {\n",
       "        vertical-align: middle;\n",
       "    }\n",
       "\n",
       "    .dataframe tbody tr th {\n",
       "        vertical-align: top;\n",
       "    }\n",
       "\n",
       "    .dataframe thead th {\n",
       "        text-align: right;\n",
       "    }\n",
       "</style>\n",
       "<table border=\"1\" class=\"dataframe\">\n",
       "  <thead>\n",
       "    <tr style=\"text-align: right;\">\n",
       "      <th></th>\n",
       "      <th>label</th>\n",
       "      <th>merged</th>\n",
       "      <th>tokens</th>\n",
       "    </tr>\n",
       "  </thead>\n",
       "  <tbody>\n",
       "    <tr>\n",
       "      <th>48</th>\n",
       "      <td>vikings</td>\n",
       "      <td>I’m conflicted</td>\n",
       "      <td>['I', 'm', 'conflicted']</td>\n",
       "    </tr>\n",
       "    <tr>\n",
       "      <th>58</th>\n",
       "      <td>vikings</td>\n",
       "      <td>Some awesome football helmets</td>\n",
       "      <td>['Some', 'awesome', 'football', 'helmets']</td>\n",
       "    </tr>\n",
       "    <tr>\n",
       "      <th>67</th>\n",
       "      <td>vikings</td>\n",
       "      <td>Maybe next year guys</td>\n",
       "      <td>['Maybe', 'next', 'year', 'guys']</td>\n",
       "    </tr>\n",
       "    <tr>\n",
       "      <th>79</th>\n",
       "      <td>vikings</td>\n",
       "      <td>Courtney Cronin on Twitter</td>\n",
       "      <td>['Courtney', 'Cronin', 'on', 'Twitter']</td>\n",
       "    </tr>\n",
       "    <tr>\n",
       "      <th>92</th>\n",
       "      <td>vikings</td>\n",
       "      <td>Plz</td>\n",
       "      <td>['Plz']</td>\n",
       "    </tr>\n",
       "    <tr>\n",
       "      <th>117</th>\n",
       "      <td>vikings</td>\n",
       "      <td>BRING BACK 96 QUESTIONS</td>\n",
       "      <td>['BRING', 'BACK', '96', 'QUESTIONS']</td>\n",
       "    </tr>\n",
       "    <tr>\n",
       "      <th>143</th>\n",
       "      <td>vikings</td>\n",
       "      <td>Viking Wall/Shelf</td>\n",
       "      <td>['Viking', 'Wall', 'Shelf']</td>\n",
       "    </tr>\n",
       "    <tr>\n",
       "      <th>147</th>\n",
       "      <td>vikings</td>\n",
       "      <td>Meanwhile in FTP land...</td>\n",
       "      <td>['Meanwhile', 'in', 'FTP', 'land']</td>\n",
       "    </tr>\n",
       "    <tr>\n",
       "      <th>165</th>\n",
       "      <td>vikings</td>\n",
       "      <td>Laquon Treadwell TD!! [removed]</td>\n",
       "      <td>['Laquon', 'Treadwell', 'TD', 'removed']</td>\n",
       "    </tr>\n",
       "    <tr>\n",
       "      <th>193</th>\n",
       "      <td>vikings</td>\n",
       "      <td>JJETS✈️ on Twitter</td>\n",
       "      <td>['JJETS', 'on', 'Twitter']</td>\n",
       "    </tr>\n",
       "  </tbody>\n",
       "</table>\n",
       "</div>"
      ],
      "text/plain": [
       "       label                           merged  \\\n",
       "48   vikings                  I’m conflicted    \n",
       "58   vikings   Some awesome football helmets    \n",
       "67   vikings            Maybe next year guys    \n",
       "79   vikings      Courtney Cronin on Twitter    \n",
       "92   vikings                             Plz    \n",
       "117  vikings         BRING BACK 96 QUESTIONS    \n",
       "143  vikings               Viking Wall/Shelf    \n",
       "147  vikings        Meanwhile in FTP land...    \n",
       "165  vikings  Laquon Treadwell TD!! [removed]   \n",
       "193  vikings              JJETS✈️ on Twitter    \n",
       "\n",
       "                                         tokens  \n",
       "48                     ['I', 'm', 'conflicted']  \n",
       "58   ['Some', 'awesome', 'football', 'helmets']  \n",
       "67            ['Maybe', 'next', 'year', 'guys']  \n",
       "79      ['Courtney', 'Cronin', 'on', 'Twitter']  \n",
       "92                                      ['Plz']  \n",
       "117        ['BRING', 'BACK', '96', 'QUESTIONS']  \n",
       "143                 ['Viking', 'Wall', 'Shelf']  \n",
       "147          ['Meanwhile', 'in', 'FTP', 'land']  \n",
       "165    ['Laquon', 'Treadwell', 'TD', 'removed']  \n",
       "193                  ['JJETS', 'on', 'Twitter']  "
      ]
     },
     "execution_count": 64,
     "metadata": {},
     "output_type": "execute_result"
    }
   ],
   "source": [
    "vikings[vikings['tokens'].str.split().str.len() < 5]"
   ]
  },
  {
   "cell_type": "code",
   "execution_count": 65,
   "metadata": {},
   "outputs": [],
   "source": [
    "vikings = vikings[vikings['tokens'].str.split().str.len() > 5]"
   ]
  },
  {
   "cell_type": "code",
   "execution_count": 66,
   "metadata": {},
   "outputs": [
    {
     "data": {
      "text/plain": [
       "(183, 3)"
      ]
     },
     "execution_count": 66,
     "metadata": {},
     "output_type": "execute_result"
    }
   ],
   "source": [
    "vikings.shape"
   ]
  },
  {
   "cell_type": "code",
   "execution_count": 67,
   "metadata": {},
   "outputs": [
    {
     "name": "stdout",
     "output_type": "stream",
     "text": [
      "84710 words total, with a vocabulary size of 73\n",
      "Max post length is 6307 words\n",
      "Average post length is 462.9 words\n"
     ]
    },
    {
     "data": {
      "image/png": "[encoded data removed]",
      "text/plain": [
       "<Figure size 720x720 with 1 Axes>"
      ]
     },
     "metadata": {
      "needs_background": "light"
     },
     "output_type": "display_data"
    }
   ],
   "source": [
    "post_length_distribution(vikings)"
   ]
  },
  {
   "cell_type": "code",
   "execution_count": 138,
   "metadata": {},
   "outputs": [
    {
     "data": {
      "text/plain": [
       "32     4762\n",
       "44     2530\n",
       "118    2312\n",
       "82     1632\n",
       "76     1430\n",
       "25     1327\n",
       "74     1126\n",
       "38     1015\n",
       "35      971\n",
       "120     885\n",
       "Name: tokens, dtype: int64"
      ]
     },
     "execution_count": 138,
     "metadata": {},
     "output_type": "execute_result"
    }
   ],
   "source": [
    "johnprine['tokens'].map(lambda x: len(x)).nlargest(10)"
   ]
  },
  {
   "cell_type": "markdown",
   "metadata": {},
   "source": [
    "## Model Prep "
   ]
  },
  {
   "cell_type": "markdown",
   "metadata": {},
   "source": [
    "#### Combining DataFrames "
   ]
  },
  {
   "cell_type": "markdown",
   "metadata": {},
   "source": [
    "don't forget null model! "
   ]
  },
  {
   "cell_type": "code",
   "execution_count": 74,
   "metadata": {},
   "outputs": [],
   "source": [
    "def model_df(subreddit_1, subreddit_2):\n",
    "    \n",
    "    model_df = pd.concat([subreddit_1, subreddit_2])\n",
    "    \n",
    "    # resetting index\n",
    "    model_df.reset_index(drop=True, inplace=True)\n",
    "    \n",
    "    model_df['label'] = model_df['label'].map({subreddit_1: 0, subreddit_2: 1})\n",
    "    \n",
    "    # save concatenated datadframe to csv file \n",
    "    filename = 'subreddit_1' + '_' + 'subredit_2' + '.csv'\n",
    "    model_df.to_csv('../datasets/' + filename, index=False)\n",
    "    \n",
    "    return model_df"
   ]
  },
  {
   "cell_type": "code",
   "execution_count": null,
   "metadata": {},
   "outputs": [],
   "source": []
  }
 ],
 "metadata": {
  "kernelspec": {
   "display_name": "Python 3",
   "language": "python",
   "name": "python3"
  },
  "language_info": {
   "codemirror_mode": {
    "name": "ipython",
    "version": 3
   },
   "file_extension": ".py",
   "mimetype": "text/x-python",
   "name": "python",
   "nbconvert_exporter": "python",
   "pygments_lexer": "ipython3",
   "version": "3.8.5"
  }
 },
 "nbformat": 4,
 "nbformat_minor": 4
}
