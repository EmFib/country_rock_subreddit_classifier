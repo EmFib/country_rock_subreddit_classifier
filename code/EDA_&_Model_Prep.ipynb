{
 "cells": [
  {
   "cell_type": "markdown",
   "metadata": {},
   "source": [
    "+ look for shortest and longest posts \n",
    "+ count vectorize \n",
    "+ find most common words in both \n",
    "\n",
    "+ combine into one dataframe \n",
    "+ map to 0 1 \n",
    "+ value counts --> null model \n"
   ]
  },
  {
   "cell_type": "code",
   "execution_count": 92,
   "metadata": {},
   "outputs": [],
   "source": [
    "# imports\n",
    "import pandas as pd\n",
    "import numpy as np\n",
    "import matplotlib.pyplot as plt\n",
    "from sklearn.model_selection import train_test_split, GridSearchCV, cross_val_score\n",
    "from sklearn.pipeline import Pipeline\n",
    "from sklearn.naive_bayes import MultinomialNB\n",
    "from sklearn.linear_model import LogisticRegression\n",
    "from sklearn.metrics import confusion_matrix, plot_confusion_matrix\n",
    "from nltk import FreqDist, pos_tag\n",
    "from nltk.tokenize import word_tokenize\n",
    "from collections import Counter\n",
    "\n",
    "# Import CountVectorizer and TFIDFVectorizer from feature_extraction.text.\n",
    "from sklearn.feature_extraction.text import CountVectorizer, TfidfVectorizer\n"
   ]
  },
  {
   "cell_type": "markdown",
   "metadata": {},
   "source": [
    "## EDA "
   ]
  },
  {
   "cell_type": "code",
   "execution_count": 93,
   "metadata": {},
   "outputs": [],
   "source": [
    "# reading in clean dataframes \n",
    "\n",
    "def load_clean_data(filename):\n",
    "    full_file = '../datasets/' + filename + '.csv'\n",
    "    df = pd.read_csv(full_file)\n",
    "    return df"
   ]
  },
  {
   "cell_type": "code",
   "execution_count": 94,
   "metadata": {},
   "outputs": [],
   "source": [
    "vikings = load_clean_data('vikings_clean')"
   ]
  },
  {
   "cell_type": "code",
   "execution_count": 95,
   "metadata": {},
   "outputs": [
    {
     "data": {
      "text/html": [
       "<div>\n",
       "<style scoped>\n",
       "    .dataframe tbody tr th:only-of-type {\n",
       "        vertical-align: middle;\n",
       "    }\n",
       "\n",
       "    .dataframe tbody tr th {\n",
       "        vertical-align: top;\n",
       "    }\n",
       "\n",
       "    .dataframe thead th {\n",
       "        text-align: right;\n",
       "    }\n",
       "</style>\n",
       "<table border=\"1\" class=\"dataframe\">\n",
       "  <thead>\n",
       "    <tr style=\"text-align: right;\">\n",
       "      <th></th>\n",
       "      <th>label</th>\n",
       "      <th>merged</th>\n",
       "      <th>tokens</th>\n",
       "    </tr>\n",
       "  </thead>\n",
       "  <tbody>\n",
       "    <tr>\n",
       "      <th>0</th>\n",
       "      <td>vikings</td>\n",
       "      <td>want to hate rodgers,but   be just seems like ...</td>\n",
       "      <td>['want', 'to', 'hate', 'rodgers', 'but', 'be',...</td>\n",
       "    </tr>\n",
       "    <tr>\n",
       "      <th>1</th>\n",
       "      <td>vikings</td>\n",
       "      <td>alright im bored, what are some good games to ...</td>\n",
       "      <td>['alright', 'im', 'bored', 'what', 'are', 'som...</td>\n",
       "    </tr>\n",
       "    <tr>\n",
       "      <th>2</th>\n",
       "      <td>vikings</td>\n",
       "      <td>cb update  going in to week 17, gladney ranks ...</td>\n",
       "      <td>['cb', 'update', 'going', 'in', 'to', 'week', ...</td>\n",
       "    </tr>\n",
       "    <tr>\n",
       "      <th>3</th>\n",
       "      <td>vikings</td>\n",
       "      <td>cb update  going in to week 17, gladney ranks ...</td>\n",
       "      <td>['cb', 'update', 'going', 'in', 'to', 'week', ...</td>\n",
       "    </tr>\n",
       "    <tr>\n",
       "      <th>4</th>\n",
       "      <td>vikings</td>\n",
       "      <td>the over 30 club which players will be 30  in ...</td>\n",
       "      <td>['the', 'over', '30', 'club', 'which', 'player...</td>\n",
       "    </tr>\n",
       "  </tbody>\n",
       "</table>\n",
       "</div>"
      ],
      "text/plain": [
       "     label                                             merged  \\\n",
       "0  vikings  want to hate rodgers,but   be just seems like ...   \n",
       "1  vikings  alright im bored, what are some good games to ...   \n",
       "2  vikings  cb update  going in to week 17, gladney ranks ...   \n",
       "3  vikings  cb update  going in to week 17, gladney ranks ...   \n",
       "4  vikings  the over 30 club which players will be 30  in ...   \n",
       "\n",
       "                                              tokens  \n",
       "0  ['want', 'to', 'hate', 'rodgers', 'but', 'be',...  \n",
       "1  ['alright', 'im', 'bored', 'what', 'are', 'som...  \n",
       "2  ['cb', 'update', 'going', 'in', 'to', 'week', ...  \n",
       "3  ['cb', 'update', 'going', 'in', 'to', 'week', ...  \n",
       "4  ['the', 'over', '30', 'club', 'which', 'player...  "
      ]
     },
     "execution_count": 95,
     "metadata": {},
     "output_type": "execute_result"
    }
   ],
   "source": [
    "vikings.head()"
   ]
  },
  {
   "cell_type": "code",
   "execution_count": 96,
   "metadata": {},
   "outputs": [
    {
     "data": {
      "text/plain": [
       "(200, 3)"
      ]
     },
     "execution_count": 96,
     "metadata": {},
     "output_type": "execute_result"
    }
   ],
   "source": [
    "vikings.shape"
   ]
  },
  {
   "cell_type": "code",
   "execution_count": 97,
   "metadata": {},
   "outputs": [],
   "source": [
    "johnprine = load_clean_data('prine_clean')"
   ]
  },
  {
   "cell_type": "code",
   "execution_count": 98,
   "metadata": {},
   "outputs": [
    {
     "data": {
      "text/html": [
       "<div>\n",
       "<style scoped>\n",
       "    .dataframe tbody tr th:only-of-type {\n",
       "        vertical-align: middle;\n",
       "    }\n",
       "\n",
       "    .dataframe tbody tr th {\n",
       "        vertical-align: top;\n",
       "    }\n",
       "\n",
       "    .dataframe thead th {\n",
       "        text-align: right;\n",
       "    }\n",
       "</style>\n",
       "<table border=\"1\" class=\"dataframe\">\n",
       "  <thead>\n",
       "    <tr style=\"text-align: right;\">\n",
       "      <th></th>\n",
       "      <th>label</th>\n",
       "      <th>merged</th>\n",
       "      <th>tokens</th>\n",
       "    </tr>\n",
       "  </thead>\n",
       "  <tbody>\n",
       "    <tr>\n",
       "      <th>0</th>\n",
       "      <td>prine</td>\n",
       "      <td>bill murray on john prine</td>\n",
       "      <td>['bill', 'murray', 'on', 'john', 'prine']</td>\n",
       "    </tr>\n",
       "    <tr>\n",
       "      <th>1</th>\n",
       "      <td>prine</td>\n",
       "      <td>it's my cake day  listen to john prine for me ...</td>\n",
       "      <td>['it', 's', 'my', 'cake', 'day', 'listen', 'to...</td>\n",
       "    </tr>\n",
       "    <tr>\n",
       "      <th>2</th>\n",
       "      <td>prine</td>\n",
       "      <td>here's a pic of my son next to a pic of my unc...</td>\n",
       "      <td>['here', 's', 'a', 'pic', 'of', 'my', 'son', '...</td>\n",
       "    </tr>\n",
       "    <tr>\n",
       "      <th>3</th>\n",
       "      <td>prine</td>\n",
       "      <td>1110 s  1st ave maywood, il 60153</td>\n",
       "      <td>['1110', 's', '1st', 'ave', 'maywood', 'il', '...</td>\n",
       "    </tr>\n",
       "    <tr>\n",
       "      <th>4</th>\n",
       "      <td>prine</td>\n",
       "      <td>got this original pressing of bruised orange i...</td>\n",
       "      <td>['got', 'this', 'original', 'pressing', 'of', ...</td>\n",
       "    </tr>\n",
       "  </tbody>\n",
       "</table>\n",
       "</div>"
      ],
      "text/plain": [
       "   label                                             merged  \\\n",
       "0  prine                         bill murray on john prine    \n",
       "1  prine  it's my cake day  listen to john prine for me ...   \n",
       "2  prine  here's a pic of my son next to a pic of my unc...   \n",
       "3  prine                 1110 s  1st ave maywood, il 60153    \n",
       "4  prine  got this original pressing of bruised orange i...   \n",
       "\n",
       "                                              tokens  \n",
       "0          ['bill', 'murray', 'on', 'john', 'prine']  \n",
       "1  ['it', 's', 'my', 'cake', 'day', 'listen', 'to...  \n",
       "2  ['here', 's', 'a', 'pic', 'of', 'my', 'son', '...  \n",
       "3  ['1110', 's', '1st', 'ave', 'maywood', 'il', '...  \n",
       "4  ['got', 'this', 'original', 'pressing', 'of', ...  "
      ]
     },
     "execution_count": 98,
     "metadata": {},
     "output_type": "execute_result"
    }
   ],
   "source": [
    "johnprine.head()"
   ]
  },
  {
   "cell_type": "code",
   "execution_count": 99,
   "metadata": {},
   "outputs": [
    {
     "data": {
      "text/plain": [
       "(200, 3)"
      ]
     },
     "execution_count": 99,
     "metadata": {},
     "output_type": "execute_result"
    }
   ],
   "source": [
    "johnprine.shape"
   ]
  },
  {
   "cell_type": "markdown",
   "metadata": {},
   "source": [
    "#### Inspecting common words and posts lengths in separate dataframes"
   ]
  },
  {
   "cell_type": "code",
   "execution_count": 100,
   "metadata": {},
   "outputs": [],
   "source": [
    "def vectorize_and_plot(df, text_field):\n",
    "    cvec = CountVectorizer(stop_words='english')\n",
    "    col = df[text_field]\n",
    "    cvec.fit(col)\n",
    "    col = cvec.transform(col)\n",
    "    plot_df = pd.DataFrame(col.todense(),\n",
    "                          columns=cvec.get_feature_names())\n",
    "    plot_df.sum().sort_values(ascending=False).head(10).plot(kind='barh');"
   ]
  },
  {
   "cell_type": "code",
   "execution_count": 101,
   "metadata": {},
   "outputs": [
    {
     "data": {
      "image/png": "[encoded data removed]",
      "text/plain": [
       "<Figure size 432x288 with 1 Axes>"
      ]
     },
     "metadata": {
      "needs_background": "light"
     },
     "output_type": "display_data"
    }
   ],
   "source": [
    "vectorize_and_plot(vikings, 'merged')"
   ]
  },
  {
   "cell_type": "code",
   "execution_count": 102,
   "metadata": {},
   "outputs": [
    {
     "data": {
      "image/png": "[encoded data removed]",
      "text/plain": [
       "<Figure size 1008x288 with 2 Axes>"
      ]
     },
     "metadata": {
      "needs_background": "light"
     },
     "output_type": "display_data"
    }
   ],
   "source": [
    "plt.figure(figsize=(14, 4))\n",
    "plt.subplot(131)\n",
    "vectorize_and_plot(vikings, 'merged')\n",
    "plt.subplot(132)\n",
    "vectorize_and_plot(johnprine, 'merged')"
   ]
  },
  {
   "cell_type": "code",
   "execution_count": 147,
   "metadata": {},
   "outputs": [],
   "source": [
    "# code inspired by Emmanuel \n",
    "# line of code for extracting name from DataFrame to print it and use it as plot title is from this stack overflow page: \n",
    "# https://stackoverflow.com/questions/54137694/how-to-print-dataframe-name-in-title-of-a-plot\n",
    "\n",
    "def post_length_distribution(df):\n",
    "    \n",
    "    #getting size of vocabulary \n",
    "    all_words = [word for tokens in df['tokens'] for word in tokens]    # getting all the words in the posts\n",
    "    post_lengths = [len(tokens) for tokens in df['tokens']]    # getting length of the all the posts\n",
    "    vocab = sorted(list(set(all_words)))    # getting the list of unique words in the corpus composed of the subreddit posts\n",
    "    \n",
    "    df_name = [x for x in globals() if globals()[x] is df][0]\n",
    "    print(f'Post Lengths for {df_name.capitalize()} dataset:')\n",
    "    \n",
    "    print(f'{len(all_words)} words total, with a vocabulary size of {len(vocab)}')\n",
    "    print(f'Max post length is {max(post_lengths)} words')\n",
    "    print(f'Average post length is {np.mean(post_lengths).round(2)} words') \n",
    "    \n",
    "    # plotting distribution \n",
    "    fig = plt.figure(figsize=(6,6))\n",
    "    plt.xlabel('Post Length')\n",
    "    plt.ylabel('Number of Posts')\n",
    "    plt.title(df_name.capitalize())\n",
    "    plt.hist(post_lengths, bins=100, range=[0, 1500])\n",
    "    plt.show()"
   ]
  },
  {
   "cell_type": "code",
   "execution_count": 148,
   "metadata": {},
   "outputs": [
    {
     "name": "stdout",
     "output_type": "stream",
     "text": [
      "Post Lengths for Vikings dataset:\n",
      "83147 words total, with a vocabulary size of 42\n",
      "Max post length is 6307 words\n",
      "Average post length is 454.36 words\n"
     ]
    },
    {
     "data": {
      "image/png": "[encoded data removed]",
      "text/plain": [
       "<Figure size 432x432 with 1 Axes>"
      ]
     },
     "metadata": {
      "needs_background": "light"
     },
     "output_type": "display_data"
    }
   ],
   "source": [
    "post_length_distribution(vikings)"
   ]
  },
  {
   "cell_type": "code",
   "execution_count": 150,
   "metadata": {},
   "outputs": [
    {
     "name": "stdout",
     "output_type": "stream",
     "text": [
      "Post Lengths for Johnprine dataset:\n",
      "46476 words total, with a vocabulary size of 42\n",
      "Max post length is 4762 words\n",
      "Average post length is 232.38 words\n"
     ]
    },
    {
     "data": {
      "image/png": "[encoded data removed]",
      "text/plain": [
       "<Figure size 432x432 with 1 Axes>"
      ]
     },
     "metadata": {
      "needs_background": "light"
     },
     "output_type": "display_data"
    }
   ],
   "source": [
    "post_length_distribution(johnprine)"
   ]
  },
  {
   "cell_type": "code",
   "execution_count": 47,
   "metadata": {},
   "outputs": [],
   "source": [
    "# def remove_large_small(df, text_field):\n",
    "#     post_lengths = [len(tokens) for tokens in df['tokens']] # getting length of the all the posts\n",
    "#     for val in df[text_field]:\n",
    "#         if val > "
   ]
  },
  {
   "cell_type": "markdown",
   "metadata": {},
   "source": [
    "#### Removing long and short posts "
   ]
  },
  {
   "cell_type": "markdown",
   "metadata": {},
   "source": [
    "Below function will remove the longest and shortest posts from a dataframe since having a disproportionate number of words come from the same person/post might add unnecessary redundancy that does not reflect the entire corpus. "
   ]
  },
  {
   "cell_type": "markdown",
   "metadata": {},
   "source": [
    "**Longest posts:** \n",
    "\n",
    "`df['tokens'].map(lambda x: len(x)).nlargest(10)` \n",
    "\n",
    "**Shortest posts:**\n",
    "\n",
    "`df['tokens'].map(lambda x: len(x)).nsmallest(20)`\n",
    "\n",
    "    or:\n",
    "   \n",
    "`df[df['tokens'].str.split().str.len() < 5`\n"
   ]
  },
  {
   "cell_type": "markdown",
   "metadata": {},
   "source": [
    "_Inspect results from longest and shortest posts functions above._ \n",
    "\n",
    "+ If one or more posts appears to be longer by multiple times or orders of magnitude, remove the row containing that post using the index numbers displayed.  \n",
    "\n",
    "```\n",
    "df.drop([idx], inplace=True)\n",
    "```\n",
    "\n",
    "\n",
    "+ Remove very short posts as follows: \n",
    "\n",
    "```\n",
    "df = df[df['tokens'].str.split().str.len() > 5]\n",
    "```\n",
    "\n",
    "\n",
    "+ Rerun `post_length_distribution` function following this process to see how distribution has changed.  "
   ]
  },
  {
   "cell_type": "code",
   "execution_count": 140,
   "metadata": {},
   "outputs": [
    {
     "data": {
      "text/plain": [
       "111    25035\n",
       "132    11529\n",
       "197     6307\n",
       "148     5724\n",
       "74      3250\n",
       "11      2868\n",
       "18      2418\n",
       "23      2246\n",
       "72      2173\n",
       "55      1994\n",
       "Name: tokens, dtype: int64"
      ]
     },
     "execution_count": 140,
     "metadata": {},
     "output_type": "execute_result"
    }
   ],
   "source": [
    "vikings['tokens'].map(lambda x: len(x)).nlargest(10)"
   ]
  },
  {
   "cell_type": "code",
   "execution_count": 141,
   "metadata": {},
   "outputs": [],
   "source": [
    "vikings.drop([111, 132], inplace=True)"
   ]
  },
  {
   "cell_type": "code",
   "execution_count": 142,
   "metadata": {},
   "outputs": [
    {
     "data": {
      "text/html": [
       "<div>\n",
       "<style scoped>\n",
       "    .dataframe tbody tr th:only-of-type {\n",
       "        vertical-align: middle;\n",
       "    }\n",
       "\n",
       "    .dataframe tbody tr th {\n",
       "        vertical-align: top;\n",
       "    }\n",
       "\n",
       "    .dataframe thead th {\n",
       "        text-align: right;\n",
       "    }\n",
       "</style>\n",
       "<table border=\"1\" class=\"dataframe\">\n",
       "  <thead>\n",
       "    <tr style=\"text-align: right;\">\n",
       "      <th></th>\n",
       "      <th>label</th>\n",
       "      <th>merged</th>\n",
       "      <th>tokens</th>\n",
       "    </tr>\n",
       "  </thead>\n",
       "  <tbody>\n",
       "    <tr>\n",
       "      <th>48</th>\n",
       "      <td>vikings</td>\n",
       "      <td>i m conflicted</td>\n",
       "      <td>['i', 'm', 'conflicted']</td>\n",
       "    </tr>\n",
       "    <tr>\n",
       "      <th>58</th>\n",
       "      <td>vikings</td>\n",
       "      <td>some awesome football helmets</td>\n",
       "      <td>['some', 'awesome', 'football', 'helmets']</td>\n",
       "    </tr>\n",
       "    <tr>\n",
       "      <th>67</th>\n",
       "      <td>vikings</td>\n",
       "      <td>maybe next year guys</td>\n",
       "      <td>['maybe', 'next', 'year', 'guys']</td>\n",
       "    </tr>\n",
       "    <tr>\n",
       "      <th>79</th>\n",
       "      <td>vikings</td>\n",
       "      <td>courtney cronin on twitter</td>\n",
       "      <td>['courtney', 'cronin', 'on', 'twitter']</td>\n",
       "    </tr>\n",
       "    <tr>\n",
       "      <th>92</th>\n",
       "      <td>vikings</td>\n",
       "      <td>plz</td>\n",
       "      <td>['plz']</td>\n",
       "    </tr>\n",
       "    <tr>\n",
       "      <th>117</th>\n",
       "      <td>vikings</td>\n",
       "      <td>bring back 96 questions</td>\n",
       "      <td>['bring', 'back', '96', 'questions']</td>\n",
       "    </tr>\n",
       "    <tr>\n",
       "      <th>143</th>\n",
       "      <td>vikings</td>\n",
       "      <td>viking wall shelf</td>\n",
       "      <td>['viking', 'wall', 'shelf']</td>\n",
       "    </tr>\n",
       "    <tr>\n",
       "      <th>147</th>\n",
       "      <td>vikings</td>\n",
       "      <td>meanwhile in ftp land</td>\n",
       "      <td>['meanwhile', 'in', 'ftp', 'land']</td>\n",
       "    </tr>\n",
       "    <tr>\n",
       "      <th>165</th>\n",
       "      <td>vikings</td>\n",
       "      <td>laquon treadwell td!!  removed</td>\n",
       "      <td>['laquon', 'treadwell', 'td', 'removed']</td>\n",
       "    </tr>\n",
       "    <tr>\n",
       "      <th>193</th>\n",
       "      <td>vikings</td>\n",
       "      <td>jjets   on twitter</td>\n",
       "      <td>['jjets', 'on', 'twitter']</td>\n",
       "    </tr>\n",
       "  </tbody>\n",
       "</table>\n",
       "</div>"
      ],
      "text/plain": [
       "       label                           merged  \\\n",
       "48   vikings                  i m conflicted    \n",
       "58   vikings   some awesome football helmets    \n",
       "67   vikings            maybe next year guys    \n",
       "79   vikings      courtney cronin on twitter    \n",
       "92   vikings                             plz    \n",
       "117  vikings         bring back 96 questions    \n",
       "143  vikings               viking wall shelf    \n",
       "147  vikings        meanwhile in ftp land       \n",
       "165  vikings  laquon treadwell td!!  removed    \n",
       "193  vikings              jjets   on twitter    \n",
       "\n",
       "                                         tokens  \n",
       "48                     ['i', 'm', 'conflicted']  \n",
       "58   ['some', 'awesome', 'football', 'helmets']  \n",
       "67            ['maybe', 'next', 'year', 'guys']  \n",
       "79      ['courtney', 'cronin', 'on', 'twitter']  \n",
       "92                                      ['plz']  \n",
       "117        ['bring', 'back', '96', 'questions']  \n",
       "143                 ['viking', 'wall', 'shelf']  \n",
       "147          ['meanwhile', 'in', 'ftp', 'land']  \n",
       "165    ['laquon', 'treadwell', 'td', 'removed']  \n",
       "193                  ['jjets', 'on', 'twitter']  "
      ]
     },
     "execution_count": 142,
     "metadata": {},
     "output_type": "execute_result"
    }
   ],
   "source": [
    "vikings[vikings['tokens'].str.split().str.len() < 5]"
   ]
  },
  {
   "cell_type": "code",
   "execution_count": 143,
   "metadata": {},
   "outputs": [],
   "source": [
    "vikings = vikings[vikings['tokens'].str.split().str.len() > 5]"
   ]
  },
  {
   "cell_type": "code",
   "execution_count": 144,
   "metadata": {},
   "outputs": [
    {
     "data": {
      "text/plain": [
       "(183, 3)"
      ]
     },
     "execution_count": 144,
     "metadata": {},
     "output_type": "execute_result"
    }
   ],
   "source": [
    "vikings.shape"
   ]
  },
  {
   "cell_type": "code",
   "execution_count": 145,
   "metadata": {},
   "outputs": [
    {
     "name": "stdout",
     "output_type": "stream",
     "text": [
      "Post Lengths for Vikings dataset:\n",
      "83147 words total, with a vocabulary size of 42\n",
      "Max post length is 6307 words\n",
      "Average post length is 454.36 words\n"
     ]
    },
    {
     "data": {
      "image/png": "[encoded data removed]",
      "text/plain": [
       "<Figure size 432x432 with 1 Axes>"
      ]
     },
     "metadata": {
      "needs_background": "light"
     },
     "output_type": "display_data"
    }
   ],
   "source": [
    "post_length_distribution(vikings)"
   ]
  },
  {
   "cell_type": "code",
   "execution_count": 138,
   "metadata": {},
   "outputs": [
    {
     "data": {
      "text/plain": [
       "32     4762\n",
       "44     2530\n",
       "118    2312\n",
       "82     1632\n",
       "76     1430\n",
       "25     1327\n",
       "74     1126\n",
       "38     1015\n",
       "35      971\n",
       "120     885\n",
       "Name: tokens, dtype: int64"
      ]
     },
     "execution_count": 138,
     "metadata": {},
     "output_type": "execute_result"
    }
   ],
   "source": [
    "johnprine['tokens'].map(lambda x: len(x)).nlargest(10)"
   ]
  },
  {
   "cell_type": "code",
   "execution_count": 139,
   "metadata": {},
   "outputs": [
    {
     "data": {
      "text/plain": [
       "232.38"
      ]
     },
     "execution_count": 139,
     "metadata": {},
     "output_type": "execute_result"
    }
   ],
   "source": [
    "johnprine['tokens'].map(lambda x: len(x)).mean()"
   ]
  },
  {
   "cell_type": "code",
   "execution_count": 152,
   "metadata": {},
   "outputs": [
    {
     "data": {
      "text/plain": [
       "\"revised poem post with a letter hello in there,\\n\\nas the year drags on, i can t help but think about the absence created by the loss of john prine  thinking about his life   what you could know of it from his music and as an appreciator of his art   i can t help but shed a tear thinking about his first few and very last song(s)  imaging the deep ocean of experiences that spanned between it with all its shifting tides brought on by years of living \\n\\nwordsmiths, i believe, are few and far between nowadays, not to say that there aren t any at all  but i have always found comfort from artists of the past   waylon  amp  willie, townes van zandt, tom t  hall, merle haggard, bruce springsteen, bobbie gentry, etc, etc     the likes of which have shaped the silent rebel i have come to be  unwavering and uncompromising in my journey to deeply appreciate and engage my life as one worth living \\n\\namong all my heroes dead and alive, those who have caught my ear in moments of depression and reprieve, john was one who spoke to me on an intrinsic and basic wavelength  his words still do, though now tinged with a film of sadness from his recent passing \\n\\nlooking back, and with a recent investment in a stoic s life philosophy, i realize now that john s music embodies all the good things one wants to practice in life   understanding your capital  n  nature  living with a sense of dignity and humor  understanding the value of virtue (the ancient greek definition)  and a salient commitment to stay steadfast despite life s unpredictability \\n\\nthe poetic irony of john s work reveal the great multiplicities of this world and the worlds we create within ourselves  he did not shy away from the unseemly, instead he included it alongside the good    rainbows and ridges  so to speak   to paint a beautiful, but happenstance landscape (bob ross approved) \\n\\ni am sad to know i will never get to see john perform live  even sadder still, to think about the cause of death and how it has revealed a vulnerability in so many confused or scared souls  in a sense, knowing john was out there quelled a lot of my frustrations with humanity, because just like his songs, he reminded me that life s complexities reflect on a surface like broken glass bursting with fragments of light  it s never as simple as it seems \\n\\ni wrote a poem right after his death that was promptly tucked away  with some room and a second look at it, i am quite happy i wrote it and wanted to share with his family and friends, fellow appreciators, just another token of appreciation for john and the gifts he gave us with his music \\n\\n  the singing mailman delivered   \\n\\njohn you just joined\\n\\nthat great band in the sky\\n\\nthere's been a lot of bad news\\n\\nbut this made me cry\\n\\nyou sang about loving\\n\\nyou sang about loss\\n\\nyou knew what you stood for\\n\\nand how much that cost\\n\\nyour words cut through leather\\n\\noh a fire they'd stoke\\n\\ndistilling humanity\\n\\nin a quick witted joke\\n\\nold cowboy crooners\\n\\nsongs that keep me company\\n\\nof all the musicians to lose\\n\\nin this damn quarantine\\n\\nstill stuck in this lockdown\\n\\nwith nowhere to be\\n\\nbut i'll keep playing your music\\n\\nand smile illegally \""
      ]
     },
     "execution_count": 152,
     "metadata": {},
     "output_type": "execute_result"
    }
   ],
   "source": [
    "johnprine['merged'].iloc[32]"
   ]
  },
  {
   "cell_type": "markdown",
   "metadata": {},
   "source": [
    "_Deciding for now not to drop any of the long posts from the John Prine dataframe because there is not 3 or fewer that are far longer than all the rest. Might drop them in the future if it seems relevant._"
   ]
  },
  {
   "cell_type": "code",
   "execution_count": 154,
   "metadata": {},
   "outputs": [
    {
     "data": {
      "text/html": [
       "<div>\n",
       "<style scoped>\n",
       "    .dataframe tbody tr th:only-of-type {\n",
       "        vertical-align: middle;\n",
       "    }\n",
       "\n",
       "    .dataframe tbody tr th {\n",
       "        vertical-align: top;\n",
       "    }\n",
       "\n",
       "    .dataframe thead th {\n",
       "        text-align: right;\n",
       "    }\n",
       "</style>\n",
       "<table border=\"1\" class=\"dataframe\">\n",
       "  <thead>\n",
       "    <tr style=\"text-align: right;\">\n",
       "      <th></th>\n",
       "      <th>label</th>\n",
       "      <th>merged</th>\n",
       "      <th>tokens</th>\n",
       "    </tr>\n",
       "  </thead>\n",
       "  <tbody>\n",
       "    <tr>\n",
       "      <th>10</th>\n",
       "      <td>prine</td>\n",
       "      <td>silver bells</td>\n",
       "      <td>['silver', 'bells']</td>\n",
       "    </tr>\n",
       "    <tr>\n",
       "      <th>21</th>\n",
       "      <td>prine</td>\n",
       "      <td>thanks john!</td>\n",
       "      <td>['thanks', 'john']</td>\n",
       "    </tr>\n",
       "    <tr>\n",
       "      <th>40</th>\n",
       "      <td>prine</td>\n",
       "      <td>the boogeyman</td>\n",
       "      <td>['the', 'boogeyman']</td>\n",
       "    </tr>\n",
       "    <tr>\n",
       "      <th>55</th>\n",
       "      <td>prine</td>\n",
       "      <td>john prine</td>\n",
       "      <td>['john', 'prine']</td>\n",
       "    </tr>\n",
       "    <tr>\n",
       "      <th>62</th>\n",
       "      <td>prine</td>\n",
       "      <td>finally delivered!</td>\n",
       "      <td>['finally', 'delivered']</td>\n",
       "    </tr>\n",
       "    <tr>\n",
       "      <th>110</th>\n",
       "      <td>prine</td>\n",
       "      <td>love</td>\n",
       "      <td>['love']</td>\n",
       "    </tr>\n",
       "  </tbody>\n",
       "</table>\n",
       "</div>"
      ],
      "text/plain": [
       "     label               merged                    tokens\n",
       "10   prine        silver bells        ['silver', 'bells']\n",
       "21   prine        thanks john!         ['thanks', 'john']\n",
       "40   prine      the boogeyman        ['the', 'boogeyman']\n",
       "55   prine          john prine          ['john', 'prine']\n",
       "62   prine  finally delivered!   ['finally', 'delivered']\n",
       "110  prine                love                   ['love']"
      ]
     },
     "execution_count": 154,
     "metadata": {},
     "output_type": "execute_result"
    }
   ],
   "source": [
    "# shortest john prine posts\n",
    "\n",
    "johnprine[johnprine['tokens'].str.split().str.len() < 3]"
   ]
  },
  {
   "cell_type": "code",
   "execution_count": 155,
   "metadata": {},
   "outputs": [],
   "source": [
    "johnprine = johnprine[johnprine['tokens'].str.split().str.len() > 2]"
   ]
  },
  {
   "cell_type": "markdown",
   "metadata": {},
   "source": [
    "## Model Prep "
   ]
  },
  {
   "cell_type": "markdown",
   "metadata": {},
   "source": [
    "#### Combining DataFrames "
   ]
  },
  {
   "cell_type": "markdown",
   "metadata": {},
   "source": [
    "don't forget null model! "
   ]
  },
  {
   "cell_type": "code",
   "execution_count": 157,
   "metadata": {},
   "outputs": [],
   "source": [
    "# def model_df(subreddit_1, subreddit_2):\n",
    "    \n",
    "#     model_df = pd.concat([subreddit_1, subreddit_2])\n",
    "    \n",
    "#     # resetting index\n",
    "#     model_df.reset_index(drop=True, inplace=True)\n",
    "    \n",
    "#     model_df['label'] = model_df['label'].map({subreddit_1: 0, subreddit_2: 1})\n",
    "    \n",
    "#     # save concatenated datadframe to csv file \n",
    "#     filename = 'subreddit_1' + '_' + 'subredit_2' + '.csv'\n",
    "#     model_df.to_csv('../datasets/' + filename, index=False)\n",
    "    \n",
    "#     return model_df \n",
    "\n",
    "## ^^^ This doesn't work beause dataframe can't be hashed ala the map function "
   ]
  },
  {
   "cell_type": "markdown",
   "metadata": {},
   "source": [
    "**Steps to build dataframe and prep for modeling:**\n",
    "\n",
    "_Naming convention for new combined dataframe will be `subreddit1_subreddit2`, but is referenced in these instructions as `df`._\n",
    "\n",
    "1. Combine separate datasets into on dataframe using this line of code: \n",
    "\n",
    "```python\n",
    "df = pd.concat([subreddit_1, subreddit_2])\n",
    "```\n",
    "\n",
    "2. Reset index: \n",
    "\n",
    "```python\n",
    "df.reset_index(drop=True, inplace=True)\n",
    "```\n",
    "\n",
    "3. Changes labels to binary numeric labels:\n",
    "\n",
    "```python\n",
    "df['label'] = df['label'].map({subreddit1: 0, subreddit2: 1})\n",
    "```\n",
    "\n",
    "3. Save concatenated datadframe to csv file:\n",
    "\n",
    "```python \n",
    "filename = 'subreddit_1' + '_' + 'subredit_2' + '.csv'\n",
    "df.to_csv('../datasets/' + filename, index=False)\n",
    "```"
   ]
  },
  {
   "cell_type": "code",
   "execution_count": 158,
   "metadata": {},
   "outputs": [],
   "source": [
    "# concantenating John Prine and Minnesota Vikings dataframes \n",
    "\n",
    "prine_vikings = pd.concat([johnprine, vikings])\n",
    "\n",
    "prine_vikings.reset_index(drop=True, inplace=True) \n",
    "\n",
    "prine_vikings['label']  = prine_vikings['label'].map({'prine': 0, 'vikings': 1})"
   ]
  },
  {
   "cell_type": "code",
   "execution_count": 159,
   "metadata": {},
   "outputs": [
    {
     "data": {
      "text/html": [
       "<div>\n",
       "<style scoped>\n",
       "    .dataframe tbody tr th:only-of-type {\n",
       "        vertical-align: middle;\n",
       "    }\n",
       "\n",
       "    .dataframe tbody tr th {\n",
       "        vertical-align: top;\n",
       "    }\n",
       "\n",
       "    .dataframe thead th {\n",
       "        text-align: right;\n",
       "    }\n",
       "</style>\n",
       "<table border=\"1\" class=\"dataframe\">\n",
       "  <thead>\n",
       "    <tr style=\"text-align: right;\">\n",
       "      <th></th>\n",
       "      <th>label</th>\n",
       "      <th>merged</th>\n",
       "      <th>tokens</th>\n",
       "    </tr>\n",
       "  </thead>\n",
       "  <tbody>\n",
       "    <tr>\n",
       "      <th>0</th>\n",
       "      <td>0</td>\n",
       "      <td>bill murray on john prine</td>\n",
       "      <td>['bill', 'murray', 'on', 'john', 'prine']</td>\n",
       "    </tr>\n",
       "    <tr>\n",
       "      <th>1</th>\n",
       "      <td>0</td>\n",
       "      <td>it's my cake day  listen to john prine for me ...</td>\n",
       "      <td>['it', 's', 'my', 'cake', 'day', 'listen', 'to...</td>\n",
       "    </tr>\n",
       "    <tr>\n",
       "      <th>2</th>\n",
       "      <td>0</td>\n",
       "      <td>here's a pic of my son next to a pic of my unc...</td>\n",
       "      <td>['here', 's', 'a', 'pic', 'of', 'my', 'son', '...</td>\n",
       "    </tr>\n",
       "    <tr>\n",
       "      <th>3</th>\n",
       "      <td>0</td>\n",
       "      <td>1110 s  1st ave maywood, il 60153</td>\n",
       "      <td>['1110', 's', '1st', 'ave', 'maywood', 'il', '...</td>\n",
       "    </tr>\n",
       "    <tr>\n",
       "      <th>4</th>\n",
       "      <td>0</td>\n",
       "      <td>got this original pressing of bruised orange i...</td>\n",
       "      <td>['got', 'this', 'original', 'pressing', 'of', ...</td>\n",
       "    </tr>\n",
       "  </tbody>\n",
       "</table>\n",
       "</div>"
      ],
      "text/plain": [
       "   label                                             merged  \\\n",
       "0      0                         bill murray on john prine    \n",
       "1      0  it's my cake day  listen to john prine for me ...   \n",
       "2      0  here's a pic of my son next to a pic of my unc...   \n",
       "3      0                 1110 s  1st ave maywood, il 60153    \n",
       "4      0  got this original pressing of bruised orange i...   \n",
       "\n",
       "                                              tokens  \n",
       "0          ['bill', 'murray', 'on', 'john', 'prine']  \n",
       "1  ['it', 's', 'my', 'cake', 'day', 'listen', 'to...  \n",
       "2  ['here', 's', 'a', 'pic', 'of', 'my', 'son', '...  \n",
       "3  ['1110', 's', '1st', 'ave', 'maywood', 'il', '...  \n",
       "4  ['got', 'this', 'original', 'pressing', 'of', ...  "
      ]
     },
     "execution_count": 159,
     "metadata": {},
     "output_type": "execute_result"
    }
   ],
   "source": [
    "prine_vikings.head()"
   ]
  },
  {
   "cell_type": "code",
   "execution_count": 160,
   "metadata": {},
   "outputs": [
    {
     "data": {
      "text/html": [
       "<div>\n",
       "<style scoped>\n",
       "    .dataframe tbody tr th:only-of-type {\n",
       "        vertical-align: middle;\n",
       "    }\n",
       "\n",
       "    .dataframe tbody tr th {\n",
       "        vertical-align: top;\n",
       "    }\n",
       "\n",
       "    .dataframe thead th {\n",
       "        text-align: right;\n",
       "    }\n",
       "</style>\n",
       "<table border=\"1\" class=\"dataframe\">\n",
       "  <thead>\n",
       "    <tr style=\"text-align: right;\">\n",
       "      <th></th>\n",
       "      <th>label</th>\n",
       "      <th>merged</th>\n",
       "      <th>tokens</th>\n",
       "    </tr>\n",
       "  </thead>\n",
       "  <tbody>\n",
       "    <tr>\n",
       "      <th>372</th>\n",
       "      <td>1</td>\n",
       "      <td>people blaming the defense without multiple st...</td>\n",
       "      <td>['people', 'blaming', 'the', 'defense', 'witho...</td>\n",
       "    </tr>\n",
       "    <tr>\n",
       "      <th>373</th>\n",
       "      <td>1</td>\n",
       "      <td>some of my thoughts    whenever watching a gam...</td>\n",
       "      <td>['some', 'of', 'my', 'thoughts', 'whenever', '...</td>\n",
       "    </tr>\n",
       "    <tr>\n",
       "      <th>374</th>\n",
       "      <td>1</td>\n",
       "      <td>don't commit suicide (personal gameday post  f...</td>\n",
       "      <td>['don', 't', 'commit', 'suicide', 'personal', ...</td>\n",
       "    </tr>\n",
       "    <tr>\n",
       "      <th>375</th>\n",
       "      <td>1</td>\n",
       "      <td>this man will be looking for head coaching pos...</td>\n",
       "      <td>['this', 'man', 'will', 'be', 'looking', 'for'...</td>\n",
       "    </tr>\n",
       "    <tr>\n",
       "      <th>376</th>\n",
       "      <td>1</td>\n",
       "      <td>can anyone id the player signature shown?</td>\n",
       "      <td>['can', 'anyone', 'id', 'the', 'player', 'sign...</td>\n",
       "    </tr>\n",
       "  </tbody>\n",
       "</table>\n",
       "</div>"
      ],
      "text/plain": [
       "     label                                             merged  \\\n",
       "372      1  people blaming the defense without multiple st...   \n",
       "373      1  some of my thoughts    whenever watching a gam...   \n",
       "374      1  don't commit suicide (personal gameday post  f...   \n",
       "375      1  this man will be looking for head coaching pos...   \n",
       "376      1         can anyone id the player signature shown?    \n",
       "\n",
       "                                                tokens  \n",
       "372  ['people', 'blaming', 'the', 'defense', 'witho...  \n",
       "373  ['some', 'of', 'my', 'thoughts', 'whenever', '...  \n",
       "374  ['don', 't', 'commit', 'suicide', 'personal', ...  \n",
       "375  ['this', 'man', 'will', 'be', 'looking', 'for'...  \n",
       "376  ['can', 'anyone', 'id', 'the', 'player', 'sign...  "
      ]
     },
     "execution_count": 160,
     "metadata": {},
     "output_type": "execute_result"
    }
   ],
   "source": [
    "prine_vikings.tail()"
   ]
  },
  {
   "cell_type": "code",
   "execution_count": 161,
   "metadata": {},
   "outputs": [],
   "source": [
    "prine_vikings.to_csv('../datasets/prine_vikings.csv', index=False)"
   ]
  },
  {
   "cell_type": "code",
   "execution_count": 162,
   "metadata": {},
   "outputs": [
    {
     "data": {
      "text/plain": [
       "(377, 3)"
      ]
     },
     "execution_count": 162,
     "metadata": {},
     "output_type": "execute_result"
    }
   ],
   "source": [
    "prine_vikings.shape"
   ]
  },
  {
   "cell_type": "code",
   "execution_count": null,
   "metadata": {},
   "outputs": [],
   "source": []
  }
 ],
 "metadata": {
  "kernelspec": {
   "display_name": "Python 3",
   "language": "python",
   "name": "python3"
  },
  "language_info": {
   "codemirror_mode": {
    "name": "ipython",
    "version": 3
   },
   "file_extension": ".py",
   "mimetype": "text/x-python",
   "name": "python",
   "nbconvert_exporter": "python",
   "pygments_lexer": "ipython3",
   "version": "3.8.5"
  }
 },
 "nbformat": 4,
 "nbformat_minor": 4
}
