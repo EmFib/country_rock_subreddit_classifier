{
 "cells": [
  {
   "cell_type": "code",
   "execution_count": 65,
   "metadata": {},
   "outputs": [],
   "source": [
    "import seaborn as sns\n",
    "import pandas as pd\n",
    "import numpy as np\n",
    "from sklearn.metrics import (accuracy_score, \n",
    "                            confusion_matrix, \n",
    "                            classification_report,\n",
    "                            plot_confusion_matrix)\n",
    "from sklearn.model_selection import train_test_split, cross_val_score, GridSearchCV \n",
    "from sklearn.feature_extraction.text import CountVectorizer, TfidfVectorizer\n",
    "from sklearn.feature_extraction import text \n",
    "from sklearn.linear_model import LogisticRegression\n",
    "from sklearn.neighbors import KNeighborsClassifier\n",
    "from sklearn.pipeline import Pipeline\n",
    "from sklearn.naive_bayes import MultinomialNB\n",
    "from sklearn.tree import DecisionTreeClassifier\n",
    "from sklearn.ensemble import RandomForestClassifier, ExtraTreesClassifier\n",
    "from sklearn.ensemble import BaggingClassifier\n",
    "from sklearn.svm import SVC\n",
    "import matplotlib.pyplot as plt \n",
    "import time "
   ]
  },
  {
   "cell_type": "code",
   "execution_count": 3,
   "metadata": {},
   "outputs": [
    {
     "data": {
      "text/plain": [
       "'/Users/emilynaftalin/Data_Science/General Assembly/dsi/projects/project_3/code'"
      ]
     },
     "execution_count": 3,
     "metadata": {},
     "output_type": "execute_result"
    }
   ],
   "source": [
    "pwd"
   ]
  },
  {
   "cell_type": "code",
   "execution_count": 17,
   "metadata": {},
   "outputs": [],
   "source": [
    "# country_rock = pd.read_csv('../datasets/country_rock.csv')\n",
    "# country_rock.head()"
   ]
  },
  {
   "cell_type": "code",
   "execution_count": 6,
   "metadata": {},
   "outputs": [
    {
     "data": {
      "text/html": [
       "<div>\n",
       "<style scoped>\n",
       "    .dataframe tbody tr th:only-of-type {\n",
       "        vertical-align: middle;\n",
       "    }\n",
       "\n",
       "    .dataframe tbody tr th {\n",
       "        vertical-align: top;\n",
       "    }\n",
       "\n",
       "    .dataframe thead th {\n",
       "        text-align: right;\n",
       "    }\n",
       "</style>\n",
       "<table border=\"1\" class=\"dataframe\">\n",
       "  <thead>\n",
       "    <tr style=\"text-align: right;\">\n",
       "      <th></th>\n",
       "      <th>label</th>\n",
       "      <th>merged</th>\n",
       "      <th>tokens</th>\n",
       "    </tr>\n",
       "  </thead>\n",
       "  <tbody>\n",
       "    <tr>\n",
       "      <th>0</th>\n",
       "      <td>0</td>\n",
       "      <td>country suggestions ve been starting to get in...</td>\n",
       "      <td>[country, suggestions, ve, been, starting, to,...</td>\n",
       "    </tr>\n",
       "    <tr>\n",
       "      <th>1</th>\n",
       "      <td>0</td>\n",
       "      <td>hank williams sr m so lonesome could cry (1949)</td>\n",
       "      <td>[hank, williams, sr, m, so, lonesome, could, c...</td>\n",
       "    </tr>\n",
       "    <tr>\n",
       "      <th>2</th>\n",
       "      <td>0</td>\n",
       "      <td>cody jinks   loud and heavy</td>\n",
       "      <td>[cody, jinks, loud, and, heavy]</td>\n",
       "    </tr>\n",
       "    <tr>\n",
       "      <th>3</th>\n",
       "      <td>0</td>\n",
       "      <td>southern raised performs \"what day that will b...</td>\n",
       "      <td>[southern, raised, performs, what, day, that, ...</td>\n",
       "    </tr>\n",
       "    <tr>\n",
       "      <th>4</th>\n",
       "      <td>0</td>\n",
       "      <td>is anybody still making texas swing? my father...</td>\n",
       "      <td>[is, anybody, still, making, texas, swing, my,...</td>\n",
       "    </tr>\n",
       "  </tbody>\n",
       "</table>\n",
       "</div>"
      ],
      "text/plain": [
       "   label                                             merged  \\\n",
       "0      0  country suggestions ve been starting to get in...   \n",
       "1      0   hank williams sr m so lonesome could cry (1949)    \n",
       "2      0                       cody jinks   loud and heavy    \n",
       "3      0  southern raised performs \"what day that will b...   \n",
       "4      0  is anybody still making texas swing? my father...   \n",
       "\n",
       "                                              tokens  \n",
       "0  [country, suggestions, ve, been, starting, to,...  \n",
       "1  [hank, williams, sr, m, so, lonesome, could, c...  \n",
       "2                    [cody, jinks, loud, and, heavy]  \n",
       "3  [southern, raised, performs, what, day, that, ...  \n",
       "4  [is, anybody, still, making, texas, swing, my,...  "
      ]
     },
     "execution_count": 6,
     "metadata": {},
     "output_type": "execute_result"
    }
   ],
   "source": [
    "country_rock = pd.read_pickle('../datasets/country_rock.pkl')\n",
    "country_rock.head()"
   ]
  },
  {
   "cell_type": "code",
   "execution_count": 18,
   "metadata": {},
   "outputs": [
    {
     "name": "stdout",
     "output_type": "stream",
     "text": [
      "Value counts: \n",
      "1    0.5\n",
      "0    0.5\n",
      "Name: label, dtype: float64\n"
     ]
    }
   ],
   "source": [
    "# identifying X and y \n",
    "X = country_rock['merged']\n",
    "y = country_rock['label']\n",
    "    \n",
    "# splitting into train and test sets\n",
    "X_train, X_test, y_train, y_test = train_test_split(X, \n",
    "                                               y, \n",
    "                                               test_size=0.25,\n",
    "                                               shuffle=True,\n",
    "                                               stratify=y,\n",
    "                                               random_state=42)\n",
    "\n",
    "# checking class balance \n",
    "print(f'Value counts: \\n{y.value_counts(normalize=True)}')"
   ]
  },
  {
   "cell_type": "markdown",
   "metadata": {},
   "source": [
    "_Note: While I thought that I had included stop_word removal in my pre-processing, I realized only after doing the above grid searches that I failed to do. I will now start adding stop_word removal to my model benchmarking and will use it in my final models. Excluding my custom `stop_words` (from the list in the cell below) will reduce the accuracy of my model because it prevents a model from using \"country\" and \"rock\" which are of course two of most helpful words in determing the class of the subreddit._\n",
    "\n",
    "_Citation: Thank you Heather Johansen for helping figure out how to include my own custom list of words alongside the English stop words._"
   ]
  },
  {
   "cell_type": "code",
   "execution_count": 19,
   "metadata": {},
   "outputs": [],
   "source": [
    "country_rock_stop_words = ['country', 'countries', 'rock', 'roll', 'just','song', 'songs', 'music', \n",
    "                           'album', 'band', 'bands', 'artist', 'artists', 've', 'don']\n",
    "all_stop_words = text.ENGLISH_STOP_WORDS.union(country_rock_stop_words)"
   ]
  },
  {
   "cell_type": "markdown",
   "metadata": {},
   "source": [
    "# Grid Searches for Model Benchmarking "
   ]
  },
  {
   "cell_type": "markdown",
   "metadata": {},
   "source": [
    "### _Explanation of System_"
   ]
  },
  {
   "cell_type": "markdown",
   "metadata": {},
   "source": [
    "#### For all of my grid search models, the following workflow is used to find and evaluate the best model for the chosen vectorizer and estimator pairing.\n",
    "\n",
    "#### The process is wrapped in the functions below. \n",
    "\n",
    "+ Building pipelines according to the following syntax: \n",
    "\n",
    "```python\n",
    "pipe = Pipeline([\n",
    "        (vec_nickname, vectorizer),\n",
    "        (est_nickname, estimator)\n",
    "    ])\n",
    "```\n",
    "\n",
    "+ Building Gridsearch parameter dictionaries according the following syntax: \n",
    "\n",
    "```python \n",
    "param_dict  = {\n",
    "    'vec_nickname__hyperparameter':[hyperparameter options],\n",
    "    'est_nickname__hyperparameter':[hyperparameter options]\n",
    "}\n",
    "```\n",
    "\n",
    "+ Building Gridsearch using the following syntax:\n",
    "\n",
    "```python\n",
    "grid = GridSearchCV(pipe, \n",
    "                   param_dict,\n",
    "                   cv = 5,\n",
    "                   verbose = 2,\n",
    "                   n_jobs=8)\n",
    "\n",
    "grid.fit(X_train, y_train)\n",
    "```\n",
    "\n",
    "+ Building a confusion matrix (where relevant) as follows: \n",
    "\n",
    "```python\n",
    "y_preds = grid.predict(X_test)\n",
    "\n",
    "tn, fp, fn, tp = confusion_matrix(y_test, y_preds).ravel()\n",
    "\n",
    "plot_confusion_matrix(grid, X_test, y_test, cmap=\"Blues\")  \n",
    "```"
   ]
  },
  {
   "cell_type": "code",
   "execution_count": 9,
   "metadata": {},
   "outputs": [],
   "source": [
    "def build_pipe(vec_nickname, vectorizer, est_nickname, estimator):\n",
    "    pipe = Pipeline([\n",
    "        (vec_nickname, vectorizer),\n",
    "        (est_nickname, estimator)\n",
    "    ])\n",
    "    return pipe"
   ]
  },
  {
   "cell_type": "code",
   "execution_count": 10,
   "metadata": {},
   "outputs": [],
   "source": [
    "def grid_search(X_train, y_train, X_test, y_test, est_name, pipe, param_dict):\n",
    "    \n",
    "    grid = GridSearchCV(pipe, \n",
    "                       param_dict,\n",
    "                       cv = 5,\n",
    "                       verbose = 2,\n",
    "                       n_jobs=8)\n",
    "    \n",
    "    grid.fit(X_train, y_train)\n",
    "    \n",
    "    print(f'Score for gridsearched {est_name} Pipeline: {grid.best_score_}\\n')\n",
    "    print(f'Best parameters from {est_name} pipeline gridsearch:  {grid.best_params_}\\n')\n",
    "    \n",
    "    y_preds = grid.predict(X_test)\n",
    "    \n",
    "    #confusion matrix\n",
    "    \n",
    "    tn, fp, fn, tp = confusion_matrix(y_test, y_preds).ravel()\n",
    "    plot_confusion_matrix(grid, X_test, y_test, cmap=\"Blues\")      "
   ]
  },
  {
   "cell_type": "code",
   "execution_count": 11,
   "metadata": {},
   "outputs": [],
   "source": [
    "def model_metrics(model, est_name):\n",
    "    print(f'Score for gridsearched {est_name} Pipeline: {model.best_score_}\\n')\n",
    "    print(f'Best parameters from {est_name} pipeline gridsearch:  {model.best_params_}\\n')\n",
    "    \n",
    "    y_preds = model.predict(X_test)\n",
    "    \n",
    "    #confusion matrix\n",
    "    \n",
    "    tn, fp, fn, tp = confusion_matrix(y_test, y_preds).ravel()\n",
    "    plot_confusion_matrix(model, X_test, y_test, cmap=\"Blues\")  "
   ]
  },
  {
   "cell_type": "markdown",
   "metadata": {},
   "source": [
    "## `Logistic Regression`"
   ]
  },
  {
   "cell_type": "markdown",
   "metadata": {},
   "source": [
    "#### `Countvectorizer + Logistic Regression`"
   ]
  },
  {
   "cell_type": "markdown",
   "metadata": {},
   "source": [
    "_Below, I am making sure that my function is working by running through the steps outside the function with a Logistic Regression._"
   ]
  },
  {
   "cell_type": "code",
   "execution_count": 57,
   "metadata": {},
   "outputs": [
    {
     "name": "stdout",
     "output_type": "stream",
     "text": [
      "Fitting 5 folds for each of 108 candidates, totalling 540 fits\n"
     ]
    },
    {
     "name": "stderr",
     "output_type": "stream",
     "text": [
      "/Users/emilynaftalin/opt/anaconda3/lib/python3.8/site-packages/sklearn/model_selection/_search.py:918: UserWarning: One or more of the test scores are non-finite: [       nan        nan        nan        nan        nan        nan\n",
      "        nan        nan        nan        nan        nan        nan\n",
      "        nan        nan        nan        nan        nan        nan\n",
      " 0.61777778 0.77533333 0.766      0.794      0.77644444 0.78488889\n",
      " 0.61777778 0.77733333 0.766      0.79155556 0.76355556 0.77977778\n",
      " 0.61777778 0.77444444 0.76511111 0.78933333 0.76355556 0.77688889\n",
      "        nan        nan        nan        nan        nan        nan\n",
      "        nan        nan        nan        nan        nan        nan\n",
      "        nan        nan        nan        nan        nan        nan\n",
      " 0.61777778 0.78266667 0.76733333 0.80355556 0.78288889 0.79444444\n",
      " 0.61777778 0.78155556 0.76777778 0.79688889 0.76733333 0.78644444\n",
      " 0.61777778 0.78088889 0.76777778 0.79688889 0.76533333 0.782\n",
      "        nan        nan        nan        nan        nan        nan\n",
      "        nan        nan        nan        nan        nan        nan\n",
      "        nan        nan        nan        nan        nan        nan\n",
      " 0.61777778 0.78333333 0.76688889 0.804      0.78133333 0.79555556\n",
      " 0.61777778 0.786      0.76777778 0.80066667 0.77488889 0.78911111\n",
      " 0.61777778 0.78555556 0.76844444 0.79977778 0.77066667 0.78844444]\n",
      "  warnings.warn(\n"
     ]
    },
    {
     "data": {
      "text/plain": [
       "GridSearchCV(cv=5,\n",
       "             estimator=Pipeline(steps=[('cvec',\n",
       "                                        CountVectorizer(stop_words=frozenset({'a',\n",
       "                                                                              'about',\n",
       "                                                                              'above',\n",
       "                                                                              'across',\n",
       "                                                                              'after',\n",
       "                                                                              'afterwards',\n",
       "                                                                              'again',\n",
       "                                                                              'against',\n",
       "                                                                              'album',\n",
       "                                                                              'all',\n",
       "                                                                              'almost',\n",
       "                                                                              'alone',\n",
       "                                                                              'along',\n",
       "                                                                              'already',\n",
       "                                                                              'also',\n",
       "                                                                              'although',\n",
       "                                                                              'always',\n",
       "                                                                              'am',\n",
       "                                                                              'among',\n",
       "                                                                              'amongst',\n",
       "                                                                              'amoungst',\n",
       "                                                                              'amount',\n",
       "                                                                              'an',\n",
       "                                                                              'and',\n",
       "                                                                              'another',\n",
       "                                                                              'any',\n",
       "                                                                              'anyhow',\n",
       "                                                                              'anyone',\n",
       "                                                                              'anything',\n",
       "                                                                              'anyway', ...}))),\n",
       "                                       ('logreg', LogisticRegression())]),\n",
       "             n_jobs=8,\n",
       "             param_grid={'cvec__max_features': [3000, 4000, 5000],\n",
       "                         'cvec__min_df': [0.75, 1],\n",
       "                         'cvec__ngram_range': [(1, 1), (1, 2), (1, 3)],\n",
       "                         'logreg__C': [0.1, 1, 10],\n",
       "                         'logreg__penalty': ['l1', 'l2'],\n",
       "                         'logreg__solver': ['liblinear']},\n",
       "             verbose=2)"
      ]
     },
     "execution_count": 57,
     "metadata": {},
     "output_type": "execute_result"
    }
   ],
   "source": [
    "logreg_cvec_pipe = Pipeline([\n",
    "        ('cvec', CountVectorizer(stop_words=all_stop_words)),\n",
    "        ('logreg', LogisticRegression())\n",
    "    ])\n",
    "\n",
    "logreg_cvec_pipe_params = {\n",
    "    'cvec__max_features':[3000, 4000, 5000],\n",
    "    'cvec__ngram_range': [(1,1),(1,2),(1,3)],\n",
    "    'cvec__min_df': [0.75, 1],\n",
    "    'logreg__C': [0.1, 1, 10],\n",
    "    'logreg__penalty' : ['l1', 'l2'],\n",
    "    'logreg__solver': ['liblinear']\n",
    "}\n",
    "\n",
    "logreg_cvec_grid = GridSearchCV(logreg_cvec_pipe, \n",
    "                   logreg_cvec_pipe_params,\n",
    "                   cv = 5,\n",
    "                   verbose = 2,\n",
    "                   n_jobs=8)\n",
    "\n",
    "logreg_cvec_grid.fit(X_train, y_train)"
   ]
  },
  {
   "cell_type": "code",
   "execution_count": 43,
   "metadata": {},
   "outputs": [
    {
     "data": {
      "text/plain": [
       "0.9542222222222222"
      ]
     },
     "execution_count": 43,
     "metadata": {},
     "output_type": "execute_result"
    }
   ],
   "source": [
    "logreg_cvec_grid.score(X_train, y_train)"
   ]
  },
  {
   "cell_type": "code",
   "execution_count": 44,
   "metadata": {},
   "outputs": [
    {
     "data": {
      "text/plain": [
       "0.816"
      ]
     },
     "execution_count": 44,
     "metadata": {},
     "output_type": "execute_result"
    }
   ],
   "source": [
    "logreg_cvec_grid.score(X_test, y_test)"
   ]
  },
  {
   "cell_type": "code",
   "execution_count": 21,
   "metadata": {},
   "outputs": [
    {
     "data": {
      "text/plain": [
       "{'cvec__max_features': 5000,\n",
       " 'cvec__min_df': 1,\n",
       " 'cvec__ngram_range': (1, 1),\n",
       " 'logreg__C': 1,\n",
       " 'logreg__penalty': 'l2',\n",
       " 'logreg__solver': 'liblinear'}"
      ]
     },
     "execution_count": 21,
     "metadata": {},
     "output_type": "execute_result"
    }
   ],
   "source": [
    "logreg_cvec_grid.best_params_"
   ]
  },
  {
   "cell_type": "code",
   "execution_count": 22,
   "metadata": {},
   "outputs": [
    {
     "name": "stdout",
     "output_type": "stream",
     "text": [
      "Score for gridsearched Logistic Regression Pipeline: 0.8039999999999999\n",
      "\n",
      "Best parameters from Logistic Regression pipeline gridsearch:  {'cvec__max_features': 5000, 'cvec__min_df': 1, 'cvec__ngram_range': (1, 1), 'logreg__C': 1, 'logreg__penalty': 'l2', 'logreg__solver': 'liblinear'}\n",
      "\n"
     ]
    },
    {
     "data": {
      "image/png": "[encoded data removed]",
      "text/plain": [
       "<Figure size 432x288 with 2 Axes>"
      ]
     },
     "metadata": {
      "needs_background": "light"
     },
     "output_type": "display_data"
    }
   ],
   "source": [
    "model_metrics(logreg_cvec_grid, 'Logistic Regression')"
   ]
  },
  {
   "cell_type": "markdown",
   "metadata": {},
   "source": [
    "_Looks like the function is working, but since the function outputs a confusing nonetype object, I will not use and will instead do grid searches manually, outside a functio. I will keep the functions in the notebook in case I need to use any of them. I will be using the `model_metrics` function to get the best parameters, best score, and confusion matrix for each model._ "
   ]
  },
  {
   "cell_type": "markdown",
   "metadata": {},
   "source": [
    "#### `Tfidf + Logistic Regression`"
   ]
  },
  {
   "cell_type": "code",
   "execution_count": 39,
   "metadata": {},
   "outputs": [
    {
     "name": "stdout",
     "output_type": "stream",
     "text": [
      "Fitting 5 folds for each of 324 candidates, totalling 1620 fits\n"
     ]
    },
    {
     "name": "stderr",
     "output_type": "stream",
     "text": [
      "/Users/emilynaftalin/opt/anaconda3/lib/python3.8/site-packages/sklearn/model_selection/_search.py:918: UserWarning: One or more of the test scores are non-finite: [       nan        nan        nan 0.51333333 0.51333333 0.51333333\n",
      "        nan        nan        nan 0.51333333 0.51333333 0.51333333\n",
      "        nan        nan        nan 0.50466667 0.50911111 0.50911111\n",
      "        nan        nan        nan        nan        nan        nan\n",
      "        nan        nan        nan        nan        nan        nan\n",
      "        nan        nan        nan        nan        nan        nan\n",
      "        nan        nan        nan        nan        nan        nan\n",
      "        nan        nan        nan        nan        nan        nan\n",
      "        nan        nan        nan        nan        nan        nan\n",
      "        nan        nan        nan 0.77844444 0.77755556 0.77644444\n",
      "        nan        nan        nan 0.78644444 0.78088889 0.78177778\n",
      "        nan        nan        nan 0.78711111 0.78444444 0.78555556\n",
      "        nan        nan        nan 0.77822222 0.77755556 0.77666667\n",
      "        nan        nan        nan 0.786      0.78066667 0.78133333\n",
      "        nan        nan        nan 0.78711111 0.78422222 0.78555556\n",
      "        nan        nan        nan 0.77822222 0.77755556 0.77666667\n",
      "        nan        nan        nan 0.786      0.78066667 0.78133333\n",
      "        nan        nan        nan 0.78711111 0.78422222 0.78555556\n",
      "        nan        nan        nan 0.73711111 0.742      0.74222222\n",
      "        nan        nan        nan 0.736      0.74222222 0.74044444\n",
      "        nan        nan        nan 0.73622222 0.73888889 0.736\n",
      "        nan        nan        nan        nan        nan        nan\n",
      "        nan        nan        nan        nan        nan        nan\n",
      "        nan        nan        nan        nan        nan        nan\n",
      "        nan        nan        nan        nan        nan        nan\n",
      "        nan        nan        nan        nan        nan        nan\n",
      "        nan        nan        nan        nan        nan        nan\n",
      "        nan        nan        nan 0.79644444 0.79244444 0.79266667\n",
      "        nan        nan        nan 0.80177778 0.80311111 0.79977778\n",
      "        nan        nan        nan 0.80577778 0.80622222 0.80266667\n",
      "        nan        nan        nan 0.79644444 0.79244444 0.79266667\n",
      "        nan        nan        nan 0.80155556 0.80288889 0.79977778\n",
      "        nan        nan        nan 0.80555556 0.80644444 0.80244444\n",
      "        nan        nan        nan 0.79644444 0.79244444 0.79266667\n",
      "        nan        nan        nan 0.80155556 0.80288889 0.79977778\n",
      "        nan        nan        nan 0.80555556 0.80644444 0.80244444\n",
      "        nan        nan        nan 0.78111111 0.77688889 0.76911111\n",
      "        nan        nan        nan 0.78622222 0.77377778 0.77844444\n",
      "        nan        nan        nan 0.78755556 0.77977778 0.78022222\n",
      "        nan        nan        nan        nan        nan        nan\n",
      "        nan        nan        nan        nan        nan        nan\n",
      "        nan        nan        nan        nan        nan        nan\n",
      "        nan        nan        nan        nan        nan        nan\n",
      "        nan        nan        nan        nan        nan        nan\n",
      "        nan        nan        nan        nan        nan        nan\n",
      "        nan        nan        nan 0.792      0.78755556 0.78533333\n",
      "        nan        nan        nan 0.80266667 0.79355556 0.79355556\n",
      "        nan        nan        nan 0.80533333 0.80333333 0.79888889\n",
      "        nan        nan        nan 0.792      0.78755556 0.78533333\n",
      "        nan        nan        nan 0.80266667 0.79355556 0.79355556\n",
      "        nan        nan        nan 0.80533333 0.80333333 0.79888889\n",
      "        nan        nan        nan 0.792      0.78755556 0.78533333\n",
      "        nan        nan        nan 0.80266667 0.79355556 0.79355556\n",
      "        nan        nan        nan 0.80533333 0.80333333 0.79866667]\n",
      "  warnings.warn(\n"
     ]
    },
    {
     "data": {
      "text/plain": [
       "GridSearchCV(cv=5,\n",
       "             estimator=Pipeline(steps=[('tfidf',\n",
       "                                        TfidfVectorizer(stop_words=frozenset({'a',\n",
       "                                                                              'about',\n",
       "                                                                              'above',\n",
       "                                                                              'across',\n",
       "                                                                              'after',\n",
       "                                                                              'afterwards',\n",
       "                                                                              'again',\n",
       "                                                                              'against',\n",
       "                                                                              'album',\n",
       "                                                                              'all',\n",
       "                                                                              'almost',\n",
       "                                                                              'alone',\n",
       "                                                                              'along',\n",
       "                                                                              'already',\n",
       "                                                                              'also',\n",
       "                                                                              'although',\n",
       "                                                                              'always',\n",
       "                                                                              'am',\n",
       "                                                                              'among',\n",
       "                                                                              'amongst',\n",
       "                                                                              'amoungst',\n",
       "                                                                              'amount',\n",
       "                                                                              'an',\n",
       "                                                                              'and',\n",
       "                                                                              'another',\n",
       "                                                                              'any',\n",
       "                                                                              'anyhow',\n",
       "                                                                              'anyone',\n",
       "                                                                              'anything',\n",
       "                                                                              'anyway', ...}))),\n",
       "                                       ('logreg', LogisticRegression())]),\n",
       "             n_jobs=8,\n",
       "             param_grid={'logreg__C': [0.1, 1, 10],\n",
       "                         'logreg__penalty': ['l1', 'l2'],\n",
       "                         'logreg__solver': ['liblinear', 'newton-cg', 'lbfgs'],\n",
       "                         'tfidf__max_features': [3000, 4000, 5000],\n",
       "                         'tfidf__min_df': [0.75, 1],\n",
       "                         'tfidf__ngram_range': [(1, 1), (1, 2), (1, 3)]},\n",
       "             verbose=2)"
      ]
     },
     "execution_count": 39,
     "metadata": {},
     "output_type": "execute_result"
    }
   ],
   "source": [
    "logreg_tfidf_pipe = Pipeline([\n",
    "        ('tfidf', TfidfVectorizer(stop_words=all_stop_words)),\n",
    "        ('logreg', LogisticRegression())\n",
    "    ])\n",
    "\n",
    "logreg_tfidf_pipe_params = {\n",
    "    'tfidf__max_features':[3000, 4000, 5000],\n",
    "    'tfidf__ngram_range': [(1,1),(1,2),(1,3)],\n",
    "    'tfidf__min_df': [0.75, 1],\n",
    "    'logreg__C': [0.1, 1, 10],\n",
    "    'logreg__penalty' : ['l1', 'l2'],\n",
    "    'logreg__solver': ['liblinear', 'newton-cg', 'lbfgs']\n",
    "}\n",
    "\n",
    "logreg_tfidf_grid = GridSearchCV(logreg_tfidf_pipe, \n",
    "                   logreg_tfidf_pipe_params,\n",
    "                   cv = 5,\n",
    "                   verbose = 2,\n",
    "                   n_jobs=8)\n",
    "\n",
    "logreg_tfidf_grid.fit(X_train, y_train)"
   ]
  },
  {
   "cell_type": "code",
   "execution_count": 40,
   "metadata": {},
   "outputs": [
    {
     "data": {
      "text/plain": [
       "0.924"
      ]
     },
     "execution_count": 40,
     "metadata": {},
     "output_type": "execute_result"
    }
   ],
   "source": [
    "logreg_tfidf_grid.score(X_train, y_train)"
   ]
  },
  {
   "cell_type": "code",
   "execution_count": 25,
   "metadata": {},
   "outputs": [
    {
     "data": {
      "text/plain": [
       "0.822"
      ]
     },
     "execution_count": 25,
     "metadata": {},
     "output_type": "execute_result"
    }
   ],
   "source": [
    "logreg_tfidf_grid.score(X_test, y_test)"
   ]
  },
  {
   "cell_type": "code",
   "execution_count": 26,
   "metadata": {},
   "outputs": [
    {
     "data": {
      "text/plain": [
       "GridSearchCV(cv=5,\n",
       "             estimator=Pipeline(steps=[('cvec',\n",
       "                                        CountVectorizer(stop_words=frozenset({'a',\n",
       "                                                                              'about',\n",
       "                                                                              'above',\n",
       "                                                                              'across',\n",
       "                                                                              'after',\n",
       "                                                                              'afterwards',\n",
       "                                                                              'again',\n",
       "                                                                              'against',\n",
       "                                                                              'album',\n",
       "                                                                              'all',\n",
       "                                                                              'almost',\n",
       "                                                                              'alone',\n",
       "                                                                              'along',\n",
       "                                                                              'already',\n",
       "                                                                              'also',\n",
       "                                                                              'although',\n",
       "                                                                              'always',\n",
       "                                                                              'am',\n",
       "                                                                              'among',\n",
       "                                                                              'amongst',\n",
       "                                                                              'amoungst',\n",
       "                                                                              'amount',\n",
       "                                                                              'an',\n",
       "                                                                              'and',\n",
       "                                                                              'another',\n",
       "                                                                              'any',\n",
       "                                                                              'anyhow',\n",
       "                                                                              'anyone',\n",
       "                                                                              'anything',\n",
       "                                                                              'anyway', ...}))),\n",
       "                                       ('logreg', LogisticRegression())]),\n",
       "             n_jobs=8,\n",
       "             param_grid={'cvec__max_features': [3000, 4000, 5000],\n",
       "                         'cvec__min_df': [0.75, 1],\n",
       "                         'cvec__ngram_range': [(1, 1), (1, 2), (1, 3)],\n",
       "                         'logreg__C': [0.1, 1, 10],\n",
       "                         'logreg__penalty': ['l1', 'l2'],\n",
       "                         'logreg__solver': ['liblinear']},\n",
       "             verbose=2)"
      ]
     },
     "execution_count": 26,
     "metadata": {},
     "output_type": "execute_result"
    }
   ],
   "source": [
    "logreg_cvec_grid"
   ]
  },
  {
   "cell_type": "code",
   "execution_count": 27,
   "metadata": {},
   "outputs": [
    {
     "data": {
      "text/plain": [
       "{'logreg__C': 1,\n",
       " 'logreg__penalty': 'l2',\n",
       " 'logreg__solver': 'newton-cg',\n",
       " 'tfidf__max_features': 5000,\n",
       " 'tfidf__min_df': 1,\n",
       " 'tfidf__ngram_range': (1, 2)}"
      ]
     },
     "execution_count": 27,
     "metadata": {},
     "output_type": "execute_result"
    }
   ],
   "source": [
    "logreg_tfidf_grid.best_params_"
   ]
  },
  {
   "cell_type": "code",
   "execution_count": 28,
   "metadata": {},
   "outputs": [
    {
     "name": "stdout",
     "output_type": "stream",
     "text": [
      "Score for gridsearched Logistic Regression w/ TfIdf Pipeline: 0.8064444444444444\n",
      "\n",
      "Best parameters from Logistic Regression w/ TfIdf pipeline gridsearch:  {'logreg__C': 1, 'logreg__penalty': 'l2', 'logreg__solver': 'newton-cg', 'tfidf__max_features': 5000, 'tfidf__min_df': 1, 'tfidf__ngram_range': (1, 2)}\n",
      "\n"
     ]
    },
    {
     "data": {
      "image/png": "[encoded data removed]",
      "text/plain": [
       "<Figure size 432x288 with 2 Axes>"
      ]
     },
     "metadata": {
      "needs_background": "light"
     },
     "output_type": "display_data"
    }
   ],
   "source": [
    "model_metrics(logreg_tfidf_grid, \"Logistic Regression w/ TfIdf\")"
   ]
  },
  {
   "cell_type": "markdown",
   "metadata": {},
   "source": [
    "```\n",
    "\n",
    "pipe = Pipeline([\n",
    "        (vec_nickname, vectorizer),\n",
    "        (est_nickname, estimator)\n",
    "    ])\n",
    "```\n",
    "\n",
    "+ Building Gridsearch parameter dictionaries according the following syntax: \n",
    "\n",
    "```python \n",
    "param_dict  = {\n",
    "    'vec_nickname__hyperparameter':[hyperparameter options],\n",
    "    'est_nickname__hyperparameter':[hyperparameter options]\n",
    "}\n",
    "```\n",
    "\n",
    "+ Building Gridsearch using the following syntax:\n",
    "\n",
    "```python\n",
    "grid = GridSearchCV(pipe, \n",
    "                   param_dict,\n",
    "                   cv = 5,\n",
    "                   verbose = 2,\n",
    "                   n_jobs=8)\n",
    "```\n",
    "\n",
    "+ Fitting the grid search on the training data.\n",
    "\n",
    "```\n",
    "grid.fit(X_train, y_train)\n",
    "```"
   ]
  },
  {
   "cell_type": "markdown",
   "metadata": {},
   "source": [
    "## `Naïve Bayes` "
   ]
  },
  {
   "cell_type": "markdown",
   "metadata": {},
   "source": [
    "#### `Naïve Bayes + CountVectorizer`"
   ]
  },
  {
   "cell_type": "code",
   "execution_count": 29,
   "metadata": {},
   "outputs": [],
   "source": [
    "nb_cvec_pipe = Pipeline([\n",
    "    ('cvec', CountVectorizer(stop_words=all_stop_words)),\n",
    "    ('nb', MultinomialNB())\n",
    "])\n",
    "\n",
    "nb_cvec_params = {\n",
    "    'cvec__max_features': [2000, 3000, 4000, 5000],\n",
    "    'cvec__ngram_range': [(1,1),(1,2),(1,3)],\n",
    "    'cvec__min_df': [0.75, 1],\n",
    "    'nb__alpha': [0.001, 0.1, 1.0, 10]\n",
    "}\n",
    "\n",
    "nb_cvec_grid = GridSearchCV(nb_cvec_pipe,\n",
    "                            nb_cvec_params,\n",
    "                            cv=5,\n",
    "                            verbose=2,\n",
    "                            n_jobs=8)"
   ]
  },
  {
   "cell_type": "code",
   "execution_count": 30,
   "metadata": {},
   "outputs": [
    {
     "name": "stdout",
     "output_type": "stream",
     "text": [
      "Fitting 5 folds for each of 96 candidates, totalling 480 fits\n"
     ]
    },
    {
     "name": "stderr",
     "output_type": "stream",
     "text": [
      "/Users/emilynaftalin/opt/anaconda3/lib/python3.8/site-packages/sklearn/model_selection/_search.py:918: UserWarning: One or more of the test scores are non-finite: [       nan        nan        nan        nan        nan        nan\n",
      "        nan        nan        nan        nan        nan        nan\n",
      " 0.76488889 0.76688889 0.76755556 0.75444444 0.75933333 0.75866667\n",
      " 0.75866667 0.75111111 0.75777778 0.75666667 0.75488889 0.74533333\n",
      "        nan        nan        nan        nan        nan        nan\n",
      "        nan        nan        nan        nan        nan        nan\n",
      " 0.77911111 0.78022222 0.77977778 0.76355556 0.77488889 0.77377778\n",
      " 0.77288889 0.76533333 0.77288889 0.77155556 0.76888889 0.76155556\n",
      "        nan        nan        nan        nan        nan        nan\n",
      "        nan        nan        nan        nan        nan        nan\n",
      " 0.79222222 0.79244444 0.79022222 0.76955556 0.78244444 0.78222222\n",
      " 0.78355556 0.77133333 0.77888889 0.78111111 0.78066667 0.774\n",
      "        nan        nan        nan        nan        nan        nan\n",
      "        nan        nan        nan        nan        nan        nan\n",
      " 0.79266667 0.79555556 0.79288889 0.77288889 0.79155556 0.79155556\n",
      " 0.79111111 0.77377778 0.78688889 0.78755556 0.78666667 0.778     ]\n",
      "  warnings.warn(\n"
     ]
    },
    {
     "data": {
      "text/plain": [
       "GridSearchCV(cv=5,\n",
       "             estimator=Pipeline(steps=[('cvec',\n",
       "                                        CountVectorizer(stop_words=frozenset({'a',\n",
       "                                                                              'about',\n",
       "                                                                              'above',\n",
       "                                                                              'across',\n",
       "                                                                              'after',\n",
       "                                                                              'afterwards',\n",
       "                                                                              'again',\n",
       "                                                                              'against',\n",
       "                                                                              'album',\n",
       "                                                                              'all',\n",
       "                                                                              'almost',\n",
       "                                                                              'alone',\n",
       "                                                                              'along',\n",
       "                                                                              'already',\n",
       "                                                                              'also',\n",
       "                                                                              'although',\n",
       "                                                                              'always',\n",
       "                                                                              'am',\n",
       "                                                                              'among',\n",
       "                                                                              'amongst',\n",
       "                                                                              'amoungst',\n",
       "                                                                              'amount',\n",
       "                                                                              'an',\n",
       "                                                                              'and',\n",
       "                                                                              'another',\n",
       "                                                                              'any',\n",
       "                                                                              'anyhow',\n",
       "                                                                              'anyone',\n",
       "                                                                              'anything',\n",
       "                                                                              'anyway', ...}))),\n",
       "                                       ('nb', MultinomialNB())]),\n",
       "             n_jobs=8,\n",
       "             param_grid={'cvec__max_features': [2000, 3000, 4000, 5000],\n",
       "                         'cvec__min_df': [0.75, 1],\n",
       "                         'cvec__ngram_range': [(1, 1), (1, 2), (1, 3)],\n",
       "                         'nb__alpha': [0.001, 0.1, 1.0, 10]},\n",
       "             verbose=2)"
      ]
     },
     "execution_count": 30,
     "metadata": {},
     "output_type": "execute_result"
    }
   ],
   "source": [
    "nb_cvec_grid.fit(X_train, y_train)"
   ]
  },
  {
   "cell_type": "code",
   "execution_count": 31,
   "metadata": {},
   "outputs": [
    {
     "name": "stdout",
     "output_type": "stream",
     "text": [
      "Score for gridsearched Multinomial Naive Bayes w/ CountVectorizer Pipeline: 0.7955555555555555\n",
      "\n",
      "Best parameters from Multinomial Naive Bayes w/ CountVectorizer pipeline gridsearch:  {'cvec__max_features': 5000, 'cvec__min_df': 1, 'cvec__ngram_range': (1, 1), 'nb__alpha': 0.1}\n",
      "\n"
     ]
    },
    {
     "data": {
      "image/png": "[encoded data removed]",
      "text/plain": [
       "<Figure size 432x288 with 2 Axes>"
      ]
     },
     "metadata": {
      "needs_background": "light"
     },
     "output_type": "display_data"
    }
   ],
   "source": [
    "model_metrics(nb_cvec_grid, 'Multinomial Naive Bayes w/ CountVectorizer')"
   ]
  },
  {
   "cell_type": "code",
   "execution_count": 32,
   "metadata": {},
   "outputs": [
    {
     "data": {
      "text/plain": [
       "0.9135555555555556"
      ]
     },
     "execution_count": 32,
     "metadata": {},
     "output_type": "execute_result"
    }
   ],
   "source": [
    "nb_cvec_grid.score(X_train, y_train)"
   ]
  },
  {
   "cell_type": "code",
   "execution_count": 33,
   "metadata": {},
   "outputs": [
    {
     "data": {
      "text/plain": [
       "0.8213333333333334"
      ]
     },
     "execution_count": 33,
     "metadata": {},
     "output_type": "execute_result"
    }
   ],
   "source": [
    "nb_cvec_grid.score(X_test, y_test)"
   ]
  },
  {
   "cell_type": "markdown",
   "metadata": {},
   "source": [
    "#### `Naïve Bayes + TfIdf` "
   ]
  },
  {
   "cell_type": "markdown",
   "metadata": {},
   "source": [
    "_Below I will build pipeline including Multinomial Naive Bayes. Though MNB asks us to have positive integers and Tf-idf does not yield positive integers, fractional counts (such as Tf-Idf) actually to work with multinomial distributions in practice._\n",
    "\n",
    "_Citation: DSI 5.04-lesson-nlp-ii_"
   ]
  },
  {
   "cell_type": "code",
   "execution_count": 34,
   "metadata": {},
   "outputs": [],
   "source": [
    "nb_tfidf_pipe = Pipeline([\n",
    "    ('tfidf', TfidfVectorizer(stop_words=all_stop_words)),\n",
    "    ('nb', MultinomialNB())\n",
    "])\n",
    "\n",
    "nb_tfidf_params = {\n",
    "    'tfidf__max_features': [2000, 3000, 4000, 5000],\n",
    "    'tfidf__ngram_range': [(1,1),(1,2),(1,3)],\n",
    "    'tfidf__min_df': [0.75, 1]\n",
    "}\n",
    "\n",
    "nb_tfidf_grid = GridSearchCV(nb_tfidf_pipe,\n",
    "                            nb_tfidf_params,\n",
    "                            cv=5,\n",
    "                            verbose=2,\n",
    "                            n_jobs=8)"
   ]
  },
  {
   "cell_type": "code",
   "execution_count": 35,
   "metadata": {},
   "outputs": [
    {
     "name": "stdout",
     "output_type": "stream",
     "text": [
      "Fitting 5 folds for each of 24 candidates, totalling 120 fits\n"
     ]
    },
    {
     "name": "stderr",
     "output_type": "stream",
     "text": [
      "/Users/emilynaftalin/opt/anaconda3/lib/python3.8/site-packages/sklearn/model_selection/_search.py:918: UserWarning: One or more of the test scores are non-finite: [       nan        nan        nan 0.77088889 0.76577778 0.76644444\n",
      "        nan        nan        nan 0.78822222 0.77777778 0.77822222\n",
      "        nan        nan        nan 0.79555556 0.78733333 0.78577778\n",
      "        nan        nan        nan 0.79844444 0.79466667 0.79177778]\n",
      "  warnings.warn(\n"
     ]
    },
    {
     "data": {
      "text/plain": [
       "GridSearchCV(cv=5,\n",
       "             estimator=Pipeline(steps=[('tfidf',\n",
       "                                        TfidfVectorizer(stop_words=frozenset({'a',\n",
       "                                                                              'about',\n",
       "                                                                              'above',\n",
       "                                                                              'across',\n",
       "                                                                              'after',\n",
       "                                                                              'afterwards',\n",
       "                                                                              'again',\n",
       "                                                                              'against',\n",
       "                                                                              'album',\n",
       "                                                                              'all',\n",
       "                                                                              'almost',\n",
       "                                                                              'alone',\n",
       "                                                                              'along',\n",
       "                                                                              'already',\n",
       "                                                                              'also',\n",
       "                                                                              'although',\n",
       "                                                                              'always',\n",
       "                                                                              'am',\n",
       "                                                                              'among',\n",
       "                                                                              'amongst',\n",
       "                                                                              'amoungst',\n",
       "                                                                              'amount',\n",
       "                                                                              'an',\n",
       "                                                                              'and',\n",
       "                                                                              'another',\n",
       "                                                                              'any',\n",
       "                                                                              'anyhow',\n",
       "                                                                              'anyone',\n",
       "                                                                              'anything',\n",
       "                                                                              'anyway', ...}))),\n",
       "                                       ('nb', MultinomialNB())]),\n",
       "             n_jobs=8,\n",
       "             param_grid={'tfidf__max_features': [2000, 3000, 4000, 5000],\n",
       "                         'tfidf__min_df': [0.75, 1],\n",
       "                         'tfidf__ngram_range': [(1, 1), (1, 2), (1, 3)]},\n",
       "             verbose=2)"
      ]
     },
     "execution_count": 35,
     "metadata": {},
     "output_type": "execute_result"
    }
   ],
   "source": [
    "nb_tfidf_grid.fit(X_train, y_train)"
   ]
  },
  {
   "cell_type": "code",
   "execution_count": 36,
   "metadata": {},
   "outputs": [
    {
     "name": "stdout",
     "output_type": "stream",
     "text": [
      "Score for gridsearched Multinomial Naive Bayes w/ TfIdf Pipeline: 0.7984444444444444\n",
      "\n",
      "Best parameters from Multinomial Naive Bayes w/ TfIdf pipeline gridsearch:  {'tfidf__max_features': 5000, 'tfidf__min_df': 1, 'tfidf__ngram_range': (1, 1)}\n",
      "\n"
     ]
    },
    {
     "data": {
      "image/png": "[encoded data removed]",
      "text/plain": [
       "<Figure size 432x288 with 2 Axes>"
      ]
     },
     "metadata": {
      "needs_background": "light"
     },
     "output_type": "display_data"
    }
   ],
   "source": [
    "model_metrics(nb_tfidf_grid, 'Multinomial Naive Bayes w/ TfIdf')"
   ]
  },
  {
   "cell_type": "code",
   "execution_count": 37,
   "metadata": {},
   "outputs": [
    {
     "data": {
      "text/plain": [
       "0.924"
      ]
     },
     "execution_count": 37,
     "metadata": {},
     "output_type": "execute_result"
    }
   ],
   "source": [
    "nb_tfidf_grid.score(X_train, y_train)"
   ]
  },
  {
   "cell_type": "code",
   "execution_count": 38,
   "metadata": {},
   "outputs": [
    {
     "data": {
      "text/plain": [
       "0.8186666666666667"
      ]
     },
     "execution_count": 38,
     "metadata": {},
     "output_type": "execute_result"
    }
   ],
   "source": [
    "nb_tfidf_grid.score(X_test, y_test)"
   ]
  },
  {
   "cell_type": "markdown",
   "metadata": {},
   "source": [
    "_Both of my Naïve Bayes models are about as accurate and as overfit as my Logistic Regression models. Since Logistic Regression is more interpretable for my analysis, I will likely use this as my performance model._"
   ]
  },
  {
   "cell_type": "markdown",
   "metadata": {},
   "source": [
    "## `k-Nearest Neighbors` "
   ]
  },
  {
   "cell_type": "markdown",
   "metadata": {},
   "source": [
    "#### `KNN + CountVectorizer`"
   ]
  },
  {
   "cell_type": "code",
   "execution_count": 41,
   "metadata": {},
   "outputs": [],
   "source": [
    "knn_cvec_pipe = Pipeline([\n",
    "    ('cvec', CountVectorizer(stop_words=all_stop_words)),\n",
    "    ('knn', KNeighborsClassifier())\n",
    "])\n",
    "\n",
    "knn_cvec_params = {\n",
    "    'cvec__max_features': [3000, 4000, 5000, 6000],\n",
    "    'cvec__ngram_range': [(1,1),(1,2),(1,3)],\n",
    "    'knn__leaf_size': range(1, 50, 5),\n",
    "    'knn__n_neighbors': range(1, 100, 10),\n",
    "    'knn__metric': ['euclidean', 'manhattan'],\n",
    "    'knn__weights': ['uniform', 'distance']\n",
    "}\n",
    "\n",
    "knn_cvec_grid = GridSearchCV(knn_cvec_pipe,\n",
    "                            knn_cvec_params,\n",
    "                            cv=5,\n",
    "                            verbose=2,\n",
    "                            n_jobs=8)"
   ]
  },
  {
   "cell_type": "code",
   "execution_count": 42,
   "metadata": {},
   "outputs": [
    {
     "name": "stdout",
     "output_type": "stream",
     "text": [
      "Fitting 5 folds for each of 4800 candidates, totalling 24000 fits\n"
     ]
    },
    {
     "data": {
      "text/plain": [
       "GridSearchCV(cv=5,\n",
       "             estimator=Pipeline(steps=[('cvec',\n",
       "                                        CountVectorizer(stop_words=frozenset({'a',\n",
       "                                                                              'about',\n",
       "                                                                              'above',\n",
       "                                                                              'across',\n",
       "                                                                              'after',\n",
       "                                                                              'afterwards',\n",
       "                                                                              'again',\n",
       "                                                                              'against',\n",
       "                                                                              'album',\n",
       "                                                                              'all',\n",
       "                                                                              'almost',\n",
       "                                                                              'alone',\n",
       "                                                                              'along',\n",
       "                                                                              'already',\n",
       "                                                                              'also',\n",
       "                                                                              'although',\n",
       "                                                                              'always',\n",
       "                                                                              'am',\n",
       "                                                                              'among',\n",
       "                                                                              'amongst',\n",
       "                                                                              'amoungst',\n",
       "                                                                              'amount',\n",
       "                                                                              'an',\n",
       "                                                                              'and',\n",
       "                                                                              'another',\n",
       "                                                                              'any',\n",
       "                                                                              'anyhow',\n",
       "                                                                              'anyone',\n",
       "                                                                              'anything',\n",
       "                                                                              'anyway', ...}))),\n",
       "                                       ('knn', KNeighborsClassifier())]),\n",
       "             n_jobs=8,\n",
       "             param_grid={'cvec__max_features': [3000, 4000, 5000, 6000],\n",
       "                         'cvec__ngram_range': [(1, 1), (1, 2), (1, 3)],\n",
       "                         'knn__leaf_size': range(1, 50, 5),\n",
       "                         'knn__metric': ['euclidean', 'manhattan'],\n",
       "                         'knn__n_neighbors': range(1, 100, 10),\n",
       "                         'knn__weights': ['uniform', 'distance']},\n",
       "             verbose=2)"
      ]
     },
     "execution_count": 42,
     "metadata": {},
     "output_type": "execute_result"
    }
   ],
   "source": [
    "knn_cvec_grid.fit(X_train, y_train)"
   ]
  },
  {
   "cell_type": "code",
   "execution_count": 152,
   "metadata": {},
   "outputs": [
    {
     "data": {
      "text/plain": [
       "0.9977708426214891"
      ]
     },
     "execution_count": 152,
     "metadata": {},
     "output_type": "execute_result"
    }
   ],
   "source": [
    "knn_cvec_grid.score(X_train, y_train)"
   ]
  },
  {
   "cell_type": "code",
   "execution_count": 153,
   "metadata": {},
   "outputs": [
    {
     "data": {
      "text/plain": [
       "0.6864973262032086"
      ]
     },
     "execution_count": 153,
     "metadata": {},
     "output_type": "execute_result"
    }
   ],
   "source": [
    "knn_cvec_grid.score(X_test, y_test)"
   ]
  },
  {
   "cell_type": "code",
   "execution_count": 155,
   "metadata": {},
   "outputs": [
    {
     "name": "stdout",
     "output_type": "stream",
     "text": [
      "Score for gridsearched KNN w/ Count Vectorization Pipeline: 0.7333911851680807\n",
      "\n",
      "Best parameters from KNN w/ Count Vectorization pipeline gridsearch:  {'cvec__max_features': 6000, 'cvec__min_df': 1, 'cvec__ngram_range': (1, 1), 'knn__leaf_size': 1, 'knn__metric': 'manhattan', 'knn__n_neighbors': 36, 'knn__weights': 'distance'}\n",
      "\n"
     ]
    },
    {
     "data": {
      "image/png": "[encoded data removed]",
      "text/plain": [
       "<Figure size 432x288 with 2 Axes>"
      ]
     },
     "metadata": {
      "needs_background": "light"
     },
     "output_type": "display_data"
    }
   ],
   "source": [
    "model_metrics(knn_cvec_grid, 'KNN w/ Count Vectorization')"
   ]
  },
  {
   "cell_type": "markdown",
   "metadata": {},
   "source": [
    "_KNN looks terrible! I don't think this one is going to work._"
   ]
  },
  {
   "cell_type": "markdown",
   "metadata": {},
   "source": [
    "## `Random Forest & Extra Trees`"
   ]
  },
  {
   "cell_type": "markdown",
   "metadata": {},
   "source": [
    "#### `Extra Trees Classifier + Count Vectorizer`"
   ]
  },
  {
   "cell_type": "markdown",
   "metadata": {},
   "source": [
    "_Use of `CountVectorizer` as my vectorizer was informed by a set of pipeline I ran in my practice code notebooks that compared different ensemble classier models paired `CountVectorizer` and `Tfidf Vectorizer`. Extra Trees w/ CountVec performed better (higher accuracy, less variance) than other pairings. Hyperparameters are also informed by the best parameters found in those ensemble model grid searches in a practice code notebook._ "
   ]
  },
  {
   "cell_type": "code",
   "execution_count": 45,
   "metadata": {},
   "outputs": [],
   "source": [
    "et_cvec_pipe = Pipeline([\n",
    "    ('cvec', CountVectorizer(stop_words=all_stop_words)),\n",
    "    ('et', ExtraTreesClassifier())\n",
    "])\n",
    "\n",
    "et_cvec_params = {\n",
    "    'cvec__max_features':[2000, 3000, 4000],\n",
    "    'cvec__ngram_range': [(1,1),(1,2),(1,3)],\n",
    "    'et__ccp_alpha': [0.001, 0.05, 0.1, 1],\n",
    "    'et__max_depth': [6,8,10],\n",
    "    'et__min_samples_leaf': [4,6,8],\n",
    "    'et__min_samples_split': [5,10]\n",
    "}\n",
    "\n",
    "et_cvec_grid = GridSearchCV(et_cvec_pipe,\n",
    "                           et_cvec_params,\n",
    "                           cv=5,\n",
    "                           verbose=2,\n",
    "                           n_jobs=8)"
   ]
  },
  {
   "cell_type": "code",
   "execution_count": 46,
   "metadata": {},
   "outputs": [
    {
     "name": "stdout",
     "output_type": "stream",
     "text": [
      "Fitting 5 folds for each of 648 candidates, totalling 3240 fits\n",
      "This cell took 494.62858414649963 seconds to run\n"
     ]
    }
   ],
   "source": [
    "# this time going to try it!\n",
    "import time \n",
    "t0 = time.time()\n",
    "\n",
    "et_cvec_grid.fit(X_train, y_train)\n",
    "\n",
    "print(f'This cell took {time.time() - t0} seconds to run')"
   ]
  },
  {
   "cell_type": "code",
   "execution_count": 47,
   "metadata": {},
   "outputs": [
    {
     "data": {
      "text/plain": [
       "0.6913333333333334"
      ]
     },
     "execution_count": 47,
     "metadata": {},
     "output_type": "execute_result"
    }
   ],
   "source": [
    "et_cvec_grid.best_score_"
   ]
  },
  {
   "cell_type": "code",
   "execution_count": 58,
   "metadata": {},
   "outputs": [
    {
     "data": {
      "text/plain": [
       "0.7242222222222222"
      ]
     },
     "execution_count": 58,
     "metadata": {},
     "output_type": "execute_result"
    }
   ],
   "source": [
    "et_cvec_grid.score(X_train, y_train)"
   ]
  },
  {
   "cell_type": "code",
   "execution_count": 60,
   "metadata": {},
   "outputs": [
    {
     "data": {
      "text/plain": [
       "0.7066666666666667"
      ]
     },
     "execution_count": 60,
     "metadata": {},
     "output_type": "execute_result"
    }
   ],
   "source": [
    "et_cvec_grid.score(X_test, y_test)"
   ]
  },
  {
   "cell_type": "code",
   "execution_count": 62,
   "metadata": {},
   "outputs": [
    {
     "name": "stdout",
     "output_type": "stream",
     "text": [
      "Score for gridsearched Extra Trees Classifier w/ CountVectorizer  Pipeline: 0.6913333333333334\n",
      "\n",
      "Best parameters from Extra Trees Classifier w/ CountVectorizer  pipeline gridsearch:  {'cvec__max_features': 4000, 'cvec__ngram_range': (1, 1), 'et__ccp_alpha': 0.001, 'et__max_depth': 10, 'et__min_samples_leaf': 4, 'et__min_samples_split': 10}\n",
      "\n"
     ]
    },
    {
     "data": {
      "image/png": "[encoded data removed]",
      "text/plain": [
       "<Figure size 432x288 with 2 Axes>"
      ]
     },
     "metadata": {
      "needs_background": "light"
     },
     "output_type": "display_data"
    }
   ],
   "source": [
    "model_metrics(et_cvec_grid, \"Extra Trees Classifier w/ CountVectorizer \")"
   ]
  },
  {
   "cell_type": "markdown",
   "metadata": {},
   "source": [
    "#### `Random Forest Classifier + Tf-Idf Vectorizer`"
   ]
  },
  {
   "cell_type": "code",
   "execution_count": 48,
   "metadata": {},
   "outputs": [],
   "source": [
    "rf_tfidf_pipe = Pipeline([\n",
    "    ('tfidf', TfidfVectorizer(stop_words=all_stop_words)),\n",
    "    ('rf', RandomForestClassifier())\n",
    "])\n",
    "\n",
    "rf_tfidf_params = {\n",
    "    'tfidf__max_features': [2000, 3000, 4000],\n",
    "    'tfidf__ngram_range': [(1,1), (1,2), (1,3)],\n",
    "    'rf__ccp_alpha': [0.001, 0.1],\n",
    "    'rf__max_depth': [6, 8, 10],\n",
    "    'rf__min_samples_leaf': [6, 8],\n",
    "    'rf__min_samples_split': [3, 5, 8], \n",
    "    'rf__n_estimators': [50, 150, 250],\n",
    "    'rf__criterion': ['gini', 'entropy'],\n",
    "    'rf__max_features': ['auto', 'sqrt'],\n",
    "    'rf__warm_start': [True, False]\n",
    "}\n",
    "\n",
    "rf_tfidf_grid = GridSearchCV(rf_tfidf_pipe,\n",
    "                            rf_tfidf_params,\n",
    "                            cv=5, \n",
    "                            verbose=2,\n",
    "                            n_jobs=8)"
   ]
  },
  {
   "cell_type": "code",
   "execution_count": 49,
   "metadata": {},
   "outputs": [
    {
     "name": "stdout",
     "output_type": "stream",
     "text": [
      "Fitting 5 folds for each of 7776 candidates, totalling 38880 fits\n"
     ]
    },
    {
     "data": {
      "text/plain": [
       "GridSearchCV(cv=5,\n",
       "             estimator=Pipeline(steps=[('tfidf',\n",
       "                                        TfidfVectorizer(stop_words=frozenset({'a',\n",
       "                                                                              'about',\n",
       "                                                                              'above',\n",
       "                                                                              'across',\n",
       "                                                                              'after',\n",
       "                                                                              'afterwards',\n",
       "                                                                              'again',\n",
       "                                                                              'against',\n",
       "                                                                              'album',\n",
       "                                                                              'all',\n",
       "                                                                              'almost',\n",
       "                                                                              'alone',\n",
       "                                                                              'along',\n",
       "                                                                              'already',\n",
       "                                                                              'also',\n",
       "                                                                              'although',\n",
       "                                                                              'always',\n",
       "                                                                              'am',\n",
       "                                                                              'among',\n",
       "                                                                              'amongst',\n",
       "                                                                              'amoungst',\n",
       "                                                                              'amount',\n",
       "                                                                              'an',\n",
       "                                                                              'and',\n",
       "                                                                              'another',\n",
       "                                                                              'any',\n",
       "                                                                              'anyhow',\n",
       "                                                                              'anyone',\n",
       "                                                                              'anything',\n",
       "                                                                              'anyway', ...})))...\n",
       "             n_jobs=8,\n",
       "             param_grid={'rf__ccp_alpha': [0.001, 0.1],\n",
       "                         'rf__criterion': ['gini', 'entropy'],\n",
       "                         'rf__max_depth': [6, 8, 10],\n",
       "                         'rf__max_features': ['auto', 'sqrt'],\n",
       "                         'rf__min_samples_leaf': [6, 8],\n",
       "                         'rf__min_samples_split': [3, 5, 8],\n",
       "                         'rf__n_estimators': [50, 150, 250],\n",
       "                         'rf__warm_start': [True, False],\n",
       "                         'tfidf__max_features': [2000, 3000, 4000],\n",
       "                         'tfidf__ngram_range': [(1, 1), (1, 2), (1, 3)]},\n",
       "             verbose=2)"
      ]
     },
     "execution_count": 49,
     "metadata": {},
     "output_type": "execute_result"
    }
   ],
   "source": [
    "rf_tfidf_grid.fit(X_train, y_train)"
   ]
  },
  {
   "cell_type": "code",
   "execution_count": 50,
   "metadata": {},
   "outputs": [
    {
     "data": {
      "text/plain": [
       "0.7517777777777778"
      ]
     },
     "execution_count": 50,
     "metadata": {},
     "output_type": "execute_result"
    }
   ],
   "source": [
    "rf_tfidf_grid.score(X_train, y_train)"
   ]
  },
  {
   "cell_type": "code",
   "execution_count": 51,
   "metadata": {},
   "outputs": [
    {
     "data": {
      "text/plain": [
       "0.7193333333333334"
      ]
     },
     "execution_count": 51,
     "metadata": {},
     "output_type": "execute_result"
    }
   ],
   "source": [
    "rf_tfidf_grid.score(X_test, y_test) "
   ]
  },
  {
   "cell_type": "code",
   "execution_count": 63,
   "metadata": {},
   "outputs": [
    {
     "name": "stdout",
     "output_type": "stream",
     "text": [
      "Score for gridsearched Random Forest Classifier w/ Tf-Idf Vectorizer Pipeline: 0.7095555555555555\n",
      "\n",
      "Best parameters from Random Forest Classifier w/ Tf-Idf Vectorizer pipeline gridsearch:  {'rf__ccp_alpha': 0.001, 'rf__criterion': 'entropy', 'rf__max_depth': 10, 'rf__max_features': 'auto', 'rf__min_samples_leaf': 6, 'rf__min_samples_split': 8, 'rf__n_estimators': 250, 'rf__warm_start': False, 'tfidf__max_features': 4000, 'tfidf__ngram_range': (1, 1)}\n",
      "\n"
     ]
    },
    {
     "data": {
      "image/png": "[encoded data removed]",
      "text/plain": [
       "<Figure size 432x288 with 2 Axes>"
      ]
     },
     "metadata": {
      "needs_background": "light"
     },
     "output_type": "display_data"
    }
   ],
   "source": [
    "model_metrics(rf_tfidf_grid, \"Random Forest Classifier w/ Tf-Idf Vectorizer\")"
   ]
  },
  {
   "cell_type": "markdown",
   "metadata": {},
   "source": [
    "_Thanks to massive grid searches, my Random Forest and Extra Trees models sacrifice some accuracy but are much less overfit than my Logistic Regression models. Since I feel much more excited about interpreting and promoting the Logistic Regression, and because fitting and accuracy are not my main goal, I will use Logistic Regression instead of the trees models for my final product._"
   ]
  },
  {
   "cell_type": "markdown",
   "metadata": {},
   "source": [
    "## `Support Vector Machines`"
   ]
  },
  {
   "cell_type": "markdown",
   "metadata": {},
   "source": [
    "#### `SVC + Count Vectorizer`"
   ]
  },
  {
   "cell_type": "code",
   "execution_count": 52,
   "metadata": {},
   "outputs": [],
   "source": [
    "svc_cvec_pipe = Pipeline([\n",
    "    ('cvec', CountVectorizer(stop_words=all_stop_words)),\n",
    "    ('svc', SVC())\n",
    "])\n",
    "\n",
    "svc_cvec_params = {\n",
    "    'cvec__max_features':[2000, 3000, 4000, 5000],\n",
    "    'cvec__ngram_range': [(1,1),(1,2),(1,3)],\n",
    "#     'svc__gamma': ['scale', 'auto'],\n",
    "    'svc__tol': [0.001, 0.01],\n",
    "    'svc__C': np.linspace(0, 5, 20),\n",
    "    'svc__kernel':['linear', 'rbf', 'polynomial', 'sigmoid'],\n",
    "    'svc__degree':[1, 2, 3, 4]\n",
    "}\n",
    "\n",
    "svc_cvec_grid = GridSearchCV(svc_cvec_pipe,\n",
    "                             svc_cvec_params,\n",
    "                             cv=5,\n",
    "                             verbose=2,\n",
    "                             n_jobs=8)"
   ]
  },
  {
   "cell_type": "code",
   "execution_count": 53,
   "metadata": {},
   "outputs": [
    {
     "name": "stdout",
     "output_type": "stream",
     "text": [
      "Fitting 5 folds for each of 7680 candidates, totalling 38400 fits\n"
     ]
    },
    {
     "name": "stderr",
     "output_type": "stream",
     "text": [
      "/Users/emilynaftalin/opt/anaconda3/lib/python3.8/site-packages/sklearn/model_selection/_search.py:918: UserWarning: One or more of the test scores are non-finite: [       nan        nan        nan ...        nan 0.73511111 0.73533333]\n",
      "  warnings.warn(\n"
     ]
    },
    {
     "name": "stdout",
     "output_type": "stream",
     "text": [
      "This cell took 17141.273571014404 seconds to run\n"
     ]
    }
   ],
   "source": [
    "t0 = time.time()\n",
    "\n",
    "svc_cvec_grid.fit(X_train, y_train)\n",
    "\n",
    "print(f'This cell took {time.time() - t0} seconds to run')"
   ]
  },
  {
   "cell_type": "code",
   "execution_count": 54,
   "metadata": {},
   "outputs": [
    {
     "data": {
      "text/plain": [
       "0.9366666666666666"
      ]
     },
     "execution_count": 54,
     "metadata": {},
     "output_type": "execute_result"
    }
   ],
   "source": [
    "svc_cvec_grid.score(X_train, y_train)"
   ]
  },
  {
   "cell_type": "code",
   "execution_count": 55,
   "metadata": {},
   "outputs": [
    {
     "data": {
      "text/plain": [
       "0.804"
      ]
     },
     "execution_count": 55,
     "metadata": {},
     "output_type": "execute_result"
    }
   ],
   "source": [
    "svc_cvec_grid.score(X_test, y_test)"
   ]
  },
  {
   "cell_type": "code",
   "execution_count": 56,
   "metadata": {},
   "outputs": [
    {
     "data": {
      "text/plain": [
       "{'cvec__max_features': 5000,\n",
       " 'cvec__ngram_range': (1, 1),\n",
       " 'svc__C': 0.2631578947368421,\n",
       " 'svc__degree': 1,\n",
       " 'svc__kernel': 'linear',\n",
       " 'svc__tol': 0.001}"
      ]
     },
     "execution_count": 56,
     "metadata": {},
     "output_type": "execute_result"
    }
   ],
   "source": [
    "svc_cvec_grid.best_params_"
   ]
  },
  {
   "cell_type": "code",
   "execution_count": 66,
   "metadata": {},
   "outputs": [
    {
     "name": "stdout",
     "output_type": "stream",
     "text": [
      "Score for gridsearched Support Vector Machine Classifier w/ CountVectorizer Pipeline: 0.7988888888888889\n",
      "\n",
      "Best parameters from Support Vector Machine Classifier w/ CountVectorizer pipeline gridsearch:  {'cvec__max_features': 5000, 'cvec__ngram_range': (1, 1), 'svc__C': 0.2631578947368421, 'svc__degree': 1, 'svc__kernel': 'linear', 'svc__tol': 0.001}\n",
      "\n"
     ]
    },
    {
     "data": {
      "image/png": "[encoded data removed]",
      "text/plain": [
       "<Figure size 432x288 with 2 Axes>"
      ]
     },
     "metadata": {
      "needs_background": "light"
     },
     "output_type": "display_data"
    }
   ],
   "source": [
    "model_metrics(svc_cvec_grid, \"Support Vector Machine Classifier w/ CountVectorizer\")"
   ]
  },
  {
   "cell_type": "markdown",
   "metadata": {},
   "source": [
    "_The support vector classifier model is overfit and not that accurate. But I'm glad that I tried it!_"
   ]
  }
 ],
 "metadata": {
  "kernelspec": {
   "display_name": "Python 3",
   "language": "python",
   "name": "python3"
  },
  "language_info": {
   "codemirror_mode": {
    "name": "ipython",
    "version": 3
   },
   "file_extension": ".py",
   "mimetype": "text/x-python",
   "name": "python",
   "nbconvert_exporter": "python",
   "pygments_lexer": "ipython3",
   "version": "3.8.5"
  }
 },
 "nbformat": 4,
 "nbformat_minor": 4
}
