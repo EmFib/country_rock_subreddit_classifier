{
 "cells": [
  {
   "cell_type": "code",
   "execution_count": 168,
   "metadata": {},
   "outputs": [],
   "source": [
    "import seaborn as sns\n",
    "import pandas as pd\n",
    "import numpy as np\n",
    "from sklearn.metrics import (accuracy_score, \n",
    "                            confusion_matrix, \n",
    "                            classification_report,\n",
    "                            plot_confusion_matrix)\n",
    "from sklearn.model_selection import train_test_split, cross_val_score, GridSearchCV \n",
    "from sklearn.linear_model import LogisticRegression\n",
    "from sklearn.neighbors import KNeighborsClassifier\n",
    "from sklearn.pipeline import Pipeline\n",
    "from sklearn.naive_bayes import MultinomialNB\n",
    "from sklearn.tree import DecisionTreeClassifier\n",
    "from sklearn.ensemble import RandomForestClassifier, ExtraTreesClassifier\n",
    "from sklearn.ensemble import BaggingClassifier\n",
    "from sklearn.svm import SVC\n",
    "import matplotlib.pyplot as plt \n",
    "\n",
    "# importing scaler \n",
    "from sklearn.preprocessing import StandardScaler\n",
    "\n",
    "# import vectorizers\n",
    "from sklearn.feature_extraction.text import CountVectorizer, TfidfVectorizer\n",
    "from sklearn.feature_extraction import text \n",
    "\n",
    "import time "
   ]
  },
  {
   "cell_type": "markdown",
   "metadata": {},
   "source": [
    "# put note here about how I pickled in other notebooks but left the read_csv here because didn't use column and grid searches take too long\n",
    "\n",
    "# also how I drop stemmed and combo column for dataframe but not for this notebook \n"
   ]
  },
  {
   "cell_type": "code",
   "execution_count": 117,
   "metadata": {},
   "outputs": [
    {
     "data": {
      "text/plain": [
       "'/Users/emilynaftalin/Data_Science/General Assembly/dsi/projects/project_3/code'"
      ]
     },
     "execution_count": 117,
     "metadata": {},
     "output_type": "execute_result"
    }
   ],
   "source": [
    "pwd"
   ]
  },
  {
   "cell_type": "code",
   "execution_count": 118,
   "metadata": {},
   "outputs": [
    {
     "data": {
      "text/html": [
       "<div>\n",
       "<style scoped>\n",
       "    .dataframe tbody tr th:only-of-type {\n",
       "        vertical-align: middle;\n",
       "    }\n",
       "\n",
       "    .dataframe tbody tr th {\n",
       "        vertical-align: top;\n",
       "    }\n",
       "\n",
       "    .dataframe thead th {\n",
       "        text-align: right;\n",
       "    }\n",
       "</style>\n",
       "<table border=\"1\" class=\"dataframe\">\n",
       "  <thead>\n",
       "    <tr style=\"text-align: right;\">\n",
       "      <th></th>\n",
       "      <th>label</th>\n",
       "      <th>merged</th>\n",
       "      <th>tokens</th>\n",
       "      <th>stemmed</th>\n",
       "      <th>combo</th>\n",
       "    </tr>\n",
       "  </thead>\n",
       "  <tbody>\n",
       "    <tr>\n",
       "      <th>0</th>\n",
       "      <td>0</td>\n",
       "      <td>country suggestions ve been starting to get in...</td>\n",
       "      <td>['country', 'suggestions', 've', 'been', 'star...</td>\n",
       "      <td>['countri', 'suggest', 've', 'been', 'start', ...</td>\n",
       "      <td>countri suggest ve been start to get into coun...</td>\n",
       "    </tr>\n",
       "    <tr>\n",
       "      <th>1</th>\n",
       "      <td>0</td>\n",
       "      <td>hank williams sr m so lonesome could cry (1949)</td>\n",
       "      <td>['hank', 'williams', 'sr', 'm', 'so', 'lonesom...</td>\n",
       "      <td>['hank', 'william', 'sr', 'm', 'so', 'lonesom'...</td>\n",
       "      <td>hank william sr m so lonesom could cri 1949</td>\n",
       "    </tr>\n",
       "    <tr>\n",
       "      <th>2</th>\n",
       "      <td>0</td>\n",
       "      <td>cody jinks   loud and heavy</td>\n",
       "      <td>['cody', 'jinks', 'loud', 'and', 'heavy']</td>\n",
       "      <td>['codi', 'jink', 'loud', 'and', 'heavi']</td>\n",
       "      <td>codi jink loud and heavi</td>\n",
       "    </tr>\n",
       "    <tr>\n",
       "      <th>3</th>\n",
       "      <td>0</td>\n",
       "      <td>southern raised performs \"what day that will b...</td>\n",
       "      <td>['southern', 'raised', 'performs', 'what', 'da...</td>\n",
       "      <td>['southern', 'rais', 'perform', 'what', 'day',...</td>\n",
       "      <td>southern rais perform what day that will be at...</td>\n",
       "    </tr>\n",
       "    <tr>\n",
       "      <th>4</th>\n",
       "      <td>0</td>\n",
       "      <td>is anybody still making texas swing? my father...</td>\n",
       "      <td>['is', 'anybody', 'still', 'making', 'texas', ...</td>\n",
       "      <td>['is', 'anybodi', 'still', 'make', 'texa', 'sw...</td>\n",
       "      <td>is anybodi still make texa swing my father in ...</td>\n",
       "    </tr>\n",
       "  </tbody>\n",
       "</table>\n",
       "</div>"
      ],
      "text/plain": [
       "   label                                             merged  \\\n",
       "0      0  country suggestions ve been starting to get in...   \n",
       "1      0   hank williams sr m so lonesome could cry (1949)    \n",
       "2      0                       cody jinks   loud and heavy    \n",
       "3      0  southern raised performs \"what day that will b...   \n",
       "4      0  is anybody still making texas swing? my father...   \n",
       "\n",
       "                                              tokens  \\\n",
       "0  ['country', 'suggestions', 've', 'been', 'star...   \n",
       "1  ['hank', 'williams', 'sr', 'm', 'so', 'lonesom...   \n",
       "2          ['cody', 'jinks', 'loud', 'and', 'heavy']   \n",
       "3  ['southern', 'raised', 'performs', 'what', 'da...   \n",
       "4  ['is', 'anybody', 'still', 'making', 'texas', ...   \n",
       "\n",
       "                                             stemmed  \\\n",
       "0  ['countri', 'suggest', 've', 'been', 'start', ...   \n",
       "1  ['hank', 'william', 'sr', 'm', 'so', 'lonesom'...   \n",
       "2           ['codi', 'jink', 'loud', 'and', 'heavi']   \n",
       "3  ['southern', 'rais', 'perform', 'what', 'day',...   \n",
       "4  ['is', 'anybodi', 'still', 'make', 'texa', 'sw...   \n",
       "\n",
       "                                               combo  \n",
       "0  countri suggest ve been start to get into coun...  \n",
       "1        hank william sr m so lonesom could cri 1949  \n",
       "2                           codi jink loud and heavi  \n",
       "3  southern rais perform what day that will be at...  \n",
       "4  is anybodi still make texa swing my father in ...  "
      ]
     },
     "execution_count": 118,
     "metadata": {},
     "output_type": "execute_result"
    }
   ],
   "source": [
    "country_rock = pd.read_csv('../datasets/country_rock.csv')\n",
    "country_rock.head()"
   ]
  },
  {
   "cell_type": "code",
   "execution_count": null,
   "metadata": {},
   "outputs": [],
   "source": [
    "# country_rock = pd.read_pickle('../datasets/country_rock.pkl')\n",
    "# country_rock.head()"
   ]
  },
  {
   "cell_type": "code",
   "execution_count": 119,
   "metadata": {},
   "outputs": [
    {
     "data": {
      "text/plain": [
       "0"
      ]
     },
     "execution_count": 119,
     "metadata": {},
     "output_type": "execute_result"
    }
   ],
   "source": [
    "# checking for null valuees in combo column\n",
    "country_rock['combo'].isnull().sum()"
   ]
  },
  {
   "cell_type": "code",
   "execution_count": 120,
   "metadata": {},
   "outputs": [
    {
     "name": "stdout",
     "output_type": "stream",
     "text": [
      "Value counts: \n",
      "0    0.500502\n",
      "1    0.499498\n",
      "Name: label, dtype: float64\n"
     ]
    }
   ],
   "source": [
    "# identifying X and y \n",
    "X = country_rock['combo']\n",
    "y = country_rock['label']\n",
    "    \n",
    "# splitting into train and test sets\n",
    "X_train, X_test, y_train, y_test = train_test_split(X, \n",
    "                                               y, \n",
    "                                               test_size=0.25,\n",
    "                                               shuffle=True,\n",
    "                                               stratify=y,\n",
    "                                               random_state=42)\n",
    "\n",
    "# checking class balance \n",
    "print(f'Value counts: \\n{y.value_counts(normalize=True)}')"
   ]
  },
  {
   "cell_type": "markdown",
   "metadata": {},
   "source": [
    "# Grid Searches for Model Benchmarking "
   ]
  },
  {
   "cell_type": "markdown",
   "metadata": {},
   "source": [
    "### _Explanation of System_"
   ]
  },
  {
   "cell_type": "markdown",
   "metadata": {},
   "source": [
    "#### For all of my grid search models, the following workflow is used to find and evaluate the best model for the chosen vectorizer and estimator pairing.\n",
    "\n",
    "#### The process is wrapped in the functions below. \n",
    "\n",
    "+ Building pipelines according to the following syntax: \n",
    "\n",
    "```python\n",
    "pipe = Pipeline([\n",
    "        (vec_nickname, vectorizer),\n",
    "        (est_nickname, estimator)\n",
    "    ])\n",
    "```\n",
    "\n",
    "+ Building Gridsearch parameter dictionaries according the following syntax: \n",
    "\n",
    "```python \n",
    "param_dict  = {\n",
    "    'vec_nickname__hyperparameter':[hyperparameter options],\n",
    "    'est_nickname__hyperparameter':[hyperparameter options]\n",
    "}\n",
    "```\n",
    "\n",
    "+ Building Gridsearch using the following syntax:\n",
    "\n",
    "```python\n",
    "grid = GridSearchCV(pipe, \n",
    "                   param_dict,\n",
    "                   cv = 5,\n",
    "                   verbose = 2,\n",
    "                   n_jobs=8)\n",
    "\n",
    "grid.fit(X_train, y_train)\n",
    "```\n",
    "\n",
    "+ Building a confusion matrix (where relevant) as follows: \n",
    "\n",
    "```python\n",
    "y_preds = grid.predict(X_test)\n",
    "\n",
    "tn, fp, fn, tp = confusion_matrix(y_test, y_preds).ravel()\n",
    "\n",
    "plot_confusion_matrix(grid, X_test, y_test, cmap=\"Blues\")  \n",
    "```"
   ]
  },
  {
   "cell_type": "code",
   "execution_count": 121,
   "metadata": {},
   "outputs": [],
   "source": [
    "def build_pipe(vec_nickname, vectorizer, est_nickname, estimator):\n",
    "    pipe = Pipeline([\n",
    "        (vec_nickname, vectorizer),\n",
    "        (est_nickname, estimator)\n",
    "    ])\n",
    "    return pipe"
   ]
  },
  {
   "cell_type": "code",
   "execution_count": 122,
   "metadata": {},
   "outputs": [],
   "source": [
    "def grid_search(X_train, y_train, X_test, y_test, est_name, pipe, param_dict):\n",
    "    \n",
    "    grid = GridSearchCV(pipe, \n",
    "                       param_dict,\n",
    "                       cv = 5,\n",
    "                       verbose = 2,\n",
    "                       n_jobs=8)\n",
    "    \n",
    "    grid.fit(X_train, y_train)\n",
    "    \n",
    "    print(f'Score for gridsearched {est_name} Pipeline: {grid.best_score_}\\n')\n",
    "    print(f'Best parameters from {est_name} pipeline gridsearch:  {grid.best_params_}\\n')\n",
    "    \n",
    "    y_preds = grid.predict(X_test)\n",
    "    \n",
    "    #confusion matrix\n",
    "    \n",
    "    tn, fp, fn, tp = confusion_matrix(y_test, y_preds).ravel()\n",
    "    plot_confusion_matrix(grid, X_test, y_test, cmap=\"Blues\")      "
   ]
  },
  {
   "cell_type": "code",
   "execution_count": 123,
   "metadata": {},
   "outputs": [],
   "source": [
    "def model_metrics(model, est_name):\n",
    "    print(f'Score for gridsearched {est_name} Pipeline: {model.best_score_}\\n')\n",
    "    print(f'Best parameters from {est_name} pipeline gridsearch:  {model.best_params_}\\n')\n",
    "    \n",
    "    y_preds = model.predict(X_test)\n",
    "    \n",
    "    #confusion matrix\n",
    "    \n",
    "    tn, fp, fn, tp = confusion_matrix(y_test, y_preds).ravel()\n",
    "    plot_confusion_matrix(model, X_test, y_test, cmap=\"Blues\")  "
   ]
  },
  {
   "cell_type": "markdown",
   "metadata": {},
   "source": [
    "## `Logistic Regression`"
   ]
  },
  {
   "cell_type": "markdown",
   "metadata": {},
   "source": [
    "#### `Countvectorizer + Logistic Regression`"
   ]
  },
  {
   "cell_type": "code",
   "execution_count": 124,
   "metadata": {},
   "outputs": [
    {
     "name": "stdout",
     "output_type": "stream",
     "text": [
      "Fitting 5 folds for each of 216 candidates, totalling 1080 fits\n"
     ]
    },
    {
     "name": "stderr",
     "output_type": "stream",
     "text": [
      "/Users/emilynaftalin/opt/anaconda3/lib/python3.8/site-packages/sklearn/model_selection/_search.py:918: UserWarning: One or more of the test scores are non-finite: [       nan        nan        nan        nan        nan        nan\n",
      "        nan        nan        nan        nan        nan        nan\n",
      "        nan        nan        nan        nan        nan        nan\n",
      "        nan        nan        nan        nan        nan        nan\n",
      "        nan        nan        nan        nan        nan        nan\n",
      "        nan        nan        nan        nan        nan        nan\n",
      " 0.70775885 0.81320089 0.81542682 0.83816781 0.82389802 0.83058599\n",
      " 0.71221667 0.82256271 0.81921451 0.84217722 0.83013956 0.84039448\n",
      " 0.70753613 0.80517389 0.80985517 0.81186161 0.79915482 0.80205039\n",
      " 0.7126621  0.82055478 0.81453422 0.83638309 0.81542782 0.83192403\n",
      " 0.70753613 0.80428228 0.80762601 0.81141692 0.79291625 0.79447478\n",
      " 0.71221667 0.81899427 0.81609522 0.83036352 0.81163914 0.82345184\n",
      "        nan        nan        nan        nan        nan        nan\n",
      "        nan        nan        nan        nan        nan        nan\n",
      "        nan        nan        nan        nan        nan        nan\n",
      "        nan        nan        nan        nan        nan        nan\n",
      "        nan        nan        nan        nan        nan        nan\n",
      "        nan        nan        nan        nan        nan        nan\n",
      " 0.70753613 0.81587623 0.81743327 0.84061919 0.82813362 0.84017177\n",
      " 0.71221667 0.82390001 0.81988315 0.84797332 0.82924721 0.84641356\n",
      " 0.70753613 0.81030036 0.81163666 0.81921724 0.80762403 0.81252803\n",
      " 0.7126621  0.82612792 0.81498015 0.84240192 0.82456717 0.83326108\n",
      " 0.70753613 0.80740255 0.81029862 0.81676536 0.80316571 0.80494819\n",
      " 0.7126621  0.82323037 0.81587176 0.83905818 0.82099947 0.83103192\n",
      "        nan        nan        nan        nan        nan        nan\n",
      "        nan        nan        nan        nan        nan        nan\n",
      "        nan        nan        nan        nan        nan        nan\n",
      "        nan        nan        nan        nan        nan        nan\n",
      "        nan        nan        nan        nan        nan        nan\n",
      "        nan        nan        nan        nan        nan        nan\n",
      " 0.70753613 0.81632142 0.81765623 0.84351749 0.82835634 0.84373698\n",
      " 0.7126621  0.82568324 0.81966044 0.84997976 0.82724077 0.84685676\n",
      " 0.70753613 0.81431324 0.81163691 0.82768794 0.80962997 0.82099997\n",
      " 0.71221667 0.82702003 0.8163172  0.84329403 0.82612768 0.83883497\n",
      " 0.70775885 0.81007739 0.81252877 0.82189208 0.81185987 0.81386632\n",
      " 0.71221667 0.82612817 0.81631819 0.83772064 0.82367357 0.83036278]\n",
      "  warnings.warn(\n"
     ]
    },
    {
     "name": "stdout",
     "output_type": "stream",
     "text": [
      "Score for gridsearched Logistic Regression Pipeline: 0.8499797642723952\n",
      "\n",
      "Best parameters from Logistic Regression pipeline gridsearch:  {'cvec__max_features': 5000, 'cvec__min_df': 1, 'cvec__ngram_range': (1, 1), 'cvec__stop_words': 'english', 'logreg__C': 1, 'logreg__penalty': 'l2', 'logreg__solver': 'liblinear'}\n",
      "\n"
     ]
    },
    {
     "data": {
      "image/png": "[encoded data removed]",
      "text/plain": [
       "<Figure size 432x288 with 2 Axes>"
      ]
     },
     "metadata": {
      "needs_background": "light"
     },
     "output_type": "display_data"
    }
   ],
   "source": [
    "logreg_cvec_pipe = build_pipe('cvec', CountVectorizer(), 'logreg', LogisticRegression())\n",
    "\n",
    "logreg_cvec_pipe_params = {\n",
    "    'cvec__max_features':[3000, 4000, 5000],\n",
    "    'cvec__stop_words': [None, 'english'],\n",
    "    'cvec__ngram_range': [(1,1),(1,2),(1,3)],\n",
    "    'cvec__min_df': [0.75, 1],\n",
    "    'logreg__C': [0.1, 1, 10],\n",
    "    'logreg__penalty' : ['l1', 'l2'],\n",
    "    'logreg__solver': ['liblinear']\n",
    "}\n",
    "\n",
    "logreg_cvec_grd_fxn = grid_search(X_train, y_train, X_test, y_test, 'Logistic Regression', logreg_cvec_pipe, logreg_cvec_pipe_params)\n",
    "\n",
    "# print(logreg_cvec_grd_fxn.best_params_)"
   ]
  },
  {
   "cell_type": "markdown",
   "metadata": {},
   "source": [
    "_Below, I am making sure that my function is working by running through the steps outside the function with a Logistic Regression._"
   ]
  },
  {
   "cell_type": "code",
   "execution_count": 125,
   "metadata": {},
   "outputs": [
    {
     "name": "stdout",
     "output_type": "stream",
     "text": [
      "Fitting 5 folds for each of 216 candidates, totalling 1080 fits\n"
     ]
    },
    {
     "name": "stderr",
     "output_type": "stream",
     "text": [
      "/Users/emilynaftalin/opt/anaconda3/lib/python3.8/site-packages/sklearn/model_selection/_search.py:918: UserWarning: One or more of the test scores are non-finite: [       nan        nan        nan        nan        nan        nan\n",
      "        nan        nan        nan        nan        nan        nan\n",
      "        nan        nan        nan        nan        nan        nan\n",
      "        nan        nan        nan        nan        nan        nan\n",
      "        nan        nan        nan        nan        nan        nan\n",
      "        nan        nan        nan        nan        nan        nan\n",
      " 0.70753613 0.81320089 0.81587251 0.83816781 0.82412074 0.83058599\n",
      " 0.7126621  0.82256271 0.81921426 0.84217722 0.82991635 0.84039448\n",
      " 0.70775885 0.80517389 0.81007814 0.81186161 0.79893185 0.80205039\n",
      " 0.71221667 0.82055478 0.81475718 0.83638309 0.81565029 0.83192403\n",
      " 0.70775885 0.80428228 0.80762626 0.81141692 0.79247007 0.79447478\n",
      " 0.71221667 0.81899427 0.81587226 0.83036352 0.81297694 0.82345184\n",
      "        nan        nan        nan        nan        nan        nan\n",
      "        nan        nan        nan        nan        nan        nan\n",
      "        nan        nan        nan        nan        nan        nan\n",
      "        nan        nan        nan        nan        nan        nan\n",
      "        nan        nan        nan        nan        nan        nan\n",
      "        nan        nan        nan        nan        nan        nan\n",
      " 0.70775885 0.81587623 0.81743302 0.84061919 0.8285803  0.84017177\n",
      " 0.7126621  0.82390001 0.81966019 0.84797332 0.83036203 0.84641356\n",
      " 0.70753613 0.81030036 0.81119073 0.81921724 0.80673266 0.81252803\n",
      " 0.7126621  0.82612792 0.81564954 0.84240192 0.82456741 0.83326108\n",
      " 0.70753613 0.80740255 0.80940701 0.81676536 0.80361189 0.80494819\n",
      " 0.71221667 0.82323037 0.81564929 0.83905818 0.82122244 0.83103192\n",
      "        nan        nan        nan        nan        nan        nan\n",
      "        nan        nan        nan        nan        nan        nan\n",
      "        nan        nan        nan        nan        nan        nan\n",
      "        nan        nan        nan        nan        nan        nan\n",
      "        nan        nan        nan        nan        nan        nan\n",
      "        nan        nan        nan        nan        nan        nan\n",
      " 0.70775885 0.81632142 0.81743327 0.84351749 0.82991685 0.84373698\n",
      " 0.7126621  0.82568324 0.81943747 0.84997976 0.82880028 0.84685676\n",
      " 0.70775885 0.81431324 0.81141394 0.82768794 0.81052208 0.82099997\n",
      " 0.71221667 0.82702003 0.81609423 0.84329403 0.8250126  0.83883497\n",
      " 0.70753613 0.81007739 0.81186012 0.82189208 0.81208334 0.81386632\n",
      " 0.7126621  0.82612817 0.81587226 0.83772064 0.82434296 0.83036278]\n",
      "  warnings.warn(\n"
     ]
    },
    {
     "data": {
      "text/plain": [
       "GridSearchCV(cv=5,\n",
       "             estimator=Pipeline(steps=[('cvec', CountVectorizer()),\n",
       "                                       ('logreg', LogisticRegression())]),\n",
       "             n_jobs=8,\n",
       "             param_grid={'cvec__max_features': [3000, 4000, 5000],\n",
       "                         'cvec__min_df': [0.75, 1],\n",
       "                         'cvec__ngram_range': [(1, 1), (1, 2), (1, 3)],\n",
       "                         'cvec__stop_words': [None, 'english'],\n",
       "                         'logreg__C': [0.1, 1, 10],\n",
       "                         'logreg__penalty': ['l1', 'l2'],\n",
       "                         'logreg__solver': ['liblinear']},\n",
       "             verbose=2)"
      ]
     },
     "execution_count": 125,
     "metadata": {},
     "output_type": "execute_result"
    }
   ],
   "source": [
    "logreg_cvec_pipe = Pipeline([\n",
    "        ('cvec', CountVectorizer()),\n",
    "        ('logreg', LogisticRegression())\n",
    "    ])\n",
    "\n",
    "logreg_cvec_pipe_params = {\n",
    "    'cvec__max_features':[3000, 4000, 5000],\n",
    "    'cvec__stop_words': [None, 'english'],\n",
    "    'cvec__ngram_range': [(1,1),(1,2),(1,3)],\n",
    "    'cvec__min_df': [0.75, 1],\n",
    "    'logreg__C': [0.1, 1, 10],\n",
    "    'logreg__penalty' : ['l1', 'l2'],\n",
    "    'logreg__solver': ['liblinear']\n",
    "}\n",
    "\n",
    "logreg_cvec_grid = GridSearchCV(logreg_cvec_pipe, \n",
    "                   logreg_cvec_pipe_params,\n",
    "                   cv = 5,\n",
    "                   verbose = 2,\n",
    "                   n_jobs=8)\n",
    "\n",
    "logreg_cvec_grid.fit(X_train, y_train)"
   ]
  },
  {
   "cell_type": "code",
   "execution_count": 126,
   "metadata": {},
   "outputs": [
    {
     "data": {
      "text/plain": [
       "{'cvec__max_features': 5000,\n",
       " 'cvec__min_df': 1,\n",
       " 'cvec__ngram_range': (1, 1),\n",
       " 'cvec__stop_words': 'english',\n",
       " 'logreg__C': 1,\n",
       " 'logreg__penalty': 'l2',\n",
       " 'logreg__solver': 'liblinear'}"
      ]
     },
     "execution_count": 126,
     "metadata": {},
     "output_type": "execute_result"
    }
   ],
   "source": [
    "logreg_cvec_grid.best_params_"
   ]
  },
  {
   "cell_type": "code",
   "execution_count": 127,
   "metadata": {},
   "outputs": [
    {
     "name": "stdout",
     "output_type": "stream",
     "text": [
      "Score for gridsearched Logistic Regression Pipeline: 0.8499797642723952\n",
      "\n",
      "Best parameters from Logistic Regression pipeline gridsearch:  {'cvec__max_features': 5000, 'cvec__min_df': 1, 'cvec__ngram_range': (1, 1), 'cvec__stop_words': 'english', 'logreg__C': 1, 'logreg__penalty': 'l2', 'logreg__solver': 'liblinear'}\n",
      "\n"
     ]
    },
    {
     "data": {
      "image/png": "[encoded data removed]",
      "text/plain": [
       "<Figure size 432x288 with 2 Axes>"
      ]
     },
     "metadata": {
      "needs_background": "light"
     },
     "output_type": "display_data"
    }
   ],
   "source": [
    "model_metrics(logreg_cvec_grid, 'Logistic Regression')"
   ]
  },
  {
   "cell_type": "markdown",
   "metadata": {},
   "source": [
    "_Looks like the function is working, but since the function outputs a confusing nonetype object, I will not use and will instead do grid searches manually, outside a functio. I will keep the functions in the notebook in case I need to use any of them. I will be using the `model_metrics` function to get the best parameters, best score, and confusion matrix for each model._ "
   ]
  },
  {
   "cell_type": "markdown",
   "metadata": {},
   "source": [
    "#### `Tfidf + Logistic Regression`"
   ]
  },
  {
   "cell_type": "code",
   "execution_count": 128,
   "metadata": {},
   "outputs": [
    {
     "name": "stdout",
     "output_type": "stream",
     "text": [
      "Fitting 5 folds for each of 648 candidates, totalling 3240 fits\n"
     ]
    },
    {
     "name": "stderr",
     "output_type": "stream",
     "text": [
      "/Users/emilynaftalin/opt/anaconda3/lib/python3.8/site-packages/sklearn/model_selection/_search.py:918: UserWarning: One or more of the test scores are non-finite: [       nan        nan        nan        nan        nan        nan\n",
      " 0.60833538 0.6114569  0.60722055 0.60900428 0.60788945 0.60900428\n",
      "        nan        nan        nan        nan        nan        nan\n",
      " 0.60722055 0.60900428 0.60699759 0.60722055 0.60699759 0.60722055\n",
      "        nan        nan        nan        nan        nan        nan\n",
      " 0.60722055 0.60900428 0.60699759 0.60722055 0.60722055 0.60722055\n",
      "        nan        nan        nan        nan        nan        nan\n",
      "        nan        nan        nan        nan        nan        nan\n",
      "        nan        nan        nan        nan        nan        nan\n",
      "        nan        nan        nan        nan        nan        nan\n",
      "        nan        nan        nan        nan        nan        nan\n",
      "        nan        nan        nan        nan        nan        nan\n",
      "        nan        nan        nan        nan        nan        nan\n",
      "        nan        nan        nan        nan        nan        nan\n",
      "        nan        nan        nan        nan        nan        nan\n",
      "        nan        nan        nan        nan        nan        nan\n",
      "        nan        nan        nan        nan        nan        nan\n",
      "        nan        nan        nan        nan        nan        nan\n",
      "        nan        nan        nan        nan        nan        nan\n",
      " 0.80784948 0.81855008 0.80138497 0.82256271 0.79781777 0.81944194\n",
      "        nan        nan        nan        nan        nan        nan\n",
      " 0.80517439 0.8203338  0.80851763 0.82568373 0.80428228 0.82456816\n",
      "        nan        nan        nan        nan        nan        nan\n",
      " 0.80628897 0.82100171 0.81319916 0.82523755 0.8116389  0.82434644\n",
      "        nan        nan        nan        nan        nan        nan\n",
      " 0.80740379 0.81877329 0.801162   0.8223395  0.79781777 0.81944194\n",
      "        nan        nan        nan        nan        nan        nan\n",
      " 0.80495142 0.82077924 0.80874059 0.82612991 0.80405931 0.82412248\n",
      "        nan        nan        nan        nan        nan        nan\n",
      " 0.80495117 0.82055553 0.81297594 0.82479162 0.81186186 0.82479187\n",
      "        nan        nan        nan        nan        nan        nan\n",
      " 0.80740379 0.81877329 0.801162   0.8223395  0.79781777 0.81944194\n",
      "        nan        nan        nan        nan        nan        nan\n",
      " 0.80495142 0.82077924 0.80874059 0.82612991 0.80405931 0.82412248\n",
      "        nan        nan        nan        nan        nan        nan\n",
      " 0.80495117 0.82055553 0.81297594 0.82479162 0.81186186 0.82479187\n",
      "        nan        nan        nan        nan        nan        nan\n",
      " 0.79959851 0.80294399 0.79402636 0.80361214 0.7944718  0.80361264\n",
      "        nan        nan        nan        nan        nan        nan\n",
      " 0.79803776 0.80338942 0.79023744 0.80138298 0.79023744 0.80071409\n",
      "        nan        nan        nan        nan        nan        nan\n",
      " 0.79536465 0.80316571 0.78823125 0.79959951 0.78823224 0.79982173\n",
      "        nan        nan        nan        nan        nan        nan\n",
      "        nan        nan        nan        nan        nan        nan\n",
      "        nan        nan        nan        nan        nan        nan\n",
      "        nan        nan        nan        nan        nan        nan\n",
      "        nan        nan        nan        nan        nan        nan\n",
      "        nan        nan        nan        nan        nan        nan\n",
      "        nan        nan        nan        nan        nan        nan\n",
      "        nan        nan        nan        nan        nan        nan\n",
      "        nan        nan        nan        nan        nan        nan\n",
      "        nan        nan        nan        nan        nan        nan\n",
      "        nan        nan        nan        nan        nan        nan\n",
      "        nan        nan        nan        nan        nan        nan\n",
      "        nan        nan        nan        nan        nan        nan\n",
      " 0.83460036 0.83995054 0.81676462 0.83415418 0.80918777 0.8314791\n",
      "        nan        nan        nan        nan        nan        nan\n",
      " 0.8386125  0.84217945 0.82167011 0.84106611 0.81743426 0.83950486\n",
      "        nan        nan        nan        nan        nan        nan\n",
      " 0.8386125  0.84596912 0.82523805 0.84351824 0.82323161 0.83905918\n",
      "        nan        nan        nan        nan        nan        nan\n",
      " 0.83460036 0.83995054 0.81654165 0.83415418 0.8089648  0.8314791\n",
      "        nan        nan        nan        nan        nan        nan\n",
      " 0.8386125  0.84217945 0.82167011 0.84106586 0.81765722 0.83972757\n",
      "        nan        nan        nan        nan        nan        nan\n",
      " 0.83838953 0.84619208 0.82523805 0.84351824 0.82323161 0.83883646\n",
      "        nan        nan        nan        nan        nan        nan\n",
      " 0.83460036 0.84017351 0.81654165 0.83415418 0.8089648  0.8314791\n",
      "        nan        nan        nan        nan        nan        nan\n",
      " 0.8386125  0.84217945 0.82167011 0.84106586 0.81765722 0.83972757\n",
      "        nan        nan        nan        nan        nan        nan\n",
      " 0.83838953 0.84619208 0.82523805 0.84351824 0.82323161 0.83883646\n",
      "        nan        nan        nan        nan        nan        nan\n",
      " 0.82590248 0.83615864 0.80250029 0.82545878 0.79625875 0.8187728\n",
      "        nan        nan        nan        nan        nan        nan\n",
      " 0.83169983 0.83749618 0.81587226 0.83437467 0.80873836 0.82969537\n",
      "        nan        nan        nan        nan        nan        nan\n",
      " 0.83014006 0.83281515 0.82255973 0.83281565 0.82100046 0.83459862\n",
      "        nan        nan        nan        nan        nan        nan\n",
      "        nan        nan        nan        nan        nan        nan\n",
      "        nan        nan        nan        nan        nan        nan\n",
      "        nan        nan        nan        nan        nan        nan\n",
      "        nan        nan        nan        nan        nan        nan\n",
      "        nan        nan        nan        nan        nan        nan\n",
      "        nan        nan        nan        nan        nan        nan\n",
      "        nan        nan        nan        nan        nan        nan\n",
      "        nan        nan        nan        nan        nan        nan\n",
      "        nan        nan        nan        nan        nan        nan\n",
      "        nan        nan        nan        nan        nan        nan\n",
      "        nan        nan        nan        nan        nan        nan\n",
      "        nan        nan        nan        nan        nan        nan\n",
      " 0.8412856  0.84663578 0.80940626 0.83682629 0.80450375 0.83169983\n",
      "        nan        nan        nan        nan        nan        nan\n",
      " 0.84931112 0.85666575 0.82055404 0.84173128 0.81386309 0.83950138\n",
      "        nan        nan        nan        nan        nan        nan\n",
      " 0.85220793 0.85644253 0.83013882 0.84819703 0.82278319 0.8397246\n",
      "        nan        nan        nan        nan        nan        nan\n",
      " 0.84106264 0.84663578 0.80940626 0.83682629 0.80472672 0.83192279\n",
      "        nan        nan        nan        nan        nan        nan\n",
      " 0.84931112 0.85688871 0.82055404 0.84150832 0.81386309 0.83950138\n",
      "        nan        nan        nan        nan        nan        nan\n",
      " 0.85220793 0.85644253 0.83013882 0.84819703 0.82278319 0.8397246\n",
      "        nan        nan        nan        nan        nan        nan\n",
      " 0.84106264 0.84663578 0.80940626 0.83682629 0.80472672 0.83192279\n",
      "        nan        nan        nan        nan        nan        nan\n",
      " 0.84931112 0.85688871 0.82055404 0.84150832 0.81386309 0.83927866\n",
      "        nan        nan        nan        nan        nan        nan\n",
      " 0.85220793 0.85644253 0.83013882 0.84819703 0.82278319 0.8397246 ]\n",
      "  warnings.warn(\n"
     ]
    },
    {
     "data": {
      "text/plain": [
       "GridSearchCV(cv=5,\n",
       "             estimator=Pipeline(steps=[('tfidf', TfidfVectorizer()),\n",
       "                                       ('logreg', LogisticRegression())]),\n",
       "             n_jobs=8,\n",
       "             param_grid={'logreg__C': [0.1, 1, 10],\n",
       "                         'logreg__penalty': ['l1', 'l2'],\n",
       "                         'logreg__solver': ['liblinear', 'newton-cg', 'lbfgs'],\n",
       "                         'tfidf__max_features': [3000, 4000, 5000],\n",
       "                         'tfidf__min_df': [0.75, 1],\n",
       "                         'tfidf__ngram_range': [(1, 1), (1, 2), (1, 3)],\n",
       "                         'tfidf__stop_words': [None, 'english']},\n",
       "             verbose=2)"
      ]
     },
     "execution_count": 128,
     "metadata": {},
     "output_type": "execute_result"
    }
   ],
   "source": [
    "logreg_tfidf_pipe = Pipeline([\n",
    "        ('tfidf', TfidfVectorizer()),\n",
    "        ('logreg', LogisticRegression())\n",
    "    ])\n",
    "\n",
    "logreg_tfidf_pipe_params = {\n",
    "    'tfidf__max_features':[3000, 4000, 5000],\n",
    "    'tfidf__stop_words': [None, 'english'],\n",
    "    'tfidf__ngram_range': [(1,1),(1,2),(1,3)],\n",
    "    'tfidf__min_df': [0.75, 1],\n",
    "    'logreg__C': [0.1, 1, 10],\n",
    "    'logreg__penalty' : ['l1', 'l2'],\n",
    "    'logreg__solver': ['liblinear', 'newton-cg', 'lbfgs']\n",
    "}\n",
    "\n",
    "logreg_tfidf_grid = GridSearchCV(logreg_tfidf_pipe, \n",
    "                   logreg_tfidf_pipe_params,\n",
    "                   cv = 5,\n",
    "                   verbose = 2,\n",
    "                   n_jobs=8)\n",
    "\n",
    "logreg_tfidf_grid.fit(X_train, y_train)"
   ]
  },
  {
   "cell_type": "code",
   "execution_count": 131,
   "metadata": {},
   "outputs": [
    {
     "data": {
      "text/plain": [
       "0.9839500668747213"
      ]
     },
     "execution_count": 131,
     "metadata": {},
     "output_type": "execute_result"
    }
   ],
   "source": [
    "logreg_tfidf_grid.score(X_train, y_train)"
   ]
  },
  {
   "cell_type": "code",
   "execution_count": 132,
   "metadata": {},
   "outputs": [
    {
     "data": {
      "text/plain": [
       "0.8663101604278075"
      ]
     },
     "execution_count": 132,
     "metadata": {},
     "output_type": "execute_result"
    }
   ],
   "source": [
    "logreg_tfidf_grid.score(X_test, y_test)"
   ]
  },
  {
   "cell_type": "code",
   "execution_count": null,
   "metadata": {},
   "outputs": [],
   "source": [
    "logreg_cvec_grid"
   ]
  },
  {
   "cell_type": "code",
   "execution_count": 133,
   "metadata": {},
   "outputs": [
    {
     "data": {
      "text/plain": [
       "{'logreg__C': 10,\n",
       " 'logreg__penalty': 'l2',\n",
       " 'logreg__solver': 'newton-cg',\n",
       " 'tfidf__max_features': 4000,\n",
       " 'tfidf__min_df': 1,\n",
       " 'tfidf__ngram_range': (1, 1),\n",
       " 'tfidf__stop_words': 'english'}"
      ]
     },
     "execution_count": 133,
     "metadata": {},
     "output_type": "execute_result"
    }
   ],
   "source": [
    "logreg_tfidf_grid.best_params_"
   ]
  },
  {
   "cell_type": "code",
   "execution_count": 129,
   "metadata": {},
   "outputs": [
    {
     "name": "stdout",
     "output_type": "stream",
     "text": [
      "Score for gridsearched Logistic Regression w/ TfIdf Pipeline: 0.8568887134298192\n",
      "\n",
      "Best parameters from Logistic Regression w/ TfIdf pipeline gridsearch:  {'logreg__C': 10, 'logreg__penalty': 'l2', 'logreg__solver': 'newton-cg', 'tfidf__max_features': 4000, 'tfidf__min_df': 1, 'tfidf__ngram_range': (1, 1), 'tfidf__stop_words': 'english'}\n",
      "\n"
     ]
    },
    {
     "data": {
      "image/png": "[encoded data removed]",
      "text/plain": [
       "<Figure size 432x288 with 2 Axes>"
      ]
     },
     "metadata": {
      "needs_background": "light"
     },
     "output_type": "display_data"
    }
   ],
   "source": [
    "model_metrics(logreg_tfidf_grid, \"Logistic Regression w/ TfIdf\")"
   ]
  },
  {
   "cell_type": "markdown",
   "metadata": {},
   "source": [
    "```\n",
    "\n",
    "pipe = Pipeline([\n",
    "        (vec_nickname, vectorizer),\n",
    "        (est_nickname, estimator)\n",
    "    ])\n",
    "```\n",
    "\n",
    "+ Building Gridsearch parameter dictionaries according the following syntax: \n",
    "\n",
    "```python \n",
    "param_dict  = {\n",
    "    'vec_nickname__hyperparameter':[hyperparameter options],\n",
    "    'est_nickname__hyperparameter':[hyperparameter options]\n",
    "}\n",
    "```\n",
    "\n",
    "+ Building Gridsearch using the following syntax:\n",
    "\n",
    "```python\n",
    "grid = GridSearchCV(pipe, \n",
    "                   param_dict,\n",
    "                   cv = 5,\n",
    "                   verbose = 2,\n",
    "                   n_jobs=8)\n",
    "```\n",
    "\n",
    "+ Fitting the grid search on the training data.\n",
    "\n",
    "```\n",
    "grid.fit(X_train, y_train)\n",
    "```"
   ]
  },
  {
   "cell_type": "markdown",
   "metadata": {},
   "source": [
    "## `Naïve Bayes` "
   ]
  },
  {
   "cell_type": "markdown",
   "metadata": {},
   "source": [
    "#### `Naïve Bayes + CountVectorizer`"
   ]
  },
  {
   "cell_type": "code",
   "execution_count": 144,
   "metadata": {},
   "outputs": [],
   "source": [
    "nb_cvec_pipe = Pipeline([\n",
    "    ('cvec', CountVectorizer()),\n",
    "    ('nb', MultinomialNB())\n",
    "])\n",
    "\n",
    "nb_cvec_params = {\n",
    "    'cvec__max_features': [2000, 3000, 4000, 5000],\n",
    "    'cvec__ngram_range': [(1,1),(1,2),(1,3)],\n",
    "    'cvec__min_df': [0.75, 1],\n",
    "    'nb__alpha': [0.001, 0.1, 1.0, 10]\n",
    "}\n",
    "\n",
    "nb_cvec_grid = GridSearchCV(nb_cvec_pipe,\n",
    "                            nb_cvec_params,\n",
    "                            cv=5,\n",
    "                            verbose=2,\n",
    "                            n_jobs=8)"
   ]
  },
  {
   "cell_type": "code",
   "execution_count": 145,
   "metadata": {},
   "outputs": [
    {
     "name": "stdout",
     "output_type": "stream",
     "text": [
      "Fitting 5 folds for each of 96 candidates, totalling 480 fits\n"
     ]
    },
    {
     "name": "stderr",
     "output_type": "stream",
     "text": [
      "/Users/emilynaftalin/opt/anaconda3/lib/python3.8/site-packages/sklearn/model_selection/_search.py:918: UserWarning: One or more of the test scores are non-finite: [       nan        nan        nan        nan        nan        nan\n",
      "        nan        nan        nan        nan        nan        nan\n",
      " 0.82033033 0.82344961 0.82189183 0.79113129 0.7875626  0.78800803\n",
      " 0.78199169 0.77485729 0.77998277 0.78087413 0.77418716 0.76371002\n",
      "        nan        nan        nan        nan        nan        nan\n",
      "        nan        nan        nan        nan        nan        nan\n",
      " 0.82701581 0.83659985 0.83214402 0.79024067 0.80628772 0.80695588\n",
      " 0.80584155 0.79202241 0.8024998  0.80205436 0.79514417 0.78176749\n",
      "        nan        nan        nan        nan        nan        nan\n",
      "        nan        nan        nan        nan        nan        nan\n",
      " 0.83147463 0.84083595 0.83704827 0.78845769 0.81943822 0.82055255\n",
      " 0.81788019 0.79893309 0.81141518 0.81409102 0.80829615 0.79558911\n",
      "        nan        nan        nan        nan        nan        nan\n",
      "        nan        nan        nan        nan        nan        nan\n",
      " 0.83102919 0.84150559 0.84284363 0.78533816 0.8256805  0.82835534\n",
      " 0.82323037 0.79536763 0.82300666 0.82322987 0.81565128 0.80027014]\n",
      "  warnings.warn(\n"
     ]
    },
    {
     "data": {
      "text/plain": [
       "GridSearchCV(cv=5,\n",
       "             estimator=Pipeline(steps=[('cvec', CountVectorizer()),\n",
       "                                       ('nb', MultinomialNB())]),\n",
       "             n_jobs=8,\n",
       "             param_grid={'cvec__max_features': [2000, 3000, 4000, 5000],\n",
       "                         'cvec__min_df': [0.75, 1],\n",
       "                         'cvec__ngram_range': [(1, 1), (1, 2), (1, 3)],\n",
       "                         'nb__alpha': [0.001, 0.1, 1.0, 10]},\n",
       "             verbose=2)"
      ]
     },
     "execution_count": 145,
     "metadata": {},
     "output_type": "execute_result"
    }
   ],
   "source": [
    "nb_cvec_grid.fit(X_train, y_train)"
   ]
  },
  {
   "cell_type": "code",
   "execution_count": 146,
   "metadata": {},
   "outputs": [
    {
     "name": "stdout",
     "output_type": "stream",
     "text": [
      "Score for gridsearched Multinomial Naive Bayes w/ CountVectorizer Pipeline: 0.8428436287252982\n",
      "\n",
      "Best parameters from Multinomial Naive Bayes w/ CountVectorizer pipeline gridsearch:  {'cvec__max_features': 5000, 'cvec__min_df': 1, 'cvec__ngram_range': (1, 1), 'nb__alpha': 1.0}\n",
      "\n"
     ]
    },
    {
     "data": {
      "image/png": "[encoded data removed]",
      "text/plain": [
       "<Figure size 432x288 with 2 Axes>"
      ]
     },
     "metadata": {
      "needs_background": "light"
     },
     "output_type": "display_data"
    }
   ],
   "source": [
    "model_metrics(nb_cvec_grid, 'Multinomial Naive Bayes w/ CountVectorizer')"
   ]
  },
  {
   "cell_type": "code",
   "execution_count": 147,
   "metadata": {},
   "outputs": [
    {
     "data": {
      "text/plain": [
       "0.9335711101203745"
      ]
     },
     "execution_count": 147,
     "metadata": {},
     "output_type": "execute_result"
    }
   ],
   "source": [
    "nb_cvec_grid.score(X_train, y_train)"
   ]
  },
  {
   "cell_type": "code",
   "execution_count": 148,
   "metadata": {},
   "outputs": [
    {
     "data": {
      "text/plain": [
       "0.8522727272727273"
      ]
     },
     "execution_count": 148,
     "metadata": {},
     "output_type": "execute_result"
    }
   ],
   "source": [
    "nb_cvec_grid.score(X_test, y_test)"
   ]
  },
  {
   "cell_type": "markdown",
   "metadata": {},
   "source": [
    "#### `Naïve Bayes + TfIdf` "
   ]
  },
  {
   "cell_type": "markdown",
   "metadata": {},
   "source": [
    "_Below I will build pipeline including Multinomial Naive Bayes. Though MNB asks us to have positive integers and Tf-idf does not yield positive integers, fractional counts (such as Tf-Idf) actually to work with multinomial distributions in practice._\n",
    "\n",
    "_Citation: DSI 5.04-lesson-nlp-ii_"
   ]
  },
  {
   "cell_type": "code",
   "execution_count": 137,
   "metadata": {},
   "outputs": [],
   "source": [
    "nb_tfidf_pipe = Pipeline([\n",
    "    ('tfidf', TfidfVectorizer()),\n",
    "    ('nb', MultinomialNB())\n",
    "])\n",
    "\n",
    "nb_tfidf_params = {\n",
    "    'tfidf__max_features': [2000, 3000, 4000, 5000],\n",
    "    'tfidf__ngram_range': [(1,1),(1,2),(1,3)],\n",
    "    'tfidf__min_df': [0.75, 1]\n",
    "}\n",
    "\n",
    "nb_tfidf_grid = GridSearchCV(nb_tfidf_pipe,\n",
    "                            nb_tfidf_params,\n",
    "                            cv=5,\n",
    "                            verbose=2,\n",
    "                            n_jobs=8)"
   ]
  },
  {
   "cell_type": "code",
   "execution_count": 138,
   "metadata": {},
   "outputs": [
    {
     "name": "stdout",
     "output_type": "stream",
     "text": [
      "Fitting 5 folds for each of 24 candidates, totalling 120 fits\n"
     ]
    },
    {
     "name": "stderr",
     "output_type": "stream",
     "text": [
      "/Users/emilynaftalin/opt/anaconda3/lib/python3.8/site-packages/sklearn/model_selection/_search.py:918: UserWarning: One or more of the test scores are non-finite: [       nan        nan        nan 0.82144391 0.78733939 0.78354947\n",
      "        nan        nan        nan 0.83370527 0.80784724 0.79893185\n",
      "        nan        nan        nan 0.83972509 0.82166762 0.81319792\n",
      "        nan        nan        nan 0.83638309 0.8283546  0.82189158]\n",
      "  warnings.warn(\n"
     ]
    },
    {
     "data": {
      "text/plain": [
       "GridSearchCV(cv=5,\n",
       "             estimator=Pipeline(steps=[('tfidf', TfidfVectorizer()),\n",
       "                                       ('nb', MultinomialNB())]),\n",
       "             n_jobs=8,\n",
       "             param_grid={'tfidf__max_features': [2000, 3000, 4000, 5000],\n",
       "                         'tfidf__min_df': [0.75, 1],\n",
       "                         'tfidf__ngram_range': [(1, 1), (1, 2), (1, 3)]},\n",
       "             verbose=2)"
      ]
     },
     "execution_count": 138,
     "metadata": {},
     "output_type": "execute_result"
    }
   ],
   "source": [
    "nb_tfidf_grid.fit(X_train, y_train)"
   ]
  },
  {
   "cell_type": "code",
   "execution_count": 140,
   "metadata": {},
   "outputs": [
    {
     "name": "stdout",
     "output_type": "stream",
     "text": [
      "Score for gridsearched Multinomial Naive Bayes w/ TfIdf Pipeline: 0.8397250920539389\n",
      "\n",
      "Best parameters from Multinomial Naive Bayes w/ TfIdf pipeline gridsearch:  {'tfidf__max_features': 4000, 'tfidf__min_df': 1, 'tfidf__ngram_range': (1, 1)}\n",
      "\n"
     ]
    },
    {
     "data": {
      "image/png": "[encoded data removed]",
      "text/plain": [
       "<Figure size 432x288 with 2 Axes>"
      ]
     },
     "metadata": {
      "needs_background": "light"
     },
     "output_type": "display_data"
    }
   ],
   "source": [
    "model_metrics(nb_tfidf_grid, 'Multinomial Naive Bayes w/ TfIdf')"
   ]
  },
  {
   "cell_type": "code",
   "execution_count": 141,
   "metadata": {},
   "outputs": [
    {
     "data": {
      "text/plain": [
       "0.9324565314311191"
      ]
     },
     "execution_count": 141,
     "metadata": {},
     "output_type": "execute_result"
    }
   ],
   "source": [
    "nb_tfidf_grid.score(X_train, y_train)"
   ]
  },
  {
   "cell_type": "code",
   "execution_count": 142,
   "metadata": {},
   "outputs": [
    {
     "data": {
      "text/plain": [
       "0.8415775401069518"
      ]
     },
     "execution_count": 142,
     "metadata": {},
     "output_type": "execute_result"
    }
   ],
   "source": [
    "nb_tfidf_grid.score(X_test, y_test)"
   ]
  },
  {
   "cell_type": "markdown",
   "metadata": {},
   "source": [
    "## `k-Nearest Neighbors` "
   ]
  },
  {
   "cell_type": "markdown",
   "metadata": {},
   "source": [
    "#### `KNN + CountVectorizer`"
   ]
  },
  {
   "cell_type": "code",
   "execution_count": 150,
   "metadata": {},
   "outputs": [],
   "source": [
    "knn_cvec_pipe = Pipeline([\n",
    "    ('cvec', CountVectorizer()),\n",
    "    ('knn', KNeighborsClassifier())\n",
    "])\n",
    "\n",
    "knn_cvec_params = {\n",
    "    'cvec__max_features': [3000, 4000, 5000, 6000],\n",
    "    'cvec__ngram_range': [(1,1),(1,2),(1,3)],\n",
    "    'cvec__min_df': [0.75, 1],\n",
    "    'knn__leaf_size': range(1, 50, 5),\n",
    "    'knn__n_neighbors': range(1, 50, 5),\n",
    "    'knn__metric': ['euclidean', 'manhattan'],\n",
    "    'knn__weights': ['uniform', 'distance']\n",
    "}\n",
    "\n",
    "knn_cvec_grid = GridSearchCV(knn_cvec_pipe,\n",
    "                            knn_cvec_params,\n",
    "                            cv=5,\n",
    "                            verbose=2,\n",
    "                            n_jobs=8)"
   ]
  },
  {
   "cell_type": "code",
   "execution_count": 151,
   "metadata": {},
   "outputs": [
    {
     "name": "stdout",
     "output_type": "stream",
     "text": [
      "Fitting 5 folds for each of 9600 candidates, totalling 48000 fits\n"
     ]
    },
    {
     "name": "stderr",
     "output_type": "stream",
     "text": [
      "/Users/emilynaftalin/opt/anaconda3/lib/python3.8/site-packages/sklearn/model_selection/_search.py:918: UserWarning: One or more of the test scores are non-finite: [       nan        nan        nan ... 0.59852863 0.53499688 0.59496168]\n",
      "  warnings.warn(\n"
     ]
    },
    {
     "data": {
      "text/plain": [
       "GridSearchCV(cv=5,\n",
       "             estimator=Pipeline(steps=[('cvec', CountVectorizer()),\n",
       "                                       ('knn', KNeighborsClassifier())]),\n",
       "             n_jobs=8,\n",
       "             param_grid={'cvec__max_features': [3000, 4000, 5000, 6000],\n",
       "                         'cvec__min_df': [0.75, 1],\n",
       "                         'cvec__ngram_range': [(1, 1), (1, 2), (1, 3)],\n",
       "                         'knn__leaf_size': range(1, 50, 5),\n",
       "                         'knn__metric': ['euclidean', 'manhattan'],\n",
       "                         'knn__n_neighbors': range(1, 50, 5),\n",
       "                         'knn__weights': ['uniform', 'distance']},\n",
       "             verbose=2)"
      ]
     },
     "execution_count": 151,
     "metadata": {},
     "output_type": "execute_result"
    }
   ],
   "source": [
    "knn_cvec_grid.fit(X_train, y_train)"
   ]
  },
  {
   "cell_type": "code",
   "execution_count": 152,
   "metadata": {},
   "outputs": [
    {
     "data": {
      "text/plain": [
       "0.9977708426214891"
      ]
     },
     "execution_count": 152,
     "metadata": {},
     "output_type": "execute_result"
    }
   ],
   "source": [
    "knn_cvec_grid.score(X_train, y_train)"
   ]
  },
  {
   "cell_type": "code",
   "execution_count": 153,
   "metadata": {},
   "outputs": [
    {
     "data": {
      "text/plain": [
       "0.6864973262032086"
      ]
     },
     "execution_count": 153,
     "metadata": {},
     "output_type": "execute_result"
    }
   ],
   "source": [
    "knn_cvec_grid.score(X_test, y_test)"
   ]
  },
  {
   "cell_type": "code",
   "execution_count": 155,
   "metadata": {},
   "outputs": [
    {
     "name": "stdout",
     "output_type": "stream",
     "text": [
      "Score for gridsearched KNN w/ Count Vectorization Pipeline: 0.7333911851680807\n",
      "\n",
      "Best parameters from KNN w/ Count Vectorization pipeline gridsearch:  {'cvec__max_features': 6000, 'cvec__min_df': 1, 'cvec__ngram_range': (1, 1), 'knn__leaf_size': 1, 'knn__metric': 'manhattan', 'knn__n_neighbors': 36, 'knn__weights': 'distance'}\n",
      "\n"
     ]
    },
    {
     "data": {
      "image/png": "[encoded data removed]",
      "text/plain": [
       "<Figure size 432x288 with 2 Axes>"
      ]
     },
     "metadata": {
      "needs_background": "light"
     },
     "output_type": "display_data"
    }
   ],
   "source": [
    "model_metrics(knn_cvec_grid, 'KNN w/ Count Vectorization')"
   ]
  },
  {
   "cell_type": "markdown",
   "metadata": {},
   "source": [
    "## `Random Forest & Extra Trees`"
   ]
  },
  {
   "cell_type": "markdown",
   "metadata": {},
   "source": [
    "#### `Extra Trees Classifier + Count Vectorizer`"
   ]
  },
  {
   "cell_type": "markdown",
   "metadata": {},
   "source": [
    "_Use of `CountVectorizer` as my vectorizer was informed by a set of pipeline I ran in my practice code notebooks that compared different ensemble classier models paired `CountVectorizer` and `Tfidf Vectorizer`. Extra Trees w/ CountVec performed better (higher accuracy, less variance) than other pairings. Hyperparameters are also informed by the best parameters found in those ensemble model grid searches in a practice code notebook._ "
   ]
  },
  {
   "cell_type": "code",
   "execution_count": 159,
   "metadata": {},
   "outputs": [],
   "source": [
    "et_cvec_pipe = Pipeline([\n",
    "    ('cvec', CountVectorizer()),\n",
    "    ('et', ExtraTreesClassifier())\n",
    "])\n",
    "\n",
    "et_cvec_params = {\n",
    "    'cvec__max_features':[2000, 3000, 4000],\n",
    "    'cvec__ngram_range': [(1,1),(1,2),(1,3)],\n",
    "    'et__ccp_alpha': [0.001, 0.05, 0.1, 1],\n",
    "    'et__max_depth': [6,8,10],\n",
    "    'et__min_samples_leaf': [4,6,8],\n",
    "    'et__min_samples_split': [5,10]\n",
    "}\n",
    "\n",
    "et_cvec_grid = GridSearchCV(et_cvec_pipe,\n",
    "                           et_cvec_params,\n",
    "                           cv=5,\n",
    "                           verbose=2,\n",
    "                           n_jobs=8)"
   ]
  },
  {
   "cell_type": "code",
   "execution_count": 160,
   "metadata": {},
   "outputs": [
    {
     "name": "stdout",
     "output_type": "stream",
     "text": [
      "Fitting 5 folds for each of 648 candidates, totalling 3240 fits\n",
      "This cell took 550.3536219596863 seconds to run\n"
     ]
    }
   ],
   "source": [
    "# this time going to try it!\n",
    "import time \n",
    "t0 = time.time()\n",
    "\n",
    "et_cvec_grid.fit(X_train, y_train)\n",
    "\n",
    "print(f'This cell took {time.time() - t0} seconds to run')"
   ]
  },
  {
   "cell_type": "code",
   "execution_count": 161,
   "metadata": {},
   "outputs": [
    {
     "data": {
      "text/plain": [
       "0.7521143231707772"
      ]
     },
     "execution_count": 161,
     "metadata": {},
     "output_type": "execute_result"
    }
   ],
   "source": [
    "et_cvec_grid.best_score_"
   ]
  },
  {
   "cell_type": "markdown",
   "metadata": {},
   "source": [
    "#### `Random Forest Classifier + Tf-Idf Vectorizer`"
   ]
  },
  {
   "cell_type": "code",
   "execution_count": 175,
   "metadata": {},
   "outputs": [],
   "source": [
    "rf_tfidf_pipe = Pipeline([\n",
    "    ('tfidf', TfidfVectorizer()),\n",
    "    ('rf', RandomForestClassifier())\n",
    "])\n",
    "\n",
    "rf_tfidf_params = {\n",
    "    'tfidf__max_features': [2000, 3000, 4000],\n",
    "    'tfidf__ngram_range': [(1,1), (1,2), (1,3)],\n",
    "    'rf__ccp_alpha': [0.001, 0.1],\n",
    "    'rf__max_depth': [6, 8, 10],\n",
    "    'rf__min_samples_leaf': [6, 8],\n",
    "    'rf__min_samples_split': [3, 5, 8], \n",
    "    'rf__n_estimators': [50, 150, 250],\n",
    "    'rf__criterion': ['gini', 'entropy'],\n",
    "    'rf__max_features': ['auto', 'sqrt'],\n",
    "    'rf__warm_start': [True, False]\n",
    "}\n",
    "\n",
    "rf_tfidf_grid = GridSearchCV(rf_tfidf_pipe,\n",
    "                            rf_tfidf_params,\n",
    "                            cv=5, \n",
    "                            verbose=2,\n",
    "                            n_jobs=8)"
   ]
  },
  {
   "cell_type": "code",
   "execution_count": 176,
   "metadata": {},
   "outputs": [
    {
     "name": "stdout",
     "output_type": "stream",
     "text": [
      "Fitting 5 folds for each of 7776 candidates, totalling 38880 fits\n"
     ]
    },
    {
     "data": {
      "text/plain": [
       "GridSearchCV(cv=5,\n",
       "             estimator=Pipeline(steps=[('tfidf', TfidfVectorizer()),\n",
       "                                       ('rf', RandomForestClassifier())]),\n",
       "             n_jobs=8,\n",
       "             param_grid={'rf__ccp_alpha': [0.001, 0.1],\n",
       "                         'rf__criterion': ['gini', 'entropy'],\n",
       "                         'rf__max_depth': [6, 8, 10],\n",
       "                         'rf__max_features': ['auto', 'sqrt'],\n",
       "                         'rf__min_samples_leaf': [6, 8],\n",
       "                         'rf__min_samples_split': [3, 5, 8],\n",
       "                         'rf__n_estimators': [50, 150, 250],\n",
       "                         'rf__warm_start': [True, False],\n",
       "                         'tfidf__max_features': [2000, 3000, 4000],\n",
       "                         'tfidf__ngram_range': [(1, 1), (1, 2), (1, 3)]},\n",
       "             verbose=2)"
      ]
     },
     "execution_count": 176,
     "metadata": {},
     "output_type": "execute_result"
    }
   ],
   "source": [
    "rf_tfidf_grid.fit(X_train, y_train)"
   ]
  },
  {
   "cell_type": "code",
   "execution_count": 178,
   "metadata": {},
   "outputs": [
    {
     "data": {
      "text/plain": [
       "0.7935800267498886"
      ]
     },
     "execution_count": 178,
     "metadata": {},
     "output_type": "execute_result"
    }
   ],
   "source": [
    "rf_tfidf_grid.score(X_train, y_train)"
   ]
  },
  {
   "cell_type": "code",
   "execution_count": 179,
   "metadata": {},
   "outputs": [
    {
     "data": {
      "text/plain": [
       "0.7647058823529411"
      ]
     },
     "execution_count": 179,
     "metadata": {},
     "output_type": "execute_result"
    }
   ],
   "source": [
    "rf_tfidf_grid.score(X_test, y_test) "
   ]
  },
  {
   "cell_type": "markdown",
   "metadata": {},
   "source": [
    "## `Support Vector Machines`"
   ]
  },
  {
   "cell_type": "markdown",
   "metadata": {},
   "source": [
    "#### `SVC + Count Vectorizer`"
   ]
  },
  {
   "cell_type": "code",
   "execution_count": 163,
   "metadata": {},
   "outputs": [],
   "source": [
    "svc_cvec_pipe = Pipeline([\n",
    "    ('cvec', CountVectorizer()),\n",
    "    ('svc', SVC())\n",
    "])\n",
    "\n",
    "svc_cvec_params = {\n",
    "    'cvec__max_features':[2000, 3000, 4000, 5000],\n",
    "    'cvec__ngram_range': [(1,1),(1,2),(1,3)],\n",
    "#     'svc__gamma': ['scale', 'auto'],\n",
    "    'svc__tol': [0.001, 0.01],\n",
    "    'svc__C': np.linspace(0, 5, 20),\n",
    "    'svc__kernel':['linear', 'rbf', 'polynomial', 'sigmoid'],\n",
    "    'svc__degree':[1, 2, 3, 4]\n",
    "}\n",
    "\n",
    "svc_cvec_grid = GridSearchCV(svc_cvec_pipe,\n",
    "                             svc_cvec_params,\n",
    "                             cv=5,\n",
    "                             verbose=2,\n",
    "                             n_jobs=8)"
   ]
  },
  {
   "cell_type": "code",
   "execution_count": 164,
   "metadata": {},
   "outputs": [
    {
     "name": "stdout",
     "output_type": "stream",
     "text": [
      "Fitting 5 folds for each of 7680 candidates, totalling 38400 fits\n"
     ]
    },
    {
     "name": "stderr",
     "output_type": "stream",
     "text": [
      "/Users/emilynaftalin/opt/anaconda3/lib/python3.8/site-packages/sklearn/model_selection/_search.py:918: UserWarning: One or more of the test scores are non-finite: [       nan        nan        nan ...        nan 0.59072161 0.59049864]\n",
      "  warnings.warn(\n"
     ]
    },
    {
     "name": "stdout",
     "output_type": "stream",
     "text": [
      "This cell took 18366.504160642624 seconds to run\n"
     ]
    }
   ],
   "source": [
    "t0 = time.time()\n",
    "\n",
    "svc_cvec_grid.fit(X_train, y_train)\n",
    "\n",
    "print(f'This cell took {time.time() - t0} seconds to run')"
   ]
  },
  {
   "cell_type": "code",
   "execution_count": 166,
   "metadata": {},
   "outputs": [
    {
     "data": {
      "text/plain": [
       "0.9777084262148907"
      ]
     },
     "execution_count": 166,
     "metadata": {},
     "output_type": "execute_result"
    }
   ],
   "source": [
    "svc_cvec_grid.score(X_train, y_train)"
   ]
  },
  {
   "cell_type": "code",
   "execution_count": 167,
   "metadata": {},
   "outputs": [
    {
     "data": {
      "text/plain": [
       "0.8495989304812834"
      ]
     },
     "execution_count": 167,
     "metadata": {},
     "output_type": "execute_result"
    }
   ],
   "source": [
    "svc_cvec_grid.score(X_test, y_test)"
   ]
  },
  {
   "cell_type": "code",
   "execution_count": null,
   "metadata": {},
   "outputs": [],
   "source": []
  },
  {
   "cell_type": "markdown",
   "metadata": {},
   "source": [
    "_Note: While I thought that I had included stop_word removal in my pre-processing, I realized only after doing the above grid searches that I failed to do. I will now start adding stop_word removal to my model benchmarking and will use it in my final models. Excluding my custom `stop_words` (from the list in the cell below) will reduce the accuracy of my model because it prevents a model from using \"country\" and \"rock\" which are of course two of most helpful words in determing the class of the subreddit._\n",
    "\n",
    "_Citation: Thank you Heather Johansen for helping figure out how to include my own custom list of words alongside the English stop words._"
   ]
  },
  {
   "cell_type": "code",
   "execution_count": 177,
   "metadata": {},
   "outputs": [],
   "source": [
    "country_rock_stop_words = ['country', 'countries', 'rock', 'roll', 'just','song', 'songs', 'music', \n",
    "                           'album', 'band', 'bands', 'artist', 'artists', 've', 'don']\n",
    "all_stop_words = text.ENGLISH_STOP_WORDS.union(country_rock_stop_words)"
   ]
  },
  {
   "cell_type": "code",
   "execution_count": null,
   "metadata": {},
   "outputs": [],
   "source": []
  }
 ],
 "metadata": {
  "kernelspec": {
   "display_name": "Python 3",
   "language": "python",
   "name": "python3"
  },
  "language_info": {
   "codemirror_mode": {
    "name": "ipython",
    "version": 3
   },
   "file_extension": ".py",
   "mimetype": "text/x-python",
   "name": "python",
   "nbconvert_exporter": "python",
   "pygments_lexer": "ipython3",
   "version": "3.8.5"
  }
 },
 "nbformat": 4,
 "nbformat_minor": 4
}
