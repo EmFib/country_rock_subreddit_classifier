{
 "cells": [
  {
   "cell_type": "code",
   "execution_count": 75,
   "metadata": {},
   "outputs": [],
   "source": [
    "# imports\n",
    "import pandas as pd\n",
    "import numpy as np\n",
    "import matplotlib.pyplot as plt\n",
    "from sklearn.model_selection import train_test_split, GridSearchCV, cross_val_score\n",
    "from sklearn.pipeline import Pipeline\n",
    "from sklearn.naive_bayes import MultinomialNB\n",
    "from sklearn.linear_model import LogisticRegression\n",
    "from sklearn.metrics import confusion_matrix, plot_confusion_matrix\n",
    "from nltk import FreqDist, pos_tag\n",
    "from nltk.tokenize import word_tokenize\n",
    "from collections import Counter\n",
    "\n",
    "# Import CountVectorizer and TFIDFVectorizer from feature_extraction.text.\n",
    "from sklearn.feature_extraction.text import CountVectorizer, TfidfVectorizer\n",
    "from sklearn.feature_extraction import text "
   ]
  },
  {
   "cell_type": "markdown",
   "metadata": {},
   "source": [
    "## EDA "
   ]
  },
  {
   "cell_type": "code",
   "execution_count": 119,
   "metadata": {},
   "outputs": [
    {
     "data": {
      "text/plain": [
       "'/Users/emilynaftalin/Data_Science/General Assembly/dsi/projects/project_3/code'"
      ]
     },
     "execution_count": 119,
     "metadata": {},
     "output_type": "execute_result"
    }
   ],
   "source": [
    "pwd"
   ]
  },
  {
   "cell_type": "code",
   "execution_count": 188,
   "metadata": {},
   "outputs": [],
   "source": [
    "country = pd.read_pickle('../datasets/country_token_pickle.pkl')\n",
    "rock = pd.read_pickle('../datasets/rock_token_pickle.pkl')"
   ]
  },
  {
   "cell_type": "code",
   "execution_count": 225,
   "metadata": {},
   "outputs": [
    {
     "data": {
      "text/html": [
       "<div>\n",
       "<style scoped>\n",
       "    .dataframe tbody tr th:only-of-type {\n",
       "        vertical-align: middle;\n",
       "    }\n",
       "\n",
       "    .dataframe tbody tr th {\n",
       "        vertical-align: top;\n",
       "    }\n",
       "\n",
       "    .dataframe thead th {\n",
       "        text-align: right;\n",
       "    }\n",
       "</style>\n",
       "<table border=\"1\" class=\"dataframe\">\n",
       "  <thead>\n",
       "    <tr style=\"text-align: right;\">\n",
       "      <th></th>\n",
       "      <th>label</th>\n",
       "      <th>merged</th>\n",
       "      <th>tokens</th>\n",
       "    </tr>\n",
       "  </thead>\n",
       "  <tbody>\n",
       "    <tr>\n",
       "      <th>0</th>\n",
       "      <td>country</td>\n",
       "      <td>country suggestions ve been starting to get in...</td>\n",
       "      <td>[country, suggestions, ve, been, starting, to,...</td>\n",
       "    </tr>\n",
       "    <tr>\n",
       "      <th>1</th>\n",
       "      <td>country</td>\n",
       "      <td>hank williams sr m so lonesome could cry (1949)</td>\n",
       "      <td>[hank, williams, sr, m, so, lonesome, could, c...</td>\n",
       "    </tr>\n",
       "    <tr>\n",
       "      <th>2</th>\n",
       "      <td>country</td>\n",
       "      <td>cody jinks   loud and heavy</td>\n",
       "      <td>[cody, jinks, loud, and, heavy]</td>\n",
       "    </tr>\n",
       "    <tr>\n",
       "      <th>3</th>\n",
       "      <td>country</td>\n",
       "      <td>southern raised performs \"what day that will b...</td>\n",
       "      <td>[southern, raised, performs, what, day, that, ...</td>\n",
       "    </tr>\n",
       "    <tr>\n",
       "      <th>4</th>\n",
       "      <td>country</td>\n",
       "      <td>is anybody still making texas swing? my father...</td>\n",
       "      <td>[is, anybody, still, making, texas, swing, my,...</td>\n",
       "    </tr>\n",
       "  </tbody>\n",
       "</table>\n",
       "</div>"
      ],
      "text/plain": [
       "     label                                             merged  \\\n",
       "0  country  country suggestions ve been starting to get in...   \n",
       "1  country   hank williams sr m so lonesome could cry (1949)    \n",
       "2  country                       cody jinks   loud and heavy    \n",
       "3  country  southern raised performs \"what day that will b...   \n",
       "4  country  is anybody still making texas swing? my father...   \n",
       "\n",
       "                                              tokens  \n",
       "0  [country, suggestions, ve, been, starting, to,...  \n",
       "1  [hank, williams, sr, m, so, lonesome, could, c...  \n",
       "2                    [cody, jinks, loud, and, heavy]  \n",
       "3  [southern, raised, performs, what, day, that, ...  \n",
       "4  [is, anybody, still, making, texas, swing, my,...  "
      ]
     },
     "execution_count": 225,
     "metadata": {},
     "output_type": "execute_result"
    }
   ],
   "source": [
    "country.head()"
   ]
  },
  {
   "cell_type": "code",
   "execution_count": 193,
   "metadata": {},
   "outputs": [
    {
     "data": {
      "text/html": [
       "<div>\n",
       "<style scoped>\n",
       "    .dataframe tbody tr th:only-of-type {\n",
       "        vertical-align: middle;\n",
       "    }\n",
       "\n",
       "    .dataframe tbody tr th {\n",
       "        vertical-align: top;\n",
       "    }\n",
       "\n",
       "    .dataframe thead th {\n",
       "        text-align: right;\n",
       "    }\n",
       "</style>\n",
       "<table border=\"1\" class=\"dataframe\">\n",
       "  <thead>\n",
       "    <tr style=\"text-align: right;\">\n",
       "      <th></th>\n",
       "      <th>label</th>\n",
       "      <th>merged</th>\n",
       "      <th>tokens</th>\n",
       "    </tr>\n",
       "  </thead>\n",
       "  <tbody>\n",
       "    <tr>\n",
       "      <th>2995</th>\n",
       "      <td>rock</td>\n",
       "      <td>eddie van halen  guitar legend and rock god di...</td>\n",
       "      <td>[eddie, van, halen, guitar, legend, and, rock,...</td>\n",
       "    </tr>\n",
       "    <tr>\n",
       "      <th>2996</th>\n",
       "      <td>rock</td>\n",
       "      <td>r p  rest in peace eddie, there were very few ...</td>\n",
       "      <td>[r, p, rest, in, peace, eddie, there, were, ve...</td>\n",
       "    </tr>\n",
       "    <tr>\n",
       "      <th>2997</th>\n",
       "      <td>rock</td>\n",
       "      <td>rip eddie van halen</td>\n",
       "      <td>[rip, eddie, van, halen]</td>\n",
       "    </tr>\n",
       "    <tr>\n",
       "      <th>2998</th>\n",
       "      <td>rock</td>\n",
       "      <td>eddie van halen dies at 65 of cancer</td>\n",
       "      <td>[eddie, van, halen, dies, at, 65, of, cancer]</td>\n",
       "    </tr>\n",
       "    <tr>\n",
       "      <th>2999</th>\n",
       "      <td>rock</td>\n",
       "      <td>van halen   everybody wants some!!</td>\n",
       "      <td>[van, halen, everybody, wants, some]</td>\n",
       "    </tr>\n",
       "  </tbody>\n",
       "</table>\n",
       "</div>"
      ],
      "text/plain": [
       "     label                                             merged  \\\n",
       "2995  rock  eddie van halen  guitar legend and rock god di...   \n",
       "2996  rock  r p  rest in peace eddie, there were very few ...   \n",
       "2997  rock                               rip eddie van halen    \n",
       "2998  rock              eddie van halen dies at 65 of cancer    \n",
       "2999  rock                van halen   everybody wants some!!    \n",
       "\n",
       "                                                 tokens  \n",
       "2995  [eddie, van, halen, guitar, legend, and, rock,...  \n",
       "2996  [r, p, rest, in, peace, eddie, there, were, ve...  \n",
       "2997                           [rip, eddie, van, halen]  \n",
       "2998      [eddie, van, halen, dies, at, 65, of, cancer]  \n",
       "2999               [van, halen, everybody, wants, some]  "
      ]
     },
     "execution_count": 193,
     "metadata": {},
     "output_type": "execute_result"
    }
   ],
   "source": [
    "rock.tail()"
   ]
  },
  {
   "cell_type": "markdown",
   "metadata": {},
   "source": [
    "#### Inspecting common words and posts lengths in separate dataframes"
   ]
  },
  {
   "cell_type": "markdown",
   "metadata": {},
   "source": [
    "_Note: I crafted my custom list of stop words after doing initial EDA that revealed the most frequently-used words in both of the subreddits. This EDA included fitting a `CountVectorizer` on the corpuses of both dataframes and then sorting by word frequency. I chose to remove words that are most common in one or both of the subreddits because, while some of them might help improve accuracy, they weaken the storyline and impair the ability of models to detect important words and features by drawing heavy attention to themselves and thereby skewing coefficients and feature importance distribution. I removed \"ve\" and \"don\" because my pre-processing created these from contracted words, and they ended up showing up very frequently. In the future I would modify my pre-processing to fix this problem, but I ran out of time to do so._\n",
    "\n",
    "_Citation: Thank you Heather Johansen for helping figure out how to include my own custom list of words alongside the English stop words._"
   ]
  },
  {
   "cell_type": "code",
   "execution_count": 194,
   "metadata": {},
   "outputs": [],
   "source": [
    "country_rock_stop_words = ['country', 'countries', 'rock', 'roll', 'just','song', 'songs', 'music', \n",
    "                           'album', 'band', 'bands', 'artist', 'artists', 've', 'don']\n",
    "all_stop_words = text.ENGLISH_STOP_WORDS.union(country_rock_stop_words)"
   ]
  },
  {
   "cell_type": "code",
   "execution_count": 253,
   "metadata": {},
   "outputs": [],
   "source": [
    "def vectorize_and_plot(df, text_field, color):\n",
    "    cvec = CountVectorizer(stop_words=all_stop_words)\n",
    "    col = df[text_field]\n",
    "    cvec.fit(col)\n",
    "    col = cvec.transform(col)\n",
    "    plot_df = pd.DataFrame(col.todense(),\n",
    "                          columns=cvec.get_feature_names())\n",
    "    plot_df.sum().sort_values(ascending=False).head(15).plot(kind='barh', align='center', alpha=0.5, color=color);\n",
    "    \n"
   ]
  },
  {
   "cell_type": "code",
   "execution_count": 257,
   "metadata": {},
   "outputs": [
    {
     "data": {
      "text/plain": [
       "Text(0.5, 0, 'Frequency')"
      ]
     },
     "execution_count": 257,
     "metadata": {},
     "output_type": "execute_result"
    },
    {
     "data": {
      "image/png": "[encoded data removed]",
      "text/plain": [
       "<Figure size 1800x720 with 2 Axes>"
      ]
     },
     "metadata": {
      "needs_background": "light"
     },
     "output_type": "display_data"
    }
   ],
   "source": [
    "font = {'family': 'serif',\n",
    "        'color':  'midnightblue',\n",
    "        'weight': 'normal',\n",
    "        'size': 20,\n",
    "        }\n",
    "\n",
    "plt.figure(figsize=(25, 10))\n",
    "\n",
    "plt.subplot(131)\n",
    "vectorize_and_plot(country, 'merged', '#1a1b1e')\n",
    "plt.title('Country Western', fontdict=font)\n",
    "plt.yticks(fontsize=14)\n",
    "plt.xlabel('Frequency', fontdict=font)\n",
    "\n",
    "plt.subplot(132)\n",
    "vectorize_and_plot(rock, 'merged', '#f24600')\n",
    "plt.title(\"Rock 'n' Roll\", fontdict=font)\n",
    "plt.yticks(fontsize=14)\n",
    "plt.xlabel('Frequency', fontdict=font)"
   ]
  },
  {
   "cell_type": "code",
   "execution_count": 255,
   "metadata": {},
   "outputs": [],
   "source": [
    "# import seaborn as sns\n",
    "\n",
    "# cvec_c = CountVectorizer(stop_words=all_stop_words)\n",
    "# col_c = country['merged']\n",
    "# cvec_c.fit(col_c)\n",
    "# col_c = cvec_c.transform(col_c)\n",
    "# df_c = pd.DataFrame(col_c.todense(),\n",
    "#                    columns=cvec_c.get_feature_names())\n",
    "\n",
    "# ax = sns.barplot((df_c).sum().sort_values(ascending=False).head(20))"
   ]
  },
  {
   "cell_type": "code",
   "execution_count": 197,
   "metadata": {},
   "outputs": [],
   "source": [
    "# code inspired by Emmanuel \n",
    "# line of code for extracting name from DataFrame to print it and use it as plot title is from this stack overflow page: \n",
    "# https://stackoverflow.com/questions/54137694/how-to-print-dataframe-name-in-title-of-a-plot\n",
    "\n",
    "def post_length_distribution(df):\n",
    "    \n",
    "    #getting size of vocabulary \n",
    "    all_words = [word for tokens in df['tokens'] for word in tokens]    # getting all the words in the posts\n",
    "    post_lengths = [len(tokens) for tokens in df['tokens']]    # getting length of the all the posts\n",
    "    vocab = sorted(list(set(all_words)))    # getting the list of unique words in the corpus composed of the subreddit posts\n",
    "    \n",
    "    df_name = [x for x in globals() if globals()[x] is df][0]\n",
    "    print(f'Post Lengths for {df_name.capitalize()} dataset:')\n",
    "    \n",
    "    print(f'{len(all_words)} words total, with a vocabulary size of {len(vocab)}')\n",
    "    print(f'Max post length is {max(post_lengths)} words')\n",
    "    print(f'Average post length is {np.mean(post_lengths).round(2)} words') \n",
    "    \n",
    "    # plotting distribution \n",
    "    fig = plt.figure(figsize=(6,6))\n",
    "    plt.xlabel('Post Length')\n",
    "    plt.ylabel('Number of Posts')\n",
    "    plt.title(df_name.capitalize())\n",
    "    plt.hist(post_lengths, bins=50, range=[0, 100])\n",
    "    plt.show()"
   ]
  },
  {
   "cell_type": "code",
   "execution_count": 198,
   "metadata": {},
   "outputs": [
    {
     "name": "stdout",
     "output_type": "stream",
     "text": [
      "Post Lengths for Country dataset:\n",
      "58179 words total, with a vocabulary size of 6979\n",
      "Max post length is 802 words\n",
      "Average post length is 19.39 words\n"
     ]
    },
    {
     "data": {
      "image/png": "[encoded data removed]",
      "text/plain": [
       "<Figure size 432x432 with 1 Axes>"
      ]
     },
     "metadata": {
      "needs_background": "light"
     },
     "output_type": "display_data"
    }
   ],
   "source": [
    "post_length_distribution(country)"
   ]
  },
  {
   "cell_type": "code",
   "execution_count": 199,
   "metadata": {},
   "outputs": [
    {
     "name": "stdout",
     "output_type": "stream",
     "text": [
      "Post Lengths for Rock dataset:\n",
      "49047 words total, with a vocabulary size of 7848\n",
      "Max post length is 935 words\n",
      "Average post length is 16.35 words\n"
     ]
    },
    {
     "data": {
      "image/png": "[encoded data removed]",
      "text/plain": [
       "<Figure size 432x432 with 1 Axes>"
      ]
     },
     "metadata": {
      "needs_background": "light"
     },
     "output_type": "display_data"
    }
   ],
   "source": [
    "post_length_distribution(rock)"
   ]
  },
  {
   "cell_type": "markdown",
   "metadata": {},
   "source": [
    "## **ADD COMMENTARY HERE ON POST LENGHTH DISTRIBUTION**"
   ]
  },
  {
   "cell_type": "markdown",
   "metadata": {},
   "source": [
    "#### Removing long and short posts "
   ]
  },
  {
   "cell_type": "markdown",
   "metadata": {},
   "source": [
    "Below function will remove the longest and shortest posts from a dataframe since having a disproportionate number of words come from the same person/post might add unnecessary redundancy that does not reflect the entire corpus. "
   ]
  },
  {
   "cell_type": "markdown",
   "metadata": {},
   "source": [
    "**Longest posts:** \n",
    "\n",
    "`df['tokens'].map(lambda x: len(x)).nlargest(10)` \n",
    "\n",
    "**Shortest posts:**\n",
    "\n",
    "`df['tokens'].map(lambda x: len(x)).nsmallest(20)`\n",
    "\n",
    "    or:\n",
    "   \n",
    "`df[df['tokens'].str.split().str.len() < 5`\n"
   ]
  },
  {
   "cell_type": "markdown",
   "metadata": {},
   "source": [
    "_Inspect results from longest and shortest posts functions above._ \n",
    "\n",
    "+ If one or more posts appears to be longer by multiple times or orders of magnitude, remove the row containing that post using the index numbers displayed.  \n",
    "\n",
    "```\n",
    "df.drop([idx], inplace=True)\n",
    "```\n",
    "\n",
    "\n",
    "+ Remove very short posts as follows: \n",
    "\n",
    "```\n",
    "df = df[df['tokens'].str.split().str.len() > 5]\n",
    "```\n",
    "\n",
    "\n",
    "+ Rerun `post_length_distribution` function following this process to see how distribution has changed.  "
   ]
  },
  {
   "cell_type": "code",
   "execution_count": 200,
   "metadata": {},
   "outputs": [
    {
     "data": {
      "text/plain": [
       "1473    802\n",
       "443     789\n",
       "2435    522\n",
       "364     380\n",
       "2648    374\n",
       "1177    263\n",
       "802     262\n",
       "1252    261\n",
       "1271    261\n",
       "1328    261\n",
       "Name: tokens, dtype: int64"
      ]
     },
     "execution_count": 200,
     "metadata": {},
     "output_type": "execute_result"
    }
   ],
   "source": [
    "country['tokens'].map(lambda x: len(x)).nlargest(10)"
   ]
  },
  {
   "cell_type": "code",
   "execution_count": 201,
   "metadata": {},
   "outputs": [],
   "source": [
    "# country.drop([1473, 443], inplace=True)"
   ]
  },
  {
   "cell_type": "code",
   "execution_count": 202,
   "metadata": {},
   "outputs": [
    {
     "data": {
      "text/plain": [
       "325     935\n",
       "2925    870\n",
       "827     787\n",
       "1427    770\n",
       "218     664\n",
       "812     658\n",
       "2710    530\n",
       "303     491\n",
       "445     303\n",
       "1716    298\n",
       "Name: tokens, dtype: int64"
      ]
     },
     "execution_count": 202,
     "metadata": {},
     "output_type": "execute_result"
    }
   ],
   "source": [
    "rock['tokens'].map(lambda x: len(x)).nlargest(10)"
   ]
  },
  {
   "cell_type": "markdown",
   "metadata": {},
   "source": [
    "_Note! Rock music posts appear to be much longer. I will still drop all those that are longer than 5000 words as I did with the country music dataframe. This will create a more balanced combined dataset for modeling._"
   ]
  },
  {
   "cell_type": "code",
   "execution_count": 203,
   "metadata": {},
   "outputs": [
    {
     "data": {
      "text/plain": [
       "16.349"
      ]
     },
     "execution_count": 203,
     "metadata": {},
     "output_type": "execute_result"
    }
   ],
   "source": [
    "rock['tokens'].map(lambda x: len(x)).mean()"
   ]
  },
  {
   "cell_type": "code",
   "execution_count": 204,
   "metadata": {},
   "outputs": [],
   "source": [
    "# rock.drop([325, 2925, 827, 1427, 812, 218], inplace=True)"
   ]
  },
  {
   "cell_type": "markdown",
   "metadata": {},
   "source": [
    "_Since no posts are exhorbitantly long, I don't think that they will distort the analysis as an extremly post would. Therefore, I will not drop any posts based on length-- long or short -- from my dataframe._"
   ]
  },
  {
   "cell_type": "markdown",
   "metadata": {},
   "source": [
    "## Model Prep "
   ]
  },
  {
   "cell_type": "markdown",
   "metadata": {},
   "source": [
    "#### Combining DataFrames "
   ]
  },
  {
   "cell_type": "markdown",
   "metadata": {},
   "source": [
    "don't forget null model! "
   ]
  },
  {
   "cell_type": "code",
   "execution_count": 205,
   "metadata": {},
   "outputs": [],
   "source": [
    "# def model_df(subreddit_1, subreddit_2):\n",
    "    \n",
    "#     model_df = pd.concat([subreddit_1, subreddit_2])\n",
    "    \n",
    "#     # resetting index\n",
    "#     model_df.reset_index(drop=True, inplace=True)\n",
    "    \n",
    "#     model_df['label'] = model_df['label'].map({subreddit_1: 0, subreddit_2: 1})\n",
    "    \n",
    "#     # save concatenated datadframe to csv file \n",
    "#     filename = 'subreddit_1' + '_' + 'subredit_2' + '.csv'\n",
    "#     model_df.to_csv('../datasets/' + filename, index=False)\n",
    "    \n",
    "#     return model_df \n",
    "\n",
    "## ^^^ This doesn't work beause dataframe can't be hashed ala the map function "
   ]
  },
  {
   "cell_type": "markdown",
   "metadata": {},
   "source": [
    "**Steps to build dataframe and prep for modeling:**\n",
    "\n",
    "_Naming convention for new combined dataframe will be `subreddit1_subreddit2`, but is referenced in these instructions as `df`._\n",
    "\n",
    "1. Combine separate datasets into on dataframe using this line of code: \n",
    "\n",
    "```python\n",
    "df = pd.concat([subreddit_1, subreddit_2])\n",
    "```\n",
    "\n",
    "2. Reset index: \n",
    "\n",
    "```python\n",
    "df.reset_index(drop=True, inplace=True)\n",
    "```\n",
    "\n",
    "3. Changes labels to binary numeric labels:\n",
    "\n",
    "```python\n",
    "df['label'] = df['label'].map({subreddit1: 0, subreddit2: 1})\n",
    "```\n",
    "\n",
    "3. Save concatenated dataframe to csv file:\n",
    "\n",
    "```python \n",
    "filename = 'subreddit_1' + '_' + 'subredit_2' + '.csv'\n",
    "df.to_csv('../datasets/' + filename, index=False)\n",
    "```"
   ]
  },
  {
   "cell_type": "code",
   "execution_count": 206,
   "metadata": {},
   "outputs": [],
   "source": [
    "# concantenating country music and rock music dataframes \n",
    "# Country music will be label 0\n",
    "# Rock music will be label 1\n",
    "\n",
    "country_rock = pd.concat([country, rock])\n",
    "\n",
    "country_rock.reset_index(drop=True, inplace=True) \n",
    "\n",
    "country_rock['label']  = country_rock['label'].map({'country': 0, 'rock': 1})"
   ]
  },
  {
   "cell_type": "code",
   "execution_count": 207,
   "metadata": {},
   "outputs": [
    {
     "data": {
      "text/html": [
       "<div>\n",
       "<style scoped>\n",
       "    .dataframe tbody tr th:only-of-type {\n",
       "        vertical-align: middle;\n",
       "    }\n",
       "\n",
       "    .dataframe tbody tr th {\n",
       "        vertical-align: top;\n",
       "    }\n",
       "\n",
       "    .dataframe thead th {\n",
       "        text-align: right;\n",
       "    }\n",
       "</style>\n",
       "<table border=\"1\" class=\"dataframe\">\n",
       "  <thead>\n",
       "    <tr style=\"text-align: right;\">\n",
       "      <th></th>\n",
       "      <th>label</th>\n",
       "      <th>merged</th>\n",
       "      <th>tokens</th>\n",
       "    </tr>\n",
       "  </thead>\n",
       "  <tbody>\n",
       "    <tr>\n",
       "      <th>0</th>\n",
       "      <td>0</td>\n",
       "      <td>country suggestions ve been starting to get in...</td>\n",
       "      <td>[country, suggestions, ve, been, starting, to,...</td>\n",
       "    </tr>\n",
       "    <tr>\n",
       "      <th>1</th>\n",
       "      <td>0</td>\n",
       "      <td>hank williams sr m so lonesome could cry (1949)</td>\n",
       "      <td>[hank, williams, sr, m, so, lonesome, could, c...</td>\n",
       "    </tr>\n",
       "    <tr>\n",
       "      <th>2</th>\n",
       "      <td>0</td>\n",
       "      <td>cody jinks   loud and heavy</td>\n",
       "      <td>[cody, jinks, loud, and, heavy]</td>\n",
       "    </tr>\n",
       "    <tr>\n",
       "      <th>3</th>\n",
       "      <td>0</td>\n",
       "      <td>southern raised performs \"what day that will b...</td>\n",
       "      <td>[southern, raised, performs, what, day, that, ...</td>\n",
       "    </tr>\n",
       "    <tr>\n",
       "      <th>4</th>\n",
       "      <td>0</td>\n",
       "      <td>is anybody still making texas swing? my father...</td>\n",
       "      <td>[is, anybody, still, making, texas, swing, my,...</td>\n",
       "    </tr>\n",
       "    <tr>\n",
       "      <th>...</th>\n",
       "      <td>...</td>\n",
       "      <td>...</td>\n",
       "      <td>...</td>\n",
       "    </tr>\n",
       "    <tr>\n",
       "      <th>5995</th>\n",
       "      <td>1</td>\n",
       "      <td>eddie van halen  guitar legend and rock god di...</td>\n",
       "      <td>[eddie, van, halen, guitar, legend, and, rock,...</td>\n",
       "    </tr>\n",
       "    <tr>\n",
       "      <th>5996</th>\n",
       "      <td>1</td>\n",
       "      <td>r p  rest in peace eddie, there were very few ...</td>\n",
       "      <td>[r, p, rest, in, peace, eddie, there, were, ve...</td>\n",
       "    </tr>\n",
       "    <tr>\n",
       "      <th>5997</th>\n",
       "      <td>1</td>\n",
       "      <td>rip eddie van halen</td>\n",
       "      <td>[rip, eddie, van, halen]</td>\n",
       "    </tr>\n",
       "    <tr>\n",
       "      <th>5998</th>\n",
       "      <td>1</td>\n",
       "      <td>eddie van halen dies at 65 of cancer</td>\n",
       "      <td>[eddie, van, halen, dies, at, 65, of, cancer]</td>\n",
       "    </tr>\n",
       "    <tr>\n",
       "      <th>5999</th>\n",
       "      <td>1</td>\n",
       "      <td>van halen   everybody wants some!!</td>\n",
       "      <td>[van, halen, everybody, wants, some]</td>\n",
       "    </tr>\n",
       "  </tbody>\n",
       "</table>\n",
       "<p>6000 rows × 3 columns</p>\n",
       "</div>"
      ],
      "text/plain": [
       "      label                                             merged  \\\n",
       "0         0  country suggestions ve been starting to get in...   \n",
       "1         0   hank williams sr m so lonesome could cry (1949)    \n",
       "2         0                       cody jinks   loud and heavy    \n",
       "3         0  southern raised performs \"what day that will b...   \n",
       "4         0  is anybody still making texas swing? my father...   \n",
       "...     ...                                                ...   \n",
       "5995      1  eddie van halen  guitar legend and rock god di...   \n",
       "5996      1  r p  rest in peace eddie, there were very few ...   \n",
       "5997      1                               rip eddie van halen    \n",
       "5998      1              eddie van halen dies at 65 of cancer    \n",
       "5999      1                van halen   everybody wants some!!    \n",
       "\n",
       "                                                 tokens  \n",
       "0     [country, suggestions, ve, been, starting, to,...  \n",
       "1     [hank, williams, sr, m, so, lonesome, could, c...  \n",
       "2                       [cody, jinks, loud, and, heavy]  \n",
       "3     [southern, raised, performs, what, day, that, ...  \n",
       "4     [is, anybody, still, making, texas, swing, my,...  \n",
       "...                                                 ...  \n",
       "5995  [eddie, van, halen, guitar, legend, and, rock,...  \n",
       "5996  [r, p, rest, in, peace, eddie, there, were, ve...  \n",
       "5997                           [rip, eddie, van, halen]  \n",
       "5998      [eddie, van, halen, dies, at, 65, of, cancer]  \n",
       "5999               [van, halen, everybody, wants, some]  \n",
       "\n",
       "[6000 rows x 3 columns]"
      ]
     },
     "execution_count": 207,
     "metadata": {},
     "output_type": "execute_result"
    }
   ],
   "source": [
    "# checking how it looks! \n",
    "country_rock"
   ]
  },
  {
   "cell_type": "code",
   "execution_count": 208,
   "metadata": {},
   "outputs": [
    {
     "data": {
      "text/plain": [
       "(6000, 3)"
      ]
     },
     "execution_count": 208,
     "metadata": {},
     "output_type": "execute_result"
    }
   ],
   "source": [
    "country_rock.shape"
   ]
  },
  {
   "cell_type": "code",
   "execution_count": 217,
   "metadata": {},
   "outputs": [
    {
     "data": {
      "text/plain": [
       "1    3000\n",
       "0    3000\n",
       "Name: label, dtype: int64"
      ]
     },
     "execution_count": 217,
     "metadata": {},
     "output_type": "execute_result"
    }
   ],
   "source": [
    "country_rock['label'].value_counts()"
   ]
  },
  {
   "cell_type": "code",
   "execution_count": 218,
   "metadata": {},
   "outputs": [
    {
     "name": "stdout",
     "output_type": "stream",
     "text": [
      "<class 'pandas.core.frame.DataFrame'>\n",
      "RangeIndex: 6000 entries, 0 to 5999\n",
      "Data columns (total 3 columns):\n",
      " #   Column  Non-Null Count  Dtype \n",
      "---  ------  --------------  ----- \n",
      " 0   label   6000 non-null   int64 \n",
      " 1   merged  6000 non-null   object\n",
      " 2   tokens  6000 non-null   object\n",
      "dtypes: int64(1), object(2)\n",
      "memory usage: 140.8+ KB\n"
     ]
    }
   ],
   "source": [
    "country_rock.info()"
   ]
  },
  {
   "cell_type": "code",
   "execution_count": 219,
   "metadata": {},
   "outputs": [
    {
     "data": {
      "text/plain": [
       "label     0\n",
       "merged    0\n",
       "tokens    0\n",
       "dtype: int64"
      ]
     },
     "execution_count": 219,
     "metadata": {},
     "output_type": "execute_result"
    }
   ],
   "source": [
    "country_rock.isnull().sum()"
   ]
  },
  {
   "cell_type": "code",
   "execution_count": 220,
   "metadata": {},
   "outputs": [
    {
     "data": {
      "text/html": [
       "<div>\n",
       "<style scoped>\n",
       "    .dataframe tbody tr th:only-of-type {\n",
       "        vertical-align: middle;\n",
       "    }\n",
       "\n",
       "    .dataframe tbody tr th {\n",
       "        vertical-align: top;\n",
       "    }\n",
       "\n",
       "    .dataframe thead th {\n",
       "        text-align: right;\n",
       "    }\n",
       "</style>\n",
       "<table border=\"1\" class=\"dataframe\">\n",
       "  <thead>\n",
       "    <tr style=\"text-align: right;\">\n",
       "      <th></th>\n",
       "      <th>label</th>\n",
       "      <th>merged</th>\n",
       "      <th>tokens</th>\n",
       "    </tr>\n",
       "  </thead>\n",
       "  <tbody>\n",
       "    <tr>\n",
       "      <th>0</th>\n",
       "      <td>0</td>\n",
       "      <td>country suggestions ve been starting to get in...</td>\n",
       "      <td>[country, suggestions, ve, been, starting, to,...</td>\n",
       "    </tr>\n",
       "    <tr>\n",
       "      <th>1</th>\n",
       "      <td>0</td>\n",
       "      <td>hank williams sr m so lonesome could cry (1949)</td>\n",
       "      <td>[hank, williams, sr, m, so, lonesome, could, c...</td>\n",
       "    </tr>\n",
       "    <tr>\n",
       "      <th>2</th>\n",
       "      <td>0</td>\n",
       "      <td>cody jinks   loud and heavy</td>\n",
       "      <td>[cody, jinks, loud, and, heavy]</td>\n",
       "    </tr>\n",
       "    <tr>\n",
       "      <th>3</th>\n",
       "      <td>0</td>\n",
       "      <td>southern raised performs \"what day that will b...</td>\n",
       "      <td>[southern, raised, performs, what, day, that, ...</td>\n",
       "    </tr>\n",
       "    <tr>\n",
       "      <th>4</th>\n",
       "      <td>0</td>\n",
       "      <td>is anybody still making texas swing? my father...</td>\n",
       "      <td>[is, anybody, still, making, texas, swing, my,...</td>\n",
       "    </tr>\n",
       "  </tbody>\n",
       "</table>\n",
       "</div>"
      ],
      "text/plain": [
       "   label                                             merged  \\\n",
       "0      0  country suggestions ve been starting to get in...   \n",
       "1      0   hank williams sr m so lonesome could cry (1949)    \n",
       "2      0                       cody jinks   loud and heavy    \n",
       "3      0  southern raised performs \"what day that will b...   \n",
       "4      0  is anybody still making texas swing? my father...   \n",
       "\n",
       "                                              tokens  \n",
       "0  [country, suggestions, ve, been, starting, to,...  \n",
       "1  [hank, williams, sr, m, so, lonesome, could, c...  \n",
       "2                    [cody, jinks, loud, and, heavy]  \n",
       "3  [southern, raised, performs, what, day, that, ...  \n",
       "4  [is, anybody, still, making, texas, swing, my,...  "
      ]
     },
     "execution_count": 220,
     "metadata": {},
     "output_type": "execute_result"
    }
   ],
   "source": [
    "country_rock.head()"
   ]
  },
  {
   "cell_type": "code",
   "execution_count": 221,
   "metadata": {},
   "outputs": [
    {
     "data": {
      "text/html": [
       "<div>\n",
       "<style scoped>\n",
       "    .dataframe tbody tr th:only-of-type {\n",
       "        vertical-align: middle;\n",
       "    }\n",
       "\n",
       "    .dataframe tbody tr th {\n",
       "        vertical-align: top;\n",
       "    }\n",
       "\n",
       "    .dataframe thead th {\n",
       "        text-align: right;\n",
       "    }\n",
       "</style>\n",
       "<table border=\"1\" class=\"dataframe\">\n",
       "  <thead>\n",
       "    <tr style=\"text-align: right;\">\n",
       "      <th></th>\n",
       "      <th>label</th>\n",
       "      <th>merged</th>\n",
       "      <th>tokens</th>\n",
       "    </tr>\n",
       "  </thead>\n",
       "  <tbody>\n",
       "    <tr>\n",
       "      <th>5995</th>\n",
       "      <td>1</td>\n",
       "      <td>eddie van halen  guitar legend and rock god di...</td>\n",
       "      <td>[eddie, van, halen, guitar, legend, and, rock,...</td>\n",
       "    </tr>\n",
       "    <tr>\n",
       "      <th>5996</th>\n",
       "      <td>1</td>\n",
       "      <td>r p  rest in peace eddie, there were very few ...</td>\n",
       "      <td>[r, p, rest, in, peace, eddie, there, were, ve...</td>\n",
       "    </tr>\n",
       "    <tr>\n",
       "      <th>5997</th>\n",
       "      <td>1</td>\n",
       "      <td>rip eddie van halen</td>\n",
       "      <td>[rip, eddie, van, halen]</td>\n",
       "    </tr>\n",
       "    <tr>\n",
       "      <th>5998</th>\n",
       "      <td>1</td>\n",
       "      <td>eddie van halen dies at 65 of cancer</td>\n",
       "      <td>[eddie, van, halen, dies, at, 65, of, cancer]</td>\n",
       "    </tr>\n",
       "    <tr>\n",
       "      <th>5999</th>\n",
       "      <td>1</td>\n",
       "      <td>van halen   everybody wants some!!</td>\n",
       "      <td>[van, halen, everybody, wants, some]</td>\n",
       "    </tr>\n",
       "  </tbody>\n",
       "</table>\n",
       "</div>"
      ],
      "text/plain": [
       "      label                                             merged  \\\n",
       "5995      1  eddie van halen  guitar legend and rock god di...   \n",
       "5996      1  r p  rest in peace eddie, there were very few ...   \n",
       "5997      1                               rip eddie van halen    \n",
       "5998      1              eddie van halen dies at 65 of cancer    \n",
       "5999      1                van halen   everybody wants some!!    \n",
       "\n",
       "                                                 tokens  \n",
       "5995  [eddie, van, halen, guitar, legend, and, rock,...  \n",
       "5996  [r, p, rest, in, peace, eddie, there, were, ve...  \n",
       "5997                           [rip, eddie, van, halen]  \n",
       "5998      [eddie, van, halen, dies, at, 65, of, cancer]  \n",
       "5999               [van, halen, everybody, wants, some]  "
      ]
     },
     "execution_count": 221,
     "metadata": {},
     "output_type": "execute_result"
    }
   ],
   "source": [
    "country_rock.tail()"
   ]
  },
  {
   "cell_type": "markdown",
   "metadata": {},
   "source": [
    "**Saving combined dataframe to csv file for use in models.**"
   ]
  },
  {
   "cell_type": "code",
   "execution_count": 72,
   "metadata": {},
   "outputs": [],
   "source": [
    "country_rock.to_csv('../datasets/country_rock.csv', index=False)"
   ]
  },
  {
   "cell_type": "markdown",
   "metadata": {},
   "source": [
    "**Pickle combined dataframe for use in modeling**"
   ]
  },
  {
   "cell_type": "code",
   "execution_count": 222,
   "metadata": {},
   "outputs": [],
   "source": [
    "country_rock.to_pickle('../datasets/country_rock.pkl')"
   ]
  },
  {
   "cell_type": "markdown",
   "metadata": {},
   "source": [
    "## Add note here about how I originally saved to csv then went back because it was all messed up and decided to pickle"
   ]
  },
  {
   "cell_type": "code",
   "execution_count": null,
   "metadata": {},
   "outputs": [],
   "source": []
  }
 ],
 "metadata": {
  "kernelspec": {
   "display_name": "Python 3",
   "language": "python",
   "name": "python3"
  },
  "language_info": {
   "codemirror_mode": {
    "name": "ipython",
    "version": 3
   },
   "file_extension": ".py",
   "mimetype": "text/x-python",
   "name": "python",
   "nbconvert_exporter": "python",
   "pygments_lexer": "ipython3",
   "version": "3.8.5"
  }
 },
 "nbformat": 4,
 "nbformat_minor": 4
}
