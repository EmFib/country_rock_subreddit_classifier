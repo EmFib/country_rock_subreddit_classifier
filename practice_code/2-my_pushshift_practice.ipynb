{
 "cells": [
  {
   "cell_type": "code",
   "execution_count": 2,
   "metadata": {},
   "outputs": [],
   "source": [
    "import numpy as np\n",
    "import requests\n",
    "import pandas as pd\n",
    "import time"
   ]
  },
  {
   "cell_type": "code",
   "execution_count": 12,
   "metadata": {},
   "outputs": [],
   "source": [
    "# pushshift params\n",
    "# might have to change 'size' at some point \n",
    "\n",
    "params = {\n",
    "    'subreddit': 'Stoicism',\n",
    "    'size': 1000\n",
    "}"
   ]
  },
  {
   "cell_type": "code",
   "execution_count": 13,
   "metadata": {},
   "outputs": [],
   "source": [
    "post_url = 'https://api.pushshift.io/reddit/submission/search'"
   ]
  },
  {
   "cell_type": "code",
   "execution_count": 14,
   "metadata": {},
   "outputs": [],
   "source": [
    "# requests.get method\n",
    "\n",
    "res = requests.get(post_url, params)"
   ]
  },
  {
   "cell_type": "code",
   "execution_count": 15,
   "metadata": {},
   "outputs": [
    {
     "data": {
      "text/plain": [
       "200"
      ]
     },
     "execution_count": 15,
     "metadata": {},
     "output_type": "execute_result"
    }
   ],
   "source": [
    "res.status_code"
   ]
  },
  {
   "cell_type": "code",
   "execution_count": 16,
   "metadata": {},
   "outputs": [
    {
     "data": {
      "text/plain": [
       "dict_keys(['data'])"
      ]
     },
     "execution_count": 16,
     "metadata": {},
     "output_type": "execute_result"
    }
   ],
   "source": [
    "res.json().keys()"
   ]
  },
  {
   "cell_type": "code",
   "execution_count": 17,
   "metadata": {},
   "outputs": [
    {
     "data": {
      "text/plain": [
       "(100, 74)"
      ]
     },
     "execution_count": 17,
     "metadata": {},
     "output_type": "execute_result"
    }
   ],
   "source": [
    "pd.DataFrame(res.json()['data']).shape"
   ]
  },
  {
   "cell_type": "code",
   "execution_count": 18,
   "metadata": {},
   "outputs": [],
   "source": [
    "# control flow for above \n",
    "\n",
    "res = requests.get(post_url, params)\n",
    "\n",
    "if res.status_code == 200:\n",
    "    posts_df = pd.DataFrame(res.json()['data'])\n",
    "else:\n",
    "    print(res.status_code)"
   ]
  },
  {
   "cell_type": "code",
   "execution_count": 31,
   "metadata": {},
   "outputs": [
    {
     "name": "stdout",
     "output_type": "stream",
     "text": [
      "<class 'pandas.core.frame.DataFrame'>\n",
      "RangeIndex: 100 entries, 0 to 99\n",
      "Data columns (total 4 columns):\n",
      " #   Column       Non-Null Count  Dtype \n",
      "---  ------       --------------  ----- \n",
      " 0   title        100 non-null    object\n",
      " 1   selftext     100 non-null    object\n",
      " 2   score        100 non-null    int64 \n",
      " 3   created_utc  100 non-null    int64 \n",
      "dtypes: int64(2), object(2)\n",
      "memory usage: 3.2+ KB\n"
     ]
    }
   ],
   "source": [
    "posts_df.info()"
   ]
  },
  {
   "cell_type": "code",
   "execution_count": 20,
   "metadata": {},
   "outputs": [],
   "source": [
    "posts_df = posts_df[['title', 'selftext', 'score', 'created_utc']]"
   ]
  },
  {
   "cell_type": "code",
   "execution_count": 21,
   "metadata": {},
   "outputs": [
    {
     "data": {
      "text/html": [
       "<div>\n",
       "<style scoped>\n",
       "    .dataframe tbody tr th:only-of-type {\n",
       "        vertical-align: middle;\n",
       "    }\n",
       "\n",
       "    .dataframe tbody tr th {\n",
       "        vertical-align: top;\n",
       "    }\n",
       "\n",
       "    .dataframe thead th {\n",
       "        text-align: right;\n",
       "    }\n",
       "</style>\n",
       "<table border=\"1\" class=\"dataframe\">\n",
       "  <thead>\n",
       "    <tr style=\"text-align: right;\">\n",
       "      <th></th>\n",
       "      <th>title</th>\n",
       "      <th>selftext</th>\n",
       "      <th>score</th>\n",
       "      <th>created_utc</th>\n",
       "    </tr>\n",
       "  </thead>\n",
       "  <tbody>\n",
       "    <tr>\n",
       "      <th>0</th>\n",
       "      <td>MEMENTO MORI Calende Free</td>\n",
       "      <td>Hello guys, \\n\\nSo I saw one of these of memen...</td>\n",
       "      <td>1</td>\n",
       "      <td>1609014580</td>\n",
       "    </tr>\n",
       "    <tr>\n",
       "      <th>1</th>\n",
       "      <td>Treatment of people</td>\n",
       "      <td>Marcus Aurelius said that you should treat all...</td>\n",
       "      <td>1</td>\n",
       "      <td>1609002105</td>\n",
       "    </tr>\n",
       "    <tr>\n",
       "      <th>2</th>\n",
       "      <td>“Scorn cannot challenge you if you are not vai...</td>\n",
       "      <td>This is a quite from Swiss psychologist Carl J...</td>\n",
       "      <td>1</td>\n",
       "      <td>1608999078</td>\n",
       "    </tr>\n",
       "    <tr>\n",
       "      <th>3</th>\n",
       "      <td>Are practices like reuse/recycle and buys used...</td>\n",
       "      <td>I do not like replacing things that still work...</td>\n",
       "      <td>1</td>\n",
       "      <td>1608998086</td>\n",
       "    </tr>\n",
       "    <tr>\n",
       "      <th>4</th>\n",
       "      <td>Can Stoics be Activists? Debate and discussion.</td>\n",
       "      <td></td>\n",
       "      <td>1</td>\n",
       "      <td>1608995089</td>\n",
       "    </tr>\n",
       "  </tbody>\n",
       "</table>\n",
       "</div>"
      ],
      "text/plain": [
       "                                               title  \\\n",
       "0                          MEMENTO MORI Calende Free   \n",
       "1                                Treatment of people   \n",
       "2  “Scorn cannot challenge you if you are not vai...   \n",
       "3  Are practices like reuse/recycle and buys used...   \n",
       "4    Can Stoics be Activists? Debate and discussion.   \n",
       "\n",
       "                                            selftext  score  created_utc  \n",
       "0  Hello guys, \\n\\nSo I saw one of these of memen...      1   1609014580  \n",
       "1  Marcus Aurelius said that you should treat all...      1   1609002105  \n",
       "2  This is a quite from Swiss psychologist Carl J...      1   1608999078  \n",
       "3  I do not like replacing things that still work...      1   1608998086  \n",
       "4                                                         1   1608995089  "
      ]
     },
     "execution_count": 21,
     "metadata": {},
     "output_type": "execute_result"
    }
   ],
   "source": [
    "posts_df.head()"
   ]
  },
  {
   "cell_type": "code",
   "execution_count": 22,
   "metadata": {},
   "outputs": [],
   "source": [
    "comment_url = 'https://api.pushshift.io/reddit/comment/search'"
   ]
  },
  {
   "cell_type": "code",
   "execution_count": 25,
   "metadata": {},
   "outputs": [],
   "source": [
    "# same as above but for comments\n",
    "\n",
    "res = requests.get(comment_url, params)\n",
    "\n",
    "if res.status_code == 200:\n",
    "    comments_df = pd.DataFrame(res.json()['data'])\n",
    "else:\n",
    "    print(res.status_code)"
   ]
  },
  {
   "cell_type": "code",
   "execution_count": 26,
   "metadata": {},
   "outputs": [
    {
     "name": "stdout",
     "output_type": "stream",
     "text": [
      "<class 'pandas.core.frame.DataFrame'>\n",
      "RangeIndex: 100 entries, 0 to 99\n",
      "Data columns (total 35 columns):\n",
      " #   Column                           Non-Null Count  Dtype \n",
      "---  ------                           --------------  ----- \n",
      " 0   all_awardings                    100 non-null    object\n",
      " 1   associated_award                 0 non-null      object\n",
      " 2   author                           100 non-null    object\n",
      " 3   author_flair_background_color    0 non-null      object\n",
      " 4   author_flair_css_class           0 non-null      object\n",
      " 5   author_flair_richtext            100 non-null    object\n",
      " 6   author_flair_template_id         0 non-null      object\n",
      " 7   author_flair_text                0 non-null      object\n",
      " 8   author_flair_text_color          0 non-null      object\n",
      " 9   author_flair_type                100 non-null    object\n",
      " 10  author_fullname                  100 non-null    object\n",
      " 11  author_patreon_flair             100 non-null    bool  \n",
      " 12  author_premium                   100 non-null    bool  \n",
      " 13  awarders                         100 non-null    object\n",
      " 14  body                             100 non-null    object\n",
      " 15  collapsed_because_crowd_control  0 non-null      object\n",
      " 16  comment_type                     0 non-null      object\n",
      " 17  created_utc                      100 non-null    int64 \n",
      " 18  gildings                         100 non-null    object\n",
      " 19  id                               100 non-null    object\n",
      " 20  is_submitter                     100 non-null    bool  \n",
      " 21  link_id                          100 non-null    object\n",
      " 22  locked                           100 non-null    bool  \n",
      " 23  no_follow                        100 non-null    bool  \n",
      " 24  parent_id                        100 non-null    object\n",
      " 25  permalink                        100 non-null    object\n",
      " 26  retrieved_on                     100 non-null    int64 \n",
      " 27  score                            100 non-null    int64 \n",
      " 28  send_replies                     100 non-null    bool  \n",
      " 29  stickied                         100 non-null    bool  \n",
      " 30  subreddit                        100 non-null    object\n",
      " 31  subreddit_id                     100 non-null    object\n",
      " 32  top_awarded_type                 0 non-null      object\n",
      " 33  total_awards_received            100 non-null    int64 \n",
      " 34  treatment_tags                   100 non-null    object\n",
      "dtypes: bool(7), int64(4), object(24)\n",
      "memory usage: 22.7+ KB\n"
     ]
    }
   ],
   "source": [
    "comments_df.info()"
   ]
  },
  {
   "cell_type": "code",
   "execution_count": 27,
   "metadata": {},
   "outputs": [
    {
     "data": {
      "text/html": [
       "<div>\n",
       "<style scoped>\n",
       "    .dataframe tbody tr th:only-of-type {\n",
       "        vertical-align: middle;\n",
       "    }\n",
       "\n",
       "    .dataframe tbody tr th {\n",
       "        vertical-align: top;\n",
       "    }\n",
       "\n",
       "    .dataframe thead th {\n",
       "        text-align: right;\n",
       "    }\n",
       "</style>\n",
       "<table border=\"1\" class=\"dataframe\">\n",
       "  <thead>\n",
       "    <tr style=\"text-align: right;\">\n",
       "      <th></th>\n",
       "      <th>all_awardings</th>\n",
       "      <th>associated_award</th>\n",
       "      <th>author</th>\n",
       "      <th>author_flair_background_color</th>\n",
       "      <th>author_flair_css_class</th>\n",
       "      <th>author_flair_richtext</th>\n",
       "      <th>author_flair_template_id</th>\n",
       "      <th>author_flair_text</th>\n",
       "      <th>author_flair_text_color</th>\n",
       "      <th>author_flair_type</th>\n",
       "      <th>...</th>\n",
       "      <th>permalink</th>\n",
       "      <th>retrieved_on</th>\n",
       "      <th>score</th>\n",
       "      <th>send_replies</th>\n",
       "      <th>stickied</th>\n",
       "      <th>subreddit</th>\n",
       "      <th>subreddit_id</th>\n",
       "      <th>top_awarded_type</th>\n",
       "      <th>total_awards_received</th>\n",
       "      <th>treatment_tags</th>\n",
       "    </tr>\n",
       "  </thead>\n",
       "  <tbody>\n",
       "    <tr>\n",
       "      <th>0</th>\n",
       "      <td>[]</td>\n",
       "      <td>None</td>\n",
       "      <td>ohsolinkable</td>\n",
       "      <td>None</td>\n",
       "      <td>None</td>\n",
       "      <td>[]</td>\n",
       "      <td>None</td>\n",
       "      <td>None</td>\n",
       "      <td>None</td>\n",
       "      <td>text</td>\n",
       "      <td>...</td>\n",
       "      <td>/r/Stoicism/comments/kkgllw/if_this_sub_will_n...</td>\n",
       "      <td>1609017468</td>\n",
       "      <td>1</td>\n",
       "      <td>True</td>\n",
       "      <td>False</td>\n",
       "      <td>Stoicism</td>\n",
       "      <td>t5_2r4kq</td>\n",
       "      <td>None</td>\n",
       "      <td>0</td>\n",
       "      <td>[]</td>\n",
       "    </tr>\n",
       "    <tr>\n",
       "      <th>1</th>\n",
       "      <td>[]</td>\n",
       "      <td>None</td>\n",
       "      <td>Benjowenjo</td>\n",
       "      <td>None</td>\n",
       "      <td>None</td>\n",
       "      <td>[]</td>\n",
       "      <td>None</td>\n",
       "      <td>None</td>\n",
       "      <td>None</td>\n",
       "      <td>text</td>\n",
       "      <td>...</td>\n",
       "      <td>/r/Stoicism/comments/kjccht/isnt_my_way_the_pe...</td>\n",
       "      <td>1609017212</td>\n",
       "      <td>1</td>\n",
       "      <td>True</td>\n",
       "      <td>False</td>\n",
       "      <td>Stoicism</td>\n",
       "      <td>t5_2r4kq</td>\n",
       "      <td>None</td>\n",
       "      <td>0</td>\n",
       "      <td>[]</td>\n",
       "    </tr>\n",
       "    <tr>\n",
       "      <th>2</th>\n",
       "      <td>[]</td>\n",
       "      <td>None</td>\n",
       "      <td>thejaytheory</td>\n",
       "      <td>None</td>\n",
       "      <td>None</td>\n",
       "      <td>[]</td>\n",
       "      <td>None</td>\n",
       "      <td>None</td>\n",
       "      <td>None</td>\n",
       "      <td>text</td>\n",
       "      <td>...</td>\n",
       "      <td>/r/Stoicism/comments/kkgllw/if_this_sub_will_n...</td>\n",
       "      <td>1609017024</td>\n",
       "      <td>1</td>\n",
       "      <td>True</td>\n",
       "      <td>False</td>\n",
       "      <td>Stoicism</td>\n",
       "      <td>t5_2r4kq</td>\n",
       "      <td>None</td>\n",
       "      <td>0</td>\n",
       "      <td>[]</td>\n",
       "    </tr>\n",
       "    <tr>\n",
       "      <th>3</th>\n",
       "      <td>[]</td>\n",
       "      <td>None</td>\n",
       "      <td>Scipion333</td>\n",
       "      <td>None</td>\n",
       "      <td>None</td>\n",
       "      <td>[]</td>\n",
       "      <td>None</td>\n",
       "      <td>None</td>\n",
       "      <td>None</td>\n",
       "      <td>text</td>\n",
       "      <td>...</td>\n",
       "      <td>/r/Stoicism/comments/kkgllw/if_this_sub_will_n...</td>\n",
       "      <td>1609016811</td>\n",
       "      <td>1</td>\n",
       "      <td>True</td>\n",
       "      <td>False</td>\n",
       "      <td>Stoicism</td>\n",
       "      <td>t5_2r4kq</td>\n",
       "      <td>None</td>\n",
       "      <td>0</td>\n",
       "      <td>[]</td>\n",
       "    </tr>\n",
       "    <tr>\n",
       "      <th>4</th>\n",
       "      <td>[]</td>\n",
       "      <td>None</td>\n",
       "      <td>universe-atom</td>\n",
       "      <td>None</td>\n",
       "      <td>None</td>\n",
       "      <td>[]</td>\n",
       "      <td>None</td>\n",
       "      <td>None</td>\n",
       "      <td>None</td>\n",
       "      <td>text</td>\n",
       "      <td>...</td>\n",
       "      <td>/r/Stoicism/comments/kk9bv1/book_for_when_life...</td>\n",
       "      <td>1609016754</td>\n",
       "      <td>1</td>\n",
       "      <td>True</td>\n",
       "      <td>False</td>\n",
       "      <td>Stoicism</td>\n",
       "      <td>t5_2r4kq</td>\n",
       "      <td>None</td>\n",
       "      <td>0</td>\n",
       "      <td>[]</td>\n",
       "    </tr>\n",
       "  </tbody>\n",
       "</table>\n",
       "<p>5 rows × 35 columns</p>\n",
       "</div>"
      ],
      "text/plain": [
       "  all_awardings associated_award         author author_flair_background_color  \\\n",
       "0            []             None   ohsolinkable                          None   \n",
       "1            []             None     Benjowenjo                          None   \n",
       "2            []             None   thejaytheory                          None   \n",
       "3            []             None     Scipion333                          None   \n",
       "4            []             None  universe-atom                          None   \n",
       "\n",
       "  author_flair_css_class author_flair_richtext author_flair_template_id  \\\n",
       "0                   None                    []                     None   \n",
       "1                   None                    []                     None   \n",
       "2                   None                    []                     None   \n",
       "3                   None                    []                     None   \n",
       "4                   None                    []                     None   \n",
       "\n",
       "  author_flair_text author_flair_text_color author_flair_type  ...  \\\n",
       "0              None                    None              text  ...   \n",
       "1              None                    None              text  ...   \n",
       "2              None                    None              text  ...   \n",
       "3              None                    None              text  ...   \n",
       "4              None                    None              text  ...   \n",
       "\n",
       "                                           permalink  retrieved_on  score  \\\n",
       "0  /r/Stoicism/comments/kkgllw/if_this_sub_will_n...    1609017468      1   \n",
       "1  /r/Stoicism/comments/kjccht/isnt_my_way_the_pe...    1609017212      1   \n",
       "2  /r/Stoicism/comments/kkgllw/if_this_sub_will_n...    1609017024      1   \n",
       "3  /r/Stoicism/comments/kkgllw/if_this_sub_will_n...    1609016811      1   \n",
       "4  /r/Stoicism/comments/kk9bv1/book_for_when_life...    1609016754      1   \n",
       "\n",
       "  send_replies stickied subreddit subreddit_id  top_awarded_type  \\\n",
       "0         True    False  Stoicism     t5_2r4kq              None   \n",
       "1         True    False  Stoicism     t5_2r4kq              None   \n",
       "2         True    False  Stoicism     t5_2r4kq              None   \n",
       "3         True    False  Stoicism     t5_2r4kq              None   \n",
       "4         True    False  Stoicism     t5_2r4kq              None   \n",
       "\n",
       "  total_awards_received treatment_tags  \n",
       "0                     0             []  \n",
       "1                     0             []  \n",
       "2                     0             []  \n",
       "3                     0             []  \n",
       "4                     0             []  \n",
       "\n",
       "[5 rows x 35 columns]"
      ]
     },
     "execution_count": 27,
     "metadata": {},
     "output_type": "execute_result"
    }
   ],
   "source": [
    "comments_df.head()"
   ]
  },
  {
   "cell_type": "code",
   "execution_count": 28,
   "metadata": {},
   "outputs": [
    {
     "data": {
      "text/html": [
       "<div>\n",
       "<style scoped>\n",
       "    .dataframe tbody tr th:only-of-type {\n",
       "        vertical-align: middle;\n",
       "    }\n",
       "\n",
       "    .dataframe tbody tr th {\n",
       "        vertical-align: top;\n",
       "    }\n",
       "\n",
       "    .dataframe thead th {\n",
       "        text-align: right;\n",
       "    }\n",
       "</style>\n",
       "<table border=\"1\" class=\"dataframe\">\n",
       "  <thead>\n",
       "    <tr style=\"text-align: right;\">\n",
       "      <th></th>\n",
       "      <th>body</th>\n",
       "      <th>created_utc</th>\n",
       "    </tr>\n",
       "  </thead>\n",
       "  <tbody>\n",
       "    <tr>\n",
       "      <th>0</th>\n",
       "      <td>This entire thread goes against your own philo...</td>\n",
       "      <td>1609017458</td>\n",
       "    </tr>\n",
       "    <tr>\n",
       "      <th>1</th>\n",
       "      <td>I think he struggled with anger management iss...</td>\n",
       "      <td>1609017201</td>\n",
       "    </tr>\n",
       "    <tr>\n",
       "      <th>2</th>\n",
       "      <td>I think you're cool man, I think you meant wel...</td>\n",
       "      <td>1609017012</td>\n",
       "    </tr>\n",
       "    <tr>\n",
       "      <th>3</th>\n",
       "      <td>Of course not, narcissism is the core principl...</td>\n",
       "      <td>1609016800</td>\n",
       "    </tr>\n",
       "    <tr>\n",
       "      <th>4</th>\n",
       "      <td>Read it several times, take notes. Condense th...</td>\n",
       "      <td>1609016743</td>\n",
       "    </tr>\n",
       "    <tr>\n",
       "      <th>...</th>\n",
       "      <td>...</td>\n",
       "      <td>...</td>\n",
       "    </tr>\n",
       "    <tr>\n",
       "      <th>95</th>\n",
       "      <td>Yes, please. Ban Images.</td>\n",
       "      <td>1609003301</td>\n",
       "    </tr>\n",
       "    <tr>\n",
       "      <th>96</th>\n",
       "      <td>I both agree and disagree. Rigor is important ...</td>\n",
       "      <td>1609003258</td>\n",
       "    </tr>\n",
       "    <tr>\n",
       "      <th>97</th>\n",
       "      <td>I agree. However there is the issue of this ph...</td>\n",
       "      <td>1609003149</td>\n",
       "    </tr>\n",
       "    <tr>\n",
       "      <th>98</th>\n",
       "      <td>This gets back to the concept everyone is to b...</td>\n",
       "      <td>1609002862</td>\n",
       "    </tr>\n",
       "    <tr>\n",
       "      <th>99</th>\n",
       "      <td>Oh I read it now lol</td>\n",
       "      <td>1609002840</td>\n",
       "    </tr>\n",
       "  </tbody>\n",
       "</table>\n",
       "<p>100 rows × 2 columns</p>\n",
       "</div>"
      ],
      "text/plain": [
       "                                                 body  created_utc\n",
       "0   This entire thread goes against your own philo...   1609017458\n",
       "1   I think he struggled with anger management iss...   1609017201\n",
       "2   I think you're cool man, I think you meant wel...   1609017012\n",
       "3   Of course not, narcissism is the core principl...   1609016800\n",
       "4   Read it several times, take notes. Condense th...   1609016743\n",
       "..                                                ...          ...\n",
       "95                           Yes, please. Ban Images.   1609003301\n",
       "96  I both agree and disagree. Rigor is important ...   1609003258\n",
       "97  I agree. However there is the issue of this ph...   1609003149\n",
       "98  This gets back to the concept everyone is to b...   1609002862\n",
       "99                               Oh I read it now lol   1609002840\n",
       "\n",
       "[100 rows x 2 columns]"
      ]
     },
     "execution_count": 28,
     "metadata": {},
     "output_type": "execute_result"
    }
   ],
   "source": [
    "comments_df[['body', 'created_utc']]"
   ]
  },
  {
   "cell_type": "code",
   "execution_count": 29,
   "metadata": {},
   "outputs": [
    {
     "data": {
      "text/plain": [
       "1609014580"
      ]
     },
     "execution_count": 29,
     "metadata": {},
     "output_type": "execute_result"
    }
   ],
   "source": [
    "posts_df['created_utc'].max()"
   ]
  },
  {
   "cell_type": "code",
   "execution_count": 30,
   "metadata": {},
   "outputs": [
    {
     "data": {
      "text/plain": [
       "1608738774"
      ]
     },
     "execution_count": 30,
     "metadata": {},
     "output_type": "execute_result"
    }
   ],
   "source": [
    "posts_df['created_utc'].min()"
   ]
  },
  {
   "cell_type": "code",
   "execution_count": 1,
   "metadata": {},
   "outputs": [
    {
     "ename": "NameError",
     "evalue": "name 'time' is not defined",
     "output_type": "error",
     "traceback": [
      "\u001b[0;31m---------------------------------------------------------------------------\u001b[0m",
      "\u001b[0;31mNameError\u001b[0m                                 Traceback (most recent call last)",
      "\u001b[0;32m<ipython-input-1-2532dffe88ab>\u001b[0m in \u001b[0;36m<module>\u001b[0;34m\u001b[0m\n\u001b[1;32m      5\u001b[0m \u001b[0msubreddit\u001b[0m \u001b[0;34m=\u001b[0m \u001b[0;34m'Stoicism'\u001b[0m\u001b[0;34m\u001b[0m\u001b[0;34m\u001b[0m\u001b[0m\n\u001b[1;32m      6\u001b[0m \u001b[0;34m\u001b[0m\u001b[0m\n\u001b[0;32m----> 7\u001b[0;31m \u001b[0mstart_time\u001b[0m \u001b[0;34m=\u001b[0m \u001b[0mtime\u001b[0m\u001b[0;34m.\u001b[0m\u001b[0mtime\u001b[0m\u001b[0;34m(\u001b[0m\u001b[0;34m)\u001b[0m\u001b[0;34m\u001b[0m\u001b[0;34m\u001b[0m\u001b[0m\n\u001b[0m\u001b[1;32m      8\u001b[0m \u001b[0;34m\u001b[0m\u001b[0m\n\u001b[1;32m      9\u001b[0m params = {\n",
      "\u001b[0;31mNameError\u001b[0m: name 'time' is not defined"
     ]
    }
   ],
   "source": [
    "# just one example of a loop for pulling in subreddits\n",
    "url = 'https://api.pushshift.io/reddit/submission/search'\n",
    "dfs = []\n",
    "loops = 10\n",
    "subreddit = 'Stoicism'\n",
    "\n",
    "start_time = time.time()\n",
    "\n",
    "params = {\n",
    "    'subreddit': subreddit,\n",
    "    'size': 100,\n",
    "    'before': round(start_time)\n",
    "}\n",
    "\n",
    "for i in range(loops):\n",
    "    current_time = time.time()\n",
    "    \n",
    "    #requesting data\n",
    "#     try:\n",
    "    res = requests.get(url, params)\n",
    "    print(f'res {i+1} code: ', res.status_code)\n",
    "    data = res.json()\n",
    "    posts = data['data']\n",
    "    \n",
    "    post_df = pd.DataFrame(posts)\n",
    "    \n",
    "    dfs.append(post_df)\n",
    "    \n",
    "    #get oldest post time and use as before parameter in next request\n",
    "    oldest = posts['created_utc'].min()\n",
    "    params['before'] = oldest\n",
    "    \n",
    "    #sleep for 1 second\n",
    "    time.sleep(1)\n",
    "        \n",
    "#     except:\n",
    "#         pass\n",
    "\n",
    "reddit_posts_stoic = pd.concat(dfs)\n",
    "\n",
    "#filename = subreddit + '.csv'\n",
    "#reddit_posts_stoic.to_csv('./datasets/' + filename, index=False)"
   ]
  },
  {
   "cell_type": "code",
   "execution_count": 30,
   "metadata": {},
   "outputs": [
    {
     "name": "stdout",
     "output_type": "stream",
     "text": [
      "<class 'pandas.core.frame.DataFrame'>\n",
      "Int64Index: 1000 entries, 0 to 99\n",
      "Data columns (total 73 columns):\n",
      " #   Column                       Non-Null Count  Dtype  \n",
      "---  ------                       --------------  -----  \n",
      " 0   all_awardings                1000 non-null   object \n",
      " 1   allow_live_comments          1000 non-null   bool   \n",
      " 2   author                       1000 non-null   object \n",
      " 3   author_flair_css_class       0 non-null      object \n",
      " 4   author_flair_richtext        1000 non-null   object \n",
      " 5   author_flair_text            0 non-null      object \n",
      " 6   author_flair_type            1000 non-null   object \n",
      " 7   author_fullname              1000 non-null   object \n",
      " 8   author_patreon_flair         1000 non-null   bool   \n",
      " 9   author_premium               1000 non-null   bool   \n",
      " 10  awarders                     1000 non-null   object \n",
      " 11  can_mod_post                 1000 non-null   bool   \n",
      " 12  contest_mode                 1000 non-null   bool   \n",
      " 13  created_utc                  1000 non-null   int64  \n",
      " 14  domain                       1000 non-null   object \n",
      " 15  full_link                    1000 non-null   object \n",
      " 16  gildings                     1000 non-null   object \n",
      " 17  id                           1000 non-null   object \n",
      " 18  is_crosspostable             1000 non-null   bool   \n",
      " 19  is_meta                      1000 non-null   bool   \n",
      " 20  is_original_content          1000 non-null   bool   \n",
      " 21  is_reddit_media_domain       1000 non-null   bool   \n",
      " 22  is_robot_indexable           1000 non-null   bool   \n",
      " 23  is_self                      1000 non-null   bool   \n",
      " 24  is_video                     1000 non-null   bool   \n",
      " 25  link_flair_background_color  1000 non-null   object \n",
      " 26  link_flair_richtext          1000 non-null   object \n",
      " 27  link_flair_template_id       470 non-null    object \n",
      " 28  link_flair_text              470 non-null    object \n",
      " 29  link_flair_text_color        1000 non-null   object \n",
      " 30  link_flair_type              1000 non-null   object \n",
      " 31  locked                       1000 non-null   bool   \n",
      " 32  media_only                   1000 non-null   bool   \n",
      " 33  no_follow                    1000 non-null   bool   \n",
      " 34  num_comments                 1000 non-null   int64  \n",
      " 35  num_crossposts               1000 non-null   int64  \n",
      " 36  over_18                      1000 non-null   bool   \n",
      " 37  parent_whitelist_status      1000 non-null   object \n",
      " 38  permalink                    1000 non-null   object \n",
      " 39  pinned                       1000 non-null   bool   \n",
      " 40  pwls                         1000 non-null   int64  \n",
      " 41  retrieved_on                 1000 non-null   int64  \n",
      " 42  score                        1000 non-null   int64  \n",
      " 43  selftext                     1000 non-null   object \n",
      " 44  send_replies                 1000 non-null   bool   \n",
      " 45  spoiler                      1000 non-null   bool   \n",
      " 46  stickied                     1000 non-null   bool   \n",
      " 47  subreddit                    1000 non-null   object \n",
      " 48  subreddit_id                 1000 non-null   object \n",
      " 49  subreddit_subscribers        1000 non-null   int64  \n",
      " 50  subreddit_type               1000 non-null   object \n",
      " 51  thumbnail                    1000 non-null   object \n",
      " 52  title                        1000 non-null   object \n",
      " 53  total_awards_received        1000 non-null   int64  \n",
      " 54  treatment_tags               1000 non-null   object \n",
      " 55  upvote_ratio                 1000 non-null   float64\n",
      " 56  url                          1000 non-null   object \n",
      " 57  whitelist_status             1000 non-null   object \n",
      " 58  wls                          1000 non-null   int64  \n",
      " 59  post_hint                    250 non-null    object \n",
      " 60  preview                      250 non-null    object \n",
      " 61  thumbnail_height             260 non-null    float64\n",
      " 62  thumbnail_width              260 non-null    float64\n",
      " 63  url_overridden_by_dest       270 non-null    object \n",
      " 64  removed_by_category          40 non-null     object \n",
      " 65  crosspost_parent             60 non-null     object \n",
      " 66  crosspost_parent_list        60 non-null     object \n",
      " 67  poll_data                    10 non-null     object \n",
      " 68  media                        30 non-null     object \n",
      " 69  media_embed                  30 non-null     object \n",
      " 70  secure_media                 30 non-null     object \n",
      " 71  secure_media_embed           30 non-null     object \n",
      " 72  distinguished                30 non-null     object \n",
      "dtypes: bool(20), float64(3), int64(9), object(41)\n",
      "memory usage: 441.4+ KB\n"
     ]
    }
   ],
   "source": [
    "reddit_posts_stoic.info()"
   ]
  },
  {
   "cell_type": "code",
   "execution_count": 31,
   "metadata": {},
   "outputs": [
    {
     "data": {
      "text/html": [
       "<div>\n",
       "<style scoped>\n",
       "    .dataframe tbody tr th:only-of-type {\n",
       "        vertical-align: middle;\n",
       "    }\n",
       "\n",
       "    .dataframe tbody tr th {\n",
       "        vertical-align: top;\n",
       "    }\n",
       "\n",
       "    .dataframe thead th {\n",
       "        text-align: right;\n",
       "    }\n",
       "</style>\n",
       "<table border=\"1\" class=\"dataframe\">\n",
       "  <thead>\n",
       "    <tr style=\"text-align: right;\">\n",
       "      <th></th>\n",
       "      <th>all_awardings</th>\n",
       "      <th>allow_live_comments</th>\n",
       "      <th>author</th>\n",
       "      <th>author_flair_css_class</th>\n",
       "      <th>author_flair_richtext</th>\n",
       "      <th>author_flair_text</th>\n",
       "      <th>author_flair_type</th>\n",
       "      <th>author_fullname</th>\n",
       "      <th>author_patreon_flair</th>\n",
       "      <th>author_premium</th>\n",
       "      <th>...</th>\n",
       "      <th>url_overridden_by_dest</th>\n",
       "      <th>removed_by_category</th>\n",
       "      <th>crosspost_parent</th>\n",
       "      <th>crosspost_parent_list</th>\n",
       "      <th>poll_data</th>\n",
       "      <th>media</th>\n",
       "      <th>media_embed</th>\n",
       "      <th>secure_media</th>\n",
       "      <th>secure_media_embed</th>\n",
       "      <th>distinguished</th>\n",
       "    </tr>\n",
       "  </thead>\n",
       "  <tbody>\n",
       "    <tr>\n",
       "      <th>0</th>\n",
       "      <td>[]</td>\n",
       "      <td>False</td>\n",
       "      <td>RedNeck_Styles</td>\n",
       "      <td>None</td>\n",
       "      <td>[]</td>\n",
       "      <td>None</td>\n",
       "      <td>text</td>\n",
       "      <td>t2_66defmzf</td>\n",
       "      <td>False</td>\n",
       "      <td>False</td>\n",
       "      <td>...</td>\n",
       "      <td>NaN</td>\n",
       "      <td>NaN</td>\n",
       "      <td>NaN</td>\n",
       "      <td>NaN</td>\n",
       "      <td>NaN</td>\n",
       "      <td>NaN</td>\n",
       "      <td>NaN</td>\n",
       "      <td>NaN</td>\n",
       "      <td>NaN</td>\n",
       "      <td>NaN</td>\n",
       "    </tr>\n",
       "    <tr>\n",
       "      <th>1</th>\n",
       "      <td>[]</td>\n",
       "      <td>False</td>\n",
       "      <td>snowcroc</td>\n",
       "      <td>None</td>\n",
       "      <td>[]</td>\n",
       "      <td>None</td>\n",
       "      <td>text</td>\n",
       "      <td>t2_ikv4e</td>\n",
       "      <td>False</td>\n",
       "      <td>False</td>\n",
       "      <td>...</td>\n",
       "      <td>NaN</td>\n",
       "      <td>NaN</td>\n",
       "      <td>NaN</td>\n",
       "      <td>NaN</td>\n",
       "      <td>NaN</td>\n",
       "      <td>NaN</td>\n",
       "      <td>NaN</td>\n",
       "      <td>NaN</td>\n",
       "      <td>NaN</td>\n",
       "      <td>NaN</td>\n",
       "    </tr>\n",
       "    <tr>\n",
       "      <th>2</th>\n",
       "      <td>[]</td>\n",
       "      <td>False</td>\n",
       "      <td>anervousbull</td>\n",
       "      <td>None</td>\n",
       "      <td>[]</td>\n",
       "      <td>None</td>\n",
       "      <td>text</td>\n",
       "      <td>t2_4wmg7hv4</td>\n",
       "      <td>False</td>\n",
       "      <td>False</td>\n",
       "      <td>...</td>\n",
       "      <td>https://i.redd.it/dpbey8krvu661.jpg</td>\n",
       "      <td>NaN</td>\n",
       "      <td>NaN</td>\n",
       "      <td>NaN</td>\n",
       "      <td>NaN</td>\n",
       "      <td>NaN</td>\n",
       "      <td>NaN</td>\n",
       "      <td>NaN</td>\n",
       "      <td>NaN</td>\n",
       "      <td>NaN</td>\n",
       "    </tr>\n",
       "    <tr>\n",
       "      <th>3</th>\n",
       "      <td>[]</td>\n",
       "      <td>False</td>\n",
       "      <td>wallpapersdance</td>\n",
       "      <td>None</td>\n",
       "      <td>[]</td>\n",
       "      <td>None</td>\n",
       "      <td>text</td>\n",
       "      <td>t2_7c2ofv4k</td>\n",
       "      <td>False</td>\n",
       "      <td>False</td>\n",
       "      <td>...</td>\n",
       "      <td>NaN</td>\n",
       "      <td>NaN</td>\n",
       "      <td>NaN</td>\n",
       "      <td>NaN</td>\n",
       "      <td>NaN</td>\n",
       "      <td>NaN</td>\n",
       "      <td>NaN</td>\n",
       "      <td>NaN</td>\n",
       "      <td>NaN</td>\n",
       "      <td>NaN</td>\n",
       "    </tr>\n",
       "    <tr>\n",
       "      <th>4</th>\n",
       "      <td>[]</td>\n",
       "      <td>False</td>\n",
       "      <td>stoicrookie09</td>\n",
       "      <td>None</td>\n",
       "      <td>[]</td>\n",
       "      <td>None</td>\n",
       "      <td>text</td>\n",
       "      <td>t2_9ggszbx6</td>\n",
       "      <td>False</td>\n",
       "      <td>False</td>\n",
       "      <td>...</td>\n",
       "      <td>NaN</td>\n",
       "      <td>NaN</td>\n",
       "      <td>NaN</td>\n",
       "      <td>NaN</td>\n",
       "      <td>NaN</td>\n",
       "      <td>NaN</td>\n",
       "      <td>NaN</td>\n",
       "      <td>NaN</td>\n",
       "      <td>NaN</td>\n",
       "      <td>NaN</td>\n",
       "    </tr>\n",
       "  </tbody>\n",
       "</table>\n",
       "<p>5 rows × 73 columns</p>\n",
       "</div>"
      ],
      "text/plain": [
       "  all_awardings  allow_live_comments           author author_flair_css_class  \\\n",
       "0            []                False   RedNeck_Styles                   None   \n",
       "1            []                False         snowcroc                   None   \n",
       "2            []                False     anervousbull                   None   \n",
       "3            []                False  wallpapersdance                   None   \n",
       "4            []                False    stoicrookie09                   None   \n",
       "\n",
       "  author_flair_richtext author_flair_text author_flair_type author_fullname  \\\n",
       "0                    []              None              text     t2_66defmzf   \n",
       "1                    []              None              text        t2_ikv4e   \n",
       "2                    []              None              text     t2_4wmg7hv4   \n",
       "3                    []              None              text     t2_7c2ofv4k   \n",
       "4                    []              None              text     t2_9ggszbx6   \n",
       "\n",
       "   author_patreon_flair  author_premium  ...  \\\n",
       "0                 False           False  ...   \n",
       "1                 False           False  ...   \n",
       "2                 False           False  ...   \n",
       "3                 False           False  ...   \n",
       "4                 False           False  ...   \n",
       "\n",
       "                url_overridden_by_dest  removed_by_category  crosspost_parent  \\\n",
       "0                                  NaN                  NaN               NaN   \n",
       "1                                  NaN                  NaN               NaN   \n",
       "2  https://i.redd.it/dpbey8krvu661.jpg                  NaN               NaN   \n",
       "3                                  NaN                  NaN               NaN   \n",
       "4                                  NaN                  NaN               NaN   \n",
       "\n",
       "   crosspost_parent_list poll_data media media_embed secure_media  \\\n",
       "0                    NaN       NaN   NaN         NaN          NaN   \n",
       "1                    NaN       NaN   NaN         NaN          NaN   \n",
       "2                    NaN       NaN   NaN         NaN          NaN   \n",
       "3                    NaN       NaN   NaN         NaN          NaN   \n",
       "4                    NaN       NaN   NaN         NaN          NaN   \n",
       "\n",
       "   secure_media_embed  distinguished  \n",
       "0                 NaN            NaN  \n",
       "1                 NaN            NaN  \n",
       "2                 NaN            NaN  \n",
       "3                 NaN            NaN  \n",
       "4                 NaN            NaN  \n",
       "\n",
       "[5 rows x 73 columns]"
      ]
     },
     "execution_count": 31,
     "metadata": {},
     "output_type": "execute_result"
    }
   ],
   "source": [
    "reddit_posts_stoic.head()"
   ]
  },
  {
   "cell_type": "code",
   "execution_count": 33,
   "metadata": {},
   "outputs": [
    {
     "data": {
      "text/html": [
       "<div>\n",
       "<style scoped>\n",
       "    .dataframe tbody tr th:only-of-type {\n",
       "        vertical-align: middle;\n",
       "    }\n",
       "\n",
       "    .dataframe tbody tr th {\n",
       "        vertical-align: top;\n",
       "    }\n",
       "\n",
       "    .dataframe thead th {\n",
       "        text-align: right;\n",
       "    }\n",
       "</style>\n",
       "<table border=\"1\" class=\"dataframe\">\n",
       "  <thead>\n",
       "    <tr style=\"text-align: right;\">\n",
       "      <th></th>\n",
       "      <th>title</th>\n",
       "      <th>selftext</th>\n",
       "      <th>created_utc</th>\n",
       "    </tr>\n",
       "  </thead>\n",
       "  <tbody>\n",
       "    <tr>\n",
       "      <th>0</th>\n",
       "      <td>Is \"The Daily Stoic\" by Ryan Holiday good for ...</td>\n",
       "      <td>So I'm planning to get into stoicism to create...</td>\n",
       "      <td>1608698755</td>\n",
       "    </tr>\n",
       "    <tr>\n",
       "      <th>1</th>\n",
       "      <td>What are some small ways to practice stoicism?</td>\n",
       "      <td>This is not an easy path and we are all flawed...</td>\n",
       "      <td>1608694396</td>\n",
       "    </tr>\n",
       "    <tr>\n",
       "      <th>2</th>\n",
       "      <td>Stoicism</td>\n",
       "      <td></td>\n",
       "      <td>1608694030</td>\n",
       "    </tr>\n",
       "    <tr>\n",
       "      <th>3</th>\n",
       "      <td>Questions for people who have experimented wit...</td>\n",
       "      <td>\\n\\n1. What ended up being effective for boos...</td>\n",
       "      <td>1608687664</td>\n",
       "    </tr>\n",
       "    <tr>\n",
       "      <th>4</th>\n",
       "      <td>Tips on how to handle unwanted opinions</td>\n",
       "      <td>Hi, I'm very new to stoicism and I've been try...</td>\n",
       "      <td>1608684878</td>\n",
       "    </tr>\n",
       "    <tr>\n",
       "      <th>...</th>\n",
       "      <td>...</td>\n",
       "      <td>...</td>\n",
       "      <td>...</td>\n",
       "    </tr>\n",
       "    <tr>\n",
       "      <th>95</th>\n",
       "      <td>Where Spartans Stoic ?</td>\n",
       "      <td></td>\n",
       "      <td>1608482202</td>\n",
       "    </tr>\n",
       "    <tr>\n",
       "      <th>96</th>\n",
       "      <td>Stoic Take On Depression(?)</td>\n",
       "      <td>As I’m sure everyone is well aware this quaran...</td>\n",
       "      <td>1608481482</td>\n",
       "    </tr>\n",
       "    <tr>\n",
       "      <th>97</th>\n",
       "      <td>This belong here</td>\n",
       "      <td></td>\n",
       "      <td>1608480271</td>\n",
       "    </tr>\n",
       "    <tr>\n",
       "      <th>98</th>\n",
       "      <td>Memento Mori</td>\n",
       "      <td></td>\n",
       "      <td>1608480120</td>\n",
       "    </tr>\n",
       "    <tr>\n",
       "      <th>99</th>\n",
       "      <td>How did you think when things were going well?</td>\n",
       "      <td>When feeling out of balance, go back to the wa...</td>\n",
       "      <td>1608479901</td>\n",
       "    </tr>\n",
       "  </tbody>\n",
       "</table>\n",
       "<p>1000 rows × 3 columns</p>\n",
       "</div>"
      ],
      "text/plain": [
       "                                                title  \\\n",
       "0   Is \"The Daily Stoic\" by Ryan Holiday good for ...   \n",
       "1      What are some small ways to practice stoicism?   \n",
       "2                                            Stoicism   \n",
       "3   Questions for people who have experimented wit...   \n",
       "4             Tips on how to handle unwanted opinions   \n",
       "..                                                ...   \n",
       "95                             Where Spartans Stoic ?   \n",
       "96                        Stoic Take On Depression(?)   \n",
       "97                                   This belong here   \n",
       "98                                       Memento Mori   \n",
       "99     How did you think when things were going well?   \n",
       "\n",
       "                                             selftext  created_utc  \n",
       "0   So I'm planning to get into stoicism to create...   1608698755  \n",
       "1   This is not an easy path and we are all flawed...   1608694396  \n",
       "2                                                       1608694030  \n",
       "3    \\n\\n1. What ended up being effective for boos...   1608687664  \n",
       "4   Hi, I'm very new to stoicism and I've been try...   1608684878  \n",
       "..                                                ...          ...  \n",
       "95                                                      1608482202  \n",
       "96  As I’m sure everyone is well aware this quaran...   1608481482  \n",
       "97                                                      1608480271  \n",
       "98                                                      1608480120  \n",
       "99  When feeling out of balance, go back to the wa...   1608479901  \n",
       "\n",
       "[1000 rows x 3 columns]"
      ]
     },
     "execution_count": 33,
     "metadata": {},
     "output_type": "execute_result"
    }
   ],
   "source": [
    "reddit_posts_stoic[['title', 'selftext', 'created_utc']]"
   ]
  },
  {
   "cell_type": "code",
   "execution_count": 34,
   "metadata": {},
   "outputs": [
    {
     "data": {
      "text/plain": [
       "1608698755"
      ]
     },
     "execution_count": 34,
     "metadata": {},
     "output_type": "execute_result"
    }
   ],
   "source": [
    "reddit_posts_stoic.created_utc.max()"
   ]
  },
  {
   "cell_type": "code",
   "execution_count": 35,
   "metadata": {},
   "outputs": [
    {
     "data": {
      "text/plain": [
       "1608479901"
      ]
     },
     "execution_count": 35,
     "metadata": {},
     "output_type": "execute_result"
    }
   ],
   "source": [
    "reddit_posts_stoic.created_utc.min()"
   ]
  },
  {
   "cell_type": "code",
   "execution_count": 36,
   "metadata": {},
   "outputs": [
    {
     "data": {
      "text/plain": [
       "0    2020-12-23 04:45:55\n",
       "1    2020-12-23 03:33:16\n",
       "2    2020-12-23 03:27:10\n",
       "3    2020-12-23 01:41:04\n",
       "4    2020-12-23 00:54:38\n",
       "             ...        \n",
       "95   2020-12-20 16:36:42\n",
       "96   2020-12-20 16:24:42\n",
       "97   2020-12-20 16:04:31\n",
       "98   2020-12-20 16:02:00\n",
       "99   2020-12-20 15:58:21\n",
       "Name: created_utc, Length: 1000, dtype: datetime64[ns]"
      ]
     },
     "execution_count": 36,
     "metadata": {},
     "output_type": "execute_result"
    }
   ],
   "source": [
    "pd.to_datetime(reddit_posts_stoic['created_utc'], unit='s')"
   ]
  },
  {
   "cell_type": "code",
   "execution_count": 38,
   "metadata": {},
   "outputs": [],
   "source": [
    "reddit_posts_stoic['datetime'] = pd.to_datetime(reddit_posts_stoic['created_utc'], unit='s')"
   ]
  },
  {
   "cell_type": "code",
   "execution_count": 39,
   "metadata": {},
   "outputs": [
    {
     "data": {
      "text/html": [
       "<div>\n",
       "<style scoped>\n",
       "    .dataframe tbody tr th:only-of-type {\n",
       "        vertical-align: middle;\n",
       "    }\n",
       "\n",
       "    .dataframe tbody tr th {\n",
       "        vertical-align: top;\n",
       "    }\n",
       "\n",
       "    .dataframe thead th {\n",
       "        text-align: right;\n",
       "    }\n",
       "</style>\n",
       "<table border=\"1\" class=\"dataframe\">\n",
       "  <thead>\n",
       "    <tr style=\"text-align: right;\">\n",
       "      <th></th>\n",
       "      <th>title</th>\n",
       "      <th>selftext</th>\n",
       "      <th>datetime</th>\n",
       "    </tr>\n",
       "  </thead>\n",
       "  <tbody>\n",
       "    <tr>\n",
       "      <th>0</th>\n",
       "      <td>Is \"The Daily Stoic\" by Ryan Holiday good for ...</td>\n",
       "      <td>So I'm planning to get into stoicism to create...</td>\n",
       "      <td>2020-12-23 04:45:55</td>\n",
       "    </tr>\n",
       "    <tr>\n",
       "      <th>1</th>\n",
       "      <td>What are some small ways to practice stoicism?</td>\n",
       "      <td>This is not an easy path and we are all flawed...</td>\n",
       "      <td>2020-12-23 03:33:16</td>\n",
       "    </tr>\n",
       "    <tr>\n",
       "      <th>2</th>\n",
       "      <td>Stoicism</td>\n",
       "      <td></td>\n",
       "      <td>2020-12-23 03:27:10</td>\n",
       "    </tr>\n",
       "    <tr>\n",
       "      <th>3</th>\n",
       "      <td>Questions for people who have experimented wit...</td>\n",
       "      <td>\\n\\n1. What ended up being effective for boos...</td>\n",
       "      <td>2020-12-23 01:41:04</td>\n",
       "    </tr>\n",
       "    <tr>\n",
       "      <th>4</th>\n",
       "      <td>Tips on how to handle unwanted opinions</td>\n",
       "      <td>Hi, I'm very new to stoicism and I've been try...</td>\n",
       "      <td>2020-12-23 00:54:38</td>\n",
       "    </tr>\n",
       "  </tbody>\n",
       "</table>\n",
       "</div>"
      ],
      "text/plain": [
       "                                               title  \\\n",
       "0  Is \"The Daily Stoic\" by Ryan Holiday good for ...   \n",
       "1     What are some small ways to practice stoicism?   \n",
       "2                                           Stoicism   \n",
       "3  Questions for people who have experimented wit...   \n",
       "4            Tips on how to handle unwanted opinions   \n",
       "\n",
       "                                            selftext            datetime  \n",
       "0  So I'm planning to get into stoicism to create... 2020-12-23 04:45:55  \n",
       "1  This is not an easy path and we are all flawed... 2020-12-23 03:33:16  \n",
       "2                                                    2020-12-23 03:27:10  \n",
       "3   \\n\\n1. What ended up being effective for boos... 2020-12-23 01:41:04  \n",
       "4  Hi, I'm very new to stoicism and I've been try... 2020-12-23 00:54:38  "
      ]
     },
     "execution_count": 39,
     "metadata": {},
     "output_type": "execute_result"
    }
   ],
   "source": [
    "reddit_posts_stoic[['title', 'selftext', 'datetime']].head()"
   ]
  },
  {
   "cell_type": "code",
   "execution_count": 40,
   "metadata": {},
   "outputs": [],
   "source": [
    "reddit_posts_stoic['merged'] = reddit_posts_stoic['title'] + \" \" + reddit_posts_stoic['selftext']"
   ]
  },
  {
   "cell_type": "code",
   "execution_count": 41,
   "metadata": {},
   "outputs": [
    {
     "data": {
      "text/plain": [
       "276"
      ]
     },
     "execution_count": 41,
     "metadata": {},
     "output_type": "execute_result"
    }
   ],
   "source": [
    "reddit_posts_stoic['title'].map(lambda x: len(x)).max()"
   ]
  },
  {
   "cell_type": "code",
   "execution_count": 45,
   "metadata": {},
   "outputs": [
    {
     "data": {
      "text/plain": [
       "76    3356\n",
       "76    3356\n",
       "76    3356\n",
       "76    3356\n",
       "76    3356\n",
       "76    3356\n",
       "76    3356\n",
       "76    3356\n",
       "76    3356\n",
       "76    3356\n",
       "Name: selftext, dtype: int64"
      ]
     },
     "execution_count": 45,
     "metadata": {},
     "output_type": "execute_result"
    }
   ],
   "source": [
    "# 5 longest posts\n",
    "\n",
    "reddit_posts_stoic['selftext'].map(lambda x: len(x)).nlargest(10)"
   ]
  },
  {
   "cell_type": "code",
   "execution_count": 46,
   "metadata": {},
   "outputs": [
    {
     "data": {
      "text/plain": [
       "504.97"
      ]
     },
     "execution_count": 46,
     "metadata": {},
     "output_type": "execute_result"
    }
   ],
   "source": [
    "reddit_posts_stoic['selftext'].map(lambda x: len(x)).mean()"
   ]
  },
  {
   "cell_type": "code",
   "execution_count": 48,
   "metadata": {},
   "outputs": [
    {
     "data": {
      "image/png": "[encoded data removed]",
      "text/plain": [
       "<Figure size 432x288 with 1 Axes>"
      ]
     },
     "metadata": {
      "needs_background": "light"
     },
     "output_type": "display_data"
    }
   ],
   "source": [
    "# distribution of post length \n",
    "\n",
    "reddit_posts_stoic['selftext'].map(lambda x: len(x)).plot(kind='hist');"
   ]
  },
  {
   "cell_type": "code",
   "execution_count": 49,
   "metadata": {},
   "outputs": [
    {
     "data": {
      "text/plain": [
       "1000"
      ]
     },
     "execution_count": 49,
     "metadata": {},
     "output_type": "execute_result"
    }
   ],
   "source": [
    "len(reddit_posts_stoic.index)"
   ]
  },
  {
   "cell_type": "code",
   "execution_count": 50,
   "metadata": {},
   "outputs": [
    {
     "data": {
      "text/plain": [
       "(1000, 75)"
      ]
     },
     "execution_count": 50,
     "metadata": {},
     "output_type": "execute_result"
    }
   ],
   "source": [
    "reddit_posts_stoic.shape"
   ]
  },
  {
   "cell_type": "markdown",
   "metadata": {},
   "source": [
    "### PRACTICE HAM/SPAM! "
   ]
  },
  {
   "cell_type": "code",
   "execution_count": 53,
   "metadata": {},
   "outputs": [],
   "source": [
    "# imports\n",
    "import pandas as pd\n",
    "import matplotlib.pyplot as plt\n",
    "from sklearn.model_selection import train_test_split, GridSearchCV\n",
    "from sklearn.pipeline import Pipeline\n",
    "from sklearn.naive_bayes import MultinomialNB\n",
    "from sklearn.linear_model import LogisticRegression\n",
    "from sklearn.metrics import confusion_matrix, plot_confusion_matrix\n",
    "from nltk import FreqDist, pos_tag\n",
    "from nltk.tokenize import word_tokenize\n",
    "from collections import Counter\n",
    "\n",
    "# Import CountVectorizer and TFIDFVectorizer from feature_extraction.text.\n",
    "from sklearn.feature_extraction.text import CountVectorizer, TfidfVectorizer"
   ]
  },
  {
   "cell_type": "code",
   "execution_count": 55,
   "metadata": {},
   "outputs": [
    {
     "data": {
      "text/html": [
       "<div>\n",
       "<style scoped>\n",
       "    .dataframe tbody tr th:only-of-type {\n",
       "        vertical-align: middle;\n",
       "    }\n",
       "\n",
       "    .dataframe tbody tr th {\n",
       "        vertical-align: top;\n",
       "    }\n",
       "\n",
       "    .dataframe thead th {\n",
       "        text-align: right;\n",
       "    }\n",
       "</style>\n",
       "<table border=\"1\" class=\"dataframe\">\n",
       "  <thead>\n",
       "    <tr style=\"text-align: right;\">\n",
       "      <th></th>\n",
       "      <th>all_awardings</th>\n",
       "      <th>allow_live_comments</th>\n",
       "      <th>author</th>\n",
       "      <th>author_flair_css_class</th>\n",
       "      <th>author_flair_richtext</th>\n",
       "      <th>author_flair_text</th>\n",
       "      <th>author_flair_type</th>\n",
       "      <th>author_fullname</th>\n",
       "      <th>author_patreon_flair</th>\n",
       "      <th>author_premium</th>\n",
       "      <th>...</th>\n",
       "      <th>crosspost_parent</th>\n",
       "      <th>crosspost_parent_list</th>\n",
       "      <th>poll_data</th>\n",
       "      <th>media</th>\n",
       "      <th>media_embed</th>\n",
       "      <th>secure_media</th>\n",
       "      <th>secure_media_embed</th>\n",
       "      <th>distinguished</th>\n",
       "      <th>datetime</th>\n",
       "      <th>merged</th>\n",
       "    </tr>\n",
       "  </thead>\n",
       "  <tbody>\n",
       "    <tr>\n",
       "      <th>0</th>\n",
       "      <td>[]</td>\n",
       "      <td>False</td>\n",
       "      <td>RedNeck_Styles</td>\n",
       "      <td>None</td>\n",
       "      <td>[]</td>\n",
       "      <td>None</td>\n",
       "      <td>text</td>\n",
       "      <td>t2_66defmzf</td>\n",
       "      <td>False</td>\n",
       "      <td>False</td>\n",
       "      <td>...</td>\n",
       "      <td>NaN</td>\n",
       "      <td>NaN</td>\n",
       "      <td>NaN</td>\n",
       "      <td>NaN</td>\n",
       "      <td>NaN</td>\n",
       "      <td>NaN</td>\n",
       "      <td>NaN</td>\n",
       "      <td>NaN</td>\n",
       "      <td>2020-12-23 04:45:55</td>\n",
       "      <td>Is \"The Daily Stoic\" by Ryan Holiday good for ...</td>\n",
       "    </tr>\n",
       "    <tr>\n",
       "      <th>1</th>\n",
       "      <td>[]</td>\n",
       "      <td>False</td>\n",
       "      <td>snowcroc</td>\n",
       "      <td>None</td>\n",
       "      <td>[]</td>\n",
       "      <td>None</td>\n",
       "      <td>text</td>\n",
       "      <td>t2_ikv4e</td>\n",
       "      <td>False</td>\n",
       "      <td>False</td>\n",
       "      <td>...</td>\n",
       "      <td>NaN</td>\n",
       "      <td>NaN</td>\n",
       "      <td>NaN</td>\n",
       "      <td>NaN</td>\n",
       "      <td>NaN</td>\n",
       "      <td>NaN</td>\n",
       "      <td>NaN</td>\n",
       "      <td>NaN</td>\n",
       "      <td>2020-12-23 03:33:16</td>\n",
       "      <td>What are some small ways to practice stoicism?...</td>\n",
       "    </tr>\n",
       "    <tr>\n",
       "      <th>2</th>\n",
       "      <td>[]</td>\n",
       "      <td>False</td>\n",
       "      <td>anervousbull</td>\n",
       "      <td>None</td>\n",
       "      <td>[]</td>\n",
       "      <td>None</td>\n",
       "      <td>text</td>\n",
       "      <td>t2_4wmg7hv4</td>\n",
       "      <td>False</td>\n",
       "      <td>False</td>\n",
       "      <td>...</td>\n",
       "      <td>NaN</td>\n",
       "      <td>NaN</td>\n",
       "      <td>NaN</td>\n",
       "      <td>NaN</td>\n",
       "      <td>NaN</td>\n",
       "      <td>NaN</td>\n",
       "      <td>NaN</td>\n",
       "      <td>NaN</td>\n",
       "      <td>2020-12-23 03:27:10</td>\n",
       "      <td>Stoicism</td>\n",
       "    </tr>\n",
       "    <tr>\n",
       "      <th>3</th>\n",
       "      <td>[]</td>\n",
       "      <td>False</td>\n",
       "      <td>wallpapersdance</td>\n",
       "      <td>None</td>\n",
       "      <td>[]</td>\n",
       "      <td>None</td>\n",
       "      <td>text</td>\n",
       "      <td>t2_7c2ofv4k</td>\n",
       "      <td>False</td>\n",
       "      <td>False</td>\n",
       "      <td>...</td>\n",
       "      <td>NaN</td>\n",
       "      <td>NaN</td>\n",
       "      <td>NaN</td>\n",
       "      <td>NaN</td>\n",
       "      <td>NaN</td>\n",
       "      <td>NaN</td>\n",
       "      <td>NaN</td>\n",
       "      <td>NaN</td>\n",
       "      <td>2020-12-23 01:41:04</td>\n",
       "      <td>Questions for people who have experimented wit...</td>\n",
       "    </tr>\n",
       "    <tr>\n",
       "      <th>4</th>\n",
       "      <td>[]</td>\n",
       "      <td>False</td>\n",
       "      <td>stoicrookie09</td>\n",
       "      <td>None</td>\n",
       "      <td>[]</td>\n",
       "      <td>None</td>\n",
       "      <td>text</td>\n",
       "      <td>t2_9ggszbx6</td>\n",
       "      <td>False</td>\n",
       "      <td>False</td>\n",
       "      <td>...</td>\n",
       "      <td>NaN</td>\n",
       "      <td>NaN</td>\n",
       "      <td>NaN</td>\n",
       "      <td>NaN</td>\n",
       "      <td>NaN</td>\n",
       "      <td>NaN</td>\n",
       "      <td>NaN</td>\n",
       "      <td>NaN</td>\n",
       "      <td>2020-12-23 00:54:38</td>\n",
       "      <td>Tips on how to handle unwanted opinions Hi, I'...</td>\n",
       "    </tr>\n",
       "  </tbody>\n",
       "</table>\n",
       "<p>5 rows × 75 columns</p>\n",
       "</div>"
      ],
      "text/plain": [
       "  all_awardings  allow_live_comments           author author_flair_css_class  \\\n",
       "0            []                False   RedNeck_Styles                   None   \n",
       "1            []                False         snowcroc                   None   \n",
       "2            []                False     anervousbull                   None   \n",
       "3            []                False  wallpapersdance                   None   \n",
       "4            []                False    stoicrookie09                   None   \n",
       "\n",
       "  author_flair_richtext author_flair_text author_flair_type author_fullname  \\\n",
       "0                    []              None              text     t2_66defmzf   \n",
       "1                    []              None              text        t2_ikv4e   \n",
       "2                    []              None              text     t2_4wmg7hv4   \n",
       "3                    []              None              text     t2_7c2ofv4k   \n",
       "4                    []              None              text     t2_9ggszbx6   \n",
       "\n",
       "   author_patreon_flair  author_premium  ... crosspost_parent  \\\n",
       "0                 False           False  ...              NaN   \n",
       "1                 False           False  ...              NaN   \n",
       "2                 False           False  ...              NaN   \n",
       "3                 False           False  ...              NaN   \n",
       "4                 False           False  ...              NaN   \n",
       "\n",
       "   crosspost_parent_list  poll_data  media media_embed secure_media  \\\n",
       "0                    NaN        NaN    NaN         NaN          NaN   \n",
       "1                    NaN        NaN    NaN         NaN          NaN   \n",
       "2                    NaN        NaN    NaN         NaN          NaN   \n",
       "3                    NaN        NaN    NaN         NaN          NaN   \n",
       "4                    NaN        NaN    NaN         NaN          NaN   \n",
       "\n",
       "  secure_media_embed distinguished            datetime  \\\n",
       "0                NaN           NaN 2020-12-23 04:45:55   \n",
       "1                NaN           NaN 2020-12-23 03:33:16   \n",
       "2                NaN           NaN 2020-12-23 03:27:10   \n",
       "3                NaN           NaN 2020-12-23 01:41:04   \n",
       "4                NaN           NaN 2020-12-23 00:54:38   \n",
       "\n",
       "                                              merged  \n",
       "0  Is \"The Daily Stoic\" by Ryan Holiday good for ...  \n",
       "1  What are some small ways to practice stoicism?...  \n",
       "2                                          Stoicism   \n",
       "3  Questions for people who have experimented wit...  \n",
       "4  Tips on how to handle unwanted opinions Hi, I'...  \n",
       "\n",
       "[5 rows x 75 columns]"
      ]
     },
     "execution_count": 55,
     "metadata": {},
     "output_type": "execute_result"
    }
   ],
   "source": [
    "reddit_posts_stoic.head()"
   ]
  },
  {
   "cell_type": "code",
   "execution_count": 56,
   "metadata": {},
   "outputs": [
    {
     "data": {
      "text/plain": [
       "(1000, 75)"
      ]
     },
     "execution_count": 56,
     "metadata": {},
     "output_type": "execute_result"
    }
   ],
   "source": [
    "reddit_posts_stoic.shape"
   ]
  },
  {
   "cell_type": "code",
   "execution_count": 57,
   "metadata": {},
   "outputs": [],
   "source": [
    "body_text = list(reddit_posts_stoic['selftext'])"
   ]
  },
  {
   "cell_type": "code",
   "execution_count": 59,
   "metadata": {},
   "outputs": [],
   "source": [
    "body_tokens = [word_tokenize(i) for i in body_text]"
   ]
  },
  {
   "cell_type": "code",
   "execution_count": 62,
   "metadata": {},
   "outputs": [],
   "source": [
    "tagged_body = [pos_tag(i) for i in body_tokens]"
   ]
  },
  {
   "cell_type": "code",
   "execution_count": 64,
   "metadata": {},
   "outputs": [],
   "source": [
    "pos_dict = {}\n",
    "\n",
    "for i in range(len(body_text)):\n",
    "    pos_dict[i] = dict(Counter(tag for word, tag in tagged_body[i]))"
   ]
  },
  {
   "cell_type": "code",
   "execution_count": 65,
   "metadata": {},
   "outputs": [],
   "source": [
    "pos_df = pd.DataFrame(pos_dict).T"
   ]
  },
  {
   "cell_type": "code",
   "execution_count": 66,
   "metadata": {},
   "outputs": [
    {
     "data": {
      "text/html": [
       "<div>\n",
       "<style scoped>\n",
       "    .dataframe tbody tr th:only-of-type {\n",
       "        vertical-align: middle;\n",
       "    }\n",
       "\n",
       "    .dataframe tbody tr th {\n",
       "        vertical-align: top;\n",
       "    }\n",
       "\n",
       "    .dataframe thead th {\n",
       "        text-align: right;\n",
       "    }\n",
       "</style>\n",
       "<table border=\"1\" class=\"dataframe\">\n",
       "  <thead>\n",
       "    <tr style=\"text-align: right;\">\n",
       "      <th></th>\n",
       "      <th>RB</th>\n",
       "      <th>PRP</th>\n",
       "      <th>VBP</th>\n",
       "      <th>VBG</th>\n",
       "      <th>TO</th>\n",
       "      <th>VB</th>\n",
       "      <th>IN</th>\n",
       "      <th>NN</th>\n",
       "      <th>DT</th>\n",
       "      <th>JJ</th>\n",
       "      <th>...</th>\n",
       "      <th>POS</th>\n",
       "      <th>WRB</th>\n",
       "      <th>UH</th>\n",
       "      <th>FW</th>\n",
       "      <th>PDT</th>\n",
       "      <th>EX</th>\n",
       "      <th>#</th>\n",
       "      <th>NNPS</th>\n",
       "      <th>RBS</th>\n",
       "      <th>$</th>\n",
       "    </tr>\n",
       "  </thead>\n",
       "  <tbody>\n",
       "    <tr>\n",
       "      <th>0</th>\n",
       "      <td>6.0</td>\n",
       "      <td>10.0</td>\n",
       "      <td>11.0</td>\n",
       "      <td>5.0</td>\n",
       "      <td>12.0</td>\n",
       "      <td>16.0</td>\n",
       "      <td>11.0</td>\n",
       "      <td>16.0</td>\n",
       "      <td>13.0</td>\n",
       "      <td>7.0</td>\n",
       "      <td>...</td>\n",
       "      <td>NaN</td>\n",
       "      <td>NaN</td>\n",
       "      <td>NaN</td>\n",
       "      <td>NaN</td>\n",
       "      <td>NaN</td>\n",
       "      <td>NaN</td>\n",
       "      <td>NaN</td>\n",
       "      <td>NaN</td>\n",
       "      <td>NaN</td>\n",
       "      <td>NaN</td>\n",
       "    </tr>\n",
       "    <tr>\n",
       "      <th>1</th>\n",
       "      <td>4.0</td>\n",
       "      <td>4.0</td>\n",
       "      <td>4.0</td>\n",
       "      <td>2.0</td>\n",
       "      <td>1.0</td>\n",
       "      <td>3.0</td>\n",
       "      <td>4.0</td>\n",
       "      <td>3.0</td>\n",
       "      <td>6.0</td>\n",
       "      <td>8.0</td>\n",
       "      <td>...</td>\n",
       "      <td>NaN</td>\n",
       "      <td>NaN</td>\n",
       "      <td>NaN</td>\n",
       "      <td>NaN</td>\n",
       "      <td>NaN</td>\n",
       "      <td>NaN</td>\n",
       "      <td>NaN</td>\n",
       "      <td>NaN</td>\n",
       "      <td>NaN</td>\n",
       "      <td>NaN</td>\n",
       "    </tr>\n",
       "    <tr>\n",
       "      <th>2</th>\n",
       "      <td>NaN</td>\n",
       "      <td>NaN</td>\n",
       "      <td>NaN</td>\n",
       "      <td>NaN</td>\n",
       "      <td>NaN</td>\n",
       "      <td>NaN</td>\n",
       "      <td>NaN</td>\n",
       "      <td>NaN</td>\n",
       "      <td>NaN</td>\n",
       "      <td>NaN</td>\n",
       "      <td>...</td>\n",
       "      <td>NaN</td>\n",
       "      <td>NaN</td>\n",
       "      <td>NaN</td>\n",
       "      <td>NaN</td>\n",
       "      <td>NaN</td>\n",
       "      <td>NaN</td>\n",
       "      <td>NaN</td>\n",
       "      <td>NaN</td>\n",
       "      <td>NaN</td>\n",
       "      <td>NaN</td>\n",
       "    </tr>\n",
       "    <tr>\n",
       "      <th>3</th>\n",
       "      <td>NaN</td>\n",
       "      <td>2.0</td>\n",
       "      <td>NaN</td>\n",
       "      <td>2.0</td>\n",
       "      <td>1.0</td>\n",
       "      <td>1.0</td>\n",
       "      <td>3.0</td>\n",
       "      <td>NaN</td>\n",
       "      <td>1.0</td>\n",
       "      <td>1.0</td>\n",
       "      <td>...</td>\n",
       "      <td>NaN</td>\n",
       "      <td>NaN</td>\n",
       "      <td>NaN</td>\n",
       "      <td>NaN</td>\n",
       "      <td>NaN</td>\n",
       "      <td>NaN</td>\n",
       "      <td>NaN</td>\n",
       "      <td>NaN</td>\n",
       "      <td>NaN</td>\n",
       "      <td>NaN</td>\n",
       "    </tr>\n",
       "    <tr>\n",
       "      <th>4</th>\n",
       "      <td>12.0</td>\n",
       "      <td>29.0</td>\n",
       "      <td>7.0</td>\n",
       "      <td>4.0</td>\n",
       "      <td>10.0</td>\n",
       "      <td>16.0</td>\n",
       "      <td>20.0</td>\n",
       "      <td>23.0</td>\n",
       "      <td>10.0</td>\n",
       "      <td>17.0</td>\n",
       "      <td>...</td>\n",
       "      <td>NaN</td>\n",
       "      <td>NaN</td>\n",
       "      <td>NaN</td>\n",
       "      <td>NaN</td>\n",
       "      <td>NaN</td>\n",
       "      <td>NaN</td>\n",
       "      <td>NaN</td>\n",
       "      <td>NaN</td>\n",
       "      <td>NaN</td>\n",
       "      <td>NaN</td>\n",
       "    </tr>\n",
       "  </tbody>\n",
       "</table>\n",
       "<p>5 rows × 42 columns</p>\n",
       "</div>"
      ],
      "text/plain": [
       "     RB   PRP   VBP  VBG    TO    VB    IN    NN    DT    JJ  ...  POS  WRB  \\\n",
       "0   6.0  10.0  11.0  5.0  12.0  16.0  11.0  16.0  13.0   7.0  ...  NaN  NaN   \n",
       "1   4.0   4.0   4.0  2.0   1.0   3.0   4.0   3.0   6.0   8.0  ...  NaN  NaN   \n",
       "2   NaN   NaN   NaN  NaN   NaN   NaN   NaN   NaN   NaN   NaN  ...  NaN  NaN   \n",
       "3   NaN   2.0   NaN  2.0   1.0   1.0   3.0   NaN   1.0   1.0  ...  NaN  NaN   \n",
       "4  12.0  29.0   7.0  4.0  10.0  16.0  20.0  23.0  10.0  17.0  ...  NaN  NaN   \n",
       "\n",
       "   UH  FW  PDT  EX   #  NNPS  RBS   $  \n",
       "0 NaN NaN  NaN NaN NaN   NaN  NaN NaN  \n",
       "1 NaN NaN  NaN NaN NaN   NaN  NaN NaN  \n",
       "2 NaN NaN  NaN NaN NaN   NaN  NaN NaN  \n",
       "3 NaN NaN  NaN NaN NaN   NaN  NaN NaN  \n",
       "4 NaN NaN  NaN NaN NaN   NaN  NaN NaN  \n",
       "\n",
       "[5 rows x 42 columns]"
      ]
     },
     "execution_count": 66,
     "metadata": {},
     "output_type": "execute_result"
    }
   ],
   "source": [
    "pos_df.head()"
   ]
  },
  {
   "cell_type": "code",
   "execution_count": 67,
   "metadata": {},
   "outputs": [
    {
     "data": {
      "text/plain": [
       "(1000, 42)"
      ]
     },
     "execution_count": 67,
     "metadata": {},
     "output_type": "execute_result"
    }
   ],
   "source": [
    "pos_df.shape"
   ]
  },
  {
   "cell_type": "code",
   "execution_count": 68,
   "metadata": {},
   "outputs": [],
   "source": [
    "pos_df = pos_df.fillna(0.0)"
   ]
  },
  {
   "cell_type": "code",
   "execution_count": null,
   "metadata": {},
   "outputs": [],
   "source": []
  }
 ],
 "metadata": {
  "kernelspec": {
   "display_name": "Python 3",
   "language": "python",
   "name": "python3"
  },
  "language_info": {
   "codemirror_mode": {
    "name": "ipython",
    "version": 3
   },
   "file_extension": ".py",
   "mimetype": "text/x-python",
   "name": "python",
   "nbconvert_exporter": "python",
   "pygments_lexer": "ipython3",
   "version": "3.8.5"
  }
 },
 "nbformat": 4,
 "nbformat_minor": 4
}
