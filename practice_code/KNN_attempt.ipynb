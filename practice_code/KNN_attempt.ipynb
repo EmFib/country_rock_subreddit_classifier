{
 "cells": [
  {
   "cell_type": "code",
   "execution_count": 1,
   "metadata": {},
   "outputs": [],
   "source": [
    "import seaborn as sns\n",
    "import pandas as pd\n",
    "from sklearn.metrics import (accuracy_score, \n",
    "                            confusion_matrix, \n",
    "                            classification_report,\n",
    "                            plot_confusion_matrix)\n",
    "from sklearn.model_selection import train_test_split, cross_val_score # resampling method\n",
    "from sklearn.neighbors import KNeighborsClassifier\n",
    "from sklearn.datasets import load_digits\n",
    "import matplotlib.pyplot as plt "
   ]
  },
  {
   "cell_type": "code",
   "execution_count": 2,
   "metadata": {},
   "outputs": [
    {
     "data": {
      "text/plain": [
       "'/Users/emilynaftalin/Data_Science/General Assembly/dsi/projects/project_3/practice_code'"
      ]
     },
     "execution_count": 2,
     "metadata": {},
     "output_type": "execute_result"
    }
   ],
   "source": [
    "pwd"
   ]
  },
  {
   "cell_type": "code",
   "execution_count": 10,
   "metadata": {},
   "outputs": [],
   "source": [
    "# read in cleaned stoicism & zen dataset \n",
    "\n",
    "stoic_zen = pd.read_csv('../datasets/clean_stoic_zen_tokenized.csv', )"
   ]
  },
  {
   "cell_type": "code",
   "execution_count": 11,
   "metadata": {},
   "outputs": [
    {
     "data": {
      "text/html": [
       "<div>\n",
       "<style scoped>\n",
       "    .dataframe tbody tr th:only-of-type {\n",
       "        vertical-align: middle;\n",
       "    }\n",
       "\n",
       "    .dataframe tbody tr th {\n",
       "        vertical-align: top;\n",
       "    }\n",
       "\n",
       "    .dataframe thead th {\n",
       "        text-align: right;\n",
       "    }\n",
       "</style>\n",
       "<table border=\"1\" class=\"dataframe\">\n",
       "  <thead>\n",
       "    <tr style=\"text-align: right;\">\n",
       "      <th></th>\n",
       "      <th>label</th>\n",
       "      <th>merged</th>\n",
       "      <th>tokens</th>\n",
       "    </tr>\n",
       "  </thead>\n",
       "  <tbody>\n",
       "    <tr>\n",
       "      <th>0</th>\n",
       "      <td>0</td>\n",
       "      <td>you need to fight your mind every time it trie...</td>\n",
       "      <td>['you', 'need', 'to', 'fight', 'your', 'mind',...</td>\n",
       "    </tr>\n",
       "    <tr>\n",
       "      <th>1</th>\n",
       "      <td>0</td>\n",
       "      <td>a phone call creates stronger bonds than text ...</td>\n",
       "      <td>['a', 'phone', 'call', 'creates', 'stronger', ...</td>\n",
       "    </tr>\n",
       "    <tr>\n",
       "      <th>2</th>\n",
       "      <td>0</td>\n",
       "      <td>everything in your life every experience, ever...</td>\n",
       "      <td>['everything', 'in', 'your', 'life', 'every', ...</td>\n",
       "    </tr>\n",
       "    <tr>\n",
       "      <th>3</th>\n",
       "      <td>0</td>\n",
       "      <td>the parable of the mexican fisherman got me re...</td>\n",
       "      <td>['the', 'parable', 'of', 'the', 'mexican', 'fi...</td>\n",
       "    </tr>\n",
       "    <tr>\n",
       "      <th>4</th>\n",
       "      <td>0</td>\n",
       "      <td>the key to success and productivity isn t to t...</td>\n",
       "      <td>['the', 'key', 'to', 'success', 'and', 'produc...</td>\n",
       "    </tr>\n",
       "  </tbody>\n",
       "</table>\n",
       "</div>"
      ],
      "text/plain": [
       "   label                                             merged  \\\n",
       "0      0  you need to fight your mind every time it trie...   \n",
       "1      0  a phone call creates stronger bonds than text ...   \n",
       "2      0  everything in your life every experience, ever...   \n",
       "3      0  the parable of the mexican fisherman got me re...   \n",
       "4      0  the key to success and productivity isn t to t...   \n",
       "\n",
       "                                              tokens  \n",
       "0  ['you', 'need', 'to', 'fight', 'your', 'mind',...  \n",
       "1  ['a', 'phone', 'call', 'creates', 'stronger', ...  \n",
       "2  ['everything', 'in', 'your', 'life', 'every', ...  \n",
       "3  ['the', 'parable', 'of', 'the', 'mexican', 'fi...  \n",
       "4  ['the', 'key', 'to', 'success', 'and', 'produc...  "
      ]
     },
     "execution_count": 11,
     "metadata": {},
     "output_type": "execute_result"
    }
   ],
   "source": [
    "stoic_zen.head()"
   ]
  },
  {
   "cell_type": "code",
   "execution_count": 12,
   "metadata": {},
   "outputs": [
    {
     "data": {
      "text/html": [
       "<div>\n",
       "<style scoped>\n",
       "    .dataframe tbody tr th:only-of-type {\n",
       "        vertical-align: middle;\n",
       "    }\n",
       "\n",
       "    .dataframe tbody tr th {\n",
       "        vertical-align: top;\n",
       "    }\n",
       "\n",
       "    .dataframe thead th {\n",
       "        text-align: right;\n",
       "    }\n",
       "</style>\n",
       "<table border=\"1\" class=\"dataframe\">\n",
       "  <thead>\n",
       "    <tr style=\"text-align: right;\">\n",
       "      <th></th>\n",
       "      <th>label</th>\n",
       "      <th>merged</th>\n",
       "      <th>tokens</th>\n",
       "    </tr>\n",
       "  </thead>\n",
       "  <tbody>\n",
       "    <tr>\n",
       "      <th>5982</th>\n",
       "      <td>1</td>\n",
       "      <td>stoicism and self improvement i have just rece...</td>\n",
       "      <td>['stoicism', 'and', 'self', 'improvement', 'i'...</td>\n",
       "    </tr>\n",
       "    <tr>\n",
       "      <th>5983</th>\n",
       "      <td>1</td>\n",
       "      <td>should i go cold turkey on entertainment to pr...</td>\n",
       "      <td>['should', 'i', 'go', 'cold', 'turkey', 'on', ...</td>\n",
       "    </tr>\n",
       "    <tr>\n",
       "      <th>5984</th>\n",
       "      <td>1</td>\n",
       "      <td>free law of attraction, the secret pdf and boo...</td>\n",
       "      <td>['free', 'law', 'of', 'attraction', 'the', 'se...</td>\n",
       "    </tr>\n",
       "    <tr>\n",
       "      <th>5985</th>\n",
       "      <td>1</td>\n",
       "      <td>anxiety i have trouble rationalising with my a...</td>\n",
       "      <td>['anxiety', 'i', 'have', 'trouble', 'rationali...</td>\n",
       "    </tr>\n",
       "    <tr>\n",
       "      <th>5986</th>\n",
       "      <td>1</td>\n",
       "      <td>\"some poor, phoneless fool is probably sitting...</td>\n",
       "      <td>['some', 'poor', 'phoneless', 'fool', 'is', 'p...</td>\n",
       "    </tr>\n",
       "  </tbody>\n",
       "</table>\n",
       "</div>"
      ],
      "text/plain": [
       "      label                                             merged  \\\n",
       "5982      1  stoicism and self improvement i have just rece...   \n",
       "5983      1  should i go cold turkey on entertainment to pr...   \n",
       "5984      1  free law of attraction, the secret pdf and boo...   \n",
       "5985      1  anxiety i have trouble rationalising with my a...   \n",
       "5986      1  \"some poor, phoneless fool is probably sitting...   \n",
       "\n",
       "                                                 tokens  \n",
       "5982  ['stoicism', 'and', 'self', 'improvement', 'i'...  \n",
       "5983  ['should', 'i', 'go', 'cold', 'turkey', 'on', ...  \n",
       "5984  ['free', 'law', 'of', 'attraction', 'the', 'se...  \n",
       "5985  ['anxiety', 'i', 'have', 'trouble', 'rationali...  \n",
       "5986  ['some', 'poor', 'phoneless', 'fool', 'is', 'p...  "
      ]
     },
     "execution_count": 12,
     "metadata": {},
     "output_type": "execute_result"
    }
   ],
   "source": [
    "stoic_zen.tail()"
   ]
  },
  {
   "cell_type": "code",
   "execution_count": 13,
   "metadata": {},
   "outputs": [
    {
     "data": {
      "text/plain": [
       "(5987, 3)"
      ]
     },
     "execution_count": 13,
     "metadata": {},
     "output_type": "execute_result"
    }
   ],
   "source": [
    "stoic_zen.shape"
   ]
  },
  {
   "cell_type": "markdown",
   "metadata": {},
   "source": [
    "## Pre-Processing"
   ]
  },
  {
   "cell_type": "markdown",
   "metadata": {},
   "source": [
    "_This time I will try a KNN model and then lemmatize and stem the words and see if this helps._ "
   ]
  },
  {
   "cell_type": "code",
   "execution_count": 14,
   "metadata": {},
   "outputs": [],
   "source": [
    "X = stoic_zen['merged']\n",
    "y = stoic_zen['label']"
   ]
  },
  {
   "cell_type": "code",
   "execution_count": 15,
   "metadata": {},
   "outputs": [],
   "source": [
    "# splitting into train and test sets\n",
    "X_train, X_test, y_train, y_test = train_test_split(X, \n",
    "                                                   y, \n",
    "                                                   test_size=0.33,\n",
    "                                                   shuffle=True,\n",
    "                                                   stratify=y,\n",
    "                                                   random_state=42)"
   ]
  },
  {
   "cell_type": "code",
   "execution_count": null,
   "metadata": {},
   "outputs": [],
   "source": []
  }
 ],
 "metadata": {
  "kernelspec": {
   "display_name": "Python 3",
   "language": "python",
   "name": "python3"
  },
  "language_info": {
   "codemirror_mode": {
    "name": "ipython",
    "version": 3
   },
   "file_extension": ".py",
   "mimetype": "text/x-python",
   "name": "python",
   "nbconvert_exporter": "python",
   "pygments_lexer": "ipython3",
   "version": "3.8.5"
  }
 },
 "nbformat": 4,
 "nbformat_minor": 4
}
