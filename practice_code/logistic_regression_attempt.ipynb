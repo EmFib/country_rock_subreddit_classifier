{
 "cells": [
  {
   "cell_type": "code",
   "execution_count": 217,
   "metadata": {},
   "outputs": [],
   "source": [
    "# imports\n",
    "import matplotlib.pyplot as plt\n",
    "import numpy as np\n",
    "import pandas as pd\n",
    "import seaborn as sns\n",
    "\n",
    "# Import train_test_split.\n",
    "from sklearn.model_selection import train_test_split, GridSearchCV, cross_val_score\n",
    "\n",
    "# Import logistic regression and pipeline\n",
    "from sklearn.linear_model import LogisticRegression\n",
    "from sklearn.pipeline import Pipeline\n",
    "\n",
    "# importing scaler \n",
    "from sklearn.preprocessing import StandardScaler\n",
    "\n",
    "# import vectorizers\n",
    "from sklearn.feature_extraction.text import CountVectorizer, TfidfVectorizer\n",
    "\n",
    "#import metrics \n",
    "from sklearn.metrics import accuracy_score, f1_score, precision_score, recall_score, classification_report\n",
    "from sklearn.metrics import confusion_matrix, plot_confusion_matrix"
   ]
  },
  {
   "cell_type": "code",
   "execution_count": 44,
   "metadata": {},
   "outputs": [],
   "source": [
    "# top imports from Emmanuel \n",
    "\n",
    "import keras\n",
    "import nltk\n",
    "import re\n",
    "import codecs"
   ]
  },
  {
   "cell_type": "code",
   "execution_count": 55,
   "metadata": {},
   "outputs": [],
   "source": [
    "import matplotlib.pyplot as plt"
   ]
  },
  {
   "cell_type": "code",
   "execution_count": 43,
   "metadata": {},
   "outputs": [
    {
     "data": {
      "text/plain": [
       "'/Users/emilynaftalin/Data_Science/General Assembly/dsi/projects/project_3/practice_code'"
      ]
     },
     "execution_count": 43,
     "metadata": {},
     "output_type": "execute_result"
    }
   ],
   "source": [
    "pwd"
   ]
  },
  {
   "cell_type": "code",
   "execution_count": 3,
   "metadata": {},
   "outputs": [],
   "source": [
    "stoic_zen = pd.read_csv('../datasets/stoic_zen.csv')"
   ]
  },
  {
   "cell_type": "code",
   "execution_count": 19,
   "metadata": {},
   "outputs": [
    {
     "data": {
      "text/html": [
       "<div>\n",
       "<style scoped>\n",
       "    .dataframe tbody tr th:only-of-type {\n",
       "        vertical-align: middle;\n",
       "    }\n",
       "\n",
       "    .dataframe tbody tr th {\n",
       "        vertical-align: top;\n",
       "    }\n",
       "\n",
       "    .dataframe thead th {\n",
       "        text-align: right;\n",
       "    }\n",
       "</style>\n",
       "<table border=\"1\" class=\"dataframe\">\n",
       "  <thead>\n",
       "    <tr style=\"text-align: right;\">\n",
       "      <th></th>\n",
       "      <th>label</th>\n",
       "      <th>merged</th>\n",
       "    </tr>\n",
       "  </thead>\n",
       "  <tbody>\n",
       "    <tr>\n",
       "      <th>0</th>\n",
       "      <td>0</td>\n",
       "      <td>you need to fight your mind every time it trie...</td>\n",
       "    </tr>\n",
       "    <tr>\n",
       "      <th>1</th>\n",
       "      <td>0</td>\n",
       "      <td>a phone call creates stronger bonds than text ...</td>\n",
       "    </tr>\n",
       "    <tr>\n",
       "      <th>2</th>\n",
       "      <td>0</td>\n",
       "      <td>everything in your life every experience, ever...</td>\n",
       "    </tr>\n",
       "    <tr>\n",
       "      <th>3</th>\n",
       "      <td>0</td>\n",
       "      <td>the parable of the mexican fisherman got me re...</td>\n",
       "    </tr>\n",
       "    <tr>\n",
       "      <th>4</th>\n",
       "      <td>0</td>\n",
       "      <td>the key to success and productivity isn t to t...</td>\n",
       "    </tr>\n",
       "  </tbody>\n",
       "</table>\n",
       "</div>"
      ],
      "text/plain": [
       "   label                                             merged\n",
       "0      0  you need to fight your mind every time it trie...\n",
       "1      0  a phone call creates stronger bonds than text ...\n",
       "2      0  everything in your life every experience, ever...\n",
       "3      0  the parable of the mexican fisherman got me re...\n",
       "4      0  the key to success and productivity isn t to t..."
      ]
     },
     "execution_count": 19,
     "metadata": {},
     "output_type": "execute_result"
    }
   ],
   "source": [
    "stoic_zen.head()"
   ]
  },
  {
   "cell_type": "code",
   "execution_count": 27,
   "metadata": {},
   "outputs": [
    {
     "data": {
      "text/html": [
       "<div>\n",
       "<style scoped>\n",
       "    .dataframe tbody tr th:only-of-type {\n",
       "        vertical-align: middle;\n",
       "    }\n",
       "\n",
       "    .dataframe tbody tr th {\n",
       "        vertical-align: top;\n",
       "    }\n",
       "\n",
       "    .dataframe thead th {\n",
       "        text-align: right;\n",
       "    }\n",
       "</style>\n",
       "<table border=\"1\" class=\"dataframe\">\n",
       "  <thead>\n",
       "    <tr style=\"text-align: right;\">\n",
       "      <th></th>\n",
       "      <th>label</th>\n",
       "      <th>merged</th>\n",
       "    </tr>\n",
       "  </thead>\n",
       "  <tbody>\n",
       "    <tr>\n",
       "      <th>5990</th>\n",
       "      <td>1</td>\n",
       "      <td>stoicism and self improvement i have just rece...</td>\n",
       "    </tr>\n",
       "    <tr>\n",
       "      <th>5991</th>\n",
       "      <td>1</td>\n",
       "      <td>should i go cold turkey on entertainment to pr...</td>\n",
       "    </tr>\n",
       "    <tr>\n",
       "      <th>5992</th>\n",
       "      <td>1</td>\n",
       "      <td>free law of attraction, the secret pdf and boo...</td>\n",
       "    </tr>\n",
       "    <tr>\n",
       "      <th>5993</th>\n",
       "      <td>1</td>\n",
       "      <td>anxiety i have trouble rationalising with my a...</td>\n",
       "    </tr>\n",
       "    <tr>\n",
       "      <th>5994</th>\n",
       "      <td>1</td>\n",
       "      <td>\"some poor, phoneless fool is probably sitting...</td>\n",
       "    </tr>\n",
       "  </tbody>\n",
       "</table>\n",
       "</div>"
      ],
      "text/plain": [
       "      label                                             merged\n",
       "5990      1  stoicism and self improvement i have just rece...\n",
       "5991      1  should i go cold turkey on entertainment to pr...\n",
       "5992      1  free law of attraction, the secret pdf and boo...\n",
       "5993      1  anxiety i have trouble rationalising with my a...\n",
       "5994      1  \"some poor, phoneless fool is probably sitting..."
      ]
     },
     "execution_count": 27,
     "metadata": {},
     "output_type": "execute_result"
    }
   ],
   "source": [
    "stoic_zen.tail()"
   ]
  },
  {
   "cell_type": "code",
   "execution_count": 5,
   "metadata": {},
   "outputs": [
    {
     "data": {
      "text/plain": [
       "label     0\n",
       "merged    0\n",
       "dtype: int64"
      ]
     },
     "execution_count": 5,
     "metadata": {},
     "output_type": "execute_result"
    }
   ],
   "source": [
    "stoic_zen.isnull().sum()"
   ]
  },
  {
   "cell_type": "code",
   "execution_count": 6,
   "metadata": {},
   "outputs": [
    {
     "data": {
      "text/plain": [
       "'You need to fight your mind every time it tries to convince you that you are: not good enough, criticized, too serious, not interesting, not wanted, excluded, rejected, or laughed at. Martin Brown '"
      ]
     },
     "execution_count": 6,
     "metadata": {},
     "output_type": "execute_result"
    }
   ],
   "source": [
    "stoic_zen['merged'][0]"
   ]
  },
  {
   "cell_type": "code",
   "execution_count": 7,
   "metadata": {},
   "outputs": [
    {
     "data": {
      "text/plain": [
       "str"
      ]
     },
     "execution_count": 7,
     "metadata": {},
     "output_type": "execute_result"
    }
   ],
   "source": [
    "type(stoic_zen['merged'][0])"
   ]
  },
  {
   "cell_type": "markdown",
   "metadata": {},
   "source": [
    "_**CITATION:**_ \n",
    "\n",
    "For this Logistic Regression exploration, I have drawn huge insights and inspiration from this [NLP workshop by Emmanuel Ameisen (@EmmanuelAmeisen), from Insight AI](https://github.com/EmFib/concrete_NLP_tutorial/blob/master/NLP_notebook.ipynb). \n",
    "\n",
    "I have implemented his code in several places and cite it there with the shorthand reference _\"Emmanuel\"_. "
   ]
  },
  {
   "cell_type": "code",
   "execution_count": 17,
   "metadata": {},
   "outputs": [],
   "source": [
    "# This method for cleaning data from Emmanuel \n",
    "\n",
    "def standardize_text(df, text_field):\n",
    "    df[text_field] = df[text_field].str.replace(r\"http\\S+\", \"\")\n",
    "    df[text_field] = df[text_field].str.replace(r\"http\", \"\")\n",
    "    df[text_field] = df[text_field].str.replace(r\"@\\S+\", \"\")\n",
    "    df[text_field] = df[text_field].str.replace(r\"[^A-Za-z0-9(),!?@\\'\\`\\\"\\_\\n]\", \" \")\n",
    "    df[text_field] = df[text_field].str.replace(r\"@\", \"at\")\n",
    "    df[text_field] = df[text_field].str.lower()\n",
    "    return df\n",
    "\n",
    "stoic_zen = standardize_text(stoic_zen, 'merged')"
   ]
  },
  {
   "cell_type": "code",
   "execution_count": 28,
   "metadata": {},
   "outputs": [
    {
     "data": {
      "text/plain": [
       "'/Users/emilynaftalin/Data_Science/General Assembly/dsi/projects/project_3/practice_code'"
      ]
     },
     "execution_count": 28,
     "metadata": {},
     "output_type": "execute_result"
    }
   ],
   "source": [
    "pwd"
   ]
  },
  {
   "cell_type": "code",
   "execution_count": 30,
   "metadata": {},
   "outputs": [],
   "source": [
    "# reading my cleaned dataset to a file for future use \n",
    "\n",
    "stoic_zen.to_csv('../datasets/clean_stoic_zen.csv', index=False)"
   ]
  },
  {
   "cell_type": "code",
   "execution_count": 21,
   "metadata": {},
   "outputs": [],
   "source": [
    "# logistic regression needs me to remove URLs\n",
    "\n",
    "# import re\n",
    "\n",
    "# for text in stoic_zen['merged']: \n",
    "#     text = re.sub(r'http\\S+', '', text)"
   ]
  },
  {
   "cell_type": "code",
   "execution_count": 22,
   "metadata": {},
   "outputs": [],
   "source": [
    "# stoic_zen['merged'] = stoic_zen['merged'].apply(lambda x: re.split('https:\\/\\/.*', str(x))[0])"
   ]
  },
  {
   "cell_type": "code",
   "execution_count": 23,
   "metadata": {},
   "outputs": [],
   "source": [
    "X = stoic_zen['merged']\n",
    "y = stoic_zen['label']"
   ]
  },
  {
   "cell_type": "code",
   "execution_count": 24,
   "metadata": {},
   "outputs": [],
   "source": [
    "# splitting into train and test sets\n",
    "X_train, X_test, y_train, y_test = train_test_split(X, \n",
    "                                                   y, \n",
    "                                                   test_size=0.33,\n",
    "                                                   shuffle=True,\n",
    "                                                   stratify=y,\n",
    "                                                   random_state=42)"
   ]
  },
  {
   "cell_type": "code",
   "execution_count": 25,
   "metadata": {},
   "outputs": [],
   "source": [
    "# instantiating a logistic regression model \n",
    "\n",
    "logreg = LogisticRegression()"
   ]
  },
  {
   "cell_type": "code",
   "execution_count": 202,
   "metadata": {},
   "outputs": [],
   "source": [
    "# logreg.fit(X_train, y_train)"
   ]
  },
  {
   "cell_type": "markdown",
   "metadata": {},
   "source": [
    "The above method for fitting a Logisit Regression model on my X and y train seems to not have worked. Even after having cleaned my `merged` column using the `standardize_text` function, it throws a `ValueError` related to certain lines, e.g.: \n",
    "\n",
    "```\n",
    "ValueError: could not convert string to float: 'a great song with a stoic theme     '\n",
    "```\n",
    "\n",
    "Next, I will try instead to implement a Logisitc Regression after converting my dataset using `Bag of Words` and will also do other preprocessing to investigate whether that will yield a successful result. "
   ]
  },
  {
   "cell_type": "markdown",
   "metadata": {},
   "source": [
    "## Pre-Processing "
   ]
  },
  {
   "cell_type": "code",
   "execution_count": 32,
   "metadata": {},
   "outputs": [
    {
     "data": {
      "text/plain": [
       "label                                                     1\n",
       "merged    stoicism in the lord of the rings   part 1   c...\n",
       "Name: 3010, dtype: object"
      ]
     },
     "execution_count": 32,
     "metadata": {},
     "output_type": "execute_result"
    }
   ],
   "source": [
    "stoic_zen.iloc[3010]"
   ]
  },
  {
   "cell_type": "markdown",
   "metadata": {},
   "source": [
    "### Data Overview "
   ]
  },
  {
   "cell_type": "code",
   "execution_count": 33,
   "metadata": {},
   "outputs": [
    {
     "data": {
      "text/html": [
       "<div>\n",
       "<style scoped>\n",
       "    .dataframe tbody tr th:only-of-type {\n",
       "        vertical-align: middle;\n",
       "    }\n",
       "\n",
       "    .dataframe tbody tr th {\n",
       "        vertical-align: top;\n",
       "    }\n",
       "\n",
       "    .dataframe thead th {\n",
       "        text-align: right;\n",
       "    }\n",
       "</style>\n",
       "<table border=\"1\" class=\"dataframe\">\n",
       "  <thead>\n",
       "    <tr style=\"text-align: right;\">\n",
       "      <th></th>\n",
       "      <th>label</th>\n",
       "      <th>merged</th>\n",
       "    </tr>\n",
       "  </thead>\n",
       "  <tbody>\n",
       "    <tr>\n",
       "      <th>0</th>\n",
       "      <td>0</td>\n",
       "      <td>you need to fight your mind every time it trie...</td>\n",
       "    </tr>\n",
       "    <tr>\n",
       "      <th>1</th>\n",
       "      <td>0</td>\n",
       "      <td>a phone call creates stronger bonds than text ...</td>\n",
       "    </tr>\n",
       "    <tr>\n",
       "      <th>2</th>\n",
       "      <td>0</td>\n",
       "      <td>everything in your life every experience, ever...</td>\n",
       "    </tr>\n",
       "    <tr>\n",
       "      <th>3</th>\n",
       "      <td>0</td>\n",
       "      <td>the parable of the mexican fisherman got me re...</td>\n",
       "    </tr>\n",
       "    <tr>\n",
       "      <th>4</th>\n",
       "      <td>0</td>\n",
       "      <td>the key to success and productivity isn t to t...</td>\n",
       "    </tr>\n",
       "  </tbody>\n",
       "</table>\n",
       "</div>"
      ],
      "text/plain": [
       "   label                                             merged\n",
       "0      0  you need to fight your mind every time it trie...\n",
       "1      0  a phone call creates stronger bonds than text ...\n",
       "2      0  everything in your life every experience, ever...\n",
       "3      0  the parable of the mexican fisherman got me re...\n",
       "4      0  the key to success and productivity isn t to t..."
      ]
     },
     "execution_count": 33,
     "metadata": {},
     "output_type": "execute_result"
    }
   ],
   "source": [
    "stoic_zen.head()"
   ]
  },
  {
   "cell_type": "code",
   "execution_count": 34,
   "metadata": {},
   "outputs": [
    {
     "data": {
      "text/html": [
       "<div>\n",
       "<style scoped>\n",
       "    .dataframe tbody tr th:only-of-type {\n",
       "        vertical-align: middle;\n",
       "    }\n",
       "\n",
       "    .dataframe tbody tr th {\n",
       "        vertical-align: top;\n",
       "    }\n",
       "\n",
       "    .dataframe thead th {\n",
       "        text-align: right;\n",
       "    }\n",
       "</style>\n",
       "<table border=\"1\" class=\"dataframe\">\n",
       "  <thead>\n",
       "    <tr style=\"text-align: right;\">\n",
       "      <th></th>\n",
       "      <th>merged</th>\n",
       "    </tr>\n",
       "    <tr>\n",
       "      <th>label</th>\n",
       "      <th></th>\n",
       "    </tr>\n",
       "  </thead>\n",
       "  <tbody>\n",
       "    <tr>\n",
       "      <th>0</th>\n",
       "      <td>2997</td>\n",
       "    </tr>\n",
       "    <tr>\n",
       "      <th>1</th>\n",
       "      <td>2998</td>\n",
       "    </tr>\n",
       "  </tbody>\n",
       "</table>\n",
       "</div>"
      ],
      "text/plain": [
       "       merged\n",
       "label        \n",
       "0        2997\n",
       "1        2998"
      ]
     },
     "execution_count": 34,
     "metadata": {},
     "output_type": "execute_result"
    }
   ],
   "source": [
    "# looking at class balance again \n",
    "\n",
    "stoic_zen.groupby('label').count()"
   ]
  },
  {
   "cell_type": "markdown",
   "metadata": {},
   "source": [
    "Our classes are nice and balanced! "
   ]
  },
  {
   "cell_type": "code",
   "execution_count": 36,
   "metadata": {},
   "outputs": [],
   "source": [
    "from nltk.tokenize import RegexpTokenizer\n",
    "\n",
    "tokenizer = RegexpTokenizer(r'\\w+')"
   ]
  },
  {
   "cell_type": "code",
   "execution_count": 40,
   "metadata": {},
   "outputs": [
    {
     "data": {
      "text/html": [
       "<div>\n",
       "<style scoped>\n",
       "    .dataframe tbody tr th:only-of-type {\n",
       "        vertical-align: middle;\n",
       "    }\n",
       "\n",
       "    .dataframe tbody tr th {\n",
       "        vertical-align: top;\n",
       "    }\n",
       "\n",
       "    .dataframe thead th {\n",
       "        text-align: right;\n",
       "    }\n",
       "</style>\n",
       "<table border=\"1\" class=\"dataframe\">\n",
       "  <thead>\n",
       "    <tr style=\"text-align: right;\">\n",
       "      <th></th>\n",
       "      <th>label</th>\n",
       "      <th>merged</th>\n",
       "      <th>tokens</th>\n",
       "    </tr>\n",
       "  </thead>\n",
       "  <tbody>\n",
       "    <tr>\n",
       "      <th>0</th>\n",
       "      <td>0</td>\n",
       "      <td>you need to fight your mind every time it trie...</td>\n",
       "      <td>[you, need, to, fight, your, mind, every, time...</td>\n",
       "    </tr>\n",
       "    <tr>\n",
       "      <th>1</th>\n",
       "      <td>0</td>\n",
       "      <td>a phone call creates stronger bonds than text ...</td>\n",
       "      <td>[a, phone, call, creates, stronger, bonds, tha...</td>\n",
       "    </tr>\n",
       "    <tr>\n",
       "      <th>2</th>\n",
       "      <td>0</td>\n",
       "      <td>everything in your life every experience, ever...</td>\n",
       "      <td>[everything, in, your, life, every, experience...</td>\n",
       "    </tr>\n",
       "    <tr>\n",
       "      <th>3</th>\n",
       "      <td>0</td>\n",
       "      <td>the parable of the mexican fisherman got me re...</td>\n",
       "      <td>[the, parable, of, the, mexican, fisherman, go...</td>\n",
       "    </tr>\n",
       "    <tr>\n",
       "      <th>4</th>\n",
       "      <td>0</td>\n",
       "      <td>the key to success and productivity isn t to t...</td>\n",
       "      <td>[the, key, to, success, and, productivity, isn...</td>\n",
       "    </tr>\n",
       "  </tbody>\n",
       "</table>\n",
       "</div>"
      ],
      "text/plain": [
       "   label                                             merged  \\\n",
       "0      0  you need to fight your mind every time it trie...   \n",
       "1      0  a phone call creates stronger bonds than text ...   \n",
       "2      0  everything in your life every experience, ever...   \n",
       "3      0  the parable of the mexican fisherman got me re...   \n",
       "4      0  the key to success and productivity isn t to t...   \n",
       "\n",
       "                                              tokens  \n",
       "0  [you, need, to, fight, your, mind, every, time...  \n",
       "1  [a, phone, call, creates, stronger, bonds, tha...  \n",
       "2  [everything, in, your, life, every, experience...  \n",
       "3  [the, parable, of, the, mexican, fisherman, go...  \n",
       "4  [the, key, to, success, and, productivity, isn...  "
      ]
     },
     "execution_count": 40,
     "metadata": {},
     "output_type": "execute_result"
    }
   ],
   "source": [
    "# tokenizing sentence to list of separate words \n",
    "\n",
    "stoic_zen['tokens'] = stoic_zen['merged'].apply(tokenizer.tokenize)\n",
    "stoic_zen.head()"
   ]
  },
  {
   "cell_type": "code",
   "execution_count": 84,
   "metadata": {},
   "outputs": [
    {
     "data": {
      "text/plain": [
       "50"
      ]
     },
     "execution_count": 84,
     "metadata": {},
     "output_type": "execute_result"
    }
   ],
   "source": [
    "pd.options.display.max_colwidth"
   ]
  },
  {
   "cell_type": "code",
   "execution_count": 85,
   "metadata": {},
   "outputs": [],
   "source": [
    "pd.options.display.max_colwidth = 100"
   ]
  },
  {
   "cell_type": "code",
   "execution_count": 86,
   "metadata": {},
   "outputs": [
    {
     "data": {
      "text/html": [
       "<div>\n",
       "<style scoped>\n",
       "    .dataframe tbody tr th:only-of-type {\n",
       "        vertical-align: middle;\n",
       "    }\n",
       "\n",
       "    .dataframe tbody tr th {\n",
       "        vertical-align: top;\n",
       "    }\n",
       "\n",
       "    .dataframe thead th {\n",
       "        text-align: right;\n",
       "    }\n",
       "</style>\n",
       "<table border=\"1\" class=\"dataframe\">\n",
       "  <thead>\n",
       "    <tr style=\"text-align: right;\">\n",
       "      <th></th>\n",
       "      <th>label</th>\n",
       "      <th>merged</th>\n",
       "      <th>tokens</th>\n",
       "    </tr>\n",
       "  </thead>\n",
       "  <tbody>\n",
       "    <tr>\n",
       "      <th>0</th>\n",
       "      <td>0</td>\n",
       "      <td>you need to fight your mind every time it tries to convince you that you are  not good enough, c...</td>\n",
       "      <td>[you, need, to, fight, your, mind, every, time, it, tries, to, convince, you, that, you, are, no...</td>\n",
       "    </tr>\n",
       "    <tr>\n",
       "      <th>1</th>\n",
       "      <td>0</td>\n",
       "      <td>a phone call creates stronger bonds than text based communications  people too often choose to s...</td>\n",
       "      <td>[a, phone, call, creates, stronger, bonds, than, text, based, communications, people, too, often...</td>\n",
       "    </tr>\n",
       "    <tr>\n",
       "      <th>2</th>\n",
       "      <td>0</td>\n",
       "      <td>everything in your life every experience, every relationship is a mirror of the mental pattern t...</td>\n",
       "      <td>[everything, in, your, life, every, experience, every, relationship, is, a, mirror, of, the, men...</td>\n",
       "    </tr>\n",
       "    <tr>\n",
       "      <th>3</th>\n",
       "      <td>0</td>\n",
       "      <td>the parable of the mexican fisherman got me reevaluating what it means to live my best life</td>\n",
       "      <td>[the, parable, of, the, mexican, fisherman, got, me, reevaluating, what, it, means, to, live, my...</td>\n",
       "    </tr>\n",
       "    <tr>\n",
       "      <th>4</th>\n",
       "      <td>0</td>\n",
       "      <td>the key to success and productivity isn t to try to maximize every single minute in the day, but...</td>\n",
       "      <td>[the, key, to, success, and, productivity, isn, t, to, try, to, maximize, every, single, minute,...</td>\n",
       "    </tr>\n",
       "  </tbody>\n",
       "</table>\n",
       "</div>"
      ],
      "text/plain": [
       "   label  \\\n",
       "0      0   \n",
       "1      0   \n",
       "2      0   \n",
       "3      0   \n",
       "4      0   \n",
       "\n",
       "                                                                                                merged  \\\n",
       "0  you need to fight your mind every time it tries to convince you that you are  not good enough, c...   \n",
       "1  a phone call creates stronger bonds than text based communications  people too often choose to s...   \n",
       "2  everything in your life every experience, every relationship is a mirror of the mental pattern t...   \n",
       "3         the parable of the mexican fisherman got me reevaluating what it means to live my best life    \n",
       "4  the key to success and productivity isn t to try to maximize every single minute in the day, but...   \n",
       "\n",
       "                                                                                                tokens  \n",
       "0  [you, need, to, fight, your, mind, every, time, it, tries, to, convince, you, that, you, are, no...  \n",
       "1  [a, phone, call, creates, stronger, bonds, than, text, based, communications, people, too, often...  \n",
       "2  [everything, in, your, life, every, experience, every, relationship, is, a, mirror, of, the, men...  \n",
       "3  [the, parable, of, the, mexican, fisherman, got, me, reevaluating, what, it, means, to, live, my...  \n",
       "4  [the, key, to, success, and, productivity, isn, t, to, try, to, maximize, every, single, minute,...  "
      ]
     },
     "execution_count": 86,
     "metadata": {},
     "output_type": "execute_result"
    }
   ],
   "source": [
    "stoic_zen.head()"
   ]
  },
  {
   "cell_type": "code",
   "execution_count": 83,
   "metadata": {},
   "outputs": [
    {
     "name": "stdout",
     "output_type": "stream",
     "text": [
      "label                                                     0\n",
      "merged    you need to fight your mind every time it trie...\n",
      "tokens    [you, need, to, fight, your, mind, every, time...\n",
      "Name: 0, dtype: object\n"
     ]
    }
   ],
   "source": [
    "stoic_zen[0]"
   ]
  },
  {
   "cell_type": "markdown",
   "metadata": {},
   "source": [
    "#### Inspecting distribution of post length "
   ]
  },
  {
   "cell_type": "code",
   "execution_count": 94,
   "metadata": {},
   "outputs": [
    {
     "name": "stdout",
     "output_type": "stream",
     "text": [
      "436816 words total, with a vocabulary size of 16477\n",
      "Max post length is 6401 words\n",
      "Average post length is 72.86 words\n"
     ]
    }
   ],
   "source": [
    "# code inspired by Emmanuel \n",
    "all_words = [word for tokens in stoic_zen['tokens'] for word in tokens]    # getting all the words in the posts\n",
    "post_lengths = [len(tokens) for tokens in stoic_zen['tokens']]    # getting length of the all the posts\n",
    "vocab = sorted(list(set(all_words)))    # getting the list of unique words in the corpus composed of the subreddit posts\n",
    "print(f'{len(all_words)} words total, with a vocabulary size of {len(vocab)}')\n",
    "print(f'Max post length is {max(post_lengths)} words')\n",
    "print(f'Average post length is {np.mean(post_lengths).round(2)} words')"
   ]
  },
  {
   "cell_type": "code",
   "execution_count": 97,
   "metadata": {},
   "outputs": [
    {
     "data": {
      "image/png": "[encoded data removed]",
      "text/plain": [
       "<Figure size 720x720 with 1 Axes>"
      ]
     },
     "metadata": {
      "needs_background": "light"
     },
     "output_type": "display_data"
    }
   ],
   "source": [
    "fig = plt.figure(figsize=(10,10))\n",
    "plt.xlabel('Post Length')\n",
    "plt.ylabel('Number of Posts')\n",
    "plt.hist(post_lengths, bins=100, range=[0, 1500])\n",
    "plt.show()"
   ]
  },
  {
   "cell_type": "markdown",
   "metadata": {},
   "source": [
    "**Figuring out whether I want to remove very long/very short posts.** "
   ]
  },
  {
   "cell_type": "code",
   "execution_count": 99,
   "metadata": {},
   "outputs": [
    {
     "data": {
      "text/plain": [
       "2733    6401\n",
       "5558    2169\n",
       "3868    1552\n",
       "2715    1519\n",
       "2977    1406\n",
       "3822    1359\n",
       "5902    1346\n",
       "2925    1242\n",
       "4173    1158\n",
       "5296    1147\n",
       "Name: tokens, dtype: int64"
      ]
     },
     "execution_count": 99,
     "metadata": {},
     "output_type": "execute_result"
    }
   ],
   "source": [
    "# zen_posts['selftext'].map(lambda x: len(x)).nlargest(10)\n",
    "\n",
    "stoic_zen['tokens'].map(lambda x: len(x)).nlargest(10)"
   ]
  },
  {
   "cell_type": "code",
   "execution_count": 100,
   "metadata": {},
   "outputs": [
    {
     "data": {
      "text/plain": [
       "label                                                                                                       0\n",
       "merged     who are you?    the guide to finding your true identity by popular request, this post is a foll...\n",
       "tokens    [who, are, you, the, guide, to, finding, your, true, identity, by, popular, request, this, post,...\n",
       "Name: 2733, dtype: object"
      ]
     },
     "execution_count": 100,
     "metadata": {},
     "output_type": "execute_result"
    }
   ],
   "source": [
    "stoic_zen.iloc[2733]"
   ]
  },
  {
   "cell_type": "code",
   "execution_count": 102,
   "metadata": {},
   "outputs": [
    {
     "data": {
      "text/plain": [
       "6401"
      ]
     },
     "execution_count": 102,
     "metadata": {},
     "output_type": "execute_result"
    }
   ],
   "source": [
    "len(stoic_zen['tokens'][2733])"
   ]
  },
  {
   "cell_type": "markdown",
   "metadata": {},
   "source": [
    "_I am going to remove the above post as it is three times longer than the other posts and might distort the data training because all the words come from the same person and might add unnecessary redundancy that does not reflect the entire corpus._"
   ]
  },
  {
   "cell_type": "code",
   "execution_count": 105,
   "metadata": {},
   "outputs": [],
   "source": [
    "stoic_zen.drop([2733], inplace=True)"
   ]
  },
  {
   "cell_type": "code",
   "execution_count": 114,
   "metadata": {},
   "outputs": [
    {
     "data": {
      "image/png": "[encoded data removed]",
      "text/plain": [
       "<Figure size 720x720 with 1 Axes>"
      ]
     },
     "metadata": {
      "needs_background": "light"
     },
     "output_type": "display_data"
    }
   ],
   "source": [
    "# re-running histogram without outlier\n",
    "\n",
    "post_lengths = [len(tokens) for tokens in stoic_zen['tokens']]\n",
    "\n",
    "fig = plt.figure(figsize=(10,10))\n",
    "plt.xlabel('Post Length')\n",
    "plt.ylabel('Number of Posts')\n",
    "plt.hist(post_lengths, bins=100, range=[0, 400])\n",
    "plt.show()"
   ]
  },
  {
   "cell_type": "markdown",
   "metadata": {},
   "source": [
    "## `Bag of Words / CountVectorizer` "
   ]
  },
  {
   "cell_type": "markdown",
   "metadata": {},
   "source": [
    "#### Vectorizing the data"
   ]
  },
  {
   "cell_type": "code",
   "execution_count": 118,
   "metadata": {},
   "outputs": [],
   "source": [
    "# NB: turn this into a function "
   ]
  },
  {
   "cell_type": "code",
   "execution_count": 116,
   "metadata": {},
   "outputs": [],
   "source": [
    "X = stoic_zen['merged']\n",
    "y = stoic_zen['label']"
   ]
  },
  {
   "cell_type": "code",
   "execution_count": 119,
   "metadata": {},
   "outputs": [
    {
     "data": {
      "text/plain": [
       "1    0.500167\n",
       "0    0.499833\n",
       "Name: label, dtype: float64"
      ]
     },
     "execution_count": 119,
     "metadata": {},
     "output_type": "execute_result"
    }
   ],
   "source": [
    "# always check value counts for a classification problem! \n",
    "y.value_counts(normalize=True)"
   ]
  },
  {
   "cell_type": "code",
   "execution_count": 140,
   "metadata": {},
   "outputs": [],
   "source": [
    "# not scaling data right now "
   ]
  },
  {
   "cell_type": "code",
   "execution_count": 219,
   "metadata": {},
   "outputs": [],
   "source": [
    "# splitting into train and test sets\n",
    "X_train, X_test, y_train, y_test = train_test_split(X, \n",
    "                                                   y, \n",
    "                                                   test_size=0.33,\n",
    "                                                   shuffle=True,\n",
    "                                                   stratify=y,\n",
    "                                                   random_state=42)"
   ]
  },
  {
   "cell_type": "code",
   "execution_count": 142,
   "metadata": {},
   "outputs": [],
   "source": [
    "cvec = CountVectorizer(stop_words='english')\n",
    "\n",
    "cvec.fit(X_train)\n",
    "\n",
    "X_train_cvec = cvec.transform(X_train)\n",
    "X_test_cvec = cvec.transform(X_test)"
   ]
  },
  {
   "cell_type": "code",
   "execution_count": 143,
   "metadata": {},
   "outputs": [
    {
     "data": {
      "text/plain": [
       "48"
      ]
     },
     "execution_count": 143,
     "metadata": {},
     "output_type": "execute_result"
    }
   ],
   "source": [
    "import sys\n",
    "sys.getsizeof(X_train_cvec)"
   ]
  },
  {
   "cell_type": "code",
   "execution_count": 144,
   "metadata": {},
   "outputs": [],
   "source": [
    "## VISUALIZE EMBEDDINGS HERE? "
   ]
  },
  {
   "cell_type": "markdown",
   "metadata": {},
   "source": [
    "#### Fitting the Classifier"
   ]
  },
  {
   "cell_type": "code",
   "execution_count": 148,
   "metadata": {},
   "outputs": [],
   "source": [
    "lr = LogisticRegression(C=30.0, class_weight='balanced', solver='newton-cg', random_state=48)\n",
    "\n",
    "lr.fit(X_train_cvec, y_train)\n",
    "\n",
    "y_preds_cvec_lr = lr.predict(X_test_cvec)"
   ]
  },
  {
   "cell_type": "markdown",
   "metadata": {},
   "source": [
    "#### Evaluation "
   ]
  },
  {
   "cell_type": "code",
   "execution_count": 149,
   "metadata": {},
   "outputs": [
    {
     "data": {
      "text/plain": [
       "0.865588681152097"
      ]
     },
     "execution_count": 149,
     "metadata": {},
     "output_type": "execute_result"
    }
   ],
   "source": [
    "accuracy = accuracy_score(y_test, y_preds_cvec_lr)\n",
    "accuracy"
   ]
  },
  {
   "cell_type": "code",
   "execution_count": 146,
   "metadata": {},
   "outputs": [
    {
     "data": {
      "text/plain": [
       "0.9967621419676215"
      ]
     },
     "execution_count": 146,
     "metadata": {},
     "output_type": "execute_result"
    }
   ],
   "source": [
    "lr.score(X_train_cvec, y_train)"
   ]
  },
  {
   "cell_type": "code",
   "execution_count": 147,
   "metadata": {},
   "outputs": [
    {
     "data": {
      "text/plain": [
       "0.865588681152097"
      ]
     },
     "execution_count": 147,
     "metadata": {},
     "output_type": "execute_result"
    }
   ],
   "source": [
    "lr.score(X_test_cvec, y_test)"
   ]
  },
  {
   "cell_type": "markdown",
   "metadata": {},
   "source": [
    "**_VERY_ overfit**! \n",
    "\n",
    "`Confusion Matrix`"
   ]
  },
  {
   "cell_type": "code",
   "execution_count": 154,
   "metadata": {},
   "outputs": [
    {
     "data": {
      "image/png": "[encoded data removed]",
      "text/plain": [
       "<Figure size 432x288 with 2 Axes>"
      ]
     },
     "metadata": {
      "needs_background": "light"
     },
     "output_type": "display_data"
    }
   ],
   "source": [
    "# confusion matrix \n",
    "tn, fp, fn, tp = confusion_matrix(y_test, y_preds_cvec_lr).ravel()\n",
    "\n",
    "plot_confusion_matrix(lr, X_test_cvec, y_test, cmap=\"Blues\", values_format='d');"
   ]
  },
  {
   "cell_type": "code",
   "execution_count": 187,
   "metadata": {},
   "outputs": [
    {
     "data": {
      "text/plain": [
       "range(0, 1)"
      ]
     },
     "execution_count": 187,
     "metadata": {},
     "output_type": "execute_result"
    }
   ],
   "source": [
    "range(lr.coef_.shape[0])"
   ]
  },
  {
   "cell_type": "code",
   "execution_count": 179,
   "metadata": {},
   "outputs": [
    {
     "data": {
      "text/plain": [
       "dict_items"
      ]
     },
     "execution_count": 179,
     "metadata": {},
     "output_type": "execute_result"
    }
   ],
   "source": [
    "type(cvec.vocabulary_.items())"
   ]
  },
  {
   "cell_type": "code",
   "execution_count": 198,
   "metadata": {},
   "outputs": [],
   "source": [
    "#trying to look at important features.... \n",
    "# for 0 / Zen \n",
    "\n",
    "# WHAT IS THIS DOING?? want to interpret \n",
    "\n",
    "classes = {}\n",
    "\n",
    "index_to_word = {v:k for k,v in cvec.vocabulary_.items()}\n",
    "\n",
    "word_importances = [(el, index_to_word[i]) for i, el in enumerate(lr.coef_[0])] \n",
    "\n",
    "sorted_coeff = sorted(word_importances, key = lambda x : x[0], reverse=True) \n",
    "\n",
    "tops = sorted(sorted_coeff[:10], key = lambda x : x[0])\n",
    "\n",
    "bottom = sorted_coeff[-10:]\n",
    "\n",
    "classes[0] = {\n",
    "    'tops':tops,\n",
    "    'bottom':bottom\n",
    "}"
   ]
  },
  {
   "cell_type": "code",
   "execution_count": 199,
   "metadata": {},
   "outputs": [],
   "source": [
    "\n",
    "# classes = {}\n",
    "\n",
    "# index_to_word = {v:k for k,v in cvec.vocabulary_.items()}\n",
    "\n",
    "# word_importances = [(el, index_to_word[i]) for i, el in enumerate(lr.coef_[1])] \n",
    "\n",
    "# sorted_coeff = sorted(word_importances, key = lambda x : x[0], reverse=True) \n",
    "\n",
    "# tops = sorted(sorted_coeff[:10], key = lambda x : x[0])\n",
    "\n",
    "# bottom = sorted_coeff[-10:]\n",
    "\n",
    "# classes[1] = {\n",
    "#     'tops':tops,\n",
    "#     'bottom':bottom\n",
    "# }"
   ]
  },
  {
   "cell_type": "code",
   "execution_count": 200,
   "metadata": {},
   "outputs": [
    {
     "data": {
      "text/plain": [
       "[(8.069589029292633, 'stoicism'),\n",
       " (6.301881499394842, 'hadot'),\n",
       " (6.301851169601739, 'ch'),\n",
       " (5.77894446525593, 'removed'),\n",
       " (5.504607606040226, 'stoic'),\n",
       " (4.922152165784429, 'tuesday'),\n",
       " (4.63223282300581, 'pleaser'),\n",
       " (4.531239919189177, 'stoics'),\n",
       " (4.397288436260482, 'head'),\n",
       " (4.366625391875735, 'quote')]"
      ]
     },
     "execution_count": 200,
     "metadata": {},
     "output_type": "execute_result"
    }
   ],
   "source": [
    "sorted_coeff[:10]"
   ]
  },
  {
   "cell_type": "code",
   "execution_count": 201,
   "metadata": {},
   "outputs": [
    {
     "data": {
      "text/plain": [
       "{0: {'tops': [(4.366625391875735, 'quote'),\n",
       "   (4.397288436260482, 'head'),\n",
       "   (4.531239919189177, 'stoics'),\n",
       "   (4.63223282300581, 'pleaser'),\n",
       "   (4.922152165784429, 'tuesday'),\n",
       "   (5.504607606040226, 'stoic'),\n",
       "   (5.77894446525593, 'removed'),\n",
       "   (6.301851169601739, 'ch'),\n",
       "   (6.301881499394842, 'hadot'),\n",
       "   (8.069589029292633, 'stoicism')],\n",
       "  'bottom': [(-3.7902502017654727, 'reasons'),\n",
       "   (-3.8717876783659233, 'potent'),\n",
       "   (-3.8719719699366077, 'antidote'),\n",
       "   (-4.02712232775368, 'worried'),\n",
       "   (-4.071106733143283, 'rules'),\n",
       "   (-4.198324206542225, 'scare'),\n",
       "   (-4.595157355984279, 'uyp'),\n",
       "   (-4.669976864802282, 'creative'),\n",
       "   (-4.696941911223154, 'ways'),\n",
       "   (-6.5930396165971965, 'emotion')]}}"
      ]
     },
     "execution_count": 201,
     "metadata": {},
     "output_type": "execute_result"
    }
   ],
   "source": [
    "classes"
   ]
  },
  {
   "cell_type": "code",
   "execution_count": null,
   "metadata": {},
   "outputs": [],
   "source": []
  },
  {
   "cell_type": "markdown",
   "metadata": {},
   "source": [
    "## TfidfVectorizer"
   ]
  },
  {
   "cell_type": "code",
   "execution_count": 205,
   "metadata": {},
   "outputs": [],
   "source": [
    "tfidf = TfidfVectorizer(stop_words='english', ngram_range=(1,3)) \n",
    "\n",
    "tfidf.fit(X_train) \n",
    "\n",
    "X_train_tfidf = tfidf.transform(X_train)\n",
    "X_test_tfidf = tfidf.transform(X_test)"
   ]
  },
  {
   "cell_type": "code",
   "execution_count": 206,
   "metadata": {},
   "outputs": [],
   "source": [
    "lr_tfidf = LogisticRegression(C=30.0, class_weight='balanced', solver='newton-cg', random_state=48)\n",
    "\n",
    "lr_tfidf.fit(X_train_tfidf, y_train)\n",
    "\n",
    "y_preds_tfidf_lr = lr_tfidf.predict(X_test_tfidf)"
   ]
  },
  {
   "cell_type": "code",
   "execution_count": 207,
   "metadata": {},
   "outputs": [
    {
     "data": {
      "text/plain": [
       "0.997758405977584"
      ]
     },
     "execution_count": 207,
     "metadata": {},
     "output_type": "execute_result"
    }
   ],
   "source": [
    "lr_tfidf.score(X_train_tfidf, y_train)"
   ]
  },
  {
   "cell_type": "code",
   "execution_count": 208,
   "metadata": {},
   "outputs": [
    {
     "data": {
      "text/plain": [
       "0.8918645780697322"
      ]
     },
     "execution_count": 208,
     "metadata": {},
     "output_type": "execute_result"
    }
   ],
   "source": [
    "lr_tfidf.score(X_test_tfidf, y_test)"
   ]
  },
  {
   "cell_type": "markdown",
   "metadata": {},
   "source": [
    "**_Slightly_ less overfit.**"
   ]
  },
  {
   "cell_type": "code",
   "execution_count": 209,
   "metadata": {},
   "outputs": [
    {
     "data": {
      "image/png": "[encoded data removed]",
      "text/plain": [
       "<Figure size 432x288 with 2 Axes>"
      ]
     },
     "metadata": {
      "needs_background": "light"
     },
     "output_type": "display_data"
    }
   ],
   "source": [
    "# tfidf confusion matrix \n",
    "\n",
    "tn, fp, fn, tp = confusion_matrix(y_test, y_preds_tfidf_lr).ravel()\n",
    "\n",
    "plot_confusion_matrix(lr_tfidf, X_test_tfidf, y_test, cmap=\"Blues\", values_format='d');"
   ]
  },
  {
   "cell_type": "markdown",
   "metadata": {},
   "source": [
    "### `Tf-Idf Grid Search`"
   ]
  },
  {
   "cell_type": "code",
   "execution_count": 214,
   "metadata": {},
   "outputs": [],
   "source": [
    "# tf-idf pipeline in two stages \n",
    "\n",
    "tfidf_pipe = Pipeline([\n",
    "    ('tfidf', TfidfVectorizer()),\n",
    "    ('lr', LogisticRegression())\n",
    "])"
   ]
  },
  {
   "cell_type": "code",
   "execution_count": 221,
   "metadata": {},
   "outputs": [],
   "source": [
    "pipe_params_tfidf = {\n",
    "    'tfidf__max_features':[1000, 2000, 3000, 4000, 5000],\n",
    "    'tfidf__stop_words': [None, 'english'],\n",
    "    'tfidf__ngram_range': [(1,1),(1,2),(1,3)],\n",
    "    'tfidf__min_df': [0.5, 0.75, 1],\n",
    "    'lr__C': [0.1, 1, 30.0],\n",
    "    'lr__solver': ['newton-cg', 'lbfgs']\n",
    "}\n",
    "\n",
    "# (from above): \n",
    "# lr = LogisticRegression(C=30.0, class_weight='balanced', solver='newton-cg', random_state=48)\n"
   ]
  },
  {
   "cell_type": "code",
   "execution_count": 222,
   "metadata": {},
   "outputs": [],
   "source": [
    "# gridsearch instantiation \n",
    "\n",
    "gs_tfidf_lr = GridSearchCV(tfidf_pipe,\n",
    "                          pipe_params_tfidf,\n",
    "                          cv = 5, \n",
    "                          verbose = 1,\n",
    "                          n_jobs = 8)"
   ]
  },
  {
   "cell_type": "code",
   "execution_count": 223,
   "metadata": {},
   "outputs": [
    {
     "name": "stdout",
     "output_type": "stream",
     "text": [
      "Fitting 5 folds for each of 540 candidates, totalling 2700 fits\n"
     ]
    },
    {
     "name": "stderr",
     "output_type": "stream",
     "text": [
      "/Users/emilynaftalin/opt/anaconda3/lib/python3.8/site-packages/sklearn/model_selection/_search.py:918: UserWarning: One or more of the test scores are non-finite: [0.57409714        nan 0.57409714        nan 0.57409714        nan\n",
      "        nan        nan        nan        nan        nan        nan\n",
      " 0.85853051 0.87173101 0.86849315 0.87297634 0.86724782 0.87272727\n",
      " 0.57409714        nan 0.57409714        nan 0.57409714        nan\n",
      "        nan        nan        nan        nan        nan        nan\n",
      " 0.85977584 0.87646326 0.86749689 0.87820672 0.86724782 0.87770859\n",
      " 0.57409714        nan 0.57409714        nan 0.57409714        nan\n",
      "        nan        nan        nan        nan        nan        nan\n",
      " 0.85454545 0.87596513 0.86625156 0.88019925 0.86575342 0.88044832\n",
      " 0.57409714        nan 0.57409714        nan 0.57409714        nan\n",
      "        nan        nan        nan        nan        nan        nan\n",
      " 0.85404732 0.87820672 0.86251557 0.87920299 0.86176837 0.87895392\n",
      " 0.57409714        nan 0.57409714        nan 0.57409714        nan\n",
      "        nan        nan        nan        nan        nan        nan\n",
      " 0.85529265 0.8762142  0.86176837 0.87970112 0.8607721  0.88019925\n",
      " 0.57409714        nan 0.57409714        nan 0.57409714        nan\n",
      "        nan        nan        nan        nan        nan        nan\n",
      " 0.85853051 0.87173101 0.86849315 0.87297634 0.86724782 0.87272727\n",
      " 0.57409714        nan 0.57409714        nan 0.57409714        nan\n",
      "        nan        nan        nan        nan        nan        nan\n",
      " 0.85977584 0.87646326 0.86749689 0.87820672 0.86724782 0.87770859\n",
      " 0.57409714        nan 0.57409714        nan 0.57409714        nan\n",
      "        nan        nan        nan        nan        nan        nan\n",
      " 0.85454545 0.87596513 0.86625156 0.88019925 0.86575342 0.88044832\n",
      " 0.57409714        nan 0.57409714        nan 0.57409714        nan\n",
      "        nan        nan        nan        nan        nan        nan\n",
      " 0.85404732 0.87820672 0.86251557 0.87920299 0.86176837 0.87895392\n",
      " 0.57409714        nan 0.57409714        nan 0.57409714        nan\n",
      "        nan        nan        nan        nan        nan        nan\n",
      " 0.85529265 0.8762142  0.86176837 0.87970112 0.86102117 0.88019925\n",
      " 0.57409714        nan 0.57409714        nan 0.57409714        nan\n",
      "        nan        nan        nan        nan        nan        nan\n",
      " 0.8864259  0.87721046 0.88542964 0.87646326 0.88468244 0.87671233\n",
      " 0.57409714        nan 0.57409714        nan 0.57409714        nan\n",
      "        nan        nan        nan        nan        nan        nan\n",
      " 0.88941469 0.88617684 0.88742217 0.8856787  0.88692403 0.88468244\n",
      " 0.57409714        nan 0.57409714        nan 0.57409714        nan\n",
      "        nan        nan        nan        nan        nan        nan\n",
      " 0.89165629 0.8871731  0.88891656 0.88891656 0.88891656 0.88742217\n",
      " 0.57409714        nan 0.57409714        nan 0.57409714        nan\n",
      "        nan        nan        nan        nan        nan        nan\n",
      " 0.89140722 0.88767123 0.89190535 0.88941469 0.89190535 0.88916563\n",
      " 0.57409714        nan 0.57409714        nan 0.57409714        nan\n",
      "        nan        nan        nan        nan        nan        nan\n",
      " 0.89265255 0.88767123 0.89339975 0.88991283 0.89290162 0.88916563\n",
      " 0.57409714        nan 0.57409714        nan 0.57409714        nan\n",
      "        nan        nan        nan        nan        nan        nan\n",
      " 0.8864259  0.87721046 0.88542964 0.87646326 0.88468244 0.87671233\n",
      " 0.57409714        nan 0.57409714        nan 0.57409714        nan\n",
      "        nan        nan        nan        nan        nan        nan\n",
      " 0.88941469 0.88617684 0.88742217 0.8856787  0.88692403 0.88468244\n",
      " 0.57409714        nan 0.57409714        nan 0.57409714        nan\n",
      "        nan        nan        nan        nan        nan        nan\n",
      " 0.89165629 0.8871731  0.88891656 0.88891656 0.88891656 0.88742217\n",
      " 0.57409714        nan 0.57409714        nan 0.57409714        nan\n",
      "        nan        nan        nan        nan        nan        nan\n",
      " 0.89140722 0.88767123 0.89215442 0.88941469 0.89190535 0.88916563\n",
      " 0.57409714        nan 0.57409714        nan 0.57409714        nan\n",
      "        nan        nan        nan        nan        nan        nan\n",
      " 0.89240349 0.88767123 0.89339975 0.88991283 0.89290162 0.88916563\n",
      " 0.57409714        nan 0.57409714        nan 0.57409714        nan\n",
      "        nan        nan        nan        nan        nan        nan\n",
      " 0.86600249 0.84109589 0.85927771 0.84259029 0.86102117 0.84159402\n",
      " 0.57409714        nan 0.57409714        nan 0.57409714        nan\n",
      "        nan        nan        nan        nan        nan        nan\n",
      " 0.87820672 0.85404732 0.87098381 0.85105853 0.87048568 0.85080946\n",
      " 0.57409714        nan 0.57409714        nan 0.57409714        nan\n",
      "        nan        nan        nan        nan        nan        nan\n",
      " 0.88144458 0.85653798 0.87795766 0.85828144 0.87521793 0.85778331\n",
      " 0.57409714        nan 0.57409714        nan 0.57409714        nan\n",
      "        nan        nan        nan        nan        nan        nan\n",
      " 0.88617684 0.8630137  0.88493151 0.86002491 0.88393524 0.85853051\n",
      " 0.57409714        nan 0.57409714        nan 0.57409714        nan\n",
      "        nan        nan        nan        nan        nan        nan\n",
      " 0.88468244 0.86674969 0.8871731  0.8630137  0.88742217 0.86326276\n",
      " 0.57409714        nan 0.57409714        nan 0.57409714        nan\n",
      "        nan        nan        nan        nan        nan        nan\n",
      " 0.86600249 0.84109589 0.85927771 0.84259029 0.8607721  0.84159402\n",
      " 0.57409714        nan 0.57409714        nan 0.57409714        nan\n",
      "        nan        nan        nan        nan        nan        nan\n",
      " 0.87820672 0.85404732 0.87098381 0.85105853 0.87048568 0.85080946\n",
      " 0.57409714        nan 0.57409714        nan 0.57409714        nan\n",
      "        nan        nan        nan        nan        nan        nan\n",
      " 0.88144458 0.85653798 0.87795766 0.85828144 0.87521793 0.85778331\n",
      " 0.57409714        nan 0.57409714        nan 0.57409714        nan\n",
      "        nan        nan        nan        nan        nan        nan\n",
      " 0.88617684 0.8630137  0.88493151 0.86002491 0.88393524 0.85853051\n",
      " 0.57409714        nan 0.57409714        nan 0.57409714        nan\n",
      "        nan        nan        nan        nan        nan        nan\n",
      " 0.88468244 0.86674969 0.8871731  0.8630137  0.88742217 0.86326276]\n",
      "  warnings.warn(\n"
     ]
    },
    {
     "data": {
      "text/plain": [
       "GridSearchCV(cv=5,\n",
       "             estimator=Pipeline(steps=[('tfidf', TfidfVectorizer()),\n",
       "                                       ('lr', LogisticRegression())]),\n",
       "             n_jobs=8,\n",
       "             param_grid={'lr__C': [0.1, 1, 30.0],\n",
       "                         'lr__solver': ['newton-cg', 'lbfgs'],\n",
       "                         'tfidf__max_features': [1000, 2000, 3000, 4000, 5000],\n",
       "                         'tfidf__min_df': [0.5, 0.75, 1],\n",
       "                         'tfidf__ngram_range': [(1, 1), (1, 2), (1, 3)],\n",
       "                         'tfidf__stop_words': [None, 'english']},\n",
       "             verbose=1)"
      ]
     },
     "execution_count": 223,
     "metadata": {},
     "output_type": "execute_result"
    }
   ],
   "source": [
    "gs_tfidf_lr.fit(X_train, y_train)"
   ]
  },
  {
   "cell_type": "code",
   "execution_count": 224,
   "metadata": {},
   "outputs": [
    {
     "data": {
      "text/plain": [
       "{'lr__C': 1,\n",
       " 'lr__solver': 'newton-cg',\n",
       " 'tfidf__max_features': 5000,\n",
       " 'tfidf__min_df': 1,\n",
       " 'tfidf__ngram_range': (1, 2),\n",
       " 'tfidf__stop_words': None}"
      ]
     },
     "execution_count": 224,
     "metadata": {},
     "output_type": "execute_result"
    }
   ],
   "source": [
    "gs_tfidf_lr.best_params_"
   ]
  },
  {
   "cell_type": "code",
   "execution_count": 225,
   "metadata": {},
   "outputs": [
    {
     "data": {
      "text/plain": [
       "0.8933997509339975"
      ]
     },
     "execution_count": 225,
     "metadata": {},
     "output_type": "execute_result"
    }
   ],
   "source": [
    "gs_tfidf_lr.best_score_"
   ]
  },
  {
   "cell_type": "code",
   "execution_count": 226,
   "metadata": {},
   "outputs": [
    {
     "data": {
      "text/plain": [
       "0.936986301369863"
      ]
     },
     "execution_count": 226,
     "metadata": {},
     "output_type": "execute_result"
    }
   ],
   "source": [
    "gs_tfidf_lr.score(X_train, y_train)"
   ]
  },
  {
   "cell_type": "code",
   "execution_count": 227,
   "metadata": {},
   "outputs": [
    {
     "data": {
      "text/plain": [
       "0.8969176351692774"
      ]
     },
     "execution_count": 227,
     "metadata": {},
     "output_type": "execute_result"
    }
   ],
   "source": [
    "gs_tfidf_lr.score(X_test, y_test)"
   ]
  },
  {
   "cell_type": "code",
   "execution_count": 228,
   "metadata": {},
   "outputs": [],
   "source": [
    "# predictions of tfidf logistic regression gridsearch \n",
    "\n",
    "gs_tfidf_preds = gs_tfidf_lr.predict(X_test)"
   ]
  },
  {
   "cell_type": "code",
   "execution_count": 232,
   "metadata": {},
   "outputs": [
    {
     "data": {
      "text/plain": [
       "<sklearn.metrics._plot.confusion_matrix.ConfusionMatrixDisplay at 0x7fe9899bcf40>"
      ]
     },
     "execution_count": 232,
     "metadata": {},
     "output_type": "execute_result"
    },
    {
     "data": {
      "image/png": "[encoded data removed]",
      "text/plain": [
       "<Figure size 432x288 with 2 Axes>"
      ]
     },
     "metadata": {
      "needs_background": "light"
     },
     "output_type": "display_data"
    }
   ],
   "source": [
    "\n",
    "# confusion matrix \n",
    "\n",
    "tn, fp, fn, tp = confusion_matrix(y_test, gs_tfidf_preds).ravel()\n",
    "\n",
    "plot_confusion_matrix(gs_tfidf_lr, X_test, y_test, cmap=\"Blues\")"
   ]
  },
  {
   "cell_type": "code",
   "execution_count": 234,
   "metadata": {},
   "outputs": [
    {
     "data": {
      "text/plain": [
       "label                                                                                          0\n",
       "merged                how to fight anxiety   the end of the most nebulous diseases of our times \n",
       "tokens    [how, to, fight, anxiety, the, end, of, the, most, nebulous, diseases, of, our, times]\n",
       "Name: 100, dtype: object"
      ]
     },
     "execution_count": 234,
     "metadata": {},
     "output_type": "execute_result"
    }
   ],
   "source": [
    "stoic_zen.iloc[100]"
   ]
  },
  {
   "cell_type": "code",
   "execution_count": 240,
   "metadata": {},
   "outputs": [
    {
     "data": {
      "text/plain": [
       "label                                                                                                       0\n",
       "merged    i m going to control what i can and i m not going to lose peace of mind over what i can t  relea...\n",
       "tokens    [i, m, going, to, control, what, i, can, and, i, m, not, going, to, lose, peace, of, mind, over,...\n",
       "Name: 199, dtype: object"
      ]
     },
     "execution_count": 240,
     "metadata": {},
     "output_type": "execute_result"
    }
   ],
   "source": [
    "stoic_zen.iloc[199]"
   ]
  },
  {
   "cell_type": "code",
   "execution_count": null,
   "metadata": {},
   "outputs": [],
   "source": []
  }
 ],
 "metadata": {
  "kernelspec": {
   "display_name": "Python 3",
   "language": "python",
   "name": "python3"
  },
  "language_info": {
   "codemirror_mode": {
    "name": "ipython",
    "version": 3
   },
   "file_extension": ".py",
   "mimetype": "text/x-python",
   "name": "python",
   "nbconvert_exporter": "python",
   "pygments_lexer": "ipython3",
   "version": "3.8.5"
  }
 },
 "nbformat": 4,
 "nbformat_minor": 4
}
