{
 "cells": [
  {
   "cell_type": "code",
   "execution_count": 142,
   "metadata": {},
   "outputs": [],
   "source": [
    "# imports\n",
    "import matplotlib.pyplot as plt\n",
    "import numpy as np\n",
    "import pandas as pd\n",
    "import seaborn as sns\n",
    "\n",
    "# Import train_test_split.\n",
    "from sklearn.model_selection import train_test_split, GridSearchCV, cross_val_score\n",
    "\n",
    "# Import logistic regression and pipeline\n",
    "from sklearn.linear_model import LogisticRegression\n",
    "from sklearn.pipeline import Pipeline\n",
    "\n",
    "# importing scaler \n",
    "from sklearn.preprocessing import StandardScaler\n",
    "\n",
    "# import vectorizers\n",
    "from sklearn.feature_extraction.text import CountVectorizer, TfidfVectorizer\n",
    "\n",
    "#import metrics \n",
    "from sklearn.metrics import accuracy_score, f1_score, precision_score, recall_score, classification_report\n",
    "from sklearn.metrics import confusion_matrix, plot_confusion_matrix"
   ]
  },
  {
   "cell_type": "code",
   "execution_count": 143,
   "metadata": {},
   "outputs": [],
   "source": [
    "# top imports from Emmanuel \n",
    "\n",
    "import keras\n",
    "import nltk\n",
    "import re\n",
    "import codecs"
   ]
  },
  {
   "cell_type": "code",
   "execution_count": 144,
   "metadata": {},
   "outputs": [
    {
     "data": {
      "text/plain": [
       "'/Users/emilynaftalin/Data_Science/General Assembly/dsi/projects/project_3/practice_code'"
      ]
     },
     "execution_count": 144,
     "metadata": {},
     "output_type": "execute_result"
    }
   ],
   "source": [
    "pwd"
   ]
  },
  {
   "cell_type": "code",
   "execution_count": 145,
   "metadata": {},
   "outputs": [],
   "source": [
    "stoic_zen = pd.read_csv('../datasets/stoic_zen.csv')"
   ]
  },
  {
   "cell_type": "code",
   "execution_count": 146,
   "metadata": {},
   "outputs": [
    {
     "data": {
      "text/html": [
       "<div>\n",
       "<style scoped>\n",
       "    .dataframe tbody tr th:only-of-type {\n",
       "        vertical-align: middle;\n",
       "    }\n",
       "\n",
       "    .dataframe tbody tr th {\n",
       "        vertical-align: top;\n",
       "    }\n",
       "\n",
       "    .dataframe thead th {\n",
       "        text-align: right;\n",
       "    }\n",
       "</style>\n",
       "<table border=\"1\" class=\"dataframe\">\n",
       "  <thead>\n",
       "    <tr style=\"text-align: right;\">\n",
       "      <th></th>\n",
       "      <th>label</th>\n",
       "      <th>merged</th>\n",
       "    </tr>\n",
       "  </thead>\n",
       "  <tbody>\n",
       "    <tr>\n",
       "      <th>0</th>\n",
       "      <td>0</td>\n",
       "      <td>You need to fight your mind every time it tries to convince you that you are: not good enough, c...</td>\n",
       "    </tr>\n",
       "    <tr>\n",
       "      <th>1</th>\n",
       "      <td>0</td>\n",
       "      <td>A phone call creates stronger bonds than text-based communications. People too often choose to s...</td>\n",
       "    </tr>\n",
       "    <tr>\n",
       "      <th>2</th>\n",
       "      <td>0</td>\n",
       "      <td>Everything in your life every experience, every relationship is a mirror of the mental pattern t...</td>\n",
       "    </tr>\n",
       "    <tr>\n",
       "      <th>3</th>\n",
       "      <td>0</td>\n",
       "      <td>The Parable of the Mexican Fisherman got me reevaluating what it means to live my best life</td>\n",
       "    </tr>\n",
       "    <tr>\n",
       "      <th>4</th>\n",
       "      <td>0</td>\n",
       "      <td>The key to success and productivity isn’t to try to maximize every single minute in the day, but...</td>\n",
       "    </tr>\n",
       "  </tbody>\n",
       "</table>\n",
       "</div>"
      ],
      "text/plain": [
       "   label  \\\n",
       "0      0   \n",
       "1      0   \n",
       "2      0   \n",
       "3      0   \n",
       "4      0   \n",
       "\n",
       "                                                                                                merged  \n",
       "0  You need to fight your mind every time it tries to convince you that you are: not good enough, c...  \n",
       "1  A phone call creates stronger bonds than text-based communications. People too often choose to s...  \n",
       "2  Everything in your life every experience, every relationship is a mirror of the mental pattern t...  \n",
       "3         The Parable of the Mexican Fisherman got me reevaluating what it means to live my best life   \n",
       "4  The key to success and productivity isn’t to try to maximize every single minute in the day, but...  "
      ]
     },
     "execution_count": 146,
     "metadata": {},
     "output_type": "execute_result"
    }
   ],
   "source": [
    "stoic_zen.head()"
   ]
  },
  {
   "cell_type": "code",
   "execution_count": 147,
   "metadata": {},
   "outputs": [
    {
     "data": {
      "text/html": [
       "<div>\n",
       "<style scoped>\n",
       "    .dataframe tbody tr th:only-of-type {\n",
       "        vertical-align: middle;\n",
       "    }\n",
       "\n",
       "    .dataframe tbody tr th {\n",
       "        vertical-align: top;\n",
       "    }\n",
       "\n",
       "    .dataframe thead th {\n",
       "        text-align: right;\n",
       "    }\n",
       "</style>\n",
       "<table border=\"1\" class=\"dataframe\">\n",
       "  <thead>\n",
       "    <tr style=\"text-align: right;\">\n",
       "      <th></th>\n",
       "      <th>label</th>\n",
       "      <th>merged</th>\n",
       "    </tr>\n",
       "  </thead>\n",
       "  <tbody>\n",
       "    <tr>\n",
       "      <th>5990</th>\n",
       "      <td>1</td>\n",
       "      <td>Stoicism and Self-improvement I have just recently started practicing Stoicism . Currently Readi...</td>\n",
       "    </tr>\n",
       "    <tr>\n",
       "      <th>5991</th>\n",
       "      <td>1</td>\n",
       "      <td>Should I go cold turkey on entertainment to prove myself that I am not addicted to them? Just st...</td>\n",
       "    </tr>\n",
       "    <tr>\n",
       "      <th>5992</th>\n",
       "      <td>1</td>\n",
       "      <td>Free Law of Attraction, The Secret PDF and Books Download [removed]</td>\n",
       "    </tr>\n",
       "    <tr>\n",
       "      <th>5993</th>\n",
       "      <td>1</td>\n",
       "      <td>Anxiety I have trouble rationalising with my anxiety. \\n\\nI drove for the first time yesterday a...</td>\n",
       "    </tr>\n",
       "    <tr>\n",
       "      <th>5994</th>\n",
       "      <td>1</td>\n",
       "      <td>\"Some poor, phoneless fool is probably sitting next to a waterfall somewhere, completely unaware...</td>\n",
       "    </tr>\n",
       "  </tbody>\n",
       "</table>\n",
       "</div>"
      ],
      "text/plain": [
       "      label  \\\n",
       "5990      1   \n",
       "5991      1   \n",
       "5992      1   \n",
       "5993      1   \n",
       "5994      1   \n",
       "\n",
       "                                                                                                   merged  \n",
       "5990  Stoicism and Self-improvement I have just recently started practicing Stoicism . Currently Readi...  \n",
       "5991  Should I go cold turkey on entertainment to prove myself that I am not addicted to them? Just st...  \n",
       "5992                                  Free Law of Attraction, The Secret PDF and Books Download [removed]  \n",
       "5993  Anxiety I have trouble rationalising with my anxiety. \\n\\nI drove for the first time yesterday a...  \n",
       "5994  \"Some poor, phoneless fool is probably sitting next to a waterfall somewhere, completely unaware...  "
      ]
     },
     "execution_count": 147,
     "metadata": {},
     "output_type": "execute_result"
    }
   ],
   "source": [
    "stoic_zen.tail()"
   ]
  },
  {
   "cell_type": "code",
   "execution_count": 148,
   "metadata": {},
   "outputs": [
    {
     "data": {
      "text/plain": [
       "label     0\n",
       "merged    0\n",
       "dtype: int64"
      ]
     },
     "execution_count": 148,
     "metadata": {},
     "output_type": "execute_result"
    }
   ],
   "source": [
    "stoic_zen.isnull().sum()"
   ]
  },
  {
   "cell_type": "code",
   "execution_count": 149,
   "metadata": {},
   "outputs": [
    {
     "data": {
      "text/plain": [
       "'You need to fight your mind every time it tries to convince you that you are: not good enough, criticized, too serious, not interesting, not wanted, excluded, rejected, or laughed at. Martin Brown '"
      ]
     },
     "execution_count": 149,
     "metadata": {},
     "output_type": "execute_result"
    }
   ],
   "source": [
    "stoic_zen['merged'][0]"
   ]
  },
  {
   "cell_type": "code",
   "execution_count": 150,
   "metadata": {},
   "outputs": [
    {
     "data": {
      "text/plain": [
       "str"
      ]
     },
     "execution_count": 150,
     "metadata": {},
     "output_type": "execute_result"
    }
   ],
   "source": [
    "type(stoic_zen['merged'][0])"
   ]
  },
  {
   "cell_type": "markdown",
   "metadata": {},
   "source": [
    "_**CITATION:**_ \n",
    "\n",
    "For this Logistic Regression exploration, I have drawn huge insights and inspiration from this [NLP workshop by Emmanuel Ameisen (@EmmanuelAmeisen), from Insight AI](https://github.com/EmFib/concrete_NLP_tutorial/blob/master/NLP_notebook.ipynb). \n",
    "\n",
    "I have implemented his code in several places and cite it there with the shorthand reference _\"Emmanuel\"_. "
   ]
  },
  {
   "cell_type": "code",
   "execution_count": 151,
   "metadata": {},
   "outputs": [],
   "source": [
    "# This method for cleaning data from Emmanuel \n",
    "\n",
    "def standardize_text(df, text_field):\n",
    "    df[text_field] = df[text_field].str.replace(r\"http\\S+\", \"\")\n",
    "    df[text_field] = df[text_field].str.replace(r\"http\", \"\")\n",
    "    df[text_field] = df[text_field].str.replace(r\"@\\S+\", \"\")\n",
    "    df[text_field] = df[text_field].str.replace(r\"[^A-Za-z0-9(),!?@\\'\\`\\\"\\_\\n]\", \" \")\n",
    "    df[text_field] = df[text_field].str.replace(r\"@\", \"at\")\n",
    "    df[text_field] = df[text_field].str.lower()\n",
    "    return df\n",
    "\n",
    "stoic_zen = standardize_text(stoic_zen, 'merged')"
   ]
  },
  {
   "cell_type": "code",
   "execution_count": 152,
   "metadata": {},
   "outputs": [
    {
     "data": {
      "text/plain": [
       "'/Users/emilynaftalin/Data_Science/General Assembly/dsi/projects/project_3/practice_code'"
      ]
     },
     "execution_count": 152,
     "metadata": {},
     "output_type": "execute_result"
    }
   ],
   "source": [
    "pwd"
   ]
  },
  {
   "cell_type": "code",
   "execution_count": 153,
   "metadata": {},
   "outputs": [],
   "source": [
    "# reading my cleaned dataset to a file for future use \n",
    "\n",
    "stoic_zen.to_csv('../datasets/clean_stoic_zen.csv', index=False)"
   ]
  },
  {
   "cell_type": "code",
   "execution_count": 154,
   "metadata": {},
   "outputs": [],
   "source": [
    "# logistic regression needs me to remove URLs\n",
    "\n",
    "# import re\n",
    "\n",
    "# for text in stoic_zen['merged']: \n",
    "#     text = re.sub(r'http\\S+', '', text)"
   ]
  },
  {
   "cell_type": "code",
   "execution_count": 155,
   "metadata": {},
   "outputs": [],
   "source": [
    "# stoic_zen['merged'] = stoic_zen['merged'].apply(lambda x: re.split('https:\\/\\/.*', str(x))[0])"
   ]
  },
  {
   "cell_type": "code",
   "execution_count": 156,
   "metadata": {},
   "outputs": [],
   "source": [
    "X = stoic_zen['merged']\n",
    "y = stoic_zen['label']"
   ]
  },
  {
   "cell_type": "code",
   "execution_count": 157,
   "metadata": {},
   "outputs": [],
   "source": [
    "# splitting into train and test sets\n",
    "X_train, X_test, y_train, y_test = train_test_split(X, \n",
    "                                                   y, \n",
    "                                                   test_size=0.33,\n",
    "                                                   shuffle=True,\n",
    "                                                   stratify=y,\n",
    "                                                   random_state=42)"
   ]
  },
  {
   "cell_type": "code",
   "execution_count": 158,
   "metadata": {},
   "outputs": [],
   "source": [
    "# instantiating a logistic regression model \n",
    "\n",
    "logreg = LogisticRegression()"
   ]
  },
  {
   "cell_type": "code",
   "execution_count": 159,
   "metadata": {},
   "outputs": [],
   "source": [
    "# logreg.fit(X_train, y_train)"
   ]
  },
  {
   "cell_type": "markdown",
   "metadata": {},
   "source": [
    "The above method for fitting a Logisit Regression model on my X and y train seems to not have worked. Even after having cleaned my `merged` column using the `standardize_text` function, it throws a `ValueError` related to certain lines, e.g.: \n",
    "\n",
    "```\n",
    "ValueError: could not convert string to float: 'a great song with a stoic theme     '\n",
    "```\n",
    "\n",
    "Next, I will try instead to implement a Logisitc Regression after converting my dataset using `Bag of Words` and will also do other preprocessing to investigate whether that will yield a successful result. "
   ]
  },
  {
   "cell_type": "markdown",
   "metadata": {},
   "source": [
    "## Data Inspection and Pre-Processing "
   ]
  },
  {
   "cell_type": "code",
   "execution_count": 160,
   "metadata": {},
   "outputs": [
    {
     "data": {
      "text/plain": [
       "label                                                                     1\n",
       "merged    stoicism in the lord of the rings   part 1   courage and justice \n",
       "Name: 3010, dtype: object"
      ]
     },
     "execution_count": 160,
     "metadata": {},
     "output_type": "execute_result"
    }
   ],
   "source": [
    "stoic_zen.iloc[3010]"
   ]
  },
  {
   "cell_type": "code",
   "execution_count": 161,
   "metadata": {},
   "outputs": [
    {
     "data": {
      "text/html": [
       "<div>\n",
       "<style scoped>\n",
       "    .dataframe tbody tr th:only-of-type {\n",
       "        vertical-align: middle;\n",
       "    }\n",
       "\n",
       "    .dataframe tbody tr th {\n",
       "        vertical-align: top;\n",
       "    }\n",
       "\n",
       "    .dataframe thead th {\n",
       "        text-align: right;\n",
       "    }\n",
       "</style>\n",
       "<table border=\"1\" class=\"dataframe\">\n",
       "  <thead>\n",
       "    <tr style=\"text-align: right;\">\n",
       "      <th></th>\n",
       "      <th>label</th>\n",
       "      <th>merged</th>\n",
       "    </tr>\n",
       "  </thead>\n",
       "  <tbody>\n",
       "    <tr>\n",
       "      <th>0</th>\n",
       "      <td>0</td>\n",
       "      <td>you need to fight your mind every time it tries to convince you that you are  not good enough, c...</td>\n",
       "    </tr>\n",
       "    <tr>\n",
       "      <th>1</th>\n",
       "      <td>0</td>\n",
       "      <td>a phone call creates stronger bonds than text based communications  people too often choose to s...</td>\n",
       "    </tr>\n",
       "    <tr>\n",
       "      <th>2</th>\n",
       "      <td>0</td>\n",
       "      <td>everything in your life every experience, every relationship is a mirror of the mental pattern t...</td>\n",
       "    </tr>\n",
       "    <tr>\n",
       "      <th>3</th>\n",
       "      <td>0</td>\n",
       "      <td>the parable of the mexican fisherman got me reevaluating what it means to live my best life</td>\n",
       "    </tr>\n",
       "    <tr>\n",
       "      <th>4</th>\n",
       "      <td>0</td>\n",
       "      <td>the key to success and productivity isn t to try to maximize every single minute in the day, but...</td>\n",
       "    </tr>\n",
       "  </tbody>\n",
       "</table>\n",
       "</div>"
      ],
      "text/plain": [
       "   label  \\\n",
       "0      0   \n",
       "1      0   \n",
       "2      0   \n",
       "3      0   \n",
       "4      0   \n",
       "\n",
       "                                                                                                merged  \n",
       "0  you need to fight your mind every time it tries to convince you that you are  not good enough, c...  \n",
       "1  a phone call creates stronger bonds than text based communications  people too often choose to s...  \n",
       "2  everything in your life every experience, every relationship is a mirror of the mental pattern t...  \n",
       "3         the parable of the mexican fisherman got me reevaluating what it means to live my best life   \n",
       "4  the key to success and productivity isn t to try to maximize every single minute in the day, but...  "
      ]
     },
     "execution_count": 161,
     "metadata": {},
     "output_type": "execute_result"
    }
   ],
   "source": [
    "stoic_zen.head()"
   ]
  },
  {
   "cell_type": "code",
   "execution_count": 251,
   "metadata": {},
   "outputs": [
    {
     "data": {
      "text/html": [
       "<div>\n",
       "<style scoped>\n",
       "    .dataframe tbody tr th:only-of-type {\n",
       "        vertical-align: middle;\n",
       "    }\n",
       "\n",
       "    .dataframe tbody tr th {\n",
       "        vertical-align: top;\n",
       "    }\n",
       "\n",
       "    .dataframe thead th {\n",
       "        text-align: right;\n",
       "    }\n",
       "</style>\n",
       "<table border=\"1\" class=\"dataframe\">\n",
       "  <thead>\n",
       "    <tr style=\"text-align: right;\">\n",
       "      <th></th>\n",
       "      <th>label</th>\n",
       "      <th>merged</th>\n",
       "      <th>tokens</th>\n",
       "    </tr>\n",
       "  </thead>\n",
       "  <tbody>\n",
       "    <tr>\n",
       "      <th>2990</th>\n",
       "      <td>0</td>\n",
       "      <td>sounds and musical instruments for meditation   bongos</td>\n",
       "      <td>[sounds, and, musical, instruments, for, meditation, bongos]</td>\n",
       "    </tr>\n",
       "    <tr>\n",
       "      <th>2991</th>\n",
       "      <td>0</td>\n",
       "      <td>the stoic inner citadel</td>\n",
       "      <td>[the, stoic, inner, citadel]</td>\n",
       "    </tr>\n",
       "    <tr>\n",
       "      <th>2992</th>\n",
       "      <td>0</td>\n",
       "      <td>think what was your mental reaction to the title word, think ?\\ntake a moment to write it down i...</td>\n",
       "      <td>[think, what, was, your, mental, reaction, to, the, title, word, think, take, a, moment, to, wri...</td>\n",
       "    </tr>\n",
       "    <tr>\n",
       "      <th>2993</th>\n",
       "      <td>0</td>\n",
       "      <td>the power of silence   refreshing your brain</td>\n",
       "      <td>[the, power, of, silence, refreshing, your, brain]</td>\n",
       "    </tr>\n",
       "    <tr>\n",
       "      <th>2994</th>\n",
       "      <td>0</td>\n",
       "      <td>how changing your outlook can make a huge difference!</td>\n",
       "      <td>[how, changing, your, outlook, can, make, a, huge, difference]</td>\n",
       "    </tr>\n",
       "    <tr>\n",
       "      <th>2995</th>\n",
       "      <td>1</td>\n",
       "      <td>can an emotional person practice stoic philosophy?</td>\n",
       "      <td>[can, an, emotional, person, practice, stoic, philosophy]</td>\n",
       "    </tr>\n",
       "    <tr>\n",
       "      <th>2996</th>\n",
       "      <td>1</td>\n",
       "      <td>i ve recently been wanting to get into stoicism  which book should i read first?</td>\n",
       "      <td>[i, ve, recently, been, wanting, to, get, into, stoicism, which, book, should, i, read, first]</td>\n",
       "    </tr>\n",
       "    <tr>\n",
       "      <th>2997</th>\n",
       "      <td>1</td>\n",
       "      <td>if you feeling that you stuck in your practice, try traditional stoicism, where logos is vital p...</td>\n",
       "      <td>[if, you, feeling, that, you, stuck, in, your, practice, try, traditional, stoicism, where, logo...</td>\n",
       "    </tr>\n",
       "    <tr>\n",
       "      <th>2998</th>\n",
       "      <td>1</td>\n",
       "      <td>stoicism and noisy neighbors? my upstairs neighbors are driving me insane and i'm finding it ver...</td>\n",
       "      <td>[stoicism, and, noisy, neighbors, my, upstairs, neighbors, are, driving, me, insane, and, i, m, ...</td>\n",
       "    </tr>\n",
       "    <tr>\n",
       "      <th>2999</th>\n",
       "      <td>1</td>\n",
       "      <td>just listened to \"you always hurt the one you love\" by the mills brothers, and it kind of shook ...</td>\n",
       "      <td>[just, listened, to, you, always, hurt, the, one, you, love, by, the, mills, brothers, and, it, ...</td>\n",
       "    </tr>\n",
       "    <tr>\n",
       "      <th>3000</th>\n",
       "      <td>1</td>\n",
       "      <td>best reference for a beginner? i'm new to the practice and am looking for what practicing stoics...</td>\n",
       "      <td>[best, reference, for, a, beginner, i, m, new, to, the, practice, and, am, looking, for, what, p...</td>\n",
       "    </tr>\n",
       "    <tr>\n",
       "      <th>3001</th>\n",
       "      <td>1</td>\n",
       "      <td>conflict against my parents  removed</td>\n",
       "      <td>[conflict, against, my, parents, removed]</td>\n",
       "    </tr>\n",
       "    <tr>\n",
       "      <th>3002</th>\n",
       "      <td>1</td>\n",
       "      <td>what i learned from the greatest stoic in history, marcus aurelius</td>\n",
       "      <td>[what, i, learned, from, the, greatest, stoic, in, history, marcus, aurelius]</td>\n",
       "    </tr>\n",
       "    <tr>\n",
       "      <th>3003</th>\n",
       "      <td>1</td>\n",
       "      <td>can someone help me find a quote i saw on this subreddit? i saw it here earlier this year and it...</td>\n",
       "      <td>[can, someone, help, me, find, a, quote, i, saw, on, this, subreddit, i, saw, it, here, earlier,...</td>\n",
       "    </tr>\n",
       "    <tr>\n",
       "      <th>3004</th>\n",
       "      <td>1</td>\n",
       "      <td>confine yourself to the present    marcus aurelius, meditations \\n\\nwhy dwell upon the past? it...</td>\n",
       "      <td>[confine, yourself, to, the, present, marcus, aurelius, meditations, why, dwell, upon, the, past...</td>\n",
       "    </tr>\n",
       "    <tr>\n",
       "      <th>3005</th>\n",
       "      <td>1</td>\n",
       "      <td>how you would crave for them if they were not yours</td>\n",
       "      <td>[how, you, would, crave, for, them, if, they, were, not, yours]</td>\n",
       "    </tr>\n",
       "    <tr>\n",
       "      <th>3006</th>\n",
       "      <td>1</td>\n",
       "      <td>can you be stoic and a nihilist at the same time? hello \\n\\nwhen it comes to morality and the va...</td>\n",
       "      <td>[can, you, be, stoic, and, a, nihilist, at, the, same, time, hello, when, it, comes, to, moralit...</td>\n",
       "    </tr>\n",
       "    <tr>\n",
       "      <th>3007</th>\n",
       "      <td>1</td>\n",
       "      <td>holding resentments or judges  \\n\\n gt  resentment is like drinking poison and waiting for the o...</td>\n",
       "      <td>[holding, resentments, or, judges, gt, resentment, is, like, drinking, poison, and, waiting, for...</td>\n",
       "    </tr>\n",
       "    <tr>\n",
       "      <th>3008</th>\n",
       "      <td>1</td>\n",
       "      <td>stoicism in the lord of the rings   part 1   courage and justice</td>\n",
       "      <td>[stoicism, in, the, lord, of, the, rings, part, 1, courage, and, justice]</td>\n",
       "    </tr>\n",
       "    <tr>\n",
       "      <th>3009</th>\n",
       "      <td>1</td>\n",
       "      <td>what does this sentence mean  \"keep on degrading yourself, soul \" whole part  \"yes, keep on degr...</td>\n",
       "      <td>[what, does, this, sentence, mean, keep, on, degrading, yourself, soul, whole, part, yes, keep, ...</td>\n",
       "    </tr>\n",
       "  </tbody>\n",
       "</table>\n",
       "</div>"
      ],
      "text/plain": [
       "      label  \\\n",
       "2990      0   \n",
       "2991      0   \n",
       "2992      0   \n",
       "2993      0   \n",
       "2994      0   \n",
       "2995      1   \n",
       "2996      1   \n",
       "2997      1   \n",
       "2998      1   \n",
       "2999      1   \n",
       "3000      1   \n",
       "3001      1   \n",
       "3002      1   \n",
       "3003      1   \n",
       "3004      1   \n",
       "3005      1   \n",
       "3006      1   \n",
       "3007      1   \n",
       "3008      1   \n",
       "3009      1   \n",
       "\n",
       "                                                                                                   merged  \\\n",
       "2990                                              sounds and musical instruments for meditation   bongos    \n",
       "2991                                                                             the stoic inner citadel    \n",
       "2992  think what was your mental reaction to the title word, think ?\\ntake a moment to write it down i...   \n",
       "2993                                                        the power of silence   refreshing your brain    \n",
       "2994                                               how changing your outlook can make a huge difference!    \n",
       "2995                                                  can an emotional person practice stoic philosophy?    \n",
       "2996                    i ve recently been wanting to get into stoicism  which book should i read first?    \n",
       "2997  if you feeling that you stuck in your practice, try traditional stoicism, where logos is vital p...   \n",
       "2998  stoicism and noisy neighbors? my upstairs neighbors are driving me insane and i'm finding it ver...   \n",
       "2999  just listened to \"you always hurt the one you love\" by the mills brothers, and it kind of shook ...   \n",
       "3000  best reference for a beginner? i'm new to the practice and am looking for what practicing stoics...   \n",
       "3001                                                                conflict against my parents  removed    \n",
       "3002                                  what i learned from the greatest stoic in history, marcus aurelius    \n",
       "3003  can someone help me find a quote i saw on this subreddit? i saw it here earlier this year and it...   \n",
       "3004   confine yourself to the present    marcus aurelius, meditations \\n\\nwhy dwell upon the past? it...   \n",
       "3005                                                how you would crave for them if they were not yours     \n",
       "3006  can you be stoic and a nihilist at the same time? hello \\n\\nwhen it comes to morality and the va...   \n",
       "3007  holding resentments or judges  \\n\\n gt  resentment is like drinking poison and waiting for the o...   \n",
       "3008                                    stoicism in the lord of the rings   part 1   courage and justice    \n",
       "3009  what does this sentence mean  \"keep on degrading yourself, soul \" whole part  \"yes, keep on degr...   \n",
       "\n",
       "                                                                                                   tokens  \n",
       "2990                                         [sounds, and, musical, instruments, for, meditation, bongos]  \n",
       "2991                                                                         [the, stoic, inner, citadel]  \n",
       "2992  [think, what, was, your, mental, reaction, to, the, title, word, think, take, a, moment, to, wri...  \n",
       "2993                                                   [the, power, of, silence, refreshing, your, brain]  \n",
       "2994                                       [how, changing, your, outlook, can, make, a, huge, difference]  \n",
       "2995                                            [can, an, emotional, person, practice, stoic, philosophy]  \n",
       "2996       [i, ve, recently, been, wanting, to, get, into, stoicism, which, book, should, i, read, first]  \n",
       "2997  [if, you, feeling, that, you, stuck, in, your, practice, try, traditional, stoicism, where, logo...  \n",
       "2998  [stoicism, and, noisy, neighbors, my, upstairs, neighbors, are, driving, me, insane, and, i, m, ...  \n",
       "2999  [just, listened, to, you, always, hurt, the, one, you, love, by, the, mills, brothers, and, it, ...  \n",
       "3000  [best, reference, for, a, beginner, i, m, new, to, the, practice, and, am, looking, for, what, p...  \n",
       "3001                                                            [conflict, against, my, parents, removed]  \n",
       "3002                        [what, i, learned, from, the, greatest, stoic, in, history, marcus, aurelius]  \n",
       "3003  [can, someone, help, me, find, a, quote, i, saw, on, this, subreddit, i, saw, it, here, earlier,...  \n",
       "3004  [confine, yourself, to, the, present, marcus, aurelius, meditations, why, dwell, upon, the, past...  \n",
       "3005                                      [how, you, would, crave, for, them, if, they, were, not, yours]  \n",
       "3006  [can, you, be, stoic, and, a, nihilist, at, the, same, time, hello, when, it, comes, to, moralit...  \n",
       "3007  [holding, resentments, or, judges, gt, resentment, is, like, drinking, poison, and, waiting, for...  \n",
       "3008                            [stoicism, in, the, lord, of, the, rings, part, 1, courage, and, justice]  \n",
       "3009  [what, does, this, sentence, mean, keep, on, degrading, yourself, soul, whole, part, yes, keep, ...  "
      ]
     },
     "execution_count": 251,
     "metadata": {},
     "output_type": "execute_result"
    }
   ],
   "source": [
    "stoic_zen[2990:3010]"
   ]
  },
  {
   "cell_type": "code",
   "execution_count": 162,
   "metadata": {},
   "outputs": [
    {
     "data": {
      "text/html": [
       "<div>\n",
       "<style scoped>\n",
       "    .dataframe tbody tr th:only-of-type {\n",
       "        vertical-align: middle;\n",
       "    }\n",
       "\n",
       "    .dataframe tbody tr th {\n",
       "        vertical-align: top;\n",
       "    }\n",
       "\n",
       "    .dataframe thead th {\n",
       "        text-align: right;\n",
       "    }\n",
       "</style>\n",
       "<table border=\"1\" class=\"dataframe\">\n",
       "  <thead>\n",
       "    <tr style=\"text-align: right;\">\n",
       "      <th></th>\n",
       "      <th>merged</th>\n",
       "    </tr>\n",
       "    <tr>\n",
       "      <th>label</th>\n",
       "      <th></th>\n",
       "    </tr>\n",
       "  </thead>\n",
       "  <tbody>\n",
       "    <tr>\n",
       "      <th>0</th>\n",
       "      <td>2997</td>\n",
       "    </tr>\n",
       "    <tr>\n",
       "      <th>1</th>\n",
       "      <td>2998</td>\n",
       "    </tr>\n",
       "  </tbody>\n",
       "</table>\n",
       "</div>"
      ],
      "text/plain": [
       "       merged\n",
       "label        \n",
       "0        2997\n",
       "1        2998"
      ]
     },
     "execution_count": 162,
     "metadata": {},
     "output_type": "execute_result"
    }
   ],
   "source": [
    "# looking at class balance again \n",
    "\n",
    "stoic_zen.groupby('label').count()"
   ]
  },
  {
   "cell_type": "markdown",
   "metadata": {},
   "source": [
    "Our classes are nice and balanced! "
   ]
  },
  {
   "cell_type": "code",
   "execution_count": 163,
   "metadata": {},
   "outputs": [],
   "source": [
    "from nltk.tokenize import RegexpTokenizer\n",
    "\n",
    "tokenizer = RegexpTokenizer(r'\\w+')"
   ]
  },
  {
   "cell_type": "code",
   "execution_count": 164,
   "metadata": {},
   "outputs": [
    {
     "data": {
      "text/html": [
       "<div>\n",
       "<style scoped>\n",
       "    .dataframe tbody tr th:only-of-type {\n",
       "        vertical-align: middle;\n",
       "    }\n",
       "\n",
       "    .dataframe tbody tr th {\n",
       "        vertical-align: top;\n",
       "    }\n",
       "\n",
       "    .dataframe thead th {\n",
       "        text-align: right;\n",
       "    }\n",
       "</style>\n",
       "<table border=\"1\" class=\"dataframe\">\n",
       "  <thead>\n",
       "    <tr style=\"text-align: right;\">\n",
       "      <th></th>\n",
       "      <th>label</th>\n",
       "      <th>merged</th>\n",
       "      <th>tokens</th>\n",
       "    </tr>\n",
       "  </thead>\n",
       "  <tbody>\n",
       "    <tr>\n",
       "      <th>0</th>\n",
       "      <td>0</td>\n",
       "      <td>you need to fight your mind every time it tries to convince you that you are  not good enough, c...</td>\n",
       "      <td>[you, need, to, fight, your, mind, every, time, it, tries, to, convince, you, that, you, are, no...</td>\n",
       "    </tr>\n",
       "    <tr>\n",
       "      <th>1</th>\n",
       "      <td>0</td>\n",
       "      <td>a phone call creates stronger bonds than text based communications  people too often choose to s...</td>\n",
       "      <td>[a, phone, call, creates, stronger, bonds, than, text, based, communications, people, too, often...</td>\n",
       "    </tr>\n",
       "    <tr>\n",
       "      <th>2</th>\n",
       "      <td>0</td>\n",
       "      <td>everything in your life every experience, every relationship is a mirror of the mental pattern t...</td>\n",
       "      <td>[everything, in, your, life, every, experience, every, relationship, is, a, mirror, of, the, men...</td>\n",
       "    </tr>\n",
       "    <tr>\n",
       "      <th>3</th>\n",
       "      <td>0</td>\n",
       "      <td>the parable of the mexican fisherman got me reevaluating what it means to live my best life</td>\n",
       "      <td>[the, parable, of, the, mexican, fisherman, got, me, reevaluating, what, it, means, to, live, my...</td>\n",
       "    </tr>\n",
       "    <tr>\n",
       "      <th>4</th>\n",
       "      <td>0</td>\n",
       "      <td>the key to success and productivity isn t to try to maximize every single minute in the day, but...</td>\n",
       "      <td>[the, key, to, success, and, productivity, isn, t, to, try, to, maximize, every, single, minute,...</td>\n",
       "    </tr>\n",
       "  </tbody>\n",
       "</table>\n",
       "</div>"
      ],
      "text/plain": [
       "   label  \\\n",
       "0      0   \n",
       "1      0   \n",
       "2      0   \n",
       "3      0   \n",
       "4      0   \n",
       "\n",
       "                                                                                                merged  \\\n",
       "0  you need to fight your mind every time it tries to convince you that you are  not good enough, c...   \n",
       "1  a phone call creates stronger bonds than text based communications  people too often choose to s...   \n",
       "2  everything in your life every experience, every relationship is a mirror of the mental pattern t...   \n",
       "3         the parable of the mexican fisherman got me reevaluating what it means to live my best life    \n",
       "4  the key to success and productivity isn t to try to maximize every single minute in the day, but...   \n",
       "\n",
       "                                                                                                tokens  \n",
       "0  [you, need, to, fight, your, mind, every, time, it, tries, to, convince, you, that, you, are, no...  \n",
       "1  [a, phone, call, creates, stronger, bonds, than, text, based, communications, people, too, often...  \n",
       "2  [everything, in, your, life, every, experience, every, relationship, is, a, mirror, of, the, men...  \n",
       "3  [the, parable, of, the, mexican, fisherman, got, me, reevaluating, what, it, means, to, live, my...  \n",
       "4  [the, key, to, success, and, productivity, isn, t, to, try, to, maximize, every, single, minute,...  "
      ]
     },
     "execution_count": 164,
     "metadata": {},
     "output_type": "execute_result"
    }
   ],
   "source": [
    "# tokenizing sentence to list of separate words \n",
    "\n",
    "stoic_zen['tokens'] = stoic_zen['merged'].apply(tokenizer.tokenize)\n",
    "stoic_zen.head()"
   ]
  },
  {
   "cell_type": "code",
   "execution_count": 165,
   "metadata": {},
   "outputs": [
    {
     "data": {
      "text/plain": [
       "100"
      ]
     },
     "execution_count": 165,
     "metadata": {},
     "output_type": "execute_result"
    }
   ],
   "source": [
    "pd.options.display.max_colwidth"
   ]
  },
  {
   "cell_type": "code",
   "execution_count": 166,
   "metadata": {},
   "outputs": [],
   "source": [
    "pd.options.display.max_colwidth = 100"
   ]
  },
  {
   "cell_type": "code",
   "execution_count": 167,
   "metadata": {},
   "outputs": [
    {
     "data": {
      "text/html": [
       "<div>\n",
       "<style scoped>\n",
       "    .dataframe tbody tr th:only-of-type {\n",
       "        vertical-align: middle;\n",
       "    }\n",
       "\n",
       "    .dataframe tbody tr th {\n",
       "        vertical-align: top;\n",
       "    }\n",
       "\n",
       "    .dataframe thead th {\n",
       "        text-align: right;\n",
       "    }\n",
       "</style>\n",
       "<table border=\"1\" class=\"dataframe\">\n",
       "  <thead>\n",
       "    <tr style=\"text-align: right;\">\n",
       "      <th></th>\n",
       "      <th>label</th>\n",
       "      <th>merged</th>\n",
       "      <th>tokens</th>\n",
       "    </tr>\n",
       "  </thead>\n",
       "  <tbody>\n",
       "    <tr>\n",
       "      <th>0</th>\n",
       "      <td>0</td>\n",
       "      <td>you need to fight your mind every time it tries to convince you that you are  not good enough, c...</td>\n",
       "      <td>[you, need, to, fight, your, mind, every, time, it, tries, to, convince, you, that, you, are, no...</td>\n",
       "    </tr>\n",
       "    <tr>\n",
       "      <th>1</th>\n",
       "      <td>0</td>\n",
       "      <td>a phone call creates stronger bonds than text based communications  people too often choose to s...</td>\n",
       "      <td>[a, phone, call, creates, stronger, bonds, than, text, based, communications, people, too, often...</td>\n",
       "    </tr>\n",
       "    <tr>\n",
       "      <th>2</th>\n",
       "      <td>0</td>\n",
       "      <td>everything in your life every experience, every relationship is a mirror of the mental pattern t...</td>\n",
       "      <td>[everything, in, your, life, every, experience, every, relationship, is, a, mirror, of, the, men...</td>\n",
       "    </tr>\n",
       "    <tr>\n",
       "      <th>3</th>\n",
       "      <td>0</td>\n",
       "      <td>the parable of the mexican fisherman got me reevaluating what it means to live my best life</td>\n",
       "      <td>[the, parable, of, the, mexican, fisherman, got, me, reevaluating, what, it, means, to, live, my...</td>\n",
       "    </tr>\n",
       "    <tr>\n",
       "      <th>4</th>\n",
       "      <td>0</td>\n",
       "      <td>the key to success and productivity isn t to try to maximize every single minute in the day, but...</td>\n",
       "      <td>[the, key, to, success, and, productivity, isn, t, to, try, to, maximize, every, single, minute,...</td>\n",
       "    </tr>\n",
       "  </tbody>\n",
       "</table>\n",
       "</div>"
      ],
      "text/plain": [
       "   label  \\\n",
       "0      0   \n",
       "1      0   \n",
       "2      0   \n",
       "3      0   \n",
       "4      0   \n",
       "\n",
       "                                                                                                merged  \\\n",
       "0  you need to fight your mind every time it tries to convince you that you are  not good enough, c...   \n",
       "1  a phone call creates stronger bonds than text based communications  people too often choose to s...   \n",
       "2  everything in your life every experience, every relationship is a mirror of the mental pattern t...   \n",
       "3         the parable of the mexican fisherman got me reevaluating what it means to live my best life    \n",
       "4  the key to success and productivity isn t to try to maximize every single minute in the day, but...   \n",
       "\n",
       "                                                                                                tokens  \n",
       "0  [you, need, to, fight, your, mind, every, time, it, tries, to, convince, you, that, you, are, no...  \n",
       "1  [a, phone, call, creates, stronger, bonds, than, text, based, communications, people, too, often...  \n",
       "2  [everything, in, your, life, every, experience, every, relationship, is, a, mirror, of, the, men...  \n",
       "3  [the, parable, of, the, mexican, fisherman, got, me, reevaluating, what, it, means, to, live, my...  \n",
       "4  [the, key, to, success, and, productivity, isn, t, to, try, to, maximize, every, single, minute,...  "
      ]
     },
     "execution_count": 167,
     "metadata": {},
     "output_type": "execute_result"
    }
   ],
   "source": [
    "stoic_zen.head()"
   ]
  },
  {
   "cell_type": "markdown",
   "metadata": {},
   "source": [
    "#### Inspecting distribution of post length "
   ]
  },
  {
   "cell_type": "code",
   "execution_count": 168,
   "metadata": {},
   "outputs": [
    {
     "name": "stdout",
     "output_type": "stream",
     "text": [
      "472924 words total, with a vocabulary size of 17116\n",
      "Max post length is 6401 words\n",
      "Average post length is 78.89 words\n"
     ]
    }
   ],
   "source": [
    "# code inspired by Emmanuel \n",
    "all_words = [word for tokens in stoic_zen['tokens'] for word in tokens]    # getting all the words in the posts\n",
    "post_lengths = [len(tokens) for tokens in stoic_zen['tokens']]    # getting length of the all the posts\n",
    "vocab = sorted(list(set(all_words)))    # getting the list of unique words in the corpus composed of the subreddit posts\n",
    "print(f'{len(all_words)} words total, with a vocabulary size of {len(vocab)}')\n",
    "print(f'Max post length is {max(post_lengths)} words')\n",
    "print(f'Average post length is {np.mean(post_lengths).round(2)} words')"
   ]
  },
  {
   "cell_type": "code",
   "execution_count": 169,
   "metadata": {},
   "outputs": [
    {
     "data": {
      "image/png": "[encoded data removed]",
      "text/plain": [
       "<Figure size 720x720 with 1 Axes>"
      ]
     },
     "metadata": {
      "needs_background": "light"
     },
     "output_type": "display_data"
    }
   ],
   "source": [
    "fig = plt.figure(figsize=(10,10))\n",
    "plt.xlabel('Post Length')\n",
    "plt.ylabel('Number of Posts')\n",
    "plt.hist(post_lengths, bins=100, range=[0, 1500])\n",
    "plt.show()"
   ]
  },
  {
   "cell_type": "markdown",
   "metadata": {},
   "source": [
    "**Figuring out whether I want to remove very long/very short posts.** "
   ]
  },
  {
   "cell_type": "code",
   "execution_count": 170,
   "metadata": {},
   "outputs": [
    {
     "data": {
      "text/plain": [
       "2733    6401\n",
       "5558    2169\n",
       "5254    1993\n",
       "2824    1700\n",
       "1025    1600\n",
       "3868    1552\n",
       "2715    1519\n",
       "895     1438\n",
       "5843    1423\n",
       "2977    1406\n",
       "Name: tokens, dtype: int64"
      ]
     },
     "execution_count": 170,
     "metadata": {},
     "output_type": "execute_result"
    }
   ],
   "source": [
    "# zen_posts['selftext'].map(lambda x: len(x)).nlargest(10)\n",
    "\n",
    "stoic_zen['tokens'].map(lambda x: len(x)).nlargest(10)"
   ]
  },
  {
   "cell_type": "code",
   "execution_count": 171,
   "metadata": {},
   "outputs": [
    {
     "data": {
      "text/plain": [
       "2733    6401\n",
       "5558    2169\n",
       "5254    1993\n",
       "2824    1700\n",
       "1025    1600\n",
       "3868    1552\n",
       "2715    1519\n",
       "895     1438\n",
       "5843    1423\n",
       "2977    1406\n",
       "Name: tokens, dtype: int64"
      ]
     },
     "execution_count": 171,
     "metadata": {},
     "output_type": "execute_result"
    }
   ],
   "source": [
    "stoic_zen['tokens'].map(lambda x: len(x)).nlargest(10)"
   ]
  },
  {
   "cell_type": "code",
   "execution_count": 172,
   "metadata": {},
   "outputs": [
    {
     "data": {
      "text/plain": [
       "label                                                                                                       0\n",
       "merged     who are you?    the guide to finding your true identity by popular request, this post is a foll...\n",
       "tokens    [who, are, you, the, guide, to, finding, your, true, identity, by, popular, request, this, post,...\n",
       "Name: 2733, dtype: object"
      ]
     },
     "execution_count": 172,
     "metadata": {},
     "output_type": "execute_result"
    }
   ],
   "source": [
    "stoic_zen.iloc[2733]"
   ]
  },
  {
   "cell_type": "code",
   "execution_count": 173,
   "metadata": {},
   "outputs": [
    {
     "data": {
      "text/plain": [
       "6401"
      ]
     },
     "execution_count": 173,
     "metadata": {},
     "output_type": "execute_result"
    }
   ],
   "source": [
    "len(stoic_zen['tokens'][2733])"
   ]
  },
  {
   "cell_type": "markdown",
   "metadata": {},
   "source": [
    "_I am going to remove the above post as it is three times longer than the other posts and might distort the data training because all the words come from the same person and might add unnecessary redundancy that does not reflect the entire corpus._"
   ]
  },
  {
   "cell_type": "code",
   "execution_count": 174,
   "metadata": {},
   "outputs": [],
   "source": [
    "stoic_zen.drop([2733], inplace=True)"
   ]
  },
  {
   "cell_type": "code",
   "execution_count": 175,
   "metadata": {},
   "outputs": [
    {
     "data": {
      "text/plain": [
       "3358    0\n",
       "5223    0\n",
       "39      1\n",
       "3157    1\n",
       "3214    1\n",
       "3222    1\n",
       "3228    1\n",
       "3271    1\n",
       "3544    1\n",
       "3552    1\n",
       "3648    1\n",
       "3823    1\n",
       "3873    1\n",
       "4168    1\n",
       "4223    1\n",
       "4752    1\n",
       "4922    1\n",
       "5056    1\n",
       "5761    1\n",
       "196     2\n",
       "Name: tokens, dtype: int64"
      ]
     },
     "execution_count": 175,
     "metadata": {},
     "output_type": "execute_result"
    }
   ],
   "source": [
    "# so what are the posts with the fewest words? \n",
    "\n",
    "stoic_zen['tokens'].map(lambda x: len(x)).nsmallest(20)"
   ]
  },
  {
   "cell_type": "code",
   "execution_count": 176,
   "metadata": {},
   "outputs": [
    {
     "data": {
      "text/html": [
       "<div>\n",
       "<style scoped>\n",
       "    .dataframe tbody tr th:only-of-type {\n",
       "        vertical-align: middle;\n",
       "    }\n",
       "\n",
       "    .dataframe tbody tr th {\n",
       "        vertical-align: top;\n",
       "    }\n",
       "\n",
       "    .dataframe thead th {\n",
       "        text-align: right;\n",
       "    }\n",
       "</style>\n",
       "<table border=\"1\" class=\"dataframe\">\n",
       "  <thead>\n",
       "    <tr style=\"text-align: right;\">\n",
       "      <th></th>\n",
       "      <th>label</th>\n",
       "      <th>merged</th>\n",
       "      <th>tokens</th>\n",
       "    </tr>\n",
       "  </thead>\n",
       "  <tbody>\n",
       "    <tr>\n",
       "      <th>39</th>\n",
       "      <td>0</td>\n",
       "      <td>das</td>\n",
       "      <td>[das]</td>\n",
       "    </tr>\n",
       "    <tr>\n",
       "      <th>3214</th>\n",
       "      <td>1</td>\n",
       "      <td>fact</td>\n",
       "      <td>[fact]</td>\n",
       "    </tr>\n",
       "    <tr>\n",
       "      <th>3271</th>\n",
       "      <td>1</td>\n",
       "      <td>yes</td>\n",
       "      <td>[yes]</td>\n",
       "    </tr>\n",
       "    <tr>\n",
       "      <th>3358</th>\n",
       "      <td>1</td>\n",
       "      <td></td>\n",
       "      <td>[]</td>\n",
       "    </tr>\n",
       "    <tr>\n",
       "      <th>3648</th>\n",
       "      <td>1</td>\n",
       "      <td>np</td>\n",
       "      <td>[np]</td>\n",
       "    </tr>\n",
       "    <tr>\n",
       "      <th>4752</th>\n",
       "      <td>1</td>\n",
       "      <td>rest</td>\n",
       "      <td>[rest]</td>\n",
       "    </tr>\n",
       "    <tr>\n",
       "      <th>5223</th>\n",
       "      <td>1</td>\n",
       "      <td>(</td>\n",
       "      <td>[]</td>\n",
       "    </tr>\n",
       "  </tbody>\n",
       "</table>\n",
       "</div>"
      ],
      "text/plain": [
       "      label merged  tokens\n",
       "39        0   das    [das]\n",
       "3214      1  fact   [fact]\n",
       "3271      1   yes    [yes]\n",
       "3358      1             []\n",
       "3648      1    np     [np]\n",
       "4752      1  rest   [rest]\n",
       "5223      1    (        []"
      ]
     },
     "execution_count": 176,
     "metadata": {},
     "output_type": "execute_result"
    }
   ],
   "source": [
    "stoic_zen[ stoic_zen['merged'].str.len() <= 5 ]"
   ]
  },
  {
   "cell_type": "code",
   "execution_count": 177,
   "metadata": {},
   "outputs": [
    {
     "data": {
      "text/html": [
       "<div>\n",
       "<style scoped>\n",
       "    .dataframe tbody tr th:only-of-type {\n",
       "        vertical-align: middle;\n",
       "    }\n",
       "\n",
       "    .dataframe tbody tr th {\n",
       "        vertical-align: top;\n",
       "    }\n",
       "\n",
       "    .dataframe thead th {\n",
       "        text-align: right;\n",
       "    }\n",
       "</style>\n",
       "<table border=\"1\" class=\"dataframe\">\n",
       "  <thead>\n",
       "    <tr style=\"text-align: right;\">\n",
       "      <th></th>\n",
       "      <th>label</th>\n",
       "      <th>merged</th>\n",
       "      <th>tokens</th>\n",
       "    </tr>\n",
       "  </thead>\n",
       "  <tbody>\n",
       "    <tr>\n",
       "      <th>39</th>\n",
       "      <td>0</td>\n",
       "      <td>das</td>\n",
       "      <td>[das]</td>\n",
       "    </tr>\n",
       "    <tr>\n",
       "      <th>3157</th>\n",
       "      <td>1</td>\n",
       "      <td>stoicism</td>\n",
       "      <td>[stoicism]</td>\n",
       "    </tr>\n",
       "    <tr>\n",
       "      <th>3214</th>\n",
       "      <td>1</td>\n",
       "      <td>fact</td>\n",
       "      <td>[fact]</td>\n",
       "    </tr>\n",
       "    <tr>\n",
       "      <th>3222</th>\n",
       "      <td>1</td>\n",
       "      <td>epictetus</td>\n",
       "      <td>[epictetus]</td>\n",
       "    </tr>\n",
       "    <tr>\n",
       "      <th>3271</th>\n",
       "      <td>1</td>\n",
       "      <td>yes</td>\n",
       "      <td>[yes]</td>\n",
       "    </tr>\n",
       "    <tr>\n",
       "      <th>3293</th>\n",
       "      <td>1</td>\n",
       "      <td>x post</td>\n",
       "      <td>[x, post]</td>\n",
       "    </tr>\n",
       "    <tr>\n",
       "      <th>3358</th>\n",
       "      <td>1</td>\n",
       "      <td></td>\n",
       "      <td>[]</td>\n",
       "    </tr>\n",
       "    <tr>\n",
       "      <th>3544</th>\n",
       "      <td>1</td>\n",
       "      <td>stoyc</td>\n",
       "      <td>[stoyc]</td>\n",
       "    </tr>\n",
       "    <tr>\n",
       "      <th>3552</th>\n",
       "      <td>1</td>\n",
       "      <td>church</td>\n",
       "      <td>[church]</td>\n",
       "    </tr>\n",
       "    <tr>\n",
       "      <th>3648</th>\n",
       "      <td>1</td>\n",
       "      <td>np</td>\n",
       "      <td>[np]</td>\n",
       "    </tr>\n",
       "    <tr>\n",
       "      <th>3660</th>\n",
       "      <td>1</td>\n",
       "      <td>bro stoic</td>\n",
       "      <td>[bro, stoic]</td>\n",
       "    </tr>\n",
       "    <tr>\n",
       "      <th>3696</th>\n",
       "      <td>1</td>\n",
       "      <td>lao tzu</td>\n",
       "      <td>[lao, tzu]</td>\n",
       "    </tr>\n",
       "    <tr>\n",
       "      <th>3823</th>\n",
       "      <td>1</td>\n",
       "      <td>this!</td>\n",
       "      <td>[this]</td>\n",
       "    </tr>\n",
       "    <tr>\n",
       "      <th>3873</th>\n",
       "      <td>1</td>\n",
       "      <td>power</td>\n",
       "      <td>[power]</td>\n",
       "    </tr>\n",
       "    <tr>\n",
       "      <th>3902</th>\n",
       "      <td>1</td>\n",
       "      <td>ah man</td>\n",
       "      <td>[ah, man]</td>\n",
       "    </tr>\n",
       "    <tr>\n",
       "      <th>3986</th>\n",
       "      <td>1</td>\n",
       "      <td>stoic duo</td>\n",
       "      <td>[stoic, duo]</td>\n",
       "    </tr>\n",
       "    <tr>\n",
       "      <th>4168</th>\n",
       "      <td>1</td>\n",
       "      <td>if</td>\n",
       "      <td>[if]</td>\n",
       "    </tr>\n",
       "    <tr>\n",
       "      <th>4223</th>\n",
       "      <td>1</td>\n",
       "      <td>removed</td>\n",
       "      <td>[removed]</td>\n",
       "    </tr>\n",
       "    <tr>\n",
       "      <th>4484</th>\n",
       "      <td>1</td>\n",
       "      <td>on rage</td>\n",
       "      <td>[on, rage]</td>\n",
       "    </tr>\n",
       "    <tr>\n",
       "      <th>4720</th>\n",
       "      <td>1</td>\n",
       "      <td>good read</td>\n",
       "      <td>[good, read]</td>\n",
       "    </tr>\n",
       "    <tr>\n",
       "      <th>4752</th>\n",
       "      <td>1</td>\n",
       "      <td>rest</td>\n",
       "      <td>[rest]</td>\n",
       "    </tr>\n",
       "    <tr>\n",
       "      <th>4861</th>\n",
       "      <td>1</td>\n",
       "      <td>amor fati</td>\n",
       "      <td>[amor, fati]</td>\n",
       "    </tr>\n",
       "    <tr>\n",
       "      <th>4922</th>\n",
       "      <td>1</td>\n",
       "      <td>advice</td>\n",
       "      <td>[advice]</td>\n",
       "    </tr>\n",
       "    <tr>\n",
       "      <th>5223</th>\n",
       "      <td>1</td>\n",
       "      <td>(</td>\n",
       "      <td>[]</td>\n",
       "    </tr>\n",
       "    <tr>\n",
       "      <th>5761</th>\n",
       "      <td>1</td>\n",
       "      <td>slaves</td>\n",
       "      <td>[slaves]</td>\n",
       "    </tr>\n",
       "    <tr>\n",
       "      <th>5857</th>\n",
       "      <td>1</td>\n",
       "      <td>had to</td>\n",
       "      <td>[had, to]</td>\n",
       "    </tr>\n",
       "  </tbody>\n",
       "</table>\n",
       "</div>"
      ],
      "text/plain": [
       "      label      merged        tokens\n",
       "39        0        das          [das]\n",
       "3157      1   stoicism     [stoicism]\n",
       "3214      1       fact         [fact]\n",
       "3222      1  epictetus    [epictetus]\n",
       "3271      1        yes          [yes]\n",
       "3293      1     x post      [x, post]\n",
       "3358      1                        []\n",
       "3544      1     stoyc         [stoyc]\n",
       "3552      1    church        [church]\n",
       "3648      1         np           [np]\n",
       "3660      1  bro stoic   [bro, stoic]\n",
       "3696      1    lao tzu     [lao, tzu]\n",
       "3823      1      this!         [this]\n",
       "3873      1      power        [power]\n",
       "3902      1     ah man      [ah, man]\n",
       "3986      1  stoic duo   [stoic, duo]\n",
       "4168      1      if              [if]\n",
       "4223      1    removed      [removed]\n",
       "4484      1    on rage     [on, rage]\n",
       "4720      1  good read   [good, read]\n",
       "4752      1       rest         [rest]\n",
       "4861      1  amor fati   [amor, fati]\n",
       "4922      1     advice       [advice]\n",
       "5223      1         (              []\n",
       "5761      1     slaves       [slaves]\n",
       "5857      1    had to       [had, to]"
      ]
     },
     "execution_count": 177,
     "metadata": {},
     "output_type": "execute_result"
    }
   ],
   "source": [
    "stoic_zen[ stoic_zen['merged'].str.len() <=10 ]"
   ]
  },
  {
   "cell_type": "code",
   "execution_count": 178,
   "metadata": {},
   "outputs": [],
   "source": [
    "# dropping the very short rows but not the slightly longer ones \n",
    "\n",
    "# stoic_zen.drop(stoic_zen['merged'].str.len() <=20)\n",
    "\n",
    "stoic_zen = stoic_zen[stoic_zen['merged'].str.len()>5]"
   ]
  },
  {
   "cell_type": "code",
   "execution_count": 179,
   "metadata": {},
   "outputs": [
    {
     "data": {
      "text/html": [
       "<div>\n",
       "<style scoped>\n",
       "    .dataframe tbody tr th:only-of-type {\n",
       "        vertical-align: middle;\n",
       "    }\n",
       "\n",
       "    .dataframe tbody tr th {\n",
       "        vertical-align: top;\n",
       "    }\n",
       "\n",
       "    .dataframe thead th {\n",
       "        text-align: right;\n",
       "    }\n",
       "</style>\n",
       "<table border=\"1\" class=\"dataframe\">\n",
       "  <thead>\n",
       "    <tr style=\"text-align: right;\">\n",
       "      <th></th>\n",
       "      <th>label</th>\n",
       "      <th>merged</th>\n",
       "      <th>tokens</th>\n",
       "    </tr>\n",
       "  </thead>\n",
       "  <tbody>\n",
       "  </tbody>\n",
       "</table>\n",
       "</div>"
      ],
      "text/plain": [
       "Empty DataFrame\n",
       "Columns: [label, merged, tokens]\n",
       "Index: []"
      ]
     },
     "execution_count": 179,
     "metadata": {},
     "output_type": "execute_result"
    }
   ],
   "source": [
    "stoic_zen[ stoic_zen['merged'].str.len() < 5 ]"
   ]
  },
  {
   "cell_type": "code",
   "execution_count": 180,
   "metadata": {},
   "outputs": [],
   "source": [
    "#resetting index becuase of dropped rows \n",
    "stoic_zen.reset_index(drop=True, inplace=True)"
   ]
  },
  {
   "cell_type": "code",
   "execution_count": 182,
   "metadata": {},
   "outputs": [],
   "source": [
    "# For future use, saving dataframe with tokenized column and with very long and very short posts dropped \n",
    "\n",
    "stoic_zen.to_csv('../datasets/clean_stoic_zen_tokenized.csv', index=False)"
   ]
  },
  {
   "cell_type": "code",
   "execution_count": 184,
   "metadata": {},
   "outputs": [
    {
     "data": {
      "image/png": "[encoded data removed]",
      "text/plain": [
       "<Figure size 720x720 with 1 Axes>"
      ]
     },
     "metadata": {
      "needs_background": "light"
     },
     "output_type": "display_data"
    }
   ],
   "source": [
    "# re-running histogram without outlier\n",
    "\n",
    "post_lengths = [len(tokens) for tokens in stoic_zen['tokens']]\n",
    "\n",
    "fig = plt.figure(figsize=(10,10))\n",
    "plt.xlabel('Post Length')\n",
    "plt.ylabel('Number of Posts')\n",
    "plt.hist(post_lengths, bins=100, range=[0, 400])\n",
    "plt.show()"
   ]
  },
  {
   "cell_type": "markdown",
   "metadata": {},
   "source": [
    "## Modeling"
   ]
  },
  {
   "cell_type": "markdown",
   "metadata": {},
   "source": [
    "### `CountVectorizer` "
   ]
  },
  {
   "cell_type": "markdown",
   "metadata": {},
   "source": [
    "#### Vectorizing the data"
   ]
  },
  {
   "cell_type": "code",
   "execution_count": 185,
   "metadata": {},
   "outputs": [],
   "source": [
    "# NB: turn this into a function "
   ]
  },
  {
   "cell_type": "code",
   "execution_count": 186,
   "metadata": {},
   "outputs": [],
   "source": [
    "X = stoic_zen['merged']\n",
    "y = stoic_zen['label']"
   ]
  },
  {
   "cell_type": "code",
   "execution_count": 187,
   "metadata": {},
   "outputs": [
    {
     "data": {
      "text/plain": [
       "0    0.500251\n",
       "1    0.499749\n",
       "Name: label, dtype: float64"
      ]
     },
     "execution_count": 187,
     "metadata": {},
     "output_type": "execute_result"
    }
   ],
   "source": [
    "# always check value counts for a classification problem! \n",
    "y.value_counts(normalize=True)"
   ]
  },
  {
   "cell_type": "code",
   "execution_count": 188,
   "metadata": {},
   "outputs": [],
   "source": [
    "# not scaling data right now "
   ]
  },
  {
   "cell_type": "code",
   "execution_count": 189,
   "metadata": {},
   "outputs": [],
   "source": [
    "# splitting into train and test sets\n",
    "X_train, X_test, y_train, y_test = train_test_split(X, \n",
    "                                                   y, \n",
    "                                                   test_size=0.33,\n",
    "                                                   shuffle=True,\n",
    "                                                   stratify=y,\n",
    "                                                   random_state=42)"
   ]
  },
  {
   "cell_type": "code",
   "execution_count": 190,
   "metadata": {},
   "outputs": [],
   "source": [
    "cvec = CountVectorizer(stop_words='english')\n",
    "\n",
    "cvec.fit(X_train)\n",
    "\n",
    "X_train_cvec = cvec.transform(X_train)\n",
    "X_test_cvec = cvec.transform(X_test)"
   ]
  },
  {
   "cell_type": "code",
   "execution_count": 191,
   "metadata": {},
   "outputs": [
    {
     "data": {
      "text/plain": [
       "48"
      ]
     },
     "execution_count": 191,
     "metadata": {},
     "output_type": "execute_result"
    }
   ],
   "source": [
    "import sys\n",
    "sys.getsizeof(X_train_cvec)"
   ]
  },
  {
   "cell_type": "code",
   "execution_count": 192,
   "metadata": {},
   "outputs": [],
   "source": [
    "## VISUALIZE EMBEDDINGS HERE? "
   ]
  },
  {
   "cell_type": "markdown",
   "metadata": {},
   "source": [
    "#### Fitting the Classifier"
   ]
  },
  {
   "cell_type": "code",
   "execution_count": 193,
   "metadata": {},
   "outputs": [],
   "source": [
    "lr = LogisticRegression(C=30.0, class_weight='balanced', solver='newton-cg', random_state=48)\n",
    "\n",
    "lr.fit(X_train_cvec, y_train)\n",
    "\n",
    "y_preds_cvec_lr = lr.predict(X_test_cvec)"
   ]
  },
  {
   "cell_type": "markdown",
   "metadata": {},
   "source": [
    "#### Evaluation "
   ]
  },
  {
   "cell_type": "code",
   "execution_count": 194,
   "metadata": {},
   "outputs": [
    {
     "data": {
      "text/plain": [
       "0.8699392712550608"
      ]
     },
     "execution_count": 194,
     "metadata": {},
     "output_type": "execute_result"
    }
   ],
   "source": [
    "accuracy = accuracy_score(y_test, y_preds_cvec_lr)\n",
    "accuracy"
   ]
  },
  {
   "cell_type": "code",
   "execution_count": 195,
   "metadata": {},
   "outputs": [
    {
     "data": {
      "text/plain": [
       "0.9977561705310396"
      ]
     },
     "execution_count": 195,
     "metadata": {},
     "output_type": "execute_result"
    }
   ],
   "source": [
    "lr.score(X_train_cvec, y_train)"
   ]
  },
  {
   "cell_type": "code",
   "execution_count": 196,
   "metadata": {},
   "outputs": [
    {
     "data": {
      "text/plain": [
       "0.8699392712550608"
      ]
     },
     "execution_count": 196,
     "metadata": {},
     "output_type": "execute_result"
    }
   ],
   "source": [
    "lr.score(X_test_cvec, y_test)"
   ]
  },
  {
   "cell_type": "markdown",
   "metadata": {},
   "source": [
    "**_VERY_ overfit**! \n",
    "\n",
    "`Confusion Matrix`"
   ]
  },
  {
   "cell_type": "code",
   "execution_count": 197,
   "metadata": {},
   "outputs": [
    {
     "data": {
      "image/png": "[encoded data removed]",
      "text/plain": [
       "<Figure size 432x288 with 2 Axes>"
      ]
     },
     "metadata": {
      "needs_background": "light"
     },
     "output_type": "display_data"
    }
   ],
   "source": [
    "# confusion matrix \n",
    "tn, fp, fn, tp = confusion_matrix(y_test, y_preds_cvec_lr).ravel()\n",
    "\n",
    "plot_confusion_matrix(lr, X_test_cvec, y_test, cmap=\"Blues\", values_format='d');"
   ]
  },
  {
   "cell_type": "code",
   "execution_count": 216,
   "metadata": {},
   "outputs": [],
   "source": [
    "# confusion matrix \n",
    "# cm = confusion_matrix(y_test, y_preds_cvec_lr)\n",
    "\n",
    "# plot = plot_confusion_matrix(cm, classes=['Stoicism', 'Zen'])"
   ]
  },
  {
   "cell_type": "code",
   "execution_count": 198,
   "metadata": {},
   "outputs": [
    {
     "data": {
      "text/plain": [
       "range(0, 1)"
      ]
     },
     "execution_count": 198,
     "metadata": {},
     "output_type": "execute_result"
    }
   ],
   "source": [
    "range(lr.coef_.shape[0])"
   ]
  },
  {
   "cell_type": "code",
   "execution_count": 199,
   "metadata": {},
   "outputs": [
    {
     "data": {
      "text/plain": [
       "dict_items"
      ]
     },
     "execution_count": 199,
     "metadata": {},
     "output_type": "execute_result"
    }
   ],
   "source": [
    "type(cvec.vocabulary_.items())"
   ]
  },
  {
   "cell_type": "code",
   "execution_count": 206,
   "metadata": {},
   "outputs": [],
   "source": [
    "# cvec.vocabulary_.items()"
   ]
  },
  {
   "cell_type": "code",
   "execution_count": 1,
   "metadata": {},
   "outputs": [
    {
     "ename": "NameError",
     "evalue": "name 'cvec' is not defined",
     "output_type": "error",
     "traceback": [
      "\u001b[0;31m---------------------------------------------------------------------------\u001b[0m",
      "\u001b[0;31mNameError\u001b[0m                                 Traceback (most recent call last)",
      "\u001b[0;32m<ipython-input-1-eece6d0f9725>\u001b[0m in \u001b[0;36m<module>\u001b[0;34m\u001b[0m\n\u001b[1;32m      6\u001b[0m \u001b[0;31m# classes = {}\u001b[0m\u001b[0;34m\u001b[0m\u001b[0;34m\u001b[0m\u001b[0;34m\u001b[0m\u001b[0m\n\u001b[1;32m      7\u001b[0m \u001b[0;34m\u001b[0m\u001b[0m\n\u001b[0;32m----> 8\u001b[0;31m \u001b[0mindex_to_word\u001b[0m \u001b[0;34m=\u001b[0m \u001b[0;34m{\u001b[0m\u001b[0mv\u001b[0m\u001b[0;34m:\u001b[0m\u001b[0mk\u001b[0m \u001b[0;32mfor\u001b[0m \u001b[0mk\u001b[0m\u001b[0;34m,\u001b[0m\u001b[0mv\u001b[0m \u001b[0;32min\u001b[0m \u001b[0mcvec\u001b[0m\u001b[0;34m.\u001b[0m\u001b[0mvocabulary_\u001b[0m\u001b[0;34m.\u001b[0m\u001b[0mitems\u001b[0m\u001b[0;34m(\u001b[0m\u001b[0;34m)\u001b[0m\u001b[0;34m}\u001b[0m\u001b[0;34m\u001b[0m\u001b[0;34m\u001b[0m\u001b[0m\n\u001b[0m\u001b[1;32m      9\u001b[0m \u001b[0;34m\u001b[0m\u001b[0m\n\u001b[1;32m     10\u001b[0m \u001b[0mword_importances\u001b[0m \u001b[0;34m=\u001b[0m \u001b[0;34m[\u001b[0m\u001b[0;34m(\u001b[0m\u001b[0mel\u001b[0m\u001b[0;34m,\u001b[0m \u001b[0mindex_to_word\u001b[0m\u001b[0;34m[\u001b[0m\u001b[0mi\u001b[0m\u001b[0;34m]\u001b[0m\u001b[0;34m)\u001b[0m \u001b[0;32mfor\u001b[0m \u001b[0mi\u001b[0m\u001b[0;34m,\u001b[0m \u001b[0mel\u001b[0m \u001b[0;32min\u001b[0m \u001b[0menumerate\u001b[0m\u001b[0;34m(\u001b[0m\u001b[0mnp\u001b[0m\u001b[0;34m.\u001b[0m\u001b[0mexp\u001b[0m\u001b[0;34m(\u001b[0m\u001b[0mlr\u001b[0m\u001b[0;34m.\u001b[0m\u001b[0mcoef_\u001b[0m\u001b[0;34m[\u001b[0m\u001b[0;36m0\u001b[0m\u001b[0;34m]\u001b[0m\u001b[0;34m)\u001b[0m\u001b[0;34m)\u001b[0m\u001b[0;34m]\u001b[0m\u001b[0;34m\u001b[0m\u001b[0;34m\u001b[0m\u001b[0m\n",
      "\u001b[0;31mNameError\u001b[0m: name 'cvec' is not defined"
     ]
    }
   ],
   "source": [
    "#trying to look at important features.... \n",
    "# for 0 / Zen \n",
    "\n",
    "# WHAT IS THIS DOING?? want to interpret \n",
    "\n",
    "# classes = {}\n",
    "\n",
    "index_to_word = {v:k for k,v in cvec.vocabulary_.items()}\n",
    "\n",
    "word_importances = [(el, index_to_word[i]) for i, el in enumerate(np.exp(lr.coef_[0]))] \n",
    "\n",
    "sorted_coeff = sorted(word_importances, key = lambda x : x[0], reverse=True) \n",
    "\n",
    "tops = sorted(sorted_coeff[:10], key = lambda x : x[0])\n",
    "\n",
    "bottoms = sorted_coeff[-10:]\n",
    "\n",
    "classes = {\n",
    "    'tops':tops,\n",
    "    'bottoms':bottoms\n",
    "}"
   ]
  },
  {
   "cell_type": "code",
   "execution_count": 3,
   "metadata": {},
   "outputs": [
    {
     "data": {
      "text/plain": [
       "870.6925991387423"
      ]
     },
     "execution_count": 3,
     "metadata": {},
     "output_type": "execute_result"
    }
   ],
   "source": [
    "import numpy as np\n",
    "np.exp(6.769288985900366)"
   ]
  },
  {
   "cell_type": "code",
   "execution_count": 246,
   "metadata": {},
   "outputs": [
    {
     "data": {
      "text/plain": [
       "[(4.340929883656649, 'rely'),\n",
       " (4.380940297230101, 'post'),\n",
       " (4.391491508135713, 'tuesday'),\n",
       " (4.429025813846003, 'stoics'),\n",
       " (4.5087433968595505, 'quote'),\n",
       " (5.7456543303752055, 'stoic'),\n",
       " (6.156188725299657, 'ch'),\n",
       " (6.168743737696585, 'removed'),\n",
       " (6.223797920712523, 'hadot'),\n",
       " (6.769288985900366, 'stoicism')]"
      ]
     },
     "execution_count": 246,
     "metadata": {},
     "output_type": "execute_result"
    }
   ],
   "source": [
    "tops"
   ]
  },
  {
   "cell_type": "code",
   "execution_count": 241,
   "metadata": {},
   "outputs": [
    {
     "data": {
      "text/plain": [
       "[(-3.5494524974991477, 'reasons'),\n",
       " (-3.607022901863816, 'forceful'),\n",
       " (-3.668621864573442, 'inspirational'),\n",
       " (-3.719895980519565, 'key'),\n",
       " (-3.886570871122517, 'awareness'),\n",
       " (-4.11778474344298, 'psychological'),\n",
       " (-4.168772014482434, 'worried'),\n",
       " (-4.3241456265540625, 'inside'),\n",
       " (-4.791583792709649, 'ways'),\n",
       " (-5.189691420515709, 'emotion')]"
      ]
     },
     "execution_count": 241,
     "metadata": {},
     "output_type": "execute_result"
    }
   ],
   "source": [
    "bottoms"
   ]
  },
  {
   "cell_type": "code",
   "execution_count": 248,
   "metadata": {},
   "outputs": [
    {
     "data": {
      "text/plain": [
       "array([ 2.49540307e-09,  7.34500573e-01,  2.24061338e-07, ...,\n",
       "        8.55157465e-02, -7.78959401e-01,  5.02711519e-06])"
      ]
     },
     "execution_count": 248,
     "metadata": {},
     "output_type": "execute_result"
    }
   ],
   "source": [
    "lr.coef_[0] # it's a dataframe so the [0] makes it an array I can use. These are the coefficients for each word in relation to stoicism..... \n",
    "# is this how close it is to be from class 1 ? to stoicism ???? \n",
    "# how do I explain/ know that these coefficients are associated with label 1 (ie stoicism)"
   ]
  },
  {
   "cell_type": "code",
   "execution_count": 243,
   "metadata": {},
   "outputs": [
    {
     "data": {
      "text/plain": [
       "numpy.ndarray"
      ]
     },
     "execution_count": 243,
     "metadata": {},
     "output_type": "execute_result"
    }
   ],
   "source": [
    "type(lr.coef_[0])"
   ]
  },
  {
   "cell_type": "code",
   "execution_count": 200,
   "metadata": {},
   "outputs": [
    {
     "data": {
      "text/plain": [
       "[(8.069589029292633, 'stoicism'),\n",
       " (6.301881499394842, 'hadot'),\n",
       " (6.301851169601739, 'ch'),\n",
       " (5.77894446525593, 'removed'),\n",
       " (5.504607606040226, 'stoic'),\n",
       " (4.922152165784429, 'tuesday'),\n",
       " (4.63223282300581, 'pleaser'),\n",
       " (4.531239919189177, 'stoics'),\n",
       " (4.397288436260482, 'head'),\n",
       " (4.366625391875735, 'quote')]"
      ]
     },
     "execution_count": 200,
     "metadata": {},
     "output_type": "execute_result"
    }
   ],
   "source": [
    "sorted_coeff[:10]"
   ]
  },
  {
   "cell_type": "code",
   "execution_count": 247,
   "metadata": {},
   "outputs": [
    {
     "data": {
      "text/plain": [
       "{'tops': [(4.340929883656649, 'rely'),\n",
       "  (4.380940297230101, 'post'),\n",
       "  (4.391491508135713, 'tuesday'),\n",
       "  (4.429025813846003, 'stoics'),\n",
       "  (4.5087433968595505, 'quote'),\n",
       "  (5.7456543303752055, 'stoic'),\n",
       "  (6.156188725299657, 'ch'),\n",
       "  (6.168743737696585, 'removed'),\n",
       "  (6.223797920712523, 'hadot'),\n",
       "  (6.769288985900366, 'stoicism')],\n",
       " 'bottoms': [(-3.5494524974991477, 'reasons'),\n",
       "  (-3.607022901863816, 'forceful'),\n",
       "  (-3.668621864573442, 'inspirational'),\n",
       "  (-3.719895980519565, 'key'),\n",
       "  (-3.886570871122517, 'awareness'),\n",
       "  (-4.11778474344298, 'psychological'),\n",
       "  (-4.168772014482434, 'worried'),\n",
       "  (-4.3241456265540625, 'inside'),\n",
       "  (-4.791583792709649, 'ways'),\n",
       "  (-5.189691420515709, 'emotion')]}"
      ]
     },
     "execution_count": 247,
     "metadata": {},
     "output_type": "execute_result"
    }
   ],
   "source": [
    "classes"
   ]
  },
  {
   "cell_type": "markdown",
   "metadata": {},
   "source": [
    "1 is stoic, 0 is zen "
   ]
  },
  {
   "cell_type": "code",
   "execution_count": null,
   "metadata": {},
   "outputs": [],
   "source": []
  },
  {
   "cell_type": "markdown",
   "metadata": {},
   "source": [
    "## TfidfVectorizer"
   ]
  },
  {
   "cell_type": "code",
   "execution_count": 205,
   "metadata": {},
   "outputs": [],
   "source": [
    "tfidf = TfidfVectorizer(stop_words='english', ngram_range=(1,3)) \n",
    "\n",
    "tfidf.fit(X_train) \n",
    "\n",
    "X_train_tfidf = tfidf.transform(X_train)\n",
    "X_test_tfidf = tfidf.transform(X_test)"
   ]
  },
  {
   "cell_type": "code",
   "execution_count": 206,
   "metadata": {},
   "outputs": [],
   "source": [
    "lr_tfidf = LogisticRegression(C=30.0, class_weight='balanced', solver='newton-cg', random_state=48)\n",
    "\n",
    "lr_tfidf.fit(X_train_tfidf, y_train)\n",
    "\n",
    "y_preds_tfidf_lr = lr_tfidf.predict(X_test_tfidf)"
   ]
  },
  {
   "cell_type": "code",
   "execution_count": 207,
   "metadata": {},
   "outputs": [
    {
     "data": {
      "text/plain": [
       "0.997758405977584"
      ]
     },
     "execution_count": 207,
     "metadata": {},
     "output_type": "execute_result"
    }
   ],
   "source": [
    "lr_tfidf.score(X_train_tfidf, y_train)"
   ]
  },
  {
   "cell_type": "code",
   "execution_count": 208,
   "metadata": {},
   "outputs": [
    {
     "data": {
      "text/plain": [
       "0.8918645780697322"
      ]
     },
     "execution_count": 208,
     "metadata": {},
     "output_type": "execute_result"
    }
   ],
   "source": [
    "lr_tfidf.score(X_test_tfidf, y_test)"
   ]
  },
  {
   "cell_type": "markdown",
   "metadata": {},
   "source": [
    "**_Slightly_ less overfit.**"
   ]
  },
  {
   "cell_type": "code",
   "execution_count": 209,
   "metadata": {},
   "outputs": [
    {
     "data": {
      "image/png": "[encoded data removed]",
      "text/plain": [
       "<Figure size 432x288 with 2 Axes>"
      ]
     },
     "metadata": {
      "needs_background": "light"
     },
     "output_type": "display_data"
    }
   ],
   "source": [
    "# tfidf confusion matrix \n",
    "\n",
    "tn, fp, fn, tp = confusion_matrix(y_test, y_preds_tfidf_lr).ravel()\n",
    "\n",
    "plot_confusion_matrix(lr_tfidf, X_test_tfidf, y_test, cmap=\"Blues\", values_format='d');"
   ]
  },
  {
   "cell_type": "markdown",
   "metadata": {},
   "source": [
    "### `Tf-Idf Grid Search`"
   ]
  },
  {
   "cell_type": "code",
   "execution_count": 214,
   "metadata": {},
   "outputs": [],
   "source": [
    "# tf-idf pipeline in two stages \n",
    "\n",
    "tfidf_pipe = Pipeline([\n",
    "    ('tfidf', TfidfVectorizer()),\n",
    "    ('lr', LogisticRegression())\n",
    "])"
   ]
  },
  {
   "cell_type": "code",
   "execution_count": 221,
   "metadata": {},
   "outputs": [],
   "source": [
    "pipe_params_tfidf = {\n",
    "    'tfidf__max_features':[1000, 2000, 3000, 4000, 5000],\n",
    "    'tfidf__stop_words': [None, 'english'],\n",
    "    'tfidf__ngram_range': [(1,1),(1,2),(1,3)],\n",
    "    'tfidf__min_df': [0.5, 0.75, 1],\n",
    "    'lr__C': [0.1, 1, 30.0],\n",
    "    'lr__solver': ['newton-cg', 'lbfgs']\n",
    "}\n",
    "\n",
    "# (from above): \n",
    "# lr = LogisticRegression(C=30.0, class_weight='balanced', solver='newton-cg', random_state=48)\n"
   ]
  },
  {
   "cell_type": "code",
   "execution_count": 222,
   "metadata": {},
   "outputs": [],
   "source": [
    "# gridsearch instantiation \n",
    "\n",
    "gs_tfidf_lr = GridSearchCV(tfidf_pipe,\n",
    "                          pipe_params_tfidf,\n",
    "                          cv = 5, \n",
    "                          verbose = 1,\n",
    "                          n_jobs = 8)"
   ]
  },
  {
   "cell_type": "code",
   "execution_count": 223,
   "metadata": {},
   "outputs": [
    {
     "name": "stdout",
     "output_type": "stream",
     "text": [
      "Fitting 5 folds for each of 540 candidates, totalling 2700 fits\n"
     ]
    },
    {
     "name": "stderr",
     "output_type": "stream",
     "text": [
      "/Users/emilynaftalin/opt/anaconda3/lib/python3.8/site-packages/sklearn/model_selection/_search.py:918: UserWarning: One or more of the test scores are non-finite: [0.57409714        nan 0.57409714        nan 0.57409714        nan\n",
      "        nan        nan        nan        nan        nan        nan\n",
      " 0.85853051 0.87173101 0.86849315 0.87297634 0.86724782 0.87272727\n",
      " 0.57409714        nan 0.57409714        nan 0.57409714        nan\n",
      "        nan        nan        nan        nan        nan        nan\n",
      " 0.85977584 0.87646326 0.86749689 0.87820672 0.86724782 0.87770859\n",
      " 0.57409714        nan 0.57409714        nan 0.57409714        nan\n",
      "        nan        nan        nan        nan        nan        nan\n",
      " 0.85454545 0.87596513 0.86625156 0.88019925 0.86575342 0.88044832\n",
      " 0.57409714        nan 0.57409714        nan 0.57409714        nan\n",
      "        nan        nan        nan        nan        nan        nan\n",
      " 0.85404732 0.87820672 0.86251557 0.87920299 0.86176837 0.87895392\n",
      " 0.57409714        nan 0.57409714        nan 0.57409714        nan\n",
      "        nan        nan        nan        nan        nan        nan\n",
      " 0.85529265 0.8762142  0.86176837 0.87970112 0.8607721  0.88019925\n",
      " 0.57409714        nan 0.57409714        nan 0.57409714        nan\n",
      "        nan        nan        nan        nan        nan        nan\n",
      " 0.85853051 0.87173101 0.86849315 0.87297634 0.86724782 0.87272727\n",
      " 0.57409714        nan 0.57409714        nan 0.57409714        nan\n",
      "        nan        nan        nan        nan        nan        nan\n",
      " 0.85977584 0.87646326 0.86749689 0.87820672 0.86724782 0.87770859\n",
      " 0.57409714        nan 0.57409714        nan 0.57409714        nan\n",
      "        nan        nan        nan        nan        nan        nan\n",
      " 0.85454545 0.87596513 0.86625156 0.88019925 0.86575342 0.88044832\n",
      " 0.57409714        nan 0.57409714        nan 0.57409714        nan\n",
      "        nan        nan        nan        nan        nan        nan\n",
      " 0.85404732 0.87820672 0.86251557 0.87920299 0.86176837 0.87895392\n",
      " 0.57409714        nan 0.57409714        nan 0.57409714        nan\n",
      "        nan        nan        nan        nan        nan        nan\n",
      " 0.85529265 0.8762142  0.86176837 0.87970112 0.86102117 0.88019925\n",
      " 0.57409714        nan 0.57409714        nan 0.57409714        nan\n",
      "        nan        nan        nan        nan        nan        nan\n",
      " 0.8864259  0.87721046 0.88542964 0.87646326 0.88468244 0.87671233\n",
      " 0.57409714        nan 0.57409714        nan 0.57409714        nan\n",
      "        nan        nan        nan        nan        nan        nan\n",
      " 0.88941469 0.88617684 0.88742217 0.8856787  0.88692403 0.88468244\n",
      " 0.57409714        nan 0.57409714        nan 0.57409714        nan\n",
      "        nan        nan        nan        nan        nan        nan\n",
      " 0.89165629 0.8871731  0.88891656 0.88891656 0.88891656 0.88742217\n",
      " 0.57409714        nan 0.57409714        nan 0.57409714        nan\n",
      "        nan        nan        nan        nan        nan        nan\n",
      " 0.89140722 0.88767123 0.89190535 0.88941469 0.89190535 0.88916563\n",
      " 0.57409714        nan 0.57409714        nan 0.57409714        nan\n",
      "        nan        nan        nan        nan        nan        nan\n",
      " 0.89265255 0.88767123 0.89339975 0.88991283 0.89290162 0.88916563\n",
      " 0.57409714        nan 0.57409714        nan 0.57409714        nan\n",
      "        nan        nan        nan        nan        nan        nan\n",
      " 0.8864259  0.87721046 0.88542964 0.87646326 0.88468244 0.87671233\n",
      " 0.57409714        nan 0.57409714        nan 0.57409714        nan\n",
      "        nan        nan        nan        nan        nan        nan\n",
      " 0.88941469 0.88617684 0.88742217 0.8856787  0.88692403 0.88468244\n",
      " 0.57409714        nan 0.57409714        nan 0.57409714        nan\n",
      "        nan        nan        nan        nan        nan        nan\n",
      " 0.89165629 0.8871731  0.88891656 0.88891656 0.88891656 0.88742217\n",
      " 0.57409714        nan 0.57409714        nan 0.57409714        nan\n",
      "        nan        nan        nan        nan        nan        nan\n",
      " 0.89140722 0.88767123 0.89215442 0.88941469 0.89190535 0.88916563\n",
      " 0.57409714        nan 0.57409714        nan 0.57409714        nan\n",
      "        nan        nan        nan        nan        nan        nan\n",
      " 0.89240349 0.88767123 0.89339975 0.88991283 0.89290162 0.88916563\n",
      " 0.57409714        nan 0.57409714        nan 0.57409714        nan\n",
      "        nan        nan        nan        nan        nan        nan\n",
      " 0.86600249 0.84109589 0.85927771 0.84259029 0.86102117 0.84159402\n",
      " 0.57409714        nan 0.57409714        nan 0.57409714        nan\n",
      "        nan        nan        nan        nan        nan        nan\n",
      " 0.87820672 0.85404732 0.87098381 0.85105853 0.87048568 0.85080946\n",
      " 0.57409714        nan 0.57409714        nan 0.57409714        nan\n",
      "        nan        nan        nan        nan        nan        nan\n",
      " 0.88144458 0.85653798 0.87795766 0.85828144 0.87521793 0.85778331\n",
      " 0.57409714        nan 0.57409714        nan 0.57409714        nan\n",
      "        nan        nan        nan        nan        nan        nan\n",
      " 0.88617684 0.8630137  0.88493151 0.86002491 0.88393524 0.85853051\n",
      " 0.57409714        nan 0.57409714        nan 0.57409714        nan\n",
      "        nan        nan        nan        nan        nan        nan\n",
      " 0.88468244 0.86674969 0.8871731  0.8630137  0.88742217 0.86326276\n",
      " 0.57409714        nan 0.57409714        nan 0.57409714        nan\n",
      "        nan        nan        nan        nan        nan        nan\n",
      " 0.86600249 0.84109589 0.85927771 0.84259029 0.8607721  0.84159402\n",
      " 0.57409714        nan 0.57409714        nan 0.57409714        nan\n",
      "        nan        nan        nan        nan        nan        nan\n",
      " 0.87820672 0.85404732 0.87098381 0.85105853 0.87048568 0.85080946\n",
      " 0.57409714        nan 0.57409714        nan 0.57409714        nan\n",
      "        nan        nan        nan        nan        nan        nan\n",
      " 0.88144458 0.85653798 0.87795766 0.85828144 0.87521793 0.85778331\n",
      " 0.57409714        nan 0.57409714        nan 0.57409714        nan\n",
      "        nan        nan        nan        nan        nan        nan\n",
      " 0.88617684 0.8630137  0.88493151 0.86002491 0.88393524 0.85853051\n",
      " 0.57409714        nan 0.57409714        nan 0.57409714        nan\n",
      "        nan        nan        nan        nan        nan        nan\n",
      " 0.88468244 0.86674969 0.8871731  0.8630137  0.88742217 0.86326276]\n",
      "  warnings.warn(\n"
     ]
    },
    {
     "data": {
      "text/plain": [
       "GridSearchCV(cv=5,\n",
       "             estimator=Pipeline(steps=[('tfidf', TfidfVectorizer()),\n",
       "                                       ('lr', LogisticRegression())]),\n",
       "             n_jobs=8,\n",
       "             param_grid={'lr__C': [0.1, 1, 30.0],\n",
       "                         'lr__solver': ['newton-cg', 'lbfgs'],\n",
       "                         'tfidf__max_features': [1000, 2000, 3000, 4000, 5000],\n",
       "                         'tfidf__min_df': [0.5, 0.75, 1],\n",
       "                         'tfidf__ngram_range': [(1, 1), (1, 2), (1, 3)],\n",
       "                         'tfidf__stop_words': [None, 'english']},\n",
       "             verbose=1)"
      ]
     },
     "execution_count": 223,
     "metadata": {},
     "output_type": "execute_result"
    }
   ],
   "source": [
    "gs_tfidf_lr.fit(X_train, y_train)"
   ]
  },
  {
   "cell_type": "code",
   "execution_count": 224,
   "metadata": {},
   "outputs": [
    {
     "data": {
      "text/plain": [
       "{'lr__C': 1,\n",
       " 'lr__solver': 'newton-cg',\n",
       " 'tfidf__max_features': 5000,\n",
       " 'tfidf__min_df': 1,\n",
       " 'tfidf__ngram_range': (1, 2),\n",
       " 'tfidf__stop_words': None}"
      ]
     },
     "execution_count": 224,
     "metadata": {},
     "output_type": "execute_result"
    }
   ],
   "source": [
    "gs_tfidf_lr.best_params_"
   ]
  },
  {
   "cell_type": "code",
   "execution_count": 225,
   "metadata": {},
   "outputs": [
    {
     "data": {
      "text/plain": [
       "0.8933997509339975"
      ]
     },
     "execution_count": 225,
     "metadata": {},
     "output_type": "execute_result"
    }
   ],
   "source": [
    "gs_tfidf_lr.best_score_"
   ]
  },
  {
   "cell_type": "code",
   "execution_count": 226,
   "metadata": {},
   "outputs": [
    {
     "data": {
      "text/plain": [
       "0.936986301369863"
      ]
     },
     "execution_count": 226,
     "metadata": {},
     "output_type": "execute_result"
    }
   ],
   "source": [
    "gs_tfidf_lr.score(X_train, y_train)"
   ]
  },
  {
   "cell_type": "code",
   "execution_count": 227,
   "metadata": {},
   "outputs": [
    {
     "data": {
      "text/plain": [
       "0.8969176351692774"
      ]
     },
     "execution_count": 227,
     "metadata": {},
     "output_type": "execute_result"
    }
   ],
   "source": [
    "gs_tfidf_lr.score(X_test, y_test)"
   ]
  },
  {
   "cell_type": "code",
   "execution_count": 228,
   "metadata": {},
   "outputs": [],
   "source": [
    "# predictions of tfidf logistic regression gridsearch \n",
    "\n",
    "gs_tfidf_preds = gs_tfidf_lr.predict(X_test)"
   ]
  },
  {
   "cell_type": "code",
   "execution_count": 232,
   "metadata": {},
   "outputs": [
    {
     "data": {
      "text/plain": [
       "<sklearn.metrics._plot.confusion_matrix.ConfusionMatrixDisplay at 0x7fe9899bcf40>"
      ]
     },
     "execution_count": 232,
     "metadata": {},
     "output_type": "execute_result"
    },
    {
     "data": {
      "image/png": "[encoded data removed]",
      "text/plain": [
       "<Figure size 432x288 with 2 Axes>"
      ]
     },
     "metadata": {
      "needs_background": "light"
     },
     "output_type": "display_data"
    }
   ],
   "source": [
    "\n",
    "# confusion matrix \n",
    "\n",
    "tn, fp, fn, tp = confusion_matrix(y_test, gs_tfidf_preds).ravel()\n",
    "\n",
    "plot_confusion_matrix(gs_tfidf_lr, X_test, y_test, cmap=\"Blues\")"
   ]
  },
  {
   "cell_type": "code",
   "execution_count": 234,
   "metadata": {},
   "outputs": [
    {
     "data": {
      "text/plain": [
       "label                                                                                          0\n",
       "merged                how to fight anxiety   the end of the most nebulous diseases of our times \n",
       "tokens    [how, to, fight, anxiety, the, end, of, the, most, nebulous, diseases, of, our, times]\n",
       "Name: 100, dtype: object"
      ]
     },
     "execution_count": 234,
     "metadata": {},
     "output_type": "execute_result"
    }
   ],
   "source": [
    "stoic_zen.iloc[100]"
   ]
  },
  {
   "cell_type": "code",
   "execution_count": 240,
   "metadata": {},
   "outputs": [
    {
     "data": {
      "text/plain": [
       "label                                                                                                       0\n",
       "merged    i m going to control what i can and i m not going to lose peace of mind over what i can t  relea...\n",
       "tokens    [i, m, going, to, control, what, i, can, and, i, m, not, going, to, lose, peace, of, mind, over,...\n",
       "Name: 199, dtype: object"
      ]
     },
     "execution_count": 240,
     "metadata": {},
     "output_type": "execute_result"
    }
   ],
   "source": [
    "stoic_zen.iloc[199]"
   ]
  },
  {
   "cell_type": "code",
   "execution_count": null,
   "metadata": {},
   "outputs": [],
   "source": []
  }
 ],
 "metadata": {
  "kernelspec": {
   "display_name": "Python 3",
   "language": "python",
   "name": "python3"
  },
  "language_info": {
   "codemirror_mode": {
    "name": "ipython",
    "version": 3
   },
   "file_extension": ".py",
   "mimetype": "text/x-python",
   "name": "python",
   "nbconvert_exporter": "python",
   "pygments_lexer": "ipython3",
   "version": "3.8.5"
  }
 },
 "nbformat": 4,
 "nbformat_minor": 4
}
