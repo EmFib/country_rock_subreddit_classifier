{
 "cells": [
  {
   "cell_type": "code",
   "execution_count": 89,
   "metadata": {},
   "outputs": [],
   "source": [
    "import numpy as np\n",
    "import requests\n",
    "import pandas as pd\n",
    "import time"
   ]
  },
  {
   "cell_type": "markdown",
   "metadata": {},
   "source": [
    "## When using PushShift.io, read the documentation and set your variables accordingly.¶"
   ]
  },
  {
   "cell_type": "markdown",
   "metadata": {},
   "source": [
    "#### 1. Get 25 recent submissions from the /r/DataIsBeautiful subreddit"
   ]
  },
  {
   "cell_type": "code",
   "execution_count": 51,
   "metadata": {},
   "outputs": [],
   "source": [
    "# pushshift params\n",
    "params = {\n",
    "    \"subreddit\" : 'dataisbeautiful',\n",
    "    \"size\" : 1000,\n",
    "}"
   ]
  },
  {
   "cell_type": "code",
   "execution_count": 99,
   "metadata": {},
   "outputs": [],
   "source": [
    "post_url = 'https://api.pushshift.io/reddit/submission/search'"
   ]
  },
  {
   "cell_type": "code",
   "execution_count": 53,
   "metadata": {},
   "outputs": [],
   "source": [
    "# Usual requests.get method\n",
    "\n",
    "res = requests.get(post_url, params)"
   ]
  },
  {
   "cell_type": "code",
   "execution_count": 55,
   "metadata": {},
   "outputs": [
    {
     "data": {
      "text/plain": [
       "200"
      ]
     },
     "execution_count": 55,
     "metadata": {},
     "output_type": "execute_result"
    }
   ],
   "source": [
    "res.status_code"
   ]
  },
  {
   "cell_type": "code",
   "execution_count": 56,
   "metadata": {},
   "outputs": [
    {
     "data": {
      "text/plain": [
       "dict_keys(['data'])"
      ]
     },
     "execution_count": 56,
     "metadata": {},
     "output_type": "execute_result"
    }
   ],
   "source": [
    "res.json().keys()"
   ]
  },
  {
   "cell_type": "code",
   "execution_count": 57,
   "metadata": {},
   "outputs": [
    {
     "data": {
      "text/plain": [
       "(100, 76)"
      ]
     },
     "execution_count": 57,
     "metadata": {},
     "output_type": "execute_result"
    }
   ],
   "source": [
    "pd.DataFrame(res.json()['data']).shape"
   ]
  },
  {
   "cell_type": "code",
   "execution_count": 61,
   "metadata": {},
   "outputs": [
    {
     "name": "stdout",
     "output_type": "stream",
     "text": [
      "<class 'pandas.core.frame.DataFrame'>\n",
      "RangeIndex: 25 entries, 0 to 24\n",
      "Data columns (total 4 columns):\n",
      " #   Column       Non-Null Count  Dtype \n",
      "---  ------       --------------  ----- \n",
      " 0   title        25 non-null     object\n",
      " 1   selftext     25 non-null     object\n",
      " 2   score        25 non-null     int64 \n",
      " 3   created_utc  25 non-null     int64 \n",
      "dtypes: int64(2), object(2)\n",
      "memory usage: 928.0+ bytes\n"
     ]
    }
   ],
   "source": [
    "posts_df.info()"
   ]
  },
  {
   "cell_type": "code",
   "execution_count": 62,
   "metadata": {},
   "outputs": [],
   "source": [
    "# res.json()['data'][0]"
   ]
  },
  {
   "cell_type": "code",
   "execution_count": 63,
   "metadata": {},
   "outputs": [],
   "source": [
    "# pd.DataFrame(res.json()['data'])"
   ]
  },
  {
   "cell_type": "code",
   "execution_count": 67,
   "metadata": {},
   "outputs": [],
   "source": [
    "# control flow for above \n",
    "\n",
    "res = requests.get(post_url, params)\n",
    "\n",
    "if res.status_code == 200:\n",
    "    posts_df = pd.DataFrame(res.json()['data'])\n",
    "else:\n",
    "    print(res.status_code)"
   ]
  },
  {
   "cell_type": "code",
   "execution_count": 68,
   "metadata": {},
   "outputs": [
    {
     "name": "stdout",
     "output_type": "stream",
     "text": [
      "<class 'pandas.core.frame.DataFrame'>\n",
      "RangeIndex: 100 entries, 0 to 99\n",
      "Data columns (total 76 columns):\n",
      " #   Column                         Non-Null Count  Dtype  \n",
      "---  ------                         --------------  -----  \n",
      " 0   all_awardings                  100 non-null    object \n",
      " 1   allow_live_comments            100 non-null    bool   \n",
      " 2   author                         100 non-null    object \n",
      " 3   author_flair_css_class         23 non-null     object \n",
      " 4   author_flair_richtext          100 non-null    object \n",
      " 5   author_flair_text              23 non-null     object \n",
      " 6   author_flair_type              100 non-null    object \n",
      " 7   author_fullname                100 non-null    object \n",
      " 8   author_patreon_flair           100 non-null    bool   \n",
      " 9   author_premium                 100 non-null    bool   \n",
      " 10  awarders                       100 non-null    object \n",
      " 11  can_mod_post                   100 non-null    bool   \n",
      " 12  contest_mode                   100 non-null    bool   \n",
      " 13  created_utc                    100 non-null    int64  \n",
      " 14  domain                         100 non-null    object \n",
      " 15  full_link                      100 non-null    object \n",
      " 16  gildings                       100 non-null    object \n",
      " 17  id                             100 non-null    object \n",
      " 18  is_crosspostable               100 non-null    bool   \n",
      " 19  is_meta                        100 non-null    bool   \n",
      " 20  is_original_content            100 non-null    bool   \n",
      " 21  is_reddit_media_domain         100 non-null    bool   \n",
      " 22  is_robot_indexable             100 non-null    bool   \n",
      " 23  is_self                        100 non-null    bool   \n",
      " 24  is_video                       100 non-null    bool   \n",
      " 25  link_flair_background_color    100 non-null    object \n",
      " 26  link_flair_richtext            100 non-null    object \n",
      " 27  link_flair_text_color          100 non-null    object \n",
      " 28  link_flair_type                100 non-null    object \n",
      " 29  locked                         100 non-null    bool   \n",
      " 30  media_only                     100 non-null    bool   \n",
      " 31  no_follow                      100 non-null    bool   \n",
      " 32  num_comments                   100 non-null    int64  \n",
      " 33  num_crossposts                 100 non-null    int64  \n",
      " 34  over_18                        100 non-null    bool   \n",
      " 35  parent_whitelist_status        100 non-null    object \n",
      " 36  permalink                      100 non-null    object \n",
      " 37  pinned                         100 non-null    bool   \n",
      " 38  post_hint                      85 non-null     object \n",
      " 39  preview                        85 non-null     object \n",
      " 40  pwls                           100 non-null    int64  \n",
      " 41  removed_by_category            38 non-null     object \n",
      " 42  retrieved_on                   100 non-null    int64  \n",
      " 43  score                          100 non-null    int64  \n",
      " 44  selftext                       100 non-null    object \n",
      " 45  send_replies                   100 non-null    bool   \n",
      " 46  spoiler                        100 non-null    bool   \n",
      " 47  stickied                       100 non-null    bool   \n",
      " 48  subreddit                      100 non-null    object \n",
      " 49  subreddit_id                   100 non-null    object \n",
      " 50  subreddit_subscribers          100 non-null    int64  \n",
      " 51  subreddit_type                 100 non-null    object \n",
      " 52  thumbnail                      100 non-null    object \n",
      " 53  thumbnail_height               92 non-null     float64\n",
      " 54  thumbnail_width                92 non-null     float64\n",
      " 55  title                          100 non-null    object \n",
      " 56  total_awards_received          100 non-null    int64  \n",
      " 57  treatment_tags                 100 non-null    object \n",
      " 58  upvote_ratio                   100 non-null    float64\n",
      " 59  url                            100 non-null    object \n",
      " 60  url_overridden_by_dest         99 non-null     object \n",
      " 61  whitelist_status               100 non-null    object \n",
      " 62  wls                            100 non-null    int64  \n",
      " 63  author_flair_template_id       19 non-null     object \n",
      " 64  author_flair_text_color        23 non-null     object \n",
      " 65  link_flair_css_class           43 non-null     object \n",
      " 66  link_flair_text                43 non-null     object \n",
      " 67  media                          6 non-null      object \n",
      " 68  media_embed                    6 non-null      object \n",
      " 69  secure_media                   6 non-null      object \n",
      " 70  secure_media_embed             6 non-null      object \n",
      " 71  author_flair_background_color  4 non-null      object \n",
      " 72  gallery_data                   6 non-null      object \n",
      " 73  is_gallery                     7 non-null      object \n",
      " 74  media_metadata                 6 non-null      object \n",
      " 75  author_cakeday                 1 non-null      object \n",
      "dtypes: bool(20), float64(3), int64(9), object(44)\n",
      "memory usage: 45.8+ KB\n"
     ]
    }
   ],
   "source": [
    "posts_df.info()"
   ]
  },
  {
   "cell_type": "code",
   "execution_count": 69,
   "metadata": {},
   "outputs": [],
   "source": [
    "posts_df = posts_df[['title', 'selftext', 'score', 'created_utc']]"
   ]
  },
  {
   "cell_type": "code",
   "execution_count": 70,
   "metadata": {},
   "outputs": [
    {
     "data": {
      "text/html": [
       "<div>\n",
       "<style scoped>\n",
       "    .dataframe tbody tr th:only-of-type {\n",
       "        vertical-align: middle;\n",
       "    }\n",
       "\n",
       "    .dataframe tbody tr th {\n",
       "        vertical-align: top;\n",
       "    }\n",
       "\n",
       "    .dataframe thead th {\n",
       "        text-align: right;\n",
       "    }\n",
       "</style>\n",
       "<table border=\"1\" class=\"dataframe\">\n",
       "  <thead>\n",
       "    <tr style=\"text-align: right;\">\n",
       "      <th></th>\n",
       "      <th>title</th>\n",
       "      <th>selftext</th>\n",
       "      <th>score</th>\n",
       "      <th>created_utc</th>\n",
       "    </tr>\n",
       "  </thead>\n",
       "  <tbody>\n",
       "    <tr>\n",
       "      <th>0</th>\n",
       "      <td>همه چیز در باره ی ریمل سی سی (mascara c c )</td>\n",
       "      <td></td>\n",
       "      <td>1</td>\n",
       "      <td>1608653174</td>\n",
       "    </tr>\n",
       "    <tr>\n",
       "      <th>1</th>\n",
       "      <td>Mumbai club raid: Suresh Raina, Guru Randhawa,...</td>\n",
       "      <td></td>\n",
       "      <td>1</td>\n",
       "      <td>1608653123</td>\n",
       "    </tr>\n",
       "    <tr>\n",
       "      <th>2</th>\n",
       "      <td>A visualization I made showing which companies...</td>\n",
       "      <td></td>\n",
       "      <td>1</td>\n",
       "      <td>1608653112</td>\n",
       "    </tr>\n",
       "    <tr>\n",
       "      <th>3</th>\n",
       "      <td>[OC] Tracking My VA Disability Process (after ...</td>\n",
       "      <td></td>\n",
       "      <td>1</td>\n",
       "      <td>1608652451</td>\n",
       "    </tr>\n",
       "    <tr>\n",
       "      <th>4</th>\n",
       "      <td>My VA Disability Appeal Tracking(after 12 year...</td>\n",
       "      <td></td>\n",
       "      <td>1</td>\n",
       "      <td>1608652131</td>\n",
       "    </tr>\n",
       "  </tbody>\n",
       "</table>\n",
       "</div>"
      ],
      "text/plain": [
       "                                               title selftext  score  \\\n",
       "0        همه چیز در باره ی ریمل سی سی (mascara c c )               1   \n",
       "1  Mumbai club raid: Suresh Raina, Guru Randhawa,...               1   \n",
       "2  A visualization I made showing which companies...               1   \n",
       "3  [OC] Tracking My VA Disability Process (after ...               1   \n",
       "4  My VA Disability Appeal Tracking(after 12 year...               1   \n",
       "\n",
       "   created_utc  \n",
       "0   1608653174  \n",
       "1   1608653123  \n",
       "2   1608653112  \n",
       "3   1608652451  \n",
       "4   1608652131  "
      ]
     },
     "execution_count": 70,
     "metadata": {},
     "output_type": "execute_result"
    }
   ],
   "source": [
    "posts_df.head()"
   ]
  },
  {
   "cell_type": "code",
   "execution_count": 71,
   "metadata": {},
   "outputs": [],
   "source": [
    "comment_url = 'https://api.pushshift.io/reddit/comment/search'"
   ]
  },
  {
   "cell_type": "code",
   "execution_count": 72,
   "metadata": {},
   "outputs": [],
   "source": [
    "# same as above, but for comments\n",
    "\n",
    "res = requests.get(comment_url, params)\n",
    "\n",
    "if res.status_code == 200:\n",
    "    comments_df = pd.DataFrame(res.json()['data'])\n",
    "else:\n",
    "    print(res.status_code)"
   ]
  },
  {
   "cell_type": "code",
   "execution_count": 73,
   "metadata": {},
   "outputs": [
    {
     "name": "stdout",
     "output_type": "stream",
     "text": [
      "<class 'pandas.core.frame.DataFrame'>\n",
      "RangeIndex: 100 entries, 0 to 99\n",
      "Data columns (total 36 columns):\n",
      " #   Column                           Non-Null Count  Dtype \n",
      "---  ------                           --------------  ----- \n",
      " 0   all_awardings                    100 non-null    object\n",
      " 1   associated_award                 0 non-null      object\n",
      " 2   author                           100 non-null    object\n",
      " 3   author_flair_background_color    6 non-null      object\n",
      " 4   author_flair_css_class           13 non-null     object\n",
      " 5   author_flair_richtext            94 non-null     object\n",
      " 6   author_flair_template_id         13 non-null     object\n",
      " 7   author_flair_text                13 non-null     object\n",
      " 8   author_flair_text_color          19 non-null     object\n",
      " 9   author_flair_type                94 non-null     object\n",
      " 10  author_fullname                  94 non-null     object\n",
      " 11  author_patreon_flair             94 non-null     object\n",
      " 12  author_premium                   94 non-null     object\n",
      " 13  awarders                         100 non-null    object\n",
      " 14  body                             100 non-null    object\n",
      " 15  collapsed_because_crowd_control  0 non-null      object\n",
      " 16  comment_type                     0 non-null      object\n",
      " 17  created_utc                      100 non-null    int64 \n",
      " 18  distinguished                    5 non-null      object\n",
      " 19  gildings                         100 non-null    object\n",
      " 20  id                               100 non-null    object\n",
      " 21  is_submitter                     100 non-null    bool  \n",
      " 22  link_id                          100 non-null    object\n",
      " 23  locked                           100 non-null    bool  \n",
      " 24  no_follow                        100 non-null    bool  \n",
      " 25  parent_id                        100 non-null    object\n",
      " 26  permalink                        100 non-null    object\n",
      " 27  retrieved_on                     100 non-null    int64 \n",
      " 28  score                            100 non-null    int64 \n",
      " 29  send_replies                     100 non-null    bool  \n",
      " 30  stickied                         100 non-null    bool  \n",
      " 31  subreddit                        100 non-null    object\n",
      " 32  subreddit_id                     100 non-null    object\n",
      " 33  top_awarded_type                 0 non-null      object\n",
      " 34  total_awards_received            100 non-null    int64 \n",
      " 35  treatment_tags                   100 non-null    object\n",
      "dtypes: bool(5), int64(4), object(27)\n",
      "memory usage: 24.8+ KB\n"
     ]
    }
   ],
   "source": [
    "comments_df.info()"
   ]
  },
  {
   "cell_type": "code",
   "execution_count": 74,
   "metadata": {},
   "outputs": [
    {
     "data": {
      "text/html": [
       "<div>\n",
       "<style scoped>\n",
       "    .dataframe tbody tr th:only-of-type {\n",
       "        vertical-align: middle;\n",
       "    }\n",
       "\n",
       "    .dataframe tbody tr th {\n",
       "        vertical-align: top;\n",
       "    }\n",
       "\n",
       "    .dataframe thead th {\n",
       "        text-align: right;\n",
       "    }\n",
       "</style>\n",
       "<table border=\"1\" class=\"dataframe\">\n",
       "  <thead>\n",
       "    <tr style=\"text-align: right;\">\n",
       "      <th></th>\n",
       "      <th>all_awardings</th>\n",
       "      <th>associated_award</th>\n",
       "      <th>author</th>\n",
       "      <th>author_flair_background_color</th>\n",
       "      <th>author_flair_css_class</th>\n",
       "      <th>author_flair_richtext</th>\n",
       "      <th>author_flair_template_id</th>\n",
       "      <th>author_flair_text</th>\n",
       "      <th>author_flair_text_color</th>\n",
       "      <th>author_flair_type</th>\n",
       "      <th>...</th>\n",
       "      <th>permalink</th>\n",
       "      <th>retrieved_on</th>\n",
       "      <th>score</th>\n",
       "      <th>send_replies</th>\n",
       "      <th>stickied</th>\n",
       "      <th>subreddit</th>\n",
       "      <th>subreddit_id</th>\n",
       "      <th>top_awarded_type</th>\n",
       "      <th>total_awards_received</th>\n",
       "      <th>treatment_tags</th>\n",
       "    </tr>\n",
       "  </thead>\n",
       "  <tbody>\n",
       "    <tr>\n",
       "      <th>0</th>\n",
       "      <td>[]</td>\n",
       "      <td>None</td>\n",
       "      <td>dataisbeautiful-bot</td>\n",
       "      <td>None</td>\n",
       "      <td>ocmaker</td>\n",
       "      <td>[]</td>\n",
       "      <td>1c7d62a6-099d-11e7-9b3c-0ee50bfd7a4c</td>\n",
       "      <td>OC: ∞</td>\n",
       "      <td>dark</td>\n",
       "      <td>text</td>\n",
       "      <td>...</td>\n",
       "      <td>/r/dataisbeautiful/comments/khvftm/oc_22_month...</td>\n",
       "      <td>1608653707</td>\n",
       "      <td>1</td>\n",
       "      <td>True</td>\n",
       "      <td>True</td>\n",
       "      <td>dataisbeautiful</td>\n",
       "      <td>t5_2tk95</td>\n",
       "      <td>None</td>\n",
       "      <td>0</td>\n",
       "      <td>[]</td>\n",
       "    </tr>\n",
       "    <tr>\n",
       "      <th>1</th>\n",
       "      <td>[]</td>\n",
       "      <td>None</td>\n",
       "      <td>dataisbeautiful-bot</td>\n",
       "      <td>None</td>\n",
       "      <td>ocmaker</td>\n",
       "      <td>[]</td>\n",
       "      <td>1c7d62a6-099d-11e7-9b3c-0ee50bfd7a4c</td>\n",
       "      <td>OC: ∞</td>\n",
       "      <td>dark</td>\n",
       "      <td>text</td>\n",
       "      <td>...</td>\n",
       "      <td>/r/dataisbeautiful/comments/khx5my/oc_i_record...</td>\n",
       "      <td>1608653706</td>\n",
       "      <td>1</td>\n",
       "      <td>True</td>\n",
       "      <td>True</td>\n",
       "      <td>dataisbeautiful</td>\n",
       "      <td>t5_2tk95</td>\n",
       "      <td>None</td>\n",
       "      <td>0</td>\n",
       "      <td>[]</td>\n",
       "    </tr>\n",
       "    <tr>\n",
       "      <th>2</th>\n",
       "      <td>[]</td>\n",
       "      <td>None</td>\n",
       "      <td>twintig5</td>\n",
       "      <td>None</td>\n",
       "      <td>None</td>\n",
       "      <td>[]</td>\n",
       "      <td>None</td>\n",
       "      <td>None</td>\n",
       "      <td>None</td>\n",
       "      <td>text</td>\n",
       "      <td>...</td>\n",
       "      <td>/r/dataisbeautiful/comments/ki6kpf/oc_physical...</td>\n",
       "      <td>1608653687</td>\n",
       "      <td>1</td>\n",
       "      <td>True</td>\n",
       "      <td>False</td>\n",
       "      <td>dataisbeautiful</td>\n",
       "      <td>t5_2tk95</td>\n",
       "      <td>None</td>\n",
       "      <td>0</td>\n",
       "      <td>[]</td>\n",
       "    </tr>\n",
       "    <tr>\n",
       "      <th>3</th>\n",
       "      <td>[]</td>\n",
       "      <td>None</td>\n",
       "      <td>isezno</td>\n",
       "      <td>None</td>\n",
       "      <td>None</td>\n",
       "      <td>[]</td>\n",
       "      <td>None</td>\n",
       "      <td>None</td>\n",
       "      <td>None</td>\n",
       "      <td>text</td>\n",
       "      <td>...</td>\n",
       "      <td>/r/dataisbeautiful/comments/ki4y5v/oc_world_ma...</td>\n",
       "      <td>1608653667</td>\n",
       "      <td>1</td>\n",
       "      <td>True</td>\n",
       "      <td>False</td>\n",
       "      <td>dataisbeautiful</td>\n",
       "      <td>t5_2tk95</td>\n",
       "      <td>None</td>\n",
       "      <td>0</td>\n",
       "      <td>[]</td>\n",
       "    </tr>\n",
       "    <tr>\n",
       "      <th>4</th>\n",
       "      <td>[]</td>\n",
       "      <td>None</td>\n",
       "      <td>miscellaneousSock</td>\n",
       "      <td>None</td>\n",
       "      <td>None</td>\n",
       "      <td>[]</td>\n",
       "      <td>None</td>\n",
       "      <td>None</td>\n",
       "      <td>None</td>\n",
       "      <td>text</td>\n",
       "      <td>...</td>\n",
       "      <td>/r/dataisbeautiful/comments/ki6kpf/oc_physical...</td>\n",
       "      <td>1608653648</td>\n",
       "      <td>1</td>\n",
       "      <td>True</td>\n",
       "      <td>False</td>\n",
       "      <td>dataisbeautiful</td>\n",
       "      <td>t5_2tk95</td>\n",
       "      <td>None</td>\n",
       "      <td>0</td>\n",
       "      <td>[]</td>\n",
       "    </tr>\n",
       "  </tbody>\n",
       "</table>\n",
       "<p>5 rows × 36 columns</p>\n",
       "</div>"
      ],
      "text/plain": [
       "  all_awardings associated_award               author  \\\n",
       "0            []             None  dataisbeautiful-bot   \n",
       "1            []             None  dataisbeautiful-bot   \n",
       "2            []             None             twintig5   \n",
       "3            []             None               isezno   \n",
       "4            []             None    miscellaneousSock   \n",
       "\n",
       "  author_flair_background_color author_flair_css_class author_flair_richtext  \\\n",
       "0                          None                ocmaker                    []   \n",
       "1                          None                ocmaker                    []   \n",
       "2                          None                   None                    []   \n",
       "3                          None                   None                    []   \n",
       "4                          None                   None                    []   \n",
       "\n",
       "               author_flair_template_id author_flair_text  \\\n",
       "0  1c7d62a6-099d-11e7-9b3c-0ee50bfd7a4c             OC: ∞   \n",
       "1  1c7d62a6-099d-11e7-9b3c-0ee50bfd7a4c             OC: ∞   \n",
       "2                                  None              None   \n",
       "3                                  None              None   \n",
       "4                                  None              None   \n",
       "\n",
       "  author_flair_text_color author_flair_type  ...  \\\n",
       "0                    dark              text  ...   \n",
       "1                    dark              text  ...   \n",
       "2                    None              text  ...   \n",
       "3                    None              text  ...   \n",
       "4                    None              text  ...   \n",
       "\n",
       "                                           permalink retrieved_on score  \\\n",
       "0  /r/dataisbeautiful/comments/khvftm/oc_22_month...   1608653707     1   \n",
       "1  /r/dataisbeautiful/comments/khx5my/oc_i_record...   1608653706     1   \n",
       "2  /r/dataisbeautiful/comments/ki6kpf/oc_physical...   1608653687     1   \n",
       "3  /r/dataisbeautiful/comments/ki4y5v/oc_world_ma...   1608653667     1   \n",
       "4  /r/dataisbeautiful/comments/ki6kpf/oc_physical...   1608653648     1   \n",
       "\n",
       "  send_replies stickied        subreddit subreddit_id  top_awarded_type  \\\n",
       "0         True     True  dataisbeautiful     t5_2tk95              None   \n",
       "1         True     True  dataisbeautiful     t5_2tk95              None   \n",
       "2         True    False  dataisbeautiful     t5_2tk95              None   \n",
       "3         True    False  dataisbeautiful     t5_2tk95              None   \n",
       "4         True    False  dataisbeautiful     t5_2tk95              None   \n",
       "\n",
       "  total_awards_received treatment_tags  \n",
       "0                     0             []  \n",
       "1                     0             []  \n",
       "2                     0             []  \n",
       "3                     0             []  \n",
       "4                     0             []  \n",
       "\n",
       "[5 rows x 36 columns]"
      ]
     },
     "execution_count": 74,
     "metadata": {},
     "output_type": "execute_result"
    }
   ],
   "source": [
    "comments_df.head()"
   ]
  },
  {
   "cell_type": "code",
   "execution_count": 75,
   "metadata": {},
   "outputs": [
    {
     "data": {
      "text/html": [
       "<div>\n",
       "<style scoped>\n",
       "    .dataframe tbody tr th:only-of-type {\n",
       "        vertical-align: middle;\n",
       "    }\n",
       "\n",
       "    .dataframe tbody tr th {\n",
       "        vertical-align: top;\n",
       "    }\n",
       "\n",
       "    .dataframe thead th {\n",
       "        text-align: right;\n",
       "    }\n",
       "</style>\n",
       "<table border=\"1\" class=\"dataframe\">\n",
       "  <thead>\n",
       "    <tr style=\"text-align: right;\">\n",
       "      <th></th>\n",
       "      <th>body</th>\n",
       "      <th>created_utc</th>\n",
       "    </tr>\n",
       "  </thead>\n",
       "  <tbody>\n",
       "    <tr>\n",
       "      <th>0</th>\n",
       "      <td>Thank you for your [Original Content](https://...</td>\n",
       "      <td>1608653512</td>\n",
       "    </tr>\n",
       "    <tr>\n",
       "      <th>1</th>\n",
       "      <td>Thank you for your [Original Content](https://...</td>\n",
       "      <td>1608653510</td>\n",
       "    </tr>\n",
       "    <tr>\n",
       "      <th>2</th>\n",
       "      <td>Nope, Steph is the same hight/weight like D-Ro...</td>\n",
       "      <td>1608653492</td>\n",
       "    </tr>\n",
       "    <tr>\n",
       "      <th>3</th>\n",
       "      <td>These figures are wildly distorted. Netherland...</td>\n",
       "      <td>1608653474</td>\n",
       "    </tr>\n",
       "    <tr>\n",
       "      <th>4</th>\n",
       "      <td>Can you put ryan secrest on this for scale?</td>\n",
       "      <td>1608653456</td>\n",
       "    </tr>\n",
       "    <tr>\n",
       "      <th>...</th>\n",
       "      <td>...</td>\n",
       "      <td>...</td>\n",
       "    </tr>\n",
       "    <tr>\n",
       "      <th>95</th>\n",
       "      <td>You let the kid cry when they wake up at night...</td>\n",
       "      <td>1608651661</td>\n",
       "    </tr>\n",
       "    <tr>\n",
       "      <th>96</th>\n",
       "      <td>I'm not sure I'd call inflation fetish'd Europ...</td>\n",
       "      <td>1608651627</td>\n",
       "    </tr>\n",
       "    <tr>\n",
       "      <th>97</th>\n",
       "      <td>Looking at the dates wondering why this only c...</td>\n",
       "      <td>1608651575</td>\n",
       "    </tr>\n",
       "    <tr>\n",
       "      <th>98</th>\n",
       "      <td>Same. It’s quicker.</td>\n",
       "      <td>1608651554</td>\n",
       "    </tr>\n",
       "    <tr>\n",
       "      <th>99</th>\n",
       "      <td>Is this sub about science? What did everybody ...</td>\n",
       "      <td>1608651490</td>\n",
       "    </tr>\n",
       "  </tbody>\n",
       "</table>\n",
       "<p>100 rows × 2 columns</p>\n",
       "</div>"
      ],
      "text/plain": [
       "                                                 body  created_utc\n",
       "0   Thank you for your [Original Content](https://...   1608653512\n",
       "1   Thank you for your [Original Content](https://...   1608653510\n",
       "2   Nope, Steph is the same hight/weight like D-Ro...   1608653492\n",
       "3   These figures are wildly distorted. Netherland...   1608653474\n",
       "4         Can you put ryan secrest on this for scale?   1608653456\n",
       "..                                                ...          ...\n",
       "95  You let the kid cry when they wake up at night...   1608651661\n",
       "96  I'm not sure I'd call inflation fetish'd Europ...   1608651627\n",
       "97  Looking at the dates wondering why this only c...   1608651575\n",
       "98                                Same. It’s quicker.   1608651554\n",
       "99  Is this sub about science? What did everybody ...   1608651490\n",
       "\n",
       "[100 rows x 2 columns]"
      ]
     },
     "execution_count": 75,
     "metadata": {},
     "output_type": "execute_result"
    }
   ],
   "source": [
    "comments_df[['body','created_utc']]"
   ]
  },
  {
   "cell_type": "markdown",
   "metadata": {},
   "source": [
    "#### 2. Fetch 500 recent submissions from /r/DataSets & Combine the title and selftext to merge the title and post content into one field¶"
   ]
  },
  {
   "cell_type": "code",
   "execution_count": 76,
   "metadata": {},
   "outputs": [
    {
     "data": {
      "text/plain": [
       "1608653174"
      ]
     },
     "execution_count": 76,
     "metadata": {},
     "output_type": "execute_result"
    }
   ],
   "source": [
    "posts_df['created_utc'].max()"
   ]
  },
  {
   "cell_type": "code",
   "execution_count": 77,
   "metadata": {},
   "outputs": [
    {
     "data": {
      "text/plain": [
       "1608563600"
      ]
     },
     "execution_count": 77,
     "metadata": {},
     "output_type": "execute_result"
    }
   ],
   "source": [
    "posts_df['created_utc'].min()"
   ]
  },
  {
   "cell_type": "code",
   "execution_count": 78,
   "metadata": {},
   "outputs": [
    {
     "name": "stdout",
     "output_type": "stream",
     "text": [
      "res 1 code:  200\n",
      "res 2 code:  200\n",
      "res 3 code:  200\n",
      "res 4 code:  200\n",
      "res 5 code:  200\n",
      "res 6 code:  200\n",
      "res 7 code:  200\n",
      "res 8 code:  200\n",
      "res 9 code:  200\n",
      "res 10 code:  200\n"
     ]
    }
   ],
   "source": [
    "# just one example of a loop for pulling in subreddits\n",
    "url = 'https://api.pushshift.io/reddit/submission/search'\n",
    "dfs = []\n",
    "loops = 10\n",
    "subreddit = 'datasets'\n",
    "params = {\n",
    "    'subreddit': subreddit,\n",
    "    'size': 100,\n",
    "}\n",
    "start_time = time.time()\n",
    "for i in range(loops):\n",
    "    current_time = time.time()\n",
    "    #requesting data\n",
    "    try:\n",
    "        res = requests.get(url, params)\n",
    "        print(f'res {i+1} code: ', res.status_code)\n",
    "        data = res.json()\n",
    "        posts = data['data']\n",
    "        dfs.append(pd.DataFrame(posts))\n",
    "        #get oldest post time and use as before parameter in next request\n",
    "        oldest = posts['created_utc'].min()\n",
    "        params['before'] = oldest\n",
    "        #sleep for 1 second\n",
    "        time.sleep(1)\n",
    "    except:\n",
    "        pass\n",
    "reddit_posts = pd.concat(dfs)\n",
    "#filename = subreddit + '.csv'\n",
    "#reddit_posts.to_csv('./datasets/' + filename, index=False)"
   ]
  },
  {
   "cell_type": "code",
   "execution_count": 79,
   "metadata": {},
   "outputs": [
    {
     "name": "stdout",
     "output_type": "stream",
     "text": [
      "<class 'pandas.core.frame.DataFrame'>\n",
      "Int64Index: 1000 entries, 0 to 99\n",
      "Data columns (total 76 columns):\n",
      " #   Column                         Non-Null Count  Dtype  \n",
      "---  ------                         --------------  -----  \n",
      " 0   all_awardings                  1000 non-null   object \n",
      " 1   allow_live_comments            1000 non-null   bool   \n",
      " 2   author                         1000 non-null   object \n",
      " 3   author_flair_css_class         20 non-null     object \n",
      " 4   author_flair_richtext          990 non-null    object \n",
      " 5   author_flair_text              40 non-null     object \n",
      " 6   author_flair_type              990 non-null    object \n",
      " 7   author_fullname                990 non-null    object \n",
      " 8   author_patreon_flair           990 non-null    object \n",
      " 9   author_premium                 990 non-null    object \n",
      " 10  awarders                       1000 non-null   object \n",
      " 11  can_mod_post                   1000 non-null   bool   \n",
      " 12  contest_mode                   1000 non-null   bool   \n",
      " 13  created_utc                    1000 non-null   int64  \n",
      " 14  domain                         1000 non-null   object \n",
      " 15  full_link                      1000 non-null   object \n",
      " 16  gildings                       1000 non-null   object \n",
      " 17  id                             1000 non-null   object \n",
      " 18  is_crosspostable               1000 non-null   bool   \n",
      " 19  is_meta                        1000 non-null   bool   \n",
      " 20  is_original_content            1000 non-null   bool   \n",
      " 21  is_reddit_media_domain         1000 non-null   bool   \n",
      " 22  is_robot_indexable             1000 non-null   bool   \n",
      " 23  is_self                        1000 non-null   bool   \n",
      " 24  is_video                       1000 non-null   bool   \n",
      " 25  link_flair_background_color    1000 non-null   object \n",
      " 26  link_flair_css_class           940 non-null    object \n",
      " 27  link_flair_richtext            1000 non-null   object \n",
      " 28  link_flair_template_id         940 non-null    object \n",
      " 29  link_flair_text                940 non-null    object \n",
      " 30  link_flair_text_color          1000 non-null   object \n",
      " 31  link_flair_type                1000 non-null   object \n",
      " 32  locked                         1000 non-null   bool   \n",
      " 33  media_only                     1000 non-null   bool   \n",
      " 34  no_follow                      1000 non-null   bool   \n",
      " 35  num_comments                   1000 non-null   int64  \n",
      " 36  num_crossposts                 1000 non-null   int64  \n",
      " 37  over_18                        1000 non-null   bool   \n",
      " 38  parent_whitelist_status        1000 non-null   object \n",
      " 39  permalink                      1000 non-null   object \n",
      " 40  pinned                         1000 non-null   bool   \n",
      " 41  pwls                           1000 non-null   int64  \n",
      " 42  retrieved_on                   1000 non-null   int64  \n",
      " 43  score                          1000 non-null   int64  \n",
      " 44  selftext                       1000 non-null   object \n",
      " 45  send_replies                   1000 non-null   bool   \n",
      " 46  spoiler                        1000 non-null   bool   \n",
      " 47  stickied                       1000 non-null   bool   \n",
      " 48  subreddit                      1000 non-null   object \n",
      " 49  subreddit_id                   1000 non-null   object \n",
      " 50  subreddit_subscribers          1000 non-null   int64  \n",
      " 51  subreddit_type                 1000 non-null   object \n",
      " 52  thumbnail                      1000 non-null   object \n",
      " 53  title                          1000 non-null   object \n",
      " 54  total_awards_received          1000 non-null   int64  \n",
      " 55  treatment_tags                 1000 non-null   object \n",
      " 56  upvote_ratio                   1000 non-null   float64\n",
      " 57  url                            1000 non-null   object \n",
      " 58  url_overridden_by_dest         150 non-null    object \n",
      " 59  whitelist_status               1000 non-null   object \n",
      " 60  wls                            1000 non-null   int64  \n",
      " 61  post_hint                      210 non-null    object \n",
      " 62  preview                        210 non-null    object \n",
      " 63  thumbnail_height               100 non-null    float64\n",
      " 64  thumbnail_width                100 non-null    float64\n",
      " 65  author_flair_template_id       20 non-null     object \n",
      " 66  author_flair_text_color        50 non-null     object \n",
      " 67  removed_by_category            30 non-null     object \n",
      " 68  crosspost_parent               40 non-null     object \n",
      " 69  crosspost_parent_list          40 non-null     object \n",
      " 70  media                          10 non-null     object \n",
      " 71  media_embed                    10 non-null     object \n",
      " 72  secure_media                   10 non-null     object \n",
      " 73  secure_media_embed             10 non-null     object \n",
      " 74  edited                         10 non-null     float64\n",
      " 75  author_flair_background_color  30 non-null     object \n",
      "dtypes: bool(18), float64(4), int64(9), object(45)\n",
      "memory usage: 478.5+ KB\n"
     ]
    }
   ],
   "source": [
    "reddit_posts.info()"
   ]
  },
  {
   "cell_type": "code",
   "execution_count": 80,
   "metadata": {},
   "outputs": [],
   "source": [
    "base_url = 'https://api.pushshift.io/reddit/submission/search'\n",
    "\n",
    "params = {\n",
    "    \"subreddit\": \"relationship_advice\",\n",
    "    \"size\":100\n",
    "    \n",
    "}"
   ]
  },
  {
   "cell_type": "code",
   "execution_count": 81,
   "metadata": {},
   "outputs": [
    {
     "data": {
      "text/plain": [
       "200"
      ]
     },
     "execution_count": 81,
     "metadata": {},
     "output_type": "execute_result"
    }
   ],
   "source": [
    "res2 = requests.get(base_url,params)\n",
    "res2.status_code"
   ]
  },
  {
   "cell_type": "code",
   "execution_count": 82,
   "metadata": {},
   "outputs": [],
   "source": [
    "datasets_df = pd.DataFrame(res2.json()['data'])"
   ]
  },
  {
   "cell_type": "code",
   "execution_count": 83,
   "metadata": {},
   "outputs": [
    {
     "data": {
      "text/html": [
       "<div>\n",
       "<style scoped>\n",
       "    .dataframe tbody tr th:only-of-type {\n",
       "        vertical-align: middle;\n",
       "    }\n",
       "\n",
       "    .dataframe tbody tr th {\n",
       "        vertical-align: top;\n",
       "    }\n",
       "\n",
       "    .dataframe thead th {\n",
       "        text-align: right;\n",
       "    }\n",
       "</style>\n",
       "<table border=\"1\" class=\"dataframe\">\n",
       "  <thead>\n",
       "    <tr style=\"text-align: right;\">\n",
       "      <th></th>\n",
       "      <th>all_awardings</th>\n",
       "      <th>allow_live_comments</th>\n",
       "      <th>author</th>\n",
       "      <th>author_flair_css_class</th>\n",
       "      <th>author_flair_richtext</th>\n",
       "      <th>author_flair_text</th>\n",
       "      <th>author_flair_type</th>\n",
       "      <th>author_fullname</th>\n",
       "      <th>author_patreon_flair</th>\n",
       "      <th>author_premium</th>\n",
       "      <th>...</th>\n",
       "      <th>total_awards_received</th>\n",
       "      <th>treatment_tags</th>\n",
       "      <th>upvote_ratio</th>\n",
       "      <th>url</th>\n",
       "      <th>whitelist_status</th>\n",
       "      <th>wls</th>\n",
       "      <th>post_hint</th>\n",
       "      <th>preview</th>\n",
       "      <th>author_flair_template_id</th>\n",
       "      <th>author_flair_text_color</th>\n",
       "    </tr>\n",
       "  </thead>\n",
       "  <tbody>\n",
       "    <tr>\n",
       "      <th>0</th>\n",
       "      <td>[]</td>\n",
       "      <td>False</td>\n",
       "      <td>ThrowRA9954678</td>\n",
       "      <td>None</td>\n",
       "      <td>[]</td>\n",
       "      <td>None</td>\n",
       "      <td>text</td>\n",
       "      <td>t2_9g9onr0n</td>\n",
       "      <td>False</td>\n",
       "      <td>False</td>\n",
       "      <td>...</td>\n",
       "      <td>0</td>\n",
       "      <td>[]</td>\n",
       "      <td>1.0</td>\n",
       "      <td>https://www.reddit.com/r/relationship_advice/c...</td>\n",
       "      <td>all_ads</td>\n",
       "      <td>6</td>\n",
       "      <td>NaN</td>\n",
       "      <td>NaN</td>\n",
       "      <td>NaN</td>\n",
       "      <td>NaN</td>\n",
       "    </tr>\n",
       "    <tr>\n",
       "      <th>1</th>\n",
       "      <td>[]</td>\n",
       "      <td>False</td>\n",
       "      <td>edwardjonesadams</td>\n",
       "      <td>None</td>\n",
       "      <td>[]</td>\n",
       "      <td>None</td>\n",
       "      <td>text</td>\n",
       "      <td>t2_xtyqe</td>\n",
       "      <td>False</td>\n",
       "      <td>False</td>\n",
       "      <td>...</td>\n",
       "      <td>0</td>\n",
       "      <td>[]</td>\n",
       "      <td>1.0</td>\n",
       "      <td>https://www.reddit.com/r/relationship_advice/c...</td>\n",
       "      <td>all_ads</td>\n",
       "      <td>6</td>\n",
       "      <td>NaN</td>\n",
       "      <td>NaN</td>\n",
       "      <td>NaN</td>\n",
       "      <td>NaN</td>\n",
       "    </tr>\n",
       "    <tr>\n",
       "      <th>2</th>\n",
       "      <td>[]</td>\n",
       "      <td>False</td>\n",
       "      <td>Responsible-Bird-234</td>\n",
       "      <td>None</td>\n",
       "      <td>[]</td>\n",
       "      <td>None</td>\n",
       "      <td>text</td>\n",
       "      <td>t2_7wmgaqu6</td>\n",
       "      <td>False</td>\n",
       "      <td>False</td>\n",
       "      <td>...</td>\n",
       "      <td>0</td>\n",
       "      <td>[]</td>\n",
       "      <td>1.0</td>\n",
       "      <td>https://www.reddit.com/r/relationship_advice/c...</td>\n",
       "      <td>all_ads</td>\n",
       "      <td>6</td>\n",
       "      <td>NaN</td>\n",
       "      <td>NaN</td>\n",
       "      <td>NaN</td>\n",
       "      <td>NaN</td>\n",
       "    </tr>\n",
       "    <tr>\n",
       "      <th>3</th>\n",
       "      <td>[]</td>\n",
       "      <td>False</td>\n",
       "      <td>Throwra00351</td>\n",
       "      <td>None</td>\n",
       "      <td>[]</td>\n",
       "      <td>None</td>\n",
       "      <td>text</td>\n",
       "      <td>t2_9fzx59u7</td>\n",
       "      <td>False</td>\n",
       "      <td>False</td>\n",
       "      <td>...</td>\n",
       "      <td>0</td>\n",
       "      <td>[]</td>\n",
       "      <td>1.0</td>\n",
       "      <td>https://www.reddit.com/r/relationship_advice/c...</td>\n",
       "      <td>all_ads</td>\n",
       "      <td>6</td>\n",
       "      <td>NaN</td>\n",
       "      <td>NaN</td>\n",
       "      <td>NaN</td>\n",
       "      <td>NaN</td>\n",
       "    </tr>\n",
       "    <tr>\n",
       "      <th>4</th>\n",
       "      <td>[]</td>\n",
       "      <td>False</td>\n",
       "      <td>ThroeRA_tarzan</td>\n",
       "      <td>None</td>\n",
       "      <td>[]</td>\n",
       "      <td>None</td>\n",
       "      <td>text</td>\n",
       "      <td>t2_9g70pek1</td>\n",
       "      <td>False</td>\n",
       "      <td>False</td>\n",
       "      <td>...</td>\n",
       "      <td>0</td>\n",
       "      <td>[]</td>\n",
       "      <td>1.0</td>\n",
       "      <td>https://www.reddit.com/r/relationship_advice/c...</td>\n",
       "      <td>all_ads</td>\n",
       "      <td>6</td>\n",
       "      <td>NaN</td>\n",
       "      <td>NaN</td>\n",
       "      <td>NaN</td>\n",
       "      <td>NaN</td>\n",
       "    </tr>\n",
       "  </tbody>\n",
       "</table>\n",
       "<p>5 rows × 62 columns</p>\n",
       "</div>"
      ],
      "text/plain": [
       "  all_awardings  allow_live_comments                author  \\\n",
       "0            []                False        ThrowRA9954678   \n",
       "1            []                False      edwardjonesadams   \n",
       "2            []                False  Responsible-Bird-234   \n",
       "3            []                False          Throwra00351   \n",
       "4            []                False        ThroeRA_tarzan   \n",
       "\n",
       "  author_flair_css_class author_flair_richtext author_flair_text  \\\n",
       "0                   None                    []              None   \n",
       "1                   None                    []              None   \n",
       "2                   None                    []              None   \n",
       "3                   None                    []              None   \n",
       "4                   None                    []              None   \n",
       "\n",
       "  author_flair_type author_fullname  author_patreon_flair  author_premium  \\\n",
       "0              text     t2_9g9onr0n                 False           False   \n",
       "1              text        t2_xtyqe                 False           False   \n",
       "2              text     t2_7wmgaqu6                 False           False   \n",
       "3              text     t2_9fzx59u7                 False           False   \n",
       "4              text     t2_9g70pek1                 False           False   \n",
       "\n",
       "   ... total_awards_received  treatment_tags  upvote_ratio  \\\n",
       "0  ...                     0              []           1.0   \n",
       "1  ...                     0              []           1.0   \n",
       "2  ...                     0              []           1.0   \n",
       "3  ...                     0              []           1.0   \n",
       "4  ...                     0              []           1.0   \n",
       "\n",
       "                                                 url whitelist_status wls  \\\n",
       "0  https://www.reddit.com/r/relationship_advice/c...          all_ads   6   \n",
       "1  https://www.reddit.com/r/relationship_advice/c...          all_ads   6   \n",
       "2  https://www.reddit.com/r/relationship_advice/c...          all_ads   6   \n",
       "3  https://www.reddit.com/r/relationship_advice/c...          all_ads   6   \n",
       "4  https://www.reddit.com/r/relationship_advice/c...          all_ads   6   \n",
       "\n",
       "  post_hint preview  author_flair_template_id  author_flair_text_color  \n",
       "0       NaN     NaN                       NaN                      NaN  \n",
       "1       NaN     NaN                       NaN                      NaN  \n",
       "2       NaN     NaN                       NaN                      NaN  \n",
       "3       NaN     NaN                       NaN                      NaN  \n",
       "4       NaN     NaN                       NaN                      NaN  \n",
       "\n",
       "[5 rows x 62 columns]"
      ]
     },
     "execution_count": 83,
     "metadata": {},
     "output_type": "execute_result"
    }
   ],
   "source": [
    "datasets_df.head()"
   ]
  },
  {
   "cell_type": "code",
   "execution_count": 84,
   "metadata": {},
   "outputs": [
    {
     "data": {
      "text/html": [
       "<div>\n",
       "<style scoped>\n",
       "    .dataframe tbody tr th:only-of-type {\n",
       "        vertical-align: middle;\n",
       "    }\n",
       "\n",
       "    .dataframe tbody tr th {\n",
       "        vertical-align: top;\n",
       "    }\n",
       "\n",
       "    .dataframe thead th {\n",
       "        text-align: right;\n",
       "    }\n",
       "</style>\n",
       "<table border=\"1\" class=\"dataframe\">\n",
       "  <thead>\n",
       "    <tr style=\"text-align: right;\">\n",
       "      <th></th>\n",
       "      <th>title</th>\n",
       "      <th>selftext</th>\n",
       "      <th>created_utc</th>\n",
       "    </tr>\n",
       "  </thead>\n",
       "  <tbody>\n",
       "    <tr>\n",
       "      <th>0</th>\n",
       "      <td>Am I overreacting to his lack of help?</td>\n",
       "      <td>[removed]</td>\n",
       "      <td>1608654075</td>\n",
       "    </tr>\n",
       "    <tr>\n",
       "      <th>1</th>\n",
       "      <td>My (26) gf (23) was upset that I wouldn’t fini...</td>\n",
       "      <td>[removed]</td>\n",
       "      <td>1608654022</td>\n",
       "    </tr>\n",
       "    <tr>\n",
       "      <th>2</th>\n",
       "      <td>I've fallen in love in a wrong timing and I'm ...</td>\n",
       "      <td>So the life that I planned for was something t...</td>\n",
       "      <td>1608654016</td>\n",
       "    </tr>\n",
       "    <tr>\n",
       "      <th>3</th>\n",
       "      <td>My girlfriend wants to bring me to America so ...</td>\n",
       "      <td>Hi. I am from South Korea. Here the adult age ...</td>\n",
       "      <td>1608653954</td>\n",
       "    </tr>\n",
       "    <tr>\n",
       "      <th>4</th>\n",
       "      <td>Am I in a toxic relationship?</td>\n",
       "      <td>Me (24M) and my gf (24F) have been in a relati...</td>\n",
       "      <td>1608653882</td>\n",
       "    </tr>\n",
       "    <tr>\n",
       "      <th>...</th>\n",
       "      <td>...</td>\n",
       "      <td>...</td>\n",
       "      <td>...</td>\n",
       "    </tr>\n",
       "    <tr>\n",
       "      <th>95</th>\n",
       "      <td>Is it normal for me (19M) to feel like my crus...</td>\n",
       "      <td>[removed]</td>\n",
       "      <td>1608649998</td>\n",
       "    </tr>\n",
       "    <tr>\n",
       "      <th>96</th>\n",
       "      <td>My (38m) wife (37f) bought me an uncomfortable...</td>\n",
       "      <td>2020 has forced me to be a remote employee, so...</td>\n",
       "      <td>1608649904</td>\n",
       "    </tr>\n",
       "    <tr>\n",
       "      <th>97</th>\n",
       "      <td>I wish that I had Jessie’s girl. Where do I fi...</td>\n",
       "      <td>Jessie is a friend. Yeah, I know, he's been a ...</td>\n",
       "      <td>1608649853</td>\n",
       "    </tr>\n",
       "    <tr>\n",
       "      <th>98</th>\n",
       "      <td>Does this message from this chick I’ve been se...</td>\n",
       "      <td>So me and this chick have hooked up a few time...</td>\n",
       "      <td>1608649832</td>\n",
       "    </tr>\n",
       "    <tr>\n",
       "      <th>99</th>\n",
       "      <td>My husband (35m) bought a subscription to an o...</td>\n",
       "      <td>[removed]</td>\n",
       "      <td>1608649746</td>\n",
       "    </tr>\n",
       "  </tbody>\n",
       "</table>\n",
       "<p>100 rows × 3 columns</p>\n",
       "</div>"
      ],
      "text/plain": [
       "                                                title  \\\n",
       "0              Am I overreacting to his lack of help?   \n",
       "1   My (26) gf (23) was upset that I wouldn’t fini...   \n",
       "2   I've fallen in love in a wrong timing and I'm ...   \n",
       "3   My girlfriend wants to bring me to America so ...   \n",
       "4                       Am I in a toxic relationship?   \n",
       "..                                                ...   \n",
       "95  Is it normal for me (19M) to feel like my crus...   \n",
       "96  My (38m) wife (37f) bought me an uncomfortable...   \n",
       "97  I wish that I had Jessie’s girl. Where do I fi...   \n",
       "98  Does this message from this chick I’ve been se...   \n",
       "99  My husband (35m) bought a subscription to an o...   \n",
       "\n",
       "                                             selftext  created_utc  \n",
       "0                                           [removed]   1608654075  \n",
       "1                                           [removed]   1608654022  \n",
       "2   So the life that I planned for was something t...   1608654016  \n",
       "3   Hi. I am from South Korea. Here the adult age ...   1608653954  \n",
       "4   Me (24M) and my gf (24F) have been in a relati...   1608653882  \n",
       "..                                                ...          ...  \n",
       "95                                          [removed]   1608649998  \n",
       "96  2020 has forced me to be a remote employee, so...   1608649904  \n",
       "97  Jessie is a friend. Yeah, I know, he's been a ...   1608649853  \n",
       "98  So me and this chick have hooked up a few time...   1608649832  \n",
       "99                                          [removed]   1608649746  \n",
       "\n",
       "[100 rows x 3 columns]"
      ]
     },
     "execution_count": 84,
     "metadata": {},
     "output_type": "execute_result"
    }
   ],
   "source": [
    "datasets_df[['title', 'selftext', 'created_utc']]"
   ]
  },
  {
   "cell_type": "code",
   "execution_count": 86,
   "metadata": {},
   "outputs": [
    {
     "data": {
      "text/plain": [
       "1608654075"
      ]
     },
     "execution_count": 86,
     "metadata": {},
     "output_type": "execute_result"
    }
   ],
   "source": [
    "datasets_df.created_utc.max()"
   ]
  },
  {
   "cell_type": "code",
   "execution_count": 87,
   "metadata": {},
   "outputs": [
    {
     "data": {
      "text/plain": [
       "1608649746"
      ]
     },
     "execution_count": 87,
     "metadata": {},
     "output_type": "execute_result"
    }
   ],
   "source": [
    "datasets_df.created_utc.min()"
   ]
  },
  {
   "cell_type": "code",
   "execution_count": 91,
   "metadata": {},
   "outputs": [
    {
     "data": {
      "text/plain": [
       "0    2020-12-22 16:21:15\n",
       "1    2020-12-22 16:20:22\n",
       "2    2020-12-22 16:20:16\n",
       "3    2020-12-22 16:19:14\n",
       "4    2020-12-22 16:18:02\n",
       "             ...        \n",
       "95   2020-12-22 15:13:18\n",
       "96   2020-12-22 15:11:44\n",
       "97   2020-12-22 15:10:53\n",
       "98   2020-12-22 15:10:32\n",
       "99   2020-12-22 15:09:06\n",
       "Name: created_utc, Length: 100, dtype: datetime64[ns]"
      ]
     },
     "execution_count": 91,
     "metadata": {},
     "output_type": "execute_result"
    }
   ],
   "source": [
    "# converting UTC to datetime\n",
    "pd.to_datetime(datasets_df['created_utc'], unit='s')"
   ]
  },
  {
   "cell_type": "code",
   "execution_count": 92,
   "metadata": {},
   "outputs": [],
   "source": [
    "datasets_df['datetime'] = pd.to_datetime(datasets_df['created_utc'], unit='s')"
   ]
  },
  {
   "cell_type": "code",
   "execution_count": 93,
   "metadata": {},
   "outputs": [
    {
     "data": {
      "text/html": [
       "<div>\n",
       "<style scoped>\n",
       "    .dataframe tbody tr th:only-of-type {\n",
       "        vertical-align: middle;\n",
       "    }\n",
       "\n",
       "    .dataframe tbody tr th {\n",
       "        vertical-align: top;\n",
       "    }\n",
       "\n",
       "    .dataframe thead th {\n",
       "        text-align: right;\n",
       "    }\n",
       "</style>\n",
       "<table border=\"1\" class=\"dataframe\">\n",
       "  <thead>\n",
       "    <tr style=\"text-align: right;\">\n",
       "      <th></th>\n",
       "      <th>title</th>\n",
       "      <th>selftext</th>\n",
       "      <th>datetime</th>\n",
       "    </tr>\n",
       "  </thead>\n",
       "  <tbody>\n",
       "    <tr>\n",
       "      <th>0</th>\n",
       "      <td>Am I overreacting to his lack of help?</td>\n",
       "      <td>[removed]</td>\n",
       "      <td>2020-12-22 16:21:15</td>\n",
       "    </tr>\n",
       "    <tr>\n",
       "      <th>1</th>\n",
       "      <td>My (26) gf (23) was upset that I wouldn’t fini...</td>\n",
       "      <td>[removed]</td>\n",
       "      <td>2020-12-22 16:20:22</td>\n",
       "    </tr>\n",
       "    <tr>\n",
       "      <th>2</th>\n",
       "      <td>I've fallen in love in a wrong timing and I'm ...</td>\n",
       "      <td>So the life that I planned for was something t...</td>\n",
       "      <td>2020-12-22 16:20:16</td>\n",
       "    </tr>\n",
       "    <tr>\n",
       "      <th>3</th>\n",
       "      <td>My girlfriend wants to bring me to America so ...</td>\n",
       "      <td>Hi. I am from South Korea. Here the adult age ...</td>\n",
       "      <td>2020-12-22 16:19:14</td>\n",
       "    </tr>\n",
       "    <tr>\n",
       "      <th>4</th>\n",
       "      <td>Am I in a toxic relationship?</td>\n",
       "      <td>Me (24M) and my gf (24F) have been in a relati...</td>\n",
       "      <td>2020-12-22 16:18:02</td>\n",
       "    </tr>\n",
       "  </tbody>\n",
       "</table>\n",
       "</div>"
      ],
      "text/plain": [
       "                                               title  \\\n",
       "0             Am I overreacting to his lack of help?   \n",
       "1  My (26) gf (23) was upset that I wouldn’t fini...   \n",
       "2  I've fallen in love in a wrong timing and I'm ...   \n",
       "3  My girlfriend wants to bring me to America so ...   \n",
       "4                      Am I in a toxic relationship?   \n",
       "\n",
       "                                            selftext            datetime  \n",
       "0                                          [removed] 2020-12-22 16:21:15  \n",
       "1                                          [removed] 2020-12-22 16:20:22  \n",
       "2  So the life that I planned for was something t... 2020-12-22 16:20:16  \n",
       "3  Hi. I am from South Korea. Here the adult age ... 2020-12-22 16:19:14  \n",
       "4  Me (24M) and my gf (24F) have been in a relati... 2020-12-22 16:18:02  "
      ]
     },
     "execution_count": 93,
     "metadata": {},
     "output_type": "execute_result"
    }
   ],
   "source": [
    "datasets_df[['title', 'selftext', 'datetime']].head()"
   ]
  },
  {
   "cell_type": "code",
   "execution_count": 94,
   "metadata": {},
   "outputs": [],
   "source": [
    "datasets_df['merged'] = datasets_df['title'] + \" \" + datasets_df['selftext']"
   ]
  },
  {
   "cell_type": "code",
   "execution_count": 95,
   "metadata": {},
   "outputs": [
    {
     "data": {
      "text/plain": [
       "203"
      ]
     },
     "execution_count": 95,
     "metadata": {},
     "output_type": "execute_result"
    }
   ],
   "source": [
    "datasets_df['title'].map(lambda x: len(x)).max()"
   ]
  },
  {
   "cell_type": "code",
   "execution_count": 96,
   "metadata": {},
   "outputs": [
    {
     "data": {
      "text/plain": [
       "89    9709\n",
       "74    8983\n",
       "43    8818\n",
       "76    7850\n",
       "18    5814\n",
       "Name: selftext, dtype: int64"
      ]
     },
     "execution_count": 96,
     "metadata": {},
     "output_type": "execute_result"
    }
   ],
   "source": [
    "# 5 longest posts\n",
    "datasets_df['selftext'].map(lambda x: len(x)).nlargest()"
   ]
  },
  {
   "cell_type": "code",
   "execution_count": 97,
   "metadata": {},
   "outputs": [
    {
     "data": {
      "text/plain": [
       "1763.54"
      ]
     },
     "execution_count": 97,
     "metadata": {},
     "output_type": "execute_result"
    }
   ],
   "source": [
    "datasets_df['selftext'].map(lambda x: len(x)).mean()"
   ]
  },
  {
   "cell_type": "code",
   "execution_count": 98,
   "metadata": {},
   "outputs": [
    {
     "data": {
      "image/png": "[encoded data removed]",
      "text/plain": [
       "<Figure size 432x288 with 1 Axes>"
      ]
     },
     "metadata": {
      "needs_background": "light"
     },
     "output_type": "display_data"
    }
   ],
   "source": [
    "#distribution of post length\n",
    "\n",
    "datasets_df['selftext'].map(lambda x: len(x)).plot(kind='hist');"
   ]
  },
  {
   "cell_type": "code",
   "execution_count": null,
   "metadata": {},
   "outputs": [],
   "source": []
  }
 ],
 "metadata": {
  "kernelspec": {
   "display_name": "Python 3",
   "language": "python",
   "name": "python3"
  },
  "language_info": {
   "codemirror_mode": {
    "name": "ipython",
    "version": 3
   },
   "file_extension": ".py",
   "mimetype": "text/x-python",
   "name": "python",
   "nbconvert_exporter": "python",
   "pygments_lexer": "ipython3",
   "version": "3.8.5"
  }
 },
 "nbformat": 4,
 "nbformat_minor": 4
}
